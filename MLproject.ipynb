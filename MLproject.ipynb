{
  "cells": [
    {
      "cell_type": "code",
      "execution_count": 1,
      "metadata": {
        "colab": {
          "base_uri": "https://localhost:8080/"
        },
        "id": "_vh5rckCL8WC",
        "outputId": "ffa5d7c5-281d-410b-fe2c-eb31e0d388f6"
      },
      "outputs": [
        {
          "name": "stdout",
          "output_type": "stream",
          "text": [
            "Collecting datasets\n",
            "  Downloading datasets-2.15.0-py3-none-any.whl.metadata (20 kB)\n",
            "Collecting transformers\n",
            "  Downloading transformers-4.35.2-py3-none-any.whl.metadata (123 kB)\n",
            "\u001b[2K     \u001b[38;2;114;156;31m━━━━━━━━━━━━━━━━━━━━━━━━━━━━━━━━━━━━━━━\u001b[0m \u001b[32m123.5/123.5 kB\u001b[0m \u001b[31m8.6 MB/s\u001b[0m eta \u001b[36m0:00:00\u001b[0m\n",
            "\u001b[?25hCollecting numpy>=1.17 (from datasets)\n",
            "  Downloading numpy-1.26.2-cp311-cp311-manylinux_2_17_x86_64.manylinux2014_x86_64.whl.metadata (61 kB)\n",
            "\u001b[2K     \u001b[38;2;114;156;31m━━━━━━━━━━━━━━━━━━━━━━━━━━━━━━━━━━━━━━━━\u001b[0m \u001b[32m61.2/61.2 kB\u001b[0m \u001b[31m3.9 MB/s\u001b[0m eta \u001b[36m0:00:00\u001b[0m\n",
            "\u001b[?25hCollecting pyarrow>=8.0.0 (from datasets)\n",
            "  Downloading pyarrow-14.0.1-cp311-cp311-manylinux_2_28_x86_64.whl.metadata (3.0 kB)\n",
            "Collecting pyarrow-hotfix (from datasets)\n",
            "  Downloading pyarrow_hotfix-0.6-py3-none-any.whl.metadata (3.6 kB)\n",
            "Collecting dill<0.3.8,>=0.3.0 (from datasets)\n",
            "  Downloading dill-0.3.7-py3-none-any.whl.metadata (9.9 kB)\n",
            "Collecting pandas (from datasets)\n",
            "  Downloading pandas-2.1.3-cp311-cp311-manylinux_2_17_x86_64.manylinux2014_x86_64.whl.metadata (18 kB)\n",
            "Requirement already satisfied: requests>=2.19.0 in /home/kinitic013/jupyter_notebook/jupynotebook_env/lib/python3.11/site-packages (from datasets) (2.31.0)\n",
            "Collecting tqdm>=4.62.1 (from datasets)\n",
            "  Downloading tqdm-4.66.1-py3-none-any.whl.metadata (57 kB)\n",
            "\u001b[2K     \u001b[38;2;114;156;31m━━━━━━━━━━━━━━━━━━━━━━━━━━━━━━━━━━━━━━━━\u001b[0m \u001b[32m57.6/57.6 kB\u001b[0m \u001b[31m15.7 MB/s\u001b[0m eta \u001b[36m0:00:00\u001b[0m\n",
            "\u001b[?25hCollecting xxhash (from datasets)\n",
            "  Downloading xxhash-3.4.1-cp311-cp311-manylinux_2_17_x86_64.manylinux2014_x86_64.whl.metadata (12 kB)\n",
            "Collecting multiprocess (from datasets)\n",
            "  Downloading multiprocess-0.70.15-py311-none-any.whl.metadata (7.2 kB)\n",
            "Collecting fsspec<=2023.10.0,>=2023.1.0 (from fsspec[http]<=2023.10.0,>=2023.1.0->datasets)\n",
            "  Downloading fsspec-2023.10.0-py3-none-any.whl.metadata (6.8 kB)\n",
            "Collecting aiohttp (from datasets)\n",
            "  Downloading aiohttp-3.9.0-cp311-cp311-manylinux_2_17_x86_64.manylinux2014_x86_64.whl.metadata (7.4 kB)\n",
            "Collecting huggingface-hub>=0.18.0 (from datasets)\n",
            "  Downloading huggingface_hub-0.19.4-py3-none-any.whl.metadata (14 kB)\n",
            "Requirement already satisfied: packaging in /home/kinitic013/jupyter_notebook/jupynotebook_env/lib/python3.11/site-packages (from datasets) (23.2)\n",
            "Requirement already satisfied: pyyaml>=5.1 in /home/kinitic013/jupyter_notebook/jupynotebook_env/lib64/python3.11/site-packages (from datasets) (6.0.1)\n",
            "Collecting filelock (from transformers)\n",
            "  Downloading filelock-3.13.1-py3-none-any.whl.metadata (2.8 kB)\n",
            "Collecting regex!=2019.12.17 (from transformers)\n",
            "  Downloading regex-2023.10.3-cp311-cp311-manylinux_2_17_x86_64.manylinux2014_x86_64.whl.metadata (40 kB)\n",
            "\u001b[2K     \u001b[38;2;114;156;31m━━━━━━━━━━━━━━━━━━━━━━━━━━━━━━━━━━━━━━━━\u001b[0m \u001b[32m40.9/40.9 kB\u001b[0m \u001b[31m2.4 MB/s\u001b[0m eta \u001b[36m0:00:00\u001b[0m\n",
            "\u001b[?25hCollecting tokenizers<0.19,>=0.14 (from transformers)\n",
            "  Downloading tokenizers-0.15.0-cp311-cp311-manylinux_2_17_x86_64.manylinux2014_x86_64.whl.metadata (6.7 kB)\n",
            "Collecting safetensors>=0.3.1 (from transformers)\n",
            "  Downloading safetensors-0.4.0-cp311-cp311-manylinux_2_17_x86_64.manylinux2014_x86_64.whl.metadata (3.8 kB)\n",
            "Requirement already satisfied: attrs>=17.3.0 in /home/kinitic013/jupyter_notebook/jupynotebook_env/lib/python3.11/site-packages (from aiohttp->datasets) (23.1.0)\n",
            "Collecting multidict<7.0,>=4.5 (from aiohttp->datasets)\n",
            "  Downloading multidict-6.0.4-cp311-cp311-manylinux_2_17_x86_64.manylinux2014_x86_64.whl (117 kB)\n",
            "\u001b[2K     \u001b[38;2;114;156;31m━━━━━━━━━━━━━━━━━━━━━━━━━━━━━━━━━━━━━━━\u001b[0m \u001b[32m117.4/117.4 kB\u001b[0m \u001b[31m7.8 MB/s\u001b[0m eta \u001b[36m0:00:00\u001b[0m\n",
            "\u001b[?25hCollecting yarl<2.0,>=1.0 (from aiohttp->datasets)\n",
            "  Downloading yarl-1.9.3-cp311-cp311-manylinux_2_17_x86_64.manylinux2014_x86_64.whl.metadata (28 kB)\n",
            "Collecting frozenlist>=1.1.1 (from aiohttp->datasets)\n",
            "  Downloading frozenlist-1.4.0-cp311-cp311-manylinux_2_5_x86_64.manylinux1_x86_64.manylinux_2_17_x86_64.manylinux2014_x86_64.whl.metadata (5.2 kB)\n",
            "Collecting aiosignal>=1.1.2 (from aiohttp->datasets)\n",
            "  Downloading aiosignal-1.3.1-py3-none-any.whl (7.6 kB)\n",
            "Collecting typing-extensions>=3.7.4.3 (from huggingface-hub>=0.18.0->datasets)\n",
            "  Downloading typing_extensions-4.8.0-py3-none-any.whl.metadata (3.0 kB)\n",
            "Requirement already satisfied: charset-normalizer<4,>=2 in /home/kinitic013/jupyter_notebook/jupynotebook_env/lib64/python3.11/site-packages (from requests>=2.19.0->datasets) (3.3.2)\n",
            "Requirement already satisfied: idna<4,>=2.5 in /home/kinitic013/jupyter_notebook/jupynotebook_env/lib/python3.11/site-packages (from requests>=2.19.0->datasets) (3.6)\n",
            "Requirement already satisfied: urllib3<3,>=1.21.1 in /home/kinitic013/jupyter_notebook/jupynotebook_env/lib/python3.11/site-packages (from requests>=2.19.0->datasets) (2.1.0)\n",
            "Requirement already satisfied: certifi>=2017.4.17 in /home/kinitic013/jupyter_notebook/jupynotebook_env/lib/python3.11/site-packages (from requests>=2.19.0->datasets) (2023.11.17)\n",
            "Requirement already satisfied: python-dateutil>=2.8.2 in /home/kinitic013/jupyter_notebook/jupynotebook_env/lib/python3.11/site-packages (from pandas->datasets) (2.8.2)\n",
            "Collecting pytz>=2020.1 (from pandas->datasets)\n",
            "  Downloading pytz-2023.3.post1-py2.py3-none-any.whl.metadata (22 kB)\n",
            "Collecting tzdata>=2022.1 (from pandas->datasets)\n",
            "  Downloading tzdata-2023.3-py2.py3-none-any.whl (341 kB)\n",
            "\u001b[2K     \u001b[38;2;114;156;31m━━━━━━━━━━━━━━━━━━━━━━━━━━━━━━━━━━━━━━\u001b[0m \u001b[32m341.8/341.8 kB\u001b[0m \u001b[31m27.8 MB/s\u001b[0m eta \u001b[36m0:00:00\u001b[0m\n",
            "\u001b[?25hRequirement already satisfied: six>=1.5 in /home/kinitic013/jupyter_notebook/jupynotebook_env/lib/python3.11/site-packages (from python-dateutil>=2.8.2->pandas->datasets) (1.16.0)\n",
            "Downloading datasets-2.15.0-py3-none-any.whl (521 kB)\n",
            "\u001b[2K   \u001b[38;2;114;156;31m━━━━━━━━━━━━━━━━━━━━━━━━━━━━━━━━━━━━━━━━\u001b[0m \u001b[32m521.2/521.2 kB\u001b[0m \u001b[31m37.6 MB/s\u001b[0m eta \u001b[36m0:00:00\u001b[0m\n",
            "\u001b[?25hDownloading transformers-4.35.2-py3-none-any.whl (7.9 MB)\n",
            "\u001b[2K   \u001b[38;2;114;156;31m━━━━━━━━━━━━━━━━━━━━━━━━━━━━━━━━━━━━━━━━\u001b[0m \u001b[32m7.9/7.9 MB\u001b[0m \u001b[31m13.4 MB/s\u001b[0m eta \u001b[36m0:00:00\u001b[0mm eta \u001b[36m0:00:01\u001b[0m0:01\u001b[0m:01\u001b[0m\n",
            "\u001b[?25hDownloading dill-0.3.7-py3-none-any.whl (115 kB)\n",
            "\u001b[2K   \u001b[38;2;114;156;31m━━━━━━━━━━━━━━━━━━━━━━━━━━━━━━━━━━━━━━━━\u001b[0m \u001b[32m115.3/115.3 kB\u001b[0m \u001b[31m11.1 MB/s\u001b[0m eta \u001b[36m0:00:00\u001b[0m\n",
            "\u001b[?25hDownloading fsspec-2023.10.0-py3-none-any.whl (166 kB)\n",
            "\u001b[2K   \u001b[38;2;114;156;31m━━━━━━━━━━━━━━━━━━━━━━━━━━━━━━━━━━━━━━━━\u001b[0m \u001b[32m166.4/166.4 kB\u001b[0m \u001b[31m11.3 MB/s\u001b[0m eta \u001b[36m0:00:00\u001b[0m\n",
            "\u001b[?25hDownloading aiohttp-3.9.0-cp311-cp311-manylinux_2_17_x86_64.manylinux2014_x86_64.whl (1.3 MB)\n",
            "\u001b[2K   \u001b[38;2;114;156;31m━━━━━━━━━━━━━━━━━━━━━━━━━━━━━━━━━━━━━━━━\u001b[0m \u001b[32m1.3/1.3 MB\u001b[0m \u001b[31m15.6 MB/s\u001b[0m eta \u001b[36m0:00:00\u001b[0m31m17.0 MB/s\u001b[0m eta \u001b[36m0:00:01\u001b[0m\n",
            "\u001b[?25hDownloading huggingface_hub-0.19.4-py3-none-any.whl (311 kB)\n",
            "\u001b[2K   \u001b[38;2;114;156;31m━━━━━━━━━━━━━━━━━━━━━━━━━━━━━━━━━━━━━━━━\u001b[0m \u001b[32m311.7/311.7 kB\u001b[0m \u001b[31m15.7 MB/s\u001b[0m eta \u001b[36m0:00:00\u001b[0m\n",
            "\u001b[?25hDownloading numpy-1.26.2-cp311-cp311-manylinux_2_17_x86_64.manylinux2014_x86_64.whl (18.2 MB)\n",
            "\u001b[2K   \u001b[38;2;114;156;31m━━━━━━━━━━━━━━━━━━━━━━━━━━━━━━━━━━━━━━━━\u001b[0m \u001b[32m18.2/18.2 MB\u001b[0m \u001b[31m21.9 MB/s\u001b[0m eta \u001b[36m0:00:00\u001b[0mm eta \u001b[36m0:00:01\u001b[0m[36m0:00:01\u001b[0m\n",
            "\u001b[?25hDownloading pyarrow-14.0.1-cp311-cp311-manylinux_2_28_x86_64.whl (38.0 MB)\n",
            "\u001b[2K   \u001b[38;2;114;156;31m━━━━━━━━━━━━━━━━━━━━━━━━━━━━━━━━━━━━━━━━\u001b[0m \u001b[32m38.0/38.0 MB\u001b[0m \u001b[31m25.3 MB/s\u001b[0m eta \u001b[36m0:00:00\u001b[0mm eta \u001b[36m0:00:01\u001b[0m[36m0:00:01\u001b[0m\n",
            "\u001b[?25hDownloading regex-2023.10.3-cp311-cp311-manylinux_2_17_x86_64.manylinux2014_x86_64.whl (785 kB)\n",
            "\u001b[2K   \u001b[38;2;114;156;31m━━━━━━━━━━━━━━━━━━━━━━━━━━━━━━━━━━━━━━━━\u001b[0m \u001b[32m785.1/785.1 kB\u001b[0m \u001b[31m31.1 MB/s\u001b[0m eta \u001b[36m0:00:00\u001b[0m\n",
            "\u001b[?25hDownloading safetensors-0.4.0-cp311-cp311-manylinux_2_17_x86_64.manylinux2014_x86_64.whl (1.3 MB)\n",
            "\u001b[2K   \u001b[38;2;114;156;31m━━━━━━━━━━━━━━━━━━━━━━━━━━━━━━━━━━━━━━━━\u001b[0m \u001b[32m1.3/1.3 MB\u001b[0m \u001b[31m29.1 MB/s\u001b[0m eta \u001b[36m0:00:00\u001b[0m31m31.2 MB/s\u001b[0m eta \u001b[36m0:00:01\u001b[0m\n",
            "\u001b[?25hDownloading tokenizers-0.15.0-cp311-cp311-manylinux_2_17_x86_64.manylinux2014_x86_64.whl (3.8 MB)\n",
            "\u001b[2K   \u001b[38;2;114;156;31m━━━━━━━━━━━━━━━━━━━━━━━━━━━━━━━━━━━━━━━━\u001b[0m \u001b[32m3.8/3.8 MB\u001b[0m \u001b[31m29.7 MB/s\u001b[0m eta \u001b[36m0:00:00\u001b[0m31m34.3 MB/s\u001b[0m eta \u001b[36m0:00:01\u001b[0m\n",
            "\u001b[?25hDownloading tqdm-4.66.1-py3-none-any.whl (78 kB)\n",
            "\u001b[2K   \u001b[38;2;114;156;31m━━━━━━━━━━━━━━━━━━━━━━━━━━━━━━━━━━━━━━━━\u001b[0m \u001b[32m78.3/78.3 kB\u001b[0m \u001b[31m21.2 MB/s\u001b[0m eta \u001b[36m0:00:00\u001b[0m\n",
            "\u001b[?25hDownloading filelock-3.13.1-py3-none-any.whl (11 kB)\n",
            "Downloading multiprocess-0.70.15-py311-none-any.whl (135 kB)\n",
            "\u001b[2K   \u001b[38;2;114;156;31m━━━━━━━━━━━━━━━━━━━━━━━━━━━━━━━━━━━━━━━━\u001b[0m \u001b[32m135.4/135.4 kB\u001b[0m \u001b[31m17.9 MB/s\u001b[0m eta \u001b[36m0:00:00\u001b[0m\n",
            "\u001b[?25hDownloading pandas-2.1.3-cp311-cp311-manylinux_2_17_x86_64.manylinux2014_x86_64.whl (12.2 MB)\n",
            "\u001b[2K   \u001b[38;2;114;156;31m━━━━━━━━━━━━━━━━━━━━━━━━━━━━━━━━━━━━━━━━\u001b[0m \u001b[32m12.2/12.2 MB\u001b[0m \u001b[31m28.0 MB/s\u001b[0m eta \u001b[36m0:00:00\u001b[0mm eta \u001b[36m0:00:01\u001b[0m0:01\u001b[0m:01\u001b[0m\n",
            "\u001b[?25hDownloading pyarrow_hotfix-0.6-py3-none-any.whl (7.9 kB)\n",
            "Downloading xxhash-3.4.1-cp311-cp311-manylinux_2_17_x86_64.manylinux2014_x86_64.whl (194 kB)\n",
            "\u001b[2K   \u001b[38;2;114;156;31m━━━━━━━━━━━━━━━━━━━━━━━━━━━━━━━━━━━━━━━━\u001b[0m \u001b[32m194.8/194.8 kB\u001b[0m \u001b[31m23.6 MB/s\u001b[0m eta \u001b[36m0:00:00\u001b[0m\n",
            "\u001b[?25hDownloading frozenlist-1.4.0-cp311-cp311-manylinux_2_5_x86_64.manylinux1_x86_64.manylinux_2_17_x86_64.manylinux2014_x86_64.whl (250 kB)\n",
            "\u001b[2K   \u001b[38;2;114;156;31m━━━━━━━━━━━━━━━━━━━━━━━━━━━━━━━━━━━━━━━━\u001b[0m \u001b[32m250.5/250.5 kB\u001b[0m \u001b[31m30.7 MB/s\u001b[0m eta \u001b[36m0:00:00\u001b[0m\n",
            "\u001b[?25hDownloading pytz-2023.3.post1-py2.py3-none-any.whl (502 kB)\n",
            "\u001b[2K   \u001b[38;2;114;156;31m━━━━━━━━━━━━━━━━━━━━━━━━━━━━━━━━━━━━━━━━\u001b[0m \u001b[32m502.5/502.5 kB\u001b[0m \u001b[31m31.0 MB/s\u001b[0m eta \u001b[36m0:00:00\u001b[0m\n",
            "\u001b[?25hDownloading typing_extensions-4.8.0-py3-none-any.whl (31 kB)\n",
            "Downloading yarl-1.9.3-cp311-cp311-manylinux_2_17_x86_64.manylinux2014_x86_64.whl (327 kB)\n",
            "\u001b[2K   \u001b[38;2;114;156;31m━━━━━━━━━━━━━━━━━━━━━━━━━━━━━━━━━━━━━━━━\u001b[0m \u001b[32m327.4/327.4 kB\u001b[0m \u001b[31m32.2 MB/s\u001b[0m eta \u001b[36m0:00:00\u001b[0m\n",
            "\u001b[?25hInstalling collected packages: pytz, xxhash, tzdata, typing-extensions, tqdm, safetensors, regex, pyarrow-hotfix, numpy, multidict, fsspec, frozenlist, filelock, dill, yarl, pyarrow, pandas, multiprocess, huggingface-hub, aiosignal, tokenizers, aiohttp, transformers, datasets\n",
            "Successfully installed aiohttp-3.9.0 aiosignal-1.3.1 datasets-2.15.0 dill-0.3.7 filelock-3.13.1 frozenlist-1.4.0 fsspec-2023.10.0 huggingface-hub-0.19.4 multidict-6.0.4 multiprocess-0.70.15 numpy-1.26.2 pandas-2.1.3 pyarrow-14.0.1 pyarrow-hotfix-0.6 pytz-2023.3.post1 regex-2023.10.3 safetensors-0.4.0 tokenizers-0.15.0 tqdm-4.66.1 transformers-4.35.2 typing-extensions-4.8.0 tzdata-2023.3 xxhash-3.4.1 yarl-1.9.3\n",
            "Note: you may need to restart the kernel to use updated packages.\n"
          ]
        }
      ],
      "source": [
        "pip install datasets transformers"
      ]
    },
    {
      "cell_type": "markdown",
      "metadata": {
        "id": "DG56mdvObwIw"
      },
      "source": [
        "In Python, the transformers library is associated with the Hugging Face Transformers library, which provides a collection of pre-trained models for natural language processing (NLP) tasks."
      ]
    },
    {
      "cell_type": "code",
      "execution_count": 2,
      "metadata": {
        "colab": {
          "base_uri": "https://localhost:8080/"
        },
        "id": "rcXpr7Dlbys6",
        "outputId": "a6d6b8ab-0cdd-47e9-d0b4-4d36d5543d38"
      },
      "outputs": [
        {
          "name": "stdout",
          "output_type": "stream",
          "text": [
            "Requirement already satisfied: transformers[torch] in /home/kinitic013/jupyter_notebook/jupynotebook_env/lib/python3.11/site-packages (4.35.2)\n",
            "Requirement already satisfied: filelock in /home/kinitic013/jupyter_notebook/jupynotebook_env/lib/python3.11/site-packages (from transformers[torch]) (3.13.1)\n",
            "Requirement already satisfied: huggingface-hub<1.0,>=0.16.4 in /home/kinitic013/jupyter_notebook/jupynotebook_env/lib/python3.11/site-packages (from transformers[torch]) (0.19.4)\n",
            "Requirement already satisfied: numpy>=1.17 in /home/kinitic013/jupyter_notebook/jupynotebook_env/lib64/python3.11/site-packages (from transformers[torch]) (1.26.2)\n",
            "Requirement already satisfied: packaging>=20.0 in /home/kinitic013/jupyter_notebook/jupynotebook_env/lib/python3.11/site-packages (from transformers[torch]) (23.2)\n",
            "Requirement already satisfied: pyyaml>=5.1 in /home/kinitic013/jupyter_notebook/jupynotebook_env/lib64/python3.11/site-packages (from transformers[torch]) (6.0.1)\n",
            "Requirement already satisfied: regex!=2019.12.17 in /home/kinitic013/jupyter_notebook/jupynotebook_env/lib64/python3.11/site-packages (from transformers[torch]) (2023.10.3)\n",
            "Requirement already satisfied: requests in /home/kinitic013/jupyter_notebook/jupynotebook_env/lib/python3.11/site-packages (from transformers[torch]) (2.31.0)\n",
            "Requirement already satisfied: tokenizers<0.19,>=0.14 in /home/kinitic013/jupyter_notebook/jupynotebook_env/lib64/python3.11/site-packages (from transformers[torch]) (0.15.0)\n",
            "Requirement already satisfied: safetensors>=0.3.1 in /home/kinitic013/jupyter_notebook/jupynotebook_env/lib64/python3.11/site-packages (from transformers[torch]) (0.4.0)\n",
            "Requirement already satisfied: tqdm>=4.27 in /home/kinitic013/jupyter_notebook/jupynotebook_env/lib/python3.11/site-packages (from transformers[torch]) (4.66.1)\n",
            "Collecting torch!=1.12.0,>=1.10 (from transformers[torch])\n",
            "  Downloading torch-2.1.1-cp311-cp311-manylinux1_x86_64.whl.metadata (25 kB)\n",
            "Collecting accelerate>=0.20.3 (from transformers[torch])\n",
            "  Downloading accelerate-0.24.1-py3-none-any.whl.metadata (18 kB)\n",
            "Requirement already satisfied: psutil in /home/kinitic013/jupyter_notebook/jupynotebook_env/lib64/python3.11/site-packages (from accelerate>=0.20.3->transformers[torch]) (5.9.6)\n",
            "Requirement already satisfied: fsspec>=2023.5.0 in /home/kinitic013/jupyter_notebook/jupynotebook_env/lib/python3.11/site-packages (from huggingface-hub<1.0,>=0.16.4->transformers[torch]) (2023.10.0)\n",
            "Requirement already satisfied: typing-extensions>=3.7.4.3 in /home/kinitic013/jupyter_notebook/jupynotebook_env/lib/python3.11/site-packages (from huggingface-hub<1.0,>=0.16.4->transformers[torch]) (4.8.0)\n",
            "Collecting sympy (from torch!=1.12.0,>=1.10->transformers[torch])\n",
            "  Downloading sympy-1.12-py3-none-any.whl (5.7 MB)\n",
            "\u001b[2K     \u001b[38;2;114;156;31m━━━━━━━━━━━━━━━━━━━━━━━━━━━━━━━━━━━━━━━━\u001b[0m \u001b[32m5.7/5.7 MB\u001b[0m \u001b[31m7.1 MB/s\u001b[0m eta \u001b[36m0:00:00\u001b[0mm eta \u001b[36m0:00:01\u001b[0m0:01\u001b[0m:01\u001b[0mm\n",
            "\u001b[?25hCollecting networkx (from torch!=1.12.0,>=1.10->transformers[torch])\n",
            "  Downloading networkx-3.2.1-py3-none-any.whl.metadata (5.2 kB)\n",
            "Requirement already satisfied: jinja2 in /home/kinitic013/jupyter_notebook/jupynotebook_env/lib/python3.11/site-packages (from torch!=1.12.0,>=1.10->transformers[torch]) (3.1.2)\n",
            "Collecting nvidia-cuda-nvrtc-cu12==12.1.105 (from torch!=1.12.0,>=1.10->transformers[torch])\n",
            "  Downloading nvidia_cuda_nvrtc_cu12-12.1.105-py3-none-manylinux1_x86_64.whl (23.7 MB)\n",
            "\u001b[2K     \u001b[38;2;114;156;31m━━━━━━━━━━━━━━━━━━━━━━━━━━━━━━━━━━━━━━━━\u001b[0m \u001b[32m23.7/23.7 MB\u001b[0m \u001b[31m34.5 MB/s\u001b[0m eta \u001b[36m0:00:00\u001b[0mm eta \u001b[36m0:00:01\u001b[0m[36m0:00:01\u001b[0m\n",
            "\u001b[?25hCollecting nvidia-cuda-runtime-cu12==12.1.105 (from torch!=1.12.0,>=1.10->transformers[torch])\n",
            "  Downloading nvidia_cuda_runtime_cu12-12.1.105-py3-none-manylinux1_x86_64.whl (823 kB)\n",
            "\u001b[2K     \u001b[38;2;114;156;31m━━━━━━━━━━━━━━━━━━━━━━━━━━━━━━━━━━━━━━\u001b[0m \u001b[32m823.6/823.6 kB\u001b[0m \u001b[31m36.8 MB/s\u001b[0m eta \u001b[36m0:00:00\u001b[0m\n",
            "\u001b[?25hCollecting nvidia-cuda-cupti-cu12==12.1.105 (from torch!=1.12.0,>=1.10->transformers[torch])\n",
            "  Downloading nvidia_cuda_cupti_cu12-12.1.105-py3-none-manylinux1_x86_64.whl (14.1 MB)\n",
            "\u001b[2K     \u001b[38;2;114;156;31m━━━━━━━━━━━━━━━━━━━━━━━━━━━━━━━━━━━━━━━━\u001b[0m \u001b[32m14.1/14.1 MB\u001b[0m \u001b[31m37.1 MB/s\u001b[0m eta \u001b[36m0:00:00\u001b[0mm eta \u001b[36m0:00:01\u001b[0m[36m0:00:01\u001b[0m\n",
            "\u001b[?25hCollecting nvidia-cudnn-cu12==8.9.2.26 (from torch!=1.12.0,>=1.10->transformers[torch])\n",
            "  Downloading nvidia_cudnn_cu12-8.9.2.26-py3-none-manylinux1_x86_64.whl.metadata (1.6 kB)\n",
            "Collecting nvidia-cublas-cu12==12.1.3.1 (from torch!=1.12.0,>=1.10->transformers[torch])\n",
            "  Downloading nvidia_cublas_cu12-12.1.3.1-py3-none-manylinux1_x86_64.whl (410.6 MB)\n",
            "\u001b[2K     \u001b[38;2;114;156;31m━━━━━━━━━━━━━━━━━━━━━━━━━━━━━━━━━━━━━━\u001b[0m \u001b[32m410.6/410.6 MB\u001b[0m \u001b[31m12.2 MB/s\u001b[0m eta \u001b[36m0:00:00\u001b[0mm eta \u001b[36m0:00:01\u001b[0m[36m0:00:01\u001b[0m\n",
            "\u001b[?25hCollecting nvidia-cufft-cu12==11.0.2.54 (from torch!=1.12.0,>=1.10->transformers[torch])\n",
            "  Downloading nvidia_cufft_cu12-11.0.2.54-py3-none-manylinux1_x86_64.whl (121.6 MB)\n",
            "\u001b[2K     \u001b[38;2;114;156;31m━━━━━━━━━━━━━━━━━━━━━━━━━━━━━━━━━━━━━━\u001b[0m \u001b[32m121.6/121.6 MB\u001b[0m \u001b[31m24.5 MB/s\u001b[0m eta \u001b[36m0:00:00\u001b[0mm eta \u001b[36m0:00:01\u001b[0m[36m0:00:01\u001b[0m\n",
            "\u001b[?25hCollecting nvidia-curand-cu12==10.3.2.106 (from torch!=1.12.0,>=1.10->transformers[torch])\n",
            "  Downloading nvidia_curand_cu12-10.3.2.106-py3-none-manylinux1_x86_64.whl (56.5 MB)\n",
            "\u001b[2K     \u001b[38;2;114;156;31m━━━━━━━━━━━━━━━━━━━━━━━━━━━━━━━━━━━━━━━━\u001b[0m \u001b[32m56.5/56.5 MB\u001b[0m \u001b[31m29.7 MB/s\u001b[0m eta \u001b[36m0:00:00\u001b[0mm eta \u001b[36m0:00:01\u001b[0m[36m0:00:01\u001b[0m\n",
            "\u001b[?25hCollecting nvidia-cusolver-cu12==11.4.5.107 (from torch!=1.12.0,>=1.10->transformers[torch])\n",
            "  Downloading nvidia_cusolver_cu12-11.4.5.107-py3-none-manylinux1_x86_64.whl (124.2 MB)\n",
            "\u001b[2K     \u001b[38;2;114;156;31m━━━━━━━━━━━━━━━━━━━━━━━━━━━━━━━━━━━━━━\u001b[0m \u001b[32m124.2/124.2 MB\u001b[0m \u001b[31m23.7 MB/s\u001b[0m eta \u001b[36m0:00:00\u001b[0mm eta \u001b[36m0:00:01\u001b[0m[36m0:00:01\u001b[0m\n",
            "\u001b[?25hCollecting nvidia-cusparse-cu12==12.1.0.106 (from torch!=1.12.0,>=1.10->transformers[torch])\n",
            "  Downloading nvidia_cusparse_cu12-12.1.0.106-py3-none-manylinux1_x86_64.whl (196.0 MB)\n",
            "\u001b[2K     \u001b[38;2;114;156;31m━━━━━━━━━━━━━━━━━━━━━━━━━━━━━━━━━━━━━━\u001b[0m \u001b[32m196.0/196.0 MB\u001b[0m \u001b[31m18.7 MB/s\u001b[0m eta \u001b[36m0:00:00\u001b[0mm eta \u001b[36m0:00:01\u001b[0m[36m0:00:01\u001b[0m\n",
            "\u001b[?25hCollecting nvidia-nccl-cu12==2.18.1 (from torch!=1.12.0,>=1.10->transformers[torch])\n",
            "  Downloading nvidia_nccl_cu12-2.18.1-py3-none-manylinux1_x86_64.whl (209.8 MB)\n",
            "\u001b[2K     \u001b[38;2;114;156;31m━━━━━━━━━━━━━━━━━━━━━━━━━━━━━━━━━━━━━━\u001b[0m \u001b[32m209.8/209.8 MB\u001b[0m \u001b[31m14.0 MB/s\u001b[0m eta \u001b[36m0:00:00\u001b[0mm eta \u001b[36m0:00:01\u001b[0m[36m0:00:01\u001b[0m\n",
            "\u001b[?25hCollecting nvidia-nvtx-cu12==12.1.105 (from torch!=1.12.0,>=1.10->transformers[torch])\n",
            "  Downloading nvidia_nvtx_cu12-12.1.105-py3-none-manylinux1_x86_64.whl (99 kB)\n",
            "\u001b[2K     \u001b[38;2;114;156;31m━━━━━━━━━━━━━━━━━━━━━━━━━━━━━━━━━━━━━━━━\u001b[0m \u001b[32m99.1/99.1 kB\u001b[0m \u001b[31m12.1 MB/s\u001b[0m eta \u001b[36m0:00:00\u001b[0m\n",
            "\u001b[?25hCollecting triton==2.1.0 (from torch!=1.12.0,>=1.10->transformers[torch])\n",
            "  Downloading triton-2.1.0-0-cp311-cp311-manylinux2014_x86_64.manylinux_2_17_x86_64.whl.metadata (1.3 kB)\n",
            "Collecting nvidia-nvjitlink-cu12 (from nvidia-cusolver-cu12==11.4.5.107->torch!=1.12.0,>=1.10->transformers[torch])\n",
            "  Downloading nvidia_nvjitlink_cu12-12.3.101-py3-none-manylinux1_x86_64.whl.metadata (1.5 kB)\n",
            "Requirement already satisfied: charset-normalizer<4,>=2 in /home/kinitic013/jupyter_notebook/jupynotebook_env/lib64/python3.11/site-packages (from requests->transformers[torch]) (3.3.2)\n",
            "Requirement already satisfied: idna<4,>=2.5 in /home/kinitic013/jupyter_notebook/jupynotebook_env/lib/python3.11/site-packages (from requests->transformers[torch]) (3.6)\n",
            "Requirement already satisfied: urllib3<3,>=1.21.1 in /home/kinitic013/jupyter_notebook/jupynotebook_env/lib/python3.11/site-packages (from requests->transformers[torch]) (2.1.0)\n",
            "Requirement already satisfied: certifi>=2017.4.17 in /home/kinitic013/jupyter_notebook/jupynotebook_env/lib/python3.11/site-packages (from requests->transformers[torch]) (2023.11.17)\n",
            "Requirement already satisfied: MarkupSafe>=2.0 in /home/kinitic013/jupyter_notebook/jupynotebook_env/lib64/python3.11/site-packages (from jinja2->torch!=1.12.0,>=1.10->transformers[torch]) (2.1.3)\n",
            "Collecting mpmath>=0.19 (from sympy->torch!=1.12.0,>=1.10->transformers[torch])\n",
            "  Downloading mpmath-1.3.0-py3-none-any.whl (536 kB)\n",
            "\u001b[2K     \u001b[38;2;114;156;31m━━━━━━━━━━━━━━━━━━━━━━━━━━━━━━━━━━━━━━\u001b[0m \u001b[32m536.2/536.2 kB\u001b[0m \u001b[31m28.3 MB/s\u001b[0m eta \u001b[36m0:00:00\u001b[0m\n",
            "\u001b[?25hDownloading accelerate-0.24.1-py3-none-any.whl (261 kB)\n",
            "\u001b[2K   \u001b[38;2;114;156;31m━━━━━━━━━━━━━━━━━━━━━━━━━━━━━━━━━━━━━━━━\u001b[0m \u001b[32m261.4/261.4 kB\u001b[0m \u001b[31m23.6 MB/s\u001b[0m eta \u001b[36m0:00:00\u001b[0m\n",
            "\u001b[?25hDownloading torch-2.1.1-cp311-cp311-manylinux1_x86_64.whl (670.2 MB)\n",
            "\u001b[2K   \u001b[38;2;114;156;31m━━━━━━━━━━━━━━━━━━━━━━━━━━━━━━━━━━━━━━━━\u001b[0m \u001b[32m670.2/670.2 MB\u001b[0m \u001b[31m8.4 MB/s\u001b[0m eta \u001b[36m0:00:00\u001b[0m0m eta \u001b[36m0:00:01\u001b[0m[36m0:00:01\u001b[0m\n",
            "\u001b[?25hDownloading nvidia_cudnn_cu12-8.9.2.26-py3-none-manylinux1_x86_64.whl (731.7 MB)\n",
            "\u001b[2K   \u001b[38;2;114;156;31m━━━━━━━━━━━━━━━━━━━━━━━━━━━━━━━━━━━━━━━━\u001b[0m \u001b[32m731.7/731.7 MB\u001b[0m \u001b[31m9.0 MB/s\u001b[0m eta \u001b[36m0:00:00\u001b[0m0m eta \u001b[36m0:00:01\u001b[0m[36m0:00:01\u001b[0m\n",
            "\u001b[?25hDownloading triton-2.1.0-0-cp311-cp311-manylinux2014_x86_64.manylinux_2_17_x86_64.whl (89.2 MB)\n",
            "\u001b[2K   \u001b[38;2;114;156;31m━━━━━━━━━━━━━━━━━━━━━━━━━━━━━━━━━━━━━━━━\u001b[0m \u001b[32m89.2/89.2 MB\u001b[0m \u001b[31m15.9 MB/s\u001b[0m eta \u001b[36m0:00:00\u001b[0mm eta \u001b[36m0:00:01\u001b[0m[36m0:00:01\u001b[0m\n",
            "\u001b[?25hDownloading networkx-3.2.1-py3-none-any.whl (1.6 MB)\n",
            "\u001b[2K   \u001b[38;2;114;156;31m━━━━━━━━━━━━━━━━━━━━━━━━━━━━━━━━━━━━━━━━\u001b[0m \u001b[32m1.6/1.6 MB\u001b[0m \u001b[31m34.7 MB/s\u001b[0m eta \u001b[36m0:00:00\u001b[0m MB/s\u001b[0m eta \u001b[36m0:00:01\u001b[0m\n",
            "\u001b[?25hDownloading nvidia_nvjitlink_cu12-12.3.101-py3-none-manylinux1_x86_64.whl (20.5 MB)\n",
            "\u001b[2K   \u001b[38;2;114;156;31m━━━━━━━━━━━━━━━━━━━━━━━━━━━━━━━━━━━━━━━━\u001b[0m \u001b[32m20.5/20.5 MB\u001b[0m \u001b[31m24.7 MB/s\u001b[0m eta \u001b[36m0:00:00\u001b[0mm eta \u001b[36m0:00:01\u001b[0m[36m0:00:01\u001b[0m\n",
            "\u001b[?25hInstalling collected packages: mpmath, triton, sympy, nvidia-nvtx-cu12, nvidia-nvjitlink-cu12, nvidia-nccl-cu12, nvidia-curand-cu12, nvidia-cufft-cu12, nvidia-cuda-runtime-cu12, nvidia-cuda-nvrtc-cu12, nvidia-cuda-cupti-cu12, nvidia-cublas-cu12, networkx, nvidia-cusparse-cu12, nvidia-cudnn-cu12, nvidia-cusolver-cu12, torch, accelerate\n",
            "Successfully installed accelerate-0.24.1 mpmath-1.3.0 networkx-3.2.1 nvidia-cublas-cu12-12.1.3.1 nvidia-cuda-cupti-cu12-12.1.105 nvidia-cuda-nvrtc-cu12-12.1.105 nvidia-cuda-runtime-cu12-12.1.105 nvidia-cudnn-cu12-8.9.2.26 nvidia-cufft-cu12-11.0.2.54 nvidia-curand-cu12-10.3.2.106 nvidia-cusolver-cu12-11.4.5.107 nvidia-cusparse-cu12-12.1.0.106 nvidia-nccl-cu12-2.18.1 nvidia-nvjitlink-cu12-12.3.101 nvidia-nvtx-cu12-12.1.105 sympy-1.12 torch-2.1.1 triton-2.1.0\n",
            "Note: you may need to restart the kernel to use updated packages.\n"
          ]
        }
      ],
      "source": [
        "pip install transformers[torch]"
      ]
    },
    {
      "cell_type": "code",
      "execution_count": 3,
      "metadata": {
        "colab": {
          "base_uri": "https://localhost:8080/"
        },
        "id": "1cpLLa8yPVYF",
        "outputId": "893d4ee8-4395-4631-e994-a72c6184dfd4"
      },
      "outputs": [
        {
          "name": "stderr",
          "output_type": "stream",
          "text": [
            "'apt' is not recognized as an internal or external command,\n",
            "operable program or batch file.\n"
          ]
        }
      ],
      "source": [
        "!apt install git-lfs"
      ]
    },
    {
      "cell_type": "code",
      "execution_count": 3,
      "metadata": {
        "id": "CLRo2XT_PXca"
      },
      "outputs": [],
      "source": [
        "#importing transformers\n",
        "import transformers"
      ]
    },
    {
      "cell_type": "code",
      "execution_count": 4,
      "metadata": {
        "colab": {
          "base_uri": "https://localhost:8080/",
          "height": 408
        },
        "id": "WEjCJaafP4wO",
        "outputId": "5414ba06-2c9c-42b2-cc0e-d368b05eab26"
      },
      "outputs": [
        {
          "name": "stdout",
          "output_type": "stream",
          "text": [
            "<class 'pandas.core.frame.DataFrame'>\n"
          ]
        },
        {
          "data": {
            "text/plain": [
              "Dataset({\n",
              "    features: ['id', 'prompt', 'A', 'B', 'C', 'D', 'E', 'answer'],\n",
              "    num_rows: 200\n",
              "})"
            ]
          },
          "execution_count": 4,
          "metadata": {},
          "output_type": "execute_result"
        }
      ],
      "source": [
        "# Let's import the public training set and take a look\n",
        "import pandas as pd\n",
        "from transformers import AutoTokenizer\n",
        "from datasets import Dataset\n",
        "\n",
        "train_df = pd.read_csv('Data/train.csv')\n",
        "print(type(train_df))\n",
        "train_df.head()\n",
        "train_ds = Dataset.from_pandas(train_df)\n",
        "train_ds"
      ]
    },
    {
      "cell_type": "markdown",
      "metadata": {
        "id": "xbX6fI1tbbrw"
      },
      "source": [
        "These lines import the necessary libraries:\n",
        "\n",
        "'pandas' for data manipulation using DataFrames.\n",
        "'AutoTokenizer' from the transformers library, which is part of the Hugging Face Transformers library for working with pre-trained models.\n",
        "Dataset from the datasets library, which is also part of Hugging Face and provides a convenient way to work with datasets.\n",
        "\n",
        "Python code reads a CSV file into a pandas DataFrame and then converts that DataFrame into a Hugging Face dataset using the datasets library"
      ]
    },
    {
      "cell_type": "markdown",
      "metadata": {
        "id": "ZsvOwCnsnaiT"
      },
      "source": [
        "Now that our data is ready, we can download the pretrained model and fine-tune it. Since all our task is about mutliple choice, we use the AutoModelForMultipleChoice class. Like with the tokenizer, the from_pretrained method will download and cache the model for us."
      ]
    },
    {
      "cell_type": "code",
      "execution_count": 5,
      "metadata": {
        "id": "XzBtGLcDRIVm"
      },
      "outputs": [
        {
          "data": {
            "application/vnd.jupyter.widget-view+json": {
              "model_id": "6d2dfe57e57d4c47a3cce6454f08b680",
              "version_major": 2,
              "version_minor": 0
            },
            "text/plain": [
              "config.json:   0%|          | 0.00/570 [00:00<?, ?B/s]"
            ]
          },
          "metadata": {},
          "output_type": "display_data"
        },
        {
          "data": {
            "application/vnd.jupyter.widget-view+json": {
              "model_id": "06c1a792c32149a1a36df29e7edd4e19",
              "version_major": 2,
              "version_minor": 0
            },
            "text/plain": [
              "model.safetensors:   0%|          | 0.00/440M [00:00<?, ?B/s]"
            ]
          },
          "metadata": {},
          "output_type": "display_data"
        },
        {
          "name": "stderr",
          "output_type": "stream",
          "text": [
            "Some weights of BertForMultipleChoice were not initialized from the model checkpoint at bert-base-uncased and are newly initialized: ['classifier.bias', 'classifier.weight']\n",
            "You should probably TRAIN this model on a down-stream task to be able to use it for predictions and inference.\n"
          ]
        },
        {
          "data": {
            "application/vnd.jupyter.widget-view+json": {
              "model_id": "ea5a149ad9b242e0a8e9883ce35e9b54",
              "version_major": 2,
              "version_minor": 0
            },
            "text/plain": [
              "tokenizer_config.json:   0%|          | 0.00/28.0 [00:00<?, ?B/s]"
            ]
          },
          "metadata": {},
          "output_type": "display_data"
        },
        {
          "data": {
            "application/vnd.jupyter.widget-view+json": {
              "model_id": "b5d8fbb45b2b434eb4d7373f0242daf5",
              "version_major": 2,
              "version_minor": 0
            },
            "text/plain": [
              "vocab.txt:   0%|          | 0.00/232k [00:00<?, ?B/s]"
            ]
          },
          "metadata": {},
          "output_type": "display_data"
        },
        {
          "data": {
            "application/vnd.jupyter.widget-view+json": {
              "model_id": "59e766588eb140708665c593121ec136",
              "version_major": 2,
              "version_minor": 0
            },
            "text/plain": [
              "tokenizer.json:   0%|          | 0.00/466k [00:00<?, ?B/s]"
            ]
          },
          "metadata": {},
          "output_type": "display_data"
        }
      ],
      "source": [
        "model_checkpoint = \"bert-base-uncased\"\n",
        "model_dir = \"bert-base-uncased\"\n",
        "batch_size = 16\n",
        "\n",
        "from transformers import AutoModelForMultipleChoice, TrainingArguments, Trainer\n",
        "\n",
        "model = AutoModelForMultipleChoice.from_pretrained(model_checkpoint)\n",
        "from transformers import AutoTokenizer\n",
        "\n",
        "tokenizer = AutoTokenizer.from_pretrained(model_checkpoint, use_fast=True)"
      ]
    },
    {
      "cell_type": "markdown",
      "metadata": {
        "id": "CH-n-8d8iwDW"
      },
      "source": [
        " Firstly we initialize the model checkpoint ,directory and the bsatch size.\n",
        " these variables determine the directories where the model is stored,\n",
        " batch size refers to the number of training examples used in one iteration.\n",
        " Then we import three classes from the transformers library\n",
        " 'model' variable loads the pre trained weights using the specified model checkpoints.\n",
        " then the code imports auto tokenizers\n",
        " variable initializes a tokenizer (tokenizer) using the AutoTokenizer class. It loads the pre-trained tokenizer corresponding to the specified model_checkpoint. The use_fast=True parameter activates the fast tokenizer, which is a more efficient implementation.\n",
        "\n",
        " Code sets up variables for model checkpoint, model directory, and batch size. It then imports necessary classes from the transformers library and initializes a model and tokenizer for multiple-choice tasks based on the specified model checkpoint"
      ]
    },
    {
      "cell_type": "markdown",
      "metadata": {
        "id": "luwzgSZGePmj"
      },
      "source": [
        "The AutoModel class is part of the Hugging Face Transformers library and is designed to automatically load any pre-trained model based on its name or path"
      ]
    },
    {
      "cell_type": "code",
      "execution_count": 6,
      "metadata": {
        "id": "aTfzMvFJRewq"
      },
      "outputs": [],
      "source": [
        "model_name = model_checkpoint.split(\"/\")[-1]"
      ]
    },
    {
      "cell_type": "code",
      "execution_count": 11,
      "metadata": {
        "colab": {
          "base_uri": "https://localhost:8080/",
          "height": 49,
          "referenced_widgets": [
            "870d5a593f1b4743afbf73a51ea44a6e",
            "1142f146f9c64002975c7082e4eb7650",
            "d63f6b06fb074b16a24586ed1dd9fad2",
            "02994db1e55a40b5b4af2dd1159b6ade",
            "cecd0c454832403fb7d64fc5f8f985a6",
            "b46a404a5dfc41a6b8360f5b427c1d34",
            "4a57a48e08694fb4bfc22ac4ddb40951",
            "c120ae12df1c4ab682fdf553324f2929",
            "a7c46d4d031b41dc913369355d785bcf",
            "1ca1504d9ffc4973b0ba2228f9c420f8",
            "9e087b0d59e04474bcbd1125336dcb73"
          ]
        },
        "id": "IDmKKCoObz_y",
        "outputId": "baa3f27a-ab37-4f2d-898e-b60050fbe069"
      },
      "outputs": [
        {
          "data": {
            "application/vnd.jupyter.widget-view+json": {
              "model_id": "4445060502d54e2284b5115bd21c9626",
              "version_major": 2,
              "version_minor": 0
            },
            "text/plain": [
              "Map:   0%|          | 0/200 [00:00<?, ? examples/s]"
            ]
          },
          "metadata": {},
          "output_type": "display_data"
        },
        {
          "name": "stdout",
          "output_type": "stream",
          "text": [
            "{'id': 0, 'prompt': 'Which of the following statements accurately describes the impact of Modified Newtonian Dynamics (MOND) on the observed \"missing baryonic mass\" discrepancy in galaxy clusters?', 'A': 'MOND is a theory that reduces the observed missing baryonic mass in galaxy clusters by postulating the existence of a new form of matter called \"fuzzy dark matter.\"', 'B': 'MOND is a theory that increases the discrepancy between the observed missing baryonic mass in galaxy clusters and the measured velocity dispersions from a factor of around 10 to a factor of about 20.', 'C': 'MOND is a theory that explains the missing baryonic mass in galaxy clusters that was previously considered dark matter by demonstrating that the mass is in the form of neutrinos and axions.', 'D': 'MOND is a theory that reduces the discrepancy between the observed missing baryonic mass in galaxy clusters and the measured velocity dispersions from a factor of around 10 to a factor of about 2.', 'E': 'MOND is a theory that eliminates the observed missing baryonic mass in galaxy clusters by imposing a new mathematical formulation of gravity that does not require the existence of dark matter.', 'answer': 'D'}\n",
            "{'id': 1, 'prompt': 'Which of the following is an accurate definition of dynamic scaling in self-similar systems?', 'A': 'Dynamic scaling refers to the evolution of self-similar systems, where data obtained from snapshots at fixed times exhibits similarity to the respective data taken from snapshots of any earlier or later time. This similarity is tested by a certain time-dependent stochastic variable x.', 'B': 'Dynamic scaling refers to the non-evolution of self-similar systems, where data obtained from snapshots at fixed times is similar to the respective data taken from snapshots of any earlier or later time. This similarity is tested by a certain time-dependent stochastic variable x.', 'C': 'Dynamic scaling refers to the evolution of self-similar systems, where data obtained from snapshots at fixed times is dissimilar to the respective data taken from snapshots of any earlier or later time. This dissimilarity is tested by a certain time-independent stochastic variable y.', 'D': 'Dynamic scaling refers to the non-evolution of self-similar systems, where data obtained from snapshots at fixed times is dissimilar to the respective data taken from snapshots of any earlier or later time. This dissimilarity is tested by a certain time-independent stochastic variable y.', 'E': 'Dynamic scaling refers to the evolution of self-similar systems, where data obtained from snapshots at fixed times is independent of the respective data taken from snapshots of any earlier or later time. This independence is tested by a certain time-dependent stochastic variable z.', 'answer': 'A'}\n",
            "{'id': 2, 'prompt': 'Which of the following statements accurately describes the origin and significance of the triskeles symbol?', 'A': 'The triskeles symbol was reconstructed as a feminine divine triad by the rulers of Syracuse, and later adopted as an emblem. Its usage may also be related to the Greek name of Sicily, Trinacria, which means \"having three headlands.\" The head of Medusa at the center of the Sicilian triskeles represents the three headlands.', 'B': 'The triskeles symbol is a representation of three interlinked spirals, which was adopted as an emblem by the rulers of Syracuse. Its usage in modern flags of Sicily has its origins in the ancient Greek name for the island, Trinacria, which means \"Sicily with three corners.\" The head of Medusa at the center is a representation of the island\\'s rich cultural heritage.', 'C': 'The triskeles symbol is a representation of a triple goddess, reconstructed by the rulers of Syracuse, who adopted it as an emblem. Its significance lies in the fact that it represents the Greek name for Sicily, Trinacria, which contains the element \"tria,\" meaning three. The head of Medusa at the center of the Sicilian triskeles represents the three headlands.', 'D': \"The triskeles symbol represents three interlocked spiral arms, which became an emblem for the rulers of Syracuse. Its usage in modern flags of Sicily is due to the island's rich cultural heritage, which dates back to ancient times. The head of Medusa at the center represents the lasting influence of Greek mythology on Sicilian culture.\", 'E': \"The triskeles symbol is a representation of the Greek goddess Hecate, reconstructed by the rulers of Syracuse. Its adoption as an emblem was due to its cultural significance, as it represented the ancient Greek name for Sicily, Trinacria. The head of Medusa at the center of the Sicilian triskeles represents the island's central location in the Mediterranean.\", 'answer': 'A'}\n",
            "{'id': 3, 'prompt': 'What is the significance of regularization in terms of renormalization problems in physics?', 'A': 'Regularizing the mass-energy of an electron with a finite radius can theoretically simplify calculations involving infinities or singularities, thereby providing explanations that would otherwise be impossible to achieve.', 'B': 'Regularizing the mass-energy of an electron with an infinite radius allows for the breakdown of a theory that is valid under one set of conditions. This approach can be applied to other renormalization problems as well.', 'C': 'Regularizing the mass-energy of an electron with a finite radius is a means of demonstrating that a system below a certain size can be explained without the need for further calculations. This approach can be applied to other renormalization problems as well.', 'D': 'Regularizing the mass-energy of an electron with an infinite radius can be used to provide a highly accurate description of a system under specific conditions. This approach can be transferred to other renormalization problems as well.', 'E': 'Regularizing the mass-energy of an electron with an infinite radius is essential for explaining how a system below a certain size operates. This approach can be applied to other renormalization problems as well.', 'answer': 'C'}\n",
            "{'id': 4, 'prompt': 'Which of the following statements accurately describes the relationship between the dimensions of a diffracting object and the angular spacing of features in the diffraction pattern?', 'A': 'The angular spacing of features in the diffraction pattern is indirectly proportional to the dimensions of the object causing the diffraction. Therefore, if the diffracting object is smaller, the resulting diffraction pattern will be narrower.', 'B': 'The angular spacing of features in the diffraction pattern is directly proportional to the dimensions of the object causing the diffraction. Therefore, if the diffracting object is smaller, the resulting diffraction pattern will be narrower.', 'C': 'The angular spacing of features in the diffraction pattern is independent of the dimensions of the object causing the diffraction. Therefore, if the diffracting object is smaller, the resulting diffraction pattern will be the same as if it were big.', 'D': 'The angular spacing of features in the diffraction pattern is inversely proportional to the dimensions of the object causing the diffraction. Therefore, if the diffracting object is smaller, the resulting diffraction pattern will be wider.', 'E': 'The angular spacing of features in the diffraction pattern is directly proportional to the square root of the dimensions of the object causing the diffraction. Therefore, if the diffracting object is smaller, the resulting diffraction pattern will be slightly narrower.', 'answer': 'D'}\n",
            "{'id': 5, 'prompt': \"Which of the following statements accurately depicts the relationship between Gauss's law, electric flux, electric field, and symmetry in electric fields?\", 'A': \"Gauss's law holds only for situations involving symmetric electric fields, like those with spherical or cylindrical symmetry, and doesn't apply to other field types. Electric flux, as an expression of the total electric field passing through a closed surface, is influenced only by charges within the surface and unaffected by distant charges located outside it. The scalar quantity electric flux is strictly measured in SI fundamental quantities as kg·m3·s−3·A.\", 'B': \"Gauss's law holds in all cases, but it is most useful for calculations involving symmetric electric fields, like those with spherical or cylindrical symmetry, as they allow for simpler algebraic manipulations. Electric flux is not affected by distant charges outside the closed surface, whereas the net electric field, E, can be influenced by any charges positioned outside of the closed surface. In SI base units, the electric flux is expressed as kg·m3·s−3·A−1.\", 'C': \"Gauss's law, which applies equally to all electric fields, is typically most useful when dealing with symmetric field configurations, like those with spherical or cylindrical symmetry, since it makes it easier to calculate the total electric flux. Electric flux, an expression of the total electric field through a closed surface, is unaffected by charges outside the surface, while net electric field, E, may be influenced by charges located outside the closed surface. Electric flux is expressed in SI base units as kg·m3·s−1·C.\", 'D': \"Gauss's law only holds for electric fields with cylindrical symmetry, like those of a straight long wire; it is not applicable to fields with other types of symmetry. Electric flux, which measures the total electric field across a closed surface, is influenced by all charges within the surface as well as by those located outside it. The unit of electric flux in SI base units is kg·m2·s−2·A−1.\", 'E': \"Gauss's law, which holds for all situations, is most beneficial when applied to electric fields that exhibit higher degrees of symmetry, like those with cylindrical and spherical symmetry. While electric flux is unaffected by charges outside of a given closed surface, the net electric field, E, may be affected by them. The unit of electric flux in SI base units is kg·m2·s−1·C.\", 'answer': 'B'}\n",
            "{'id': 6, 'prompt': 'Which of the following statements accurately describes the dimension of an object in a CW complex?', 'A': 'The dimension of an object in a CW complex is the largest n for which the n-skeleton is nontrivial, where the empty set is considered to have dimension -1 and the boundary of a discrete set of points is the empty set.', 'B': 'The dimension of an object in a CW complex is determined by the number of critical points the object contains. The boundary of a discrete set of points is considered to have dimension 1, while the empty set is given a dimension of 0.', 'C': 'The dimension of an object in a CW complex is the smallest n for which the n-skeleton is nontrivial. The empty set is given a dimension of -1, while the boundary of a discrete set of points is assigned a dimension of 0.', 'D': 'The dimension of an object in a CW complex is calculated by counting the number of cells of all dimensions in the object. The empty set is given a dimension of 0, while the boundary of a discrete set of points is assigned a dimension of -1.', 'E': 'The dimension of an object in a CW complex depends on the number of singularities in the object. The empty set and the boundary of a discrete set of points are both assigned a dimension of 0.', 'answer': 'A'}\n",
            "{'id': 7, 'prompt': 'Which of the following statements accurately describes the blocking temperature of an antiferromagnetic layer in a spin valve?', 'A': 'The blocking temperature of an antiferromagnetic layer in a spin valve is the temperature at which the magnetization of the ferromagnetic layer becomes aligned with the magnetic field. The blocking temperature is typically higher than the Néel temperature.', 'B': 'The blocking temperature of an antiferromagnetic layer in a spin valve is the temperature below which the layer loses its ability to \"pin\" the magnetization direction of an adjacent ferromagnetic layer. The blocking temperature is typically higher than the Néel temperature.', 'C': 'The blocking temperature of an antiferromagnetic layer in a spin valve is the temperature at which the ferromagnetic layer becomes completely demagnetized. The blocking temperature is typically higher than the Néel temperature.', 'D': 'The blocking temperature of an antiferromagnetic layer in a spin valve is the temperature at or above which the layer ceases to prevent the orientation of an adjacent ferromagnetic layer. The blocking temperature is typically lower than the Néel temperature.', 'E': 'The blocking temperature of an antiferromagnetic layer in a spin valve is the temperature at which the ferromagnetic layer loses its ability to \"pin\" the magnetization direction of an adjacent antiferromagnetic layer. The blocking temperature is typically higher than the Néel temperature.', 'answer': 'D'}\n",
            "{'id': 8, 'prompt': 'What is the term used in astrophysics to describe light-matter interactions resulting in energy shifts in the radiation field?', 'A': 'Blueshifting', 'B': 'Redshifting', 'C': 'Reddening', 'D': 'Whitening', 'E': 'Yellowing', 'answer': 'C'}\n",
            "{'id': 9, 'prompt': 'What is the role of axioms in a formal theory?', 'A': 'Basis statements called axioms form the foundation of a formal theory and, together with the deducing rules, help in deriving a set of statements called theorems using proof theory.', 'B': 'Axioms are supplementary statements added to a formal theory that break down otherwise complex statements into more simple ones.', 'C': 'Axioms are redundant statements that can be derived from other statements in a formal theory, providing additional perspective to theorems derived from the theory.', 'D': 'The axioms in a theory are used for experimental validation of the theorems derived from the statements in the theory.', 'E': 'The axioms in a formal theory are added to prove that the statements derived from the theory are true, irrespective of their validity in the real world.', 'answer': 'A'}\n",
            "{'id': 10, 'prompt': 'What did Fresnel predict and verify with regards to total internal reflections?', 'A': \"Fresnel predicted and verified that three total internal reflections at 75°27' would give a precise circular polarization if two of the reflections had water as the external medium and the third had air, but not if the reflecting surfaces were all wet or all dry.\", 'B': \"Fresnel predicted and verified that eight total internal reflections at 68°27' would give an accurate circular polarization if four of the reflections had water as the external medium while the other four had air, but not if the reflecting surfaces were all wet or all dry.\", 'C': \"Fresnel predicted and verified that four total internal reflections at 30°27' would result in circular polarization if two of the reflections had water as the external medium while the other two had air, regardless if the reflecting surfaces were all wet or all dry.\", 'D': \"Fresnel predicted and verified that two total internal reflections at 68°27' would give an accurate linear polarization if one of the reflections had water as the external medium and the other had air, but not if the reflecting surfaces were all wet or all dry.\", 'E': \"Fresnel predicted and verified that four total internal reflections at 68°27' would give a precise circular polarization if two of the reflections had water as the external medium while the other two had air, but not if the reflecting surfaces were all wet or all dry.\", 'answer': 'E'}\n",
            "{'id': 11, 'prompt': 'What is the relationship between the Wigner function and the density matrix operator?', 'A': 'The Wigner function W(x, p) is the Wigner transform of the density matrix operator ρ̂, and the trace of an operator with the density matrix Wigner-transforms to the equivalent phase-space integral overlap of g(x,p) with the Wigner function.', 'B': 'The Wigner function W(x, p) is a source function used for the density matrix operator ρ̂ and the product of these two functions creates the phase space wave function g(x, p).', 'C': 'The Wigner function W(x, p) is the derivative of the density matrix operator ρ̂ with respect to the phase space coordinate.', 'D': 'The Wigner function W(x, p) represents the Hamiltonian H(x,p) of the density matrix operator ρ̂, while the Moyal bracket {{⋅, ⋅}} represents the Poisson bracket in the phase space.', 'E': 'The Wigner function W(x, p) is the time derivative of the density matrix operator ρ̂ with respect to the phase space coordinate.', 'answer': 'A'}\n",
            "{'id': 12, 'prompt': 'What is one of the examples of the models proposed by cosmologists and theoretical physicists without the cosmological or Copernican principles that can be used to address specific issues in the Lambda-CDM model and distinguish between current models and other possible models?', 'A': 'The Copernican principle, which proposes that Earth, the Solar System, and the Milky Way are not at the centre of the universe, but instead, the universe is expanding equally in all directions. This principle is a modification of the Lambda-CDM model and has been shown to explain several observational results.', 'B': 'Inhomogeneous cosmology, which states that the universe is entirely homogeneous and isotropic, directly proportional to the density of matter and radiation. This model proposes that everything in the universe is completely uniform, but it does not match observations.', 'C': 'Inhomogeneous cosmology, which models the universe as an extremely large, low-density void, instead of using the concept of dark energy. According to the model, this theory can match the observed accelerating universe and cosmological constant, but it contradicts the Copernican principle.', 'D': 'The cosmological principle, which proposes that Earth, the Solar System, and the Milky Way are at the centre of the universe. This principle is a modification of the Lambda-CDM model and has been shown to explain several observational results.', 'E': 'The principle of dark energy, which proposes that a new form of energy, not previously detected, is responsible for the acceleration of the expansion of the universe. This principle is a modification of the Lambda-CDM model and has been shown to explain several observational results.', 'answer': 'C'}\n",
            "{'id': 13, 'prompt': 'What is the Roche limit?', 'A': 'The Roche limit is the distance at which tidal effects would cause an object to rotate since the forces exerted by two massive bodies produce a torque on a third object.', 'B': 'The Roche limit is the distance at which tidal effects would cause an object to unite since differential force from a planet results in parts becoming attracted to one another.', 'C': \"The Roche limit is the distance at which tidal effects would cause a planet to disintegrate since differential force from an object overcomes the planet's core.\", 'D': 'The Roche limit is the distance at which tidal effects would cause an object to disintegrate since differential force from a planet overcomes the attraction of the parts between them.', 'E': \"The Roche limit is the distance at which tidal effects would cause an object to break apart due to differential force from the planet overcoming the attraction of the parts of the object for one another, which depends on the object's density and composition, as well as the mass and size of the planet.\", 'answer': 'D'}\n",
            "{'id': 14, 'prompt': \"What is Martin Heidegger's view on the relationship between time and human existence?\", 'A': \"Martin Heidegger believes that humans exist within a time continuum that is infinite and does not have a defined beginning or end. The relationship to the past involves acknowledging it as a historical era, and the relationship to the future involves creating a world that will endure beyond one's own time.\", 'B': 'Martin Heidegger believes that humans do not exist inside time, but that they are time. The relationship to the past is a present awareness of having been, and the relationship to the future involves anticipating a potential possibility, task, or engagement.', 'C': 'Martin Heidegger does not believe in the existence of time or that it has any effect on human consciousness. The relationship to the past and the future is insignificant, and human existence is solely based on the present.', 'D': 'Martin Heidegger believes that the relationship between time and human existence is cyclical. The past and present are interconnected and the future is predetermined. Human beings do not have free will.', 'E': 'Martin Heidegger believes that time is an illusion, and the past, present, and future are all happening simultaneously. Humans exist outside of this illusion and are guided by a higher power.', 'answer': 'B'}\n",
            "{'id': 15, 'prompt': 'What is the \"ultraviolet catastrophe\"?', 'A': 'It is a phenomenon that occurs only in multi-mode vibration.', 'B': 'It is the misbehavior of a formula for higher frequencies.', 'C': 'It is the standing wave of a string in harmonic resonance.', 'D': 'It is a flaw in classical physics that results in the misallocation of energy.', 'E': 'It is a disproven theory about the distribution of electromagnetic radiation.', 'answer': 'B'}\n",
            "{'id': 16, 'prompt': 'What is the most popular explanation for the shower-curtain effect?', 'A': 'The pressure differential between the inside and outside of the shower', 'B': 'The decrease in velocity resulting in an increase in pressure', 'C': 'The movement of air across the outside surface of the shower curtain', 'D': 'The use of cold water', 'E': \"Bernoulli's principle\", 'answer': 'E'}\n",
            "{'id': 17, 'prompt': 'What is the butterfly effect?', 'A': 'The butterfly effect is a physical cause that occurs when a massive sphere is caused to roll down a slope starting from a point of unstable equilibrium, and its velocity is assumed to be caused by the force of gravity accelerating it.', 'B': 'The butterfly effect is a distributed causality that opens up the opportunity to understand the relationship between necessary and sufficient conditions in classical (Newtonian) physics.', 'C': 'The butterfly effect is a proportionality between the cause and the effect of a physical phenomenon in classical (Newtonian) physics.', 'D': 'The butterfly effect is a small push that is needed to set a massive sphere into motion when it is caused to roll down a slope starting from a point of unstable equilibrium.', 'E': \"The butterfly effect is a phenomenon that highlights the difference between the application of the notion of causality in physics and a more general use of causality as represented by Mackie's INUS conditions.\", 'answer': 'E'}\n",
            "{'id': 18, 'prompt': \"What is the 'reactive Leidenfrost effect' observed in non-volatile materials?\", 'A': \"The 'reactive Leidenfrost effect' is a phenomenon where solid particles float above hot surfaces and move erratically, observed in non-volatile materials.\", 'B': \"The 'reactive Leidenfrost effect' is a phenomenon where solid particles float above hot surfaces and move erratically, observed in volatile materials.\", 'C': \"The 'reactive Leidenfrost effect' is a phenomenon where solid particles sink into hot surfaces and move slowly, observed in non-volatile materials.\", 'D': \"The 'reactive Leidenfrost effect' is a phenomenon where solid particles float above cold surfaces and move erratically, observed in non-volatile materials.\", 'E': \"The 'reactive Leidenfrost effect' is a phenomenon where solid particles sink into cold surfaces and move slowly, observed in non-volatile materials.\", 'answer': 'A'}\n",
            "{'id': 19, 'prompt': 'What is reciprocal length or inverse length?', 'A': 'Reciprocal length or inverse length is a quantity or measurement used in physics and chemistry. It is the reciprocal of time, and common units used for this measurement include the reciprocal second or inverse second (symbol: s−1), the reciprocal minute or inverse minute (symbol: min−1).', 'B': 'Reciprocal length or inverse length is a quantity or measurement used in geography and geology. It is the reciprocal of area, and common units used for this measurement include the reciprocal square metre or inverse square metre (symbol: m−2), the reciprocal square kilometre or inverse square kilometre (symbol: km−2).', 'C': 'Reciprocal length or inverse length is a quantity or measurement used in biology and medicine. It is the reciprocal of mass, and common units used for this measurement include the reciprocal gram or inverse gram (symbol: g−1), the reciprocal kilogram or inverse kilogram (symbol: kg−1).', 'D': 'Reciprocal length or inverse length is a quantity or measurement used in economics and finance. It is the reciprocal of interest rate, and common units used for this measurement include the reciprocal percent or inverse percent (symbol: %−1), the reciprocal basis point or inverse basis point (symbol: bp−1).', 'E': 'Reciprocal length or inverse length is a quantity or measurement used in several branches of science and mathematics. It is the reciprocal of length, and common units used for this measurement include the reciprocal metre or inverse metre (symbol: m−1), the reciprocal centimetre or inverse centimetre (symbol: cm−1).', 'answer': 'E'}\n",
            "{'id': 20, 'prompt': 'Which of the following statements is true about the categorization of planetary systems according to their orbital dynamics?', 'A': 'Planetary systems cannot be categorized based on their orbital dynamics.', 'B': 'Planetary systems can be categorized as resonant, non-resonant-interacting, hierarchical, or some combination of these, but only based on the number of planets in the system.', 'C': 'Planetary systems can only be categorized as resonant or non-resonant-interacting.', 'D': 'Planetary systems can be categorized as resonant, non-resonant-interacting, hierarchical, or some combination of these.', 'E': 'Planetary systems can only be categorized as hierarchical or non-hierarchical.', 'answer': 'D'}\n",
            "{'id': 21, 'prompt': 'What is the propagation constant in sinusoidal waves?', 'A': 'The propagation constant is a measure of the amplitude of the sinusoidal wave that varies with distance.', 'B': 'The propagation constant is a real number that remains constant with distance due to the phase change in the sinusoidal wave.', 'C': 'The propagation constant is a real number that varies with distance due to the phase change in the sinusoidal wave.', 'D': 'The propagation constant is a complex number that varies with distance due to the phase change in the sinusoidal wave.', 'E': 'The propagation constant is a complex number that remains constant with distance due to the phase change in the sinusoidal wave.', 'answer': 'D'}\n",
            "{'id': 22, 'prompt': 'What is the gravitomagnetic interaction?', 'A': 'The gravitomagnetic interaction is a force that is produced by the rotation of atoms in materials with linear properties that enhance time-varying gravitational fields.', 'B': 'The gravitomagnetic interaction is a force that acts against gravity, produced by materials that have nonlinear properties that enhance time-varying gravitational fields.', 'C': 'The gravitomagnetic interaction is a new force of nature generated by rotating matter, whose intensity is proportional to the rate of spin, according to the general theory of relativity.', 'D': 'The gravitomagnetic interaction is a force that occurs in neutron stars, producing a gravitational analogue of the Meissner effect.', 'E': 'The gravitomagnetic interaction is a force that is produced by the rotation of atoms in materials of different gravitational permeability.', 'answer': 'C'}\n",
            "{'id': 23, 'prompt': \"What did Newton's manuscripts of the 1660s show?\", 'A': \"Newton learned about tangential motion and radially directed force or endeavour from Hooke's work.\", 'B': \"Newton's manuscripts did not show any evidence of combining tangential motion with the effects of radially directed force or endeavour.\", 'C': 'Newton combined tangential motion with the effects of radially directed force or endeavour and expressed the concept of linear inertia.', 'D': \"Newton's manuscripts showed that he learned about the inverse square law from Hooke's private papers.\", 'E': \"Newton's manuscripts showed that he was indebted to Descartes' work, published in 1644, for the concept of linear inertia.\", 'answer': 'C'}\n",
            "{'id': 24, 'prompt': 'What is the decay energy for the free neutron decay process?', 'A': '0.013343 MeV', 'B': '0.013 MeV', 'C': '1,000 MeV', 'D': '0.782 MeV', 'E': '0.782343 MeV', 'answer': 'E'}\n",
            "{'id': 25, 'prompt': \"What is Hesse's principle of transfer in geometry?\", 'A': \"Hesse's principle of transfer is a concept in biology that explains the transfer of genetic information from one generation to another.\", 'B': \"Hesse's principle of transfer is a concept in chemistry that explains the transfer of electrons between atoms in a chemical reaction.\", 'C': \"Hesse's principle of transfer is a concept in physics that explains the transfer of energy from one object to another.\", 'D': \"Hesse's principle of transfer is a concept in economics that explains the transfer of wealth from one individual to another.\", 'E': \"Hesse's principle of transfer is a concept in geometry that states that if the points of the projective line P1 are depicted by a rational normal curve in Pn, then the group of the projective transformations of Pn that preserve the curve is isomorphic to the group of the projective transformations of P1.\", 'answer': 'E'}\n",
            "{'id': 26, 'prompt': 'What is the relationship between the Cauchy momentum equation and the Navier-Stokes equation?', 'A': 'The Navier-Stokes equation can be derived from the Cauchy momentum equation by specifying the stress tensor through a constitutive relation, expressing the shear tensor in terms of viscosity and fluid velocity, and assuming constant density and viscosity.', 'B': 'The Navier-Stokes equation is a simplified version of the Cauchy momentum equation that only applies to situations with constant density and viscosity.', 'C': 'The Navier-Stokes equation is a special case of the Cauchy momentum equation, which is a more general equation that applies to all non-relativistic momentum conservation situations.', 'D': 'The Cauchy momentum equation and the Navier-Stokes equation are completely unrelated and cannot be used interchangeably in any situation.', 'E': 'The Cauchy momentum equation is a special case of the Navier-Stokes equation, which is a more general equation that applies to all non-relativistic momentum conservation situations.', 'answer': 'A'}\n",
            "{'id': 27, 'prompt': 'What is X-ray pulsar-based navigation (XNAV)?', 'A': \"X-ray pulsar-based navigation (XNAV) is a navigation technique that uses the periodic X-ray signals emitted from pulsars to determine the location of a vehicle in the Earth's atmosphere.\", 'B': 'X-ray pulsar-based navigation (XNAV) is a navigation technique that uses the periodic radio signals emitted from pulsars to determine the location of a vehicle in deep space, such as a spacecraft.', 'C': 'X-ray pulsar-based navigation (XNAV) is a navigation technique that uses the periodic X-ray signals emitted from satellites to determine the location of a vehicle in deep space, such as a spacecraft.', 'D': 'X-ray pulsar-based navigation (XNAV) is a navigation technique that uses the periodic X-ray signals emitted from pulsars to determine the location of a vehicle in deep space, such as a spacecraft.', 'E': 'X-ray pulsar-based navigation (XNAV) is a navigation technique that uses the periodic radio signals emitted from satellites to determine the location of a vehicle in deep space, such as a spacecraft.', 'answer': 'D'}\n",
            "{'id': 28, 'prompt': 'What is the evidence for the existence of a supermassive black hole at the center of the Milky Way galaxy?', 'A': \"The Milky Way galaxy has a supermassive black hole at its center because of the bright flare activity observed near Sagittarius A*. The radius of the central object must be less than 17 light-hours, because otherwise S2 would collide with it. Observations of the star S14 indicate that the radius is no more than 6.25 light-hours, about the diameter of Uranus' orbit. No known astronomical object other than a black hole can contain 4.0 million M☉ in this volume of space.\", 'B': \"The Milky Way galaxy has a supermassive black hole at its center because the star S14 follows an elliptical orbit with a period of 15.2 years and a pericenter of 17 light-hours from the center of the central object. From the motion of star S14, the object's mass can be estimated as 4.0 million M☉, or about 7.96×1036 kg. The radius of the central object must be less than 17 light-hours, because otherwise S14 would collide with it. Observations of the star S2 indicate that the radius is no more than 6.25 light-hours, about the diameter of Uranus' orbit. No known astronomical object other than a black hole can contain 4.0 million M☉ in this volume of space.\", 'C': \"The Milky Way galaxy has a supermassive black hole at its center because of the bright flare activity observed near Sagittarius A*. The radius of the central object must be less than 6.25 light-hours, about the diameter of Uranus' orbit. Observations of the star S2 indicate that the radius is no more than 17 light-hours, because otherwise S2 would collide with it. No known astronomical object other than a black hole can contain 4.0 million M☉ in this volume of space.\", 'D': 'The Milky Way galaxy has a supermassive black hole at its center because it is the only explanation for the bright flare activity observed near Sagittarius A* at a separation of six to ten times the gravitational radius of the candidate SMBH.', 'E': \"The star S2 follows an elliptical orbit with a period of 15.2 years and a pericenter of 17 light-hours from the center of the central object. From the motion of star S2, the object's mass can be estimated as 4.0 million M☉, or about 7.96×1036 kg. The radius of the central object must be less than 17 light-hours, because otherwise S2 would collide with it. Observations of the star S14 indicate that the radius is no more than 6.25 light-hours, about the diameter of Uranus' orbit. No known astronomical object other than a black hole can contain 4.0 million M☉ in this volume of space.\", 'answer': 'E'}\n",
            "{'id': 29, 'prompt': 'What is the function of the fibrous cardiac skeleton?', 'A': 'The fibrous cardiac skeleton is a system of blood vessels that supplies oxygen and nutrients to the heart muscle.', 'B': 'The fibrous cardiac skeleton is responsible for the pumping action of the heart, regulating the flow of blood through the atria and ventricles.', 'C': 'The fibrous cardiac skeleton provides structure to the heart, forming the atrioventricular septum that separates the atria from the ventricles, and the fibrous rings that serve as bases for the four heart valves.', 'D': 'The fibrous cardiac skeleton is a network of nerves that controls the heartbeat and rhythm of the heart.', 'E': 'The fibrous cardiac skeleton is a protective layer that surrounds the heart, shielding it from external damage.', 'answer': 'C'}\n",
            "{'id': 30, 'prompt': 'What is the Carnot engine?', 'A': 'The Carnot engine is a theoretical engine that operates in the limiting mode of extreme speed known as dynamic. It represents the theoretical maximum efficiency of a heat engine operating between any two given thermal or heat reservoirs at different temperatures.', 'B': 'The Carnot engine is an ideal heat engine that operates in the limiting mode of extreme slowness known as quasi-static. It represents the theoretical maximum efficiency of a heat engine operating between any two given thermal or heat reservoirs at different temperatures.', 'C': 'The Carnot engine is a real heat engine that operates in the limiting mode of extreme speed known as dynamic. It represents the theoretical minimum efficiency of a heat engine operating between any two given thermal or heat reservoirs at different temperatures.', 'D': 'The Carnot engine is a theoretical engine that operates in the limiting mode of extreme slowness known as quasi-static. It represents the theoretical minimum efficiency of a heat engine operating between any two given thermal or heat reservoirs at different temperatures.', 'E': 'The Carnot engine is a real engine that operates in the limiting mode of extreme slowness known as quasi-static. It represents the theoretical maximum efficiency of a heat engine operating between any two given thermal or heat reservoirs at different temperatures.', 'answer': 'B'}\n",
            "{'id': 31, 'prompt': 'Which mathematical function is commonly used to characterize linear time-invariant systems?', 'A': 'Trigonometric function', 'B': 'Quadratic function', 'C': 'Exponential function', 'D': 'Logarithmic function', 'E': 'Transfer function', 'answer': 'E'}\n",
            "{'id': 32, 'prompt': 'What is the second law of thermodynamics?', 'A': 'The second law of thermodynamics is a physical law based on universal experience concerning heat and energy interconversions. It states that heat always moves from colder objects to hotter objects unless energy in some form is supplied to reverse the direction of heat flow.', 'B': 'The second law of thermodynamics is a physical law based on universal experience concerning heat and energy interconversions. It establishes that the internal energy of a thermodynamic system is a physical property that can be used to predict whether processes are forbidden despite obeying the requirement of conservation of energy as expressed in the first law of thermodynamics.', 'C': 'The second law of thermodynamics is a physical law based on universal experience concerning heat and energy interconversions. It establishes that all heat energy can be converted into work in a cyclic process.', 'D': 'The second law of thermodynamics is a physical law based on universal experience concerning heat and energy interconversions. It states that the entropy of isolated systems left to spontaneous evolution can decrease, as they always arrive at a state of thermodynamic equilibrium where the entropy is highest at the given internal energy.', 'E': 'The second law of thermodynamics is a physical law based on universal experience concerning heat and energy interconversions. It establishes the concept of entropy as a physical property of a thermodynamic system and can be used to predict whether processes are forbidden despite obeying the requirement of conservation of energy as expressed in the first law of thermodynamics.', 'answer': 'E'}\n",
            "{'id': 33, 'prompt': 'What are amorphous ferromagnetic metallic alloys, and what are their advantages?', 'A': 'Amorphous ferromagnetic metallic alloys are crystalline alloys that can be made by rapidly cooling a liquid alloy. Their properties are nearly anisotropic, resulting in low coercivity, low hysteresis loss, high permeability, and high electrical resistivity.', 'B': 'Amorphous ferromagnetic metallic alloys are non-crystalline alloys that can be made by slowly heating a solid alloy. Their properties are nearly isotropic, resulting in low coercivity, low hysteresis loss, high permeability, and high electrical resistivity.', 'C': 'Amorphous ferromagnetic metallic alloys are crystalline alloys that can be made by slowly cooling a liquid alloy. Their properties are nearly anisotropic, resulting in high coercivity, high hysteresis loss, low permeability, and low electrical resistivity.', 'D': 'Amorphous ferromagnetic metallic alloys are non-crystalline alloys that can be made by rapidly cooling a liquid alloy. Their properties are nearly isotropic, resulting in low coercivity, low hysteresis loss, high permeability, and high electrical resistivity.', 'E': 'Amorphous ferromagnetic metallic alloys are non-crystalline alloys that can be made by rapidly heating a solid alloy. Their properties are nearly isotropic, resulting in high coercivity, high hysteresis loss, low permeability, and low electrical resistivity.', 'answer': 'D'}\n",
            "{'id': 34, 'prompt': 'What is the Penrose process?', 'A': 'The Penrose process is a mechanism through which objects can emerge from the ergosphere with less energy than they entered with, taking energy from the rotational energy of the black hole and speeding up its rotation.', 'B': 'The Penrose process is a mechanism through which objects can emerge from the ergosphere with the same energy as they entered with, taking energy from the rotational energy of the black hole and maintaining its rotation.', 'C': 'The Penrose process is a mechanism through which objects can emerge from the ergosphere with more energy than they entered with, taking extra energy from the rotational energy of the black hole and slowing down its rotation.', 'D': 'The Penrose process is a mechanism through which objects can emerge from the event horizon with less energy than they entered with, taking energy from the rotational energy of the black hole and speeding up its rotation.', 'E': 'The Penrose process is a mechanism through which objects can emerge from the event horizon with more energy than they entered with, taking extra energy from the rotational energy of the black hole and slowing down its rotation.', 'answer': 'C'}\n",
            "{'id': 35, 'prompt': 'What was the aim of the Gravity Probe B (GP-B) mission?', 'A': 'To prove that pressure contributes equally to spacetime curvature as does mass-energy.', 'B': 'To measure spacetime curvature near Earth, with particular emphasis on gravitomagnetism.', 'C': \"To measure the distribution of Fe and Al on the Moon's surface.\", 'D': 'To confirm the relatively large geodetic effect due to simple spacetime curvature, and is also known as de Sitter precession.', 'E': 'To measure the discrepancy between active and passive mass to about 10−12.', 'answer': 'B'}\n",
            "{'id': 36, 'prompt': \"What was Pierre de Fermat's solution to the problem of refraction?\", 'A': 'Fermat supposed that light took the path of least resistance, and that different media offered the same resistance. His eventual solution, described in a letter to La Chambre dated 1 January 1662, construed \"resistance\" as inversely proportional to speed, so that light took the path of least time. That premise yielded the ordinary law of refraction, provided that light traveled more slowly in the optically denser medium.', 'B': 'Fermat supposed that light took the path of least resistance, and that different media offered different resistances. His eventual solution, described in a letter to La Chambre dated 1 January 1662, construed \"resistance\" as directly proportional to speed, so that light took the path of least time. That premise yielded the ordinary law of refraction, provided that light traveled more quickly in the optically denser medium.', 'C': 'Fermat supposed that light took the path of least resistance, and that different media offered the same resistance. His eventual solution, described in a letter to La Chambre dated 1 January 1662, construed \"resistance\" as directly proportional to speed, so that light took the path of least time. That premise yielded the ordinary law of refraction, provided that light traveled more slowly in the optically denser medium.', 'D': 'Fermat supposed that light took the path of least resistance, and that different media offered the same resistance. His eventual solution, described in a letter to La Chambre dated 1 January 1662, construed \"resistance\" as inversely proportional to speed, so that light took the path of least time. That premise yielded the ordinary law of refraction, provided that light traveled more quickly in the optically denser medium.', 'E': 'Fermat supposed that light took the path of least resistance, and that different media offered different resistances. His eventual solution, described in a letter to La Chambre dated 1 January 1662, construed \"resistance\" as inversely proportional to speed, so that light took the path of least time. That premise yielded the ordinary law of refraction, provided that light traveled more slowly in the optically denser medium.', 'answer': 'E'}\n",
            "{'id': 37, 'prompt': 'What is the reason behind the adoption of a logarithmic scale of 5√100 ≈ 2.512 between magnitudes in astronomy?', 'A': 'The logarithmic scale was adopted to ensure that five magnitude steps corresponded precisely to a factor of 100 in brightness.', 'B': 'The logarithmic scale was adopted to measure the size of stars.', 'C': 'The logarithmic scale was adopted to measure the intensity of light coming from a star.', 'D': 'The logarithmic scale was adopted to ensure that the apparent sizes of stars were not spurious.', 'E': 'The logarithmic scale was adopted to measure the distance between stars.', 'answer': 'A'}\n",
            "{'id': 38, 'prompt': 'What is the spin quantum number?', 'A': 'The spin quantum number is a measure of the distance between an elementary particle and the nucleus of an atom.', 'B': 'The spin quantum number is a measure of the size of an elementary particle.', 'C': 'The spin quantum number is a measure of the charge of an elementary particle.', 'D': \"The spin quantum number is a measure of the speed of an elementary particle's rotation around some axis.\", 'E': 'The spin quantum number is a dimensionless quantity obtained by dividing the spin angular momentum by the reduced Planck constant ħ, which has the same dimensions as angular momentum.', 'answer': 'E'}\n",
            "{'id': 39, 'prompt': 'What is the synapstor or synapse transistor?', 'A': 'A device used to demonstrate a neuro-inspired circuit that shows short-term potentiation for learning and inactivity-based forgetting.', 'B': 'A device used to demonstrate a neuro-inspired circuit that shows long-term potentiation for learning and activity-based forgetting.', 'C': 'A device used to demonstrate a neuro-inspired circuit that shows short-term depression for learning and inactivity-based forgetting.', 'D': 'A device used to demonstrate a neuro-inspired circuit that shows short-term potentiation for learning and activity-based forgetting.', 'E': 'A device used to demonstrate a neuro-inspired circuit that shows long-term potentiation for learning and inactivity-based forgetting.', 'answer': 'E'}\n",
            "{'id': 40, 'prompt': 'What is spontaneous symmetry breaking?', 'A': 'Spontaneous symmetry breaking occurs when the action of a theory has no symmetry, but the vacuum state has a symmetry. In that case, there will exist a local operator that is non-invariant under the symmetry, giving it a nonzero vacuum expectation value.', 'B': 'Spontaneous symmetry breaking occurs when the action of a theory has a symmetry, and the vacuum state also has the same symmetry. In that case, there will exist a local operator that is invariant under the symmetry, giving it a zero vacuum expectation value.', 'C': 'Spontaneous symmetry breaking occurs when the action of a theory has no symmetry, and the vacuum state also has no symmetry. In that case, there will exist a local operator that is invariant under the symmetry, giving it a zero vacuum expectation value.', 'D': 'Spontaneous symmetry breaking occurs when the action of a theory has a symmetry, but the vacuum state violates this symmetry. In that case, there will exist a local operator that is invariant under the symmetry, giving it a zero vacuum expectation value.', 'E': 'Spontaneous symmetry breaking occurs when the action of a theory has a symmetry, but the vacuum state violates this symmetry. In that case, there will exist a local operator that is non-invariant under the symmetry, giving it a nonzero vacuum expectation value.', 'answer': 'E'}\n",
            "{'id': 41, 'prompt': 'What is the proper distance for a redshift of 8.2?', 'A': 'The proper distance for a redshift of 8.2 is about 6.2 Gpc, or about 24 billion light-years.', 'B': 'The proper distance for a redshift of 8.2 is about 7.2 Gpc, or about 26 billion light-years.', 'C': 'The proper distance for a redshift of 8.2 is about 9.2 Gpc, or about 30 billion light-years.', 'D': 'The proper distance for a redshift of 8.2 is about 8.2 Gpc, or about 28 billion light-years.', 'E': 'The proper distance for a redshift of 8.2 is about 10.2 Gpc, or about 32 billion light-years.', 'answer': 'C'}\n",
            "{'id': 42, 'prompt': 'Who was the first to determine the velocity of a star moving away from the Earth using the Doppler effect?', 'A': 'Fraunhofer', 'B': 'William Huggins', 'C': 'Hippolyte Fizeau', 'D': 'Vogel and Scheiner', 'E': 'None of the above', 'answer': 'B'}\n",
            "{'id': 43, 'prompt': 'What is the information loss paradox in black holes?', 'A': 'Black holes have an infinite number of internal parameters, so all the information about the matter that went into forming the black hole is preserved. Regardless of the type of matter which goes into a black hole, it appears that all the information is conserved. As black holes evaporate by emitting Hawking radiation, the information is lost forever.', 'B': 'Black holes have an infinite number of internal parameters, so all the information about the matter that went into forming the black hole is preserved. Regardless of the type of matter which goes into a black hole, it appears that all the information is conserved. As black holes evaporate by emitting Hawking radiation, the information is lost temporarily but reappears once the black hole has fully evaporated.', 'C': 'Black holes have only a few internal parameters, so most of the information about the matter that went into forming the black hole is lost. Regardless of the type of matter which goes into a black hole, it appears that only information concerning the total mass, charge, and angular momentum are conserved. As black holes evaporate by emitting Hawking radiation, the information is lost forever.', 'D': 'Black holes have only a few internal parameters, so most of the information about the matter that went into forming the black hole is lost. Regardless of the type of matter which goes into a black hole, it appears that only information concerning the total mass, charge, and angular momentum are conserved. As black holes evaporate by emitting Hawking radiation, the information is preserved and reappears once the black hole has fully evaporated.', 'E': 'Black holes have only a few internal parameters, so most of the information about the matter that went into forming the black hole is preserved. Regardless of the type of matter which goes into a black hole, it appears that all the information is conserved. As black holes evaporate by emitting Hawking radiation, the information is preserved and reappears once the black hole has fully evaporated.', 'answer': 'C'}\n",
            "{'id': 44, 'prompt': 'What is the Kutta condition?', 'A': 'The Kutta condition is a physical requirement that the fluid moving along the lower and upper surfaces of an airfoil meet smoothly, with no fluid moving around the trailing edge of the airfoil.', 'B': 'The Kutta condition is a physical requirement that the fluid moving along the lower and upper surfaces of an airfoil meet smoothly, with no fluid moving around the leading edge of the airfoil.', 'C': 'The Kutta condition is a mathematical requirement that the loop used in applying the Kutta-Joukowski theorem must be chosen outside the boundary layer of the airfoil.', 'D': 'The Kutta condition is a mathematical requirement that the flow can be assumed inviscid in the entire region outside the airfoil provided the Reynolds number is large and the angle of attack is small.', 'E': 'The Kutta condition is a physical requirement that the circulation calculated using the loop corresponding to the surface of the airfoil must be zero for a viscous fluid.', 'answer': 'A'}\n",
            "{'id': 45, 'prompt': 'What is classical mechanics?', 'A': 'Classical mechanics is the branch of physics that describes the motion of macroscopic objects using concepts such as mass, acceleration, and force. It is based on a three-dimensional Euclidean space with fixed axes, and utilises many equations and mathematical concepts to relate physical quantities to one another.', 'B': 'Classical mechanics is the branch of physics that describes the motion of microscopic objects using concepts such as energy, momentum, and wave-particle duality. It is based on a four-dimensional space-time continuum and utilises many equations and mathematical concepts to relate physical quantities to one another.', 'C': 'Classical mechanics is the branch of physics that studies the behaviour of subatomic particles such as electrons and protons. It is based on the principles of quantum mechanics and utilises many equations and mathematical concepts to describe the properties of these particles.', 'D': 'Classical mechanics is the branch of physics that studies the behaviour of light and electromagnetic radiation. It is based on the principles of wave-particle duality and utilises many equations and mathematical concepts to describe the properties of light.', 'E': 'Classical mechanics is the branch of physics that studies the behaviour of fluids and gases. It is based on the principles of thermodynamics and utilises many equations and mathematical concepts to describe the properties of these substances.', 'answer': 'A'}\n",
            "{'id': 46, 'prompt': 'Who shared the other half of the Nobel Prize with Yoichiro Nambu for discovering the origin of the explicit breaking of CP symmetry in the weak interactions?', 'A': 'Richard Feynman and Julian Schwinger', 'B': 'Makoto Kobayashi and Toshihide Maskawa', 'C': 'Steven Weinberg and Sheldon Glashow', 'D': 'Peter Higgs and Francois Englert', 'E': 'Murray Gell-Mann and George Zweig', 'answer': 'B'}\n",
            "{'id': 47, 'prompt': 'What are some models that attempt to account for all observations without invoking supplemental non-baryonic matter?', 'A': 'The Doppler effect, the photoelectric effect, or the Compton effect.', 'B': 'The Higgs boson, the W boson, or the Z boson.', 'C': 'Modified Newtonian dynamics, tensor–vector–scalar gravity, or entropic gravity.', 'D': 'The strong nuclear force, the weak nuclear force, or the electromagnetic force.', 'E': \"Kepler's laws, Newton's laws, or Einstein's theory of general relativity.\", 'answer': 'C'}\n",
            "{'id': 48, 'prompt': 'What is the purpose of the proximity-focusing design in a RICH detector?', 'A': 'To emit a cone of Askaryan radiation that traverses a small distance and is detected on the photon detector plane, creating a ring of light whose radius is defined by the Cherenkov emission angle and the proximity gap.', 'B': 'To emit a cone of Bremsstrahlung radiation that traverses a large distance and is detected on the photon detector plane, creating a ring of light whose radius is defined by the Cherenkov emission angle and the proximity gap.', 'C': 'To emit a cone of Cherenkov light that traverses a large distance and is detected on the photon detector plane, creating a ring of light whose radius is defined by the Cherenkov emission angle and the proximity gap.', 'D': 'To emit a cone of Cherenkov light that traverses a small distance and is detected on the photon detector plane, creating a ring of light whose radius is defined by the Cherenkov emission angle and the proximity gap.', 'E': 'To emit a cone of Bremsstrahlung radiation that traverses a small distance and is detected on the photon detector plane, creating a ring of light whose radius is defined by the Cherenkov emission angle and the proximity gap.', 'answer': 'D'}\n",
            "{'id': 49, 'prompt': 'What is a light-year?', 'A': 'A unit of time used to express astronomical distances that is equivalent to the time that an object moving at the speed of light in vacuum would take to travel in one Julian year: approximately 9.46 trillion seconds (9.46×1012 s) or 5.88 trillion minutes (5.88×1012 min).', 'B': 'A unit of length used to express astronomical distances that is equivalent to the distance that an object moving at the speed of light in vacuum would travel in one Julian year: approximately 9.46 trillion kilometres (9.46×1012 km) or 5.88 trillion miles (5.88×1012 mi).', 'C': 'A unit of temperature used to express astronomical distances that is equivalent to the temperature of an object moving at the speed of light in vacuum in one Julian year: approximately 9.46 trillion Kelvin (9.46×1012 K) or 5.88 trillion Celsius (5.88×1012 °.', 'D': 'A unit of energy used to express astronomical distances that is equivalent to the energy of an object moving at the speed of light in vacuum in one Julian year: approximately 9.46 trillion joules (9.46×1012 J) or 5.88 trillion watt-hours (5.88×1012 Wh).', 'E': 'A unit of mass used to express astronomical distances that is equivalent to the mass of an object moving at the speed of light in vacuum in one Julian year: approximately 9.46 trillion kilograms (9.46×1012 kg) or 5.88 trillion pounds (5.88×1012 lb).', 'answer': 'B'}\n",
            "{'id': 50, 'prompt': 'What is the main advantage of ferroelectric memristors?', 'A': 'Ferroelectric memristors have a higher resistance than other types of memristors, making them more suitable for high-power applications.', 'B': 'Ferroelectric domain dynamics can be tuned, allowing for the engineering of memristor response, and resistance variations are due to purely electronic phenomena, making the device more reliable.', 'C': 'Ferroelectric memristors have a more complex structure than other types of memristors, allowing for a wider range of applications.', 'D': 'Ferroelectric memristors have a unique piezoelectric field that allows for the creation of non-uniform elastic strain and a more stable structure.', 'E': 'Ferroelectric memristors are based on vertically aligned carbon nanotubes, which offer a more efficient and faster switching mechanism than other materials.', 'answer': 'B'}\n",
            "{'id': 51, 'prompt': 'What is the term used to describe the conduction that occurs in non-crystalline semiconductors by charges quantum tunnelling from one localised site to another?', 'A': 'Intrinsic semiconductors', 'B': 'Electrical impedance tomography', 'C': 'Quantum conduction', 'D': 'Carrier mobility', 'E': 'Variable range hopping', 'answer': 'E'}\n",
            "{'id': 52, 'prompt': 'What is resistivity?', 'A': \"Resistivity is an extrinsic property of a material that describes how difficult it is to make electrical current flow through it. It is measured in ohms and is dependent on the material's shape and size.\", 'B': \"Resistivity is a measure of the resistance of a material to electrical current flow. It is measured in ohm-meters and is dependent on the material's shape and size.\", 'C': \"Resistivity is an intrinsic property of a material that describes how difficult it is to make electrical current flow through it. It is measured in ohm-meters and is independent of the material's shape and size.\", 'D': \"Resistivity is a measure of the electrical current that can flow through a material. It is measured in ohms and is dependent on the material's shape and size.\", 'E': \"Resistivity is a measure of the electrical current that can flow through a material. It is measured in ohm-meters and is independent of the material's shape and size.\", 'answer': 'C'}\n",
            "{'id': 53, 'prompt': 'What did Newton adopt after his correspondence with Hooke in 1679-1680?', 'A': 'The language of inward or centripetal force.', 'B': 'The language of gravitational force.', 'C': 'The language of outward or centrifugal force.', 'D': 'The language of tangential and radial displacements.', 'E': 'The language of electromagnetic force.', 'answer': 'A'}\n",
            "{'id': 54, 'prompt': \"What is the metallicity of Kapteyn's star estimated to be?\", 'A': '8 times more than the Sun', 'B': '8 times less than the Sun', 'C': '13 light years away from Earth', 'D': 'Unknown', 'E': 'Equal to the Sun', 'answer': 'B'}\n",
            "{'id': 55, 'prompt': 'What is the SI base unit of time and how is it defined?', 'A': 'The SI base unit of time is the week, which is defined by measuring the electronic transition frequency of caesium atoms.', 'B': 'The SI base unit of time is the second, which is defined by measuring the electronic transition frequency of caesium atoms.', 'C': 'The SI base unit of time is the hour, which is defined by measuring the electronic transition frequency of caesium atoms.', 'D': 'The SI base unit of time is the day, which is defined by measuring the electronic transition frequency of caesium atoms.', 'E': 'The SI base unit of time is the minute, which is defined by measuring the electronic transition frequency of caesium atoms.', 'answer': 'B'}\n",
            "{'id': 56, 'prompt': 'What is a planetary system?', 'A': 'A system of planets that are all located in the same solar system.', 'B': 'A system of planets that are all the same size and shape.', 'C': 'Any set of gravitationally bound non-stellar objects in or out of orbit around a star or star system.', 'D': 'A system of planets that are all located in the same galaxy.', 'E': 'A system of planets that are all made of gas.', 'answer': 'C'}\n",
            "{'id': 57, 'prompt': 'What is the result of the collapse of a cavitation bubble?', 'A': 'The collapse of a cavitation bubble causes the surrounding liquid to expand, resulting in the formation of a low-pressure vapor bubble.', 'B': 'The collapse of a cavitation bubble causes a decrease in pressure and temperature of the vapor within, releasing a small amount of energy in the form of an acoustic shock wave and visible light.', 'C': 'The collapse of a cavitation bubble causes a sharp increase in pressure and temperature of the vapor within, releasing a significant amount of energy in the form of an acoustic shock wave and visible light.', 'D': 'The collapse of a cavitation bubble causes the surrounding liquid to implode, resulting in the formation of a vacuum.', 'E': 'The collapse of a cavitation bubble has no effect on the surrounding liquid or vapor.', 'answer': 'C'}\n",
            "{'id': 58, 'prompt': 'Who was Giordano Bruno?', 'A': 'A German philosopher who supported the Keplerian theory that planets move in elliptical orbits around the Sun and believed that fixed stars are similar to the Sun but have different designs and are not subject to the dominion of One.', 'B': 'An English philosopher who supported the Ptolemaic theory that Earth is the center of the universe and believed that fixed stars are not similar to the Sun and do not have planets orbiting them.', 'C': 'A French philosopher who supported the Aristotelian theory that Earth is at the center of the universe and believed that fixed stars are similar to the Sun but do not have planets orbiting them.', 'D': 'An Italian philosopher who supported the Copernican theory that Earth and other planets orbit the Sun and believed that fixed stars are similar to the Sun and have planets orbiting them.', 'E': 'A Spanish philosopher who supported the Galilean theory that Earth and other planets orbit the Sun and believed that fixed stars are not similar to the Sun and do not have planets orbiting them.', 'answer': 'D'}\n",
            "{'id': 59, 'prompt': 'What are the Navier-Stokes equations?', 'A': 'The Navier-Stokes equations are partial differential equations that describe the motion of viscous fluid substances, expressing momentum balance and conservation of mass for Newtonian fluids.', 'B': 'The Navier-Stokes equations are partial differential equations that describe the motion of viscous fluid substances, expressing momentum balance and conservation of mass for non-Newtonian fluids.', 'C': 'The Navier-Stokes equations are partial differential equations that describe the motion of non-viscous fluid substances, expressing momentum balance and conservation of mass for Newtonian fluids.', 'D': 'The Navier-Stokes equations are algebraic equations that describe the motion of non-viscous fluid substances, expressing momentum balance and conservation of mass for Newtonian fluids.', 'E': 'The Navier-Stokes equations are algebraic equations that describe the motion of viscous fluid substances, expressing momentum balance and conservation of mass for Newtonian fluids.', 'answer': 'A'}\n",
            "{'id': 60, 'prompt': \"What is the revised view of the atmosphere's nature based on the time-varying multistability that is associated with the modulation of large-scale processes and aggregated feedback of small-scale processes?\", 'A': 'The atmosphere is a system that is only influenced by large-scale processes and does not exhibit any small-scale feedback.', 'B': 'The atmosphere possesses both chaos and order, including emerging organized systems and time-varying forcing from recurrent seasons.', 'C': 'The atmosphere is a system that is only influenced by small-scale processes and does not exhibit any large-scale modulation.', 'D': 'The atmosphere is a completely chaotic system with no order or organization.', 'E': 'The atmosphere is a completely ordered system with no chaos or randomness.', 'answer': 'B'}\n",
            "{'id': 61, 'prompt': 'What is the reason that it is nearly impossible to see light emitted at the Lyman-alpha transition wavelength from a star farther than a few hundred light years from Earth?', 'A': 'Far ultraviolet light is absorbed effectively by the charged components of the ISM, including atomic helium, which has a typical absorption wavelength of about 121.5 nanometers, the Lyman-alpha transition.', 'B': 'Far ultraviolet light is absorbed effectively by the neutral components of the ISM, including atomic hydrogen, which has a typical absorption wavelength of about 121.5 nanometers, the Lyman-alpha transition.', 'C': 'Far ultraviolet light is absorbed effectively by the charged components of the ISM, including atomic hydrogen, which has a typical absorption wavelength of about 121.5 nanometers, the Lyman-alpha transition.', 'D': 'Far ultraviolet light is absorbed effectively by the neutral components of the ISM, including atomic helium, which has a typical absorption wavelength of about 121.5 nanometers, the Lyman-alpha transition.', 'E': 'Far ultraviolet light is absorbed effectively by the neutral components of the ISM, including atomic hydrogen, which has a typical absorption wavelength of about 212.5 nanometers, the Lyman-alpha transition.', 'answer': 'B'}\n",
            "{'id': 62, 'prompt': 'What is a Schwarzschild black hole?', 'A': \"A black hole that has mass but neither electric charge nor angular momentum, and is not spherically symmetric, according to Birkhoff's theorem.\", 'B': \"A black hole that has mass, electric charge, and angular momentum, and is spherically symmetric, according to Birkhoff's theorem.\", 'C': \"A black hole that has mass but neither electric charge nor angular momentum, and is spherically symmetric, according to Birkhoff's theorem.\", 'D': \"A black hole that has neither mass nor electric charge nor angular momentum, and is not spherically symmetric, according to Birkhoff's theorem.\", 'E': \"A black hole that has mass, electric charge, and angular momentum, and is not spherically symmetric, according to Birkhoff's theorem.\", 'answer': 'C'}\n",
            "{'id': 63, 'prompt': 'What is the definition of Atomristor?', 'A': 'Atomristor is a flexible memristive device comprising a MoOx/MoS2 heterostructure sandwiched between silver electrodes on a plastic foil.', 'B': 'Atomristor is a prominent memcapacitive effect observed in switches with memristive behavior.', 'C': 'Atomristor is defined as the electrical devices showing memristive behavior in atomically thin nanomaterials or atomic sheets.', 'D': 'Atomristor is a printing and solution-processing technology used to fabricate memristive devices.', 'E': 'Atomristor is a type of two-dimensional layered transition metal dichalcogenides (TMDs) used in the fabrication of memristive devices.', 'answer': 'C'}\n",
            "{'id': 64, 'prompt': 'Who published the first theory that was able to encompass previously separate field theories to provide a unifying theory of electromagnetism?', 'A': 'Maxwell', 'B': 'Einstein', 'C': 'Galileo', 'D': 'Faraday', 'E': 'Newton', 'answer': 'A'}\n",
            "{'id': 65, 'prompt': \"What is the relevant type of coherence for the Young's double-slit interferometer?\", 'A': 'Visibility', 'B': 'Coherence time', 'C': 'Spatial coherence', 'D': 'Coherence length', 'E': 'Diameter of the coherence area (Ac)', 'answer': 'E'}\n",
            "{'id': 66, 'prompt': 'What is the Peierls bracket in canonical quantization?', 'A': 'The Peierls bracket is a mathematical symbol used to represent the Poisson algebra in the canonical quantization method.', 'B': 'The Peierls bracket is a mathematical tool used to generate the Hamiltonian in the canonical quantization method.', 'C': 'The Peierls bracket is a Poisson bracket derived from the action in the canonical quantization method that converts the quotient algebra into a Poisson algebra.', 'D': 'The Peierls bracket is a mathematical symbol used to represent the quotient algebra in the canonical quantization method.', 'E': 'The Peierls bracket is a mathematical tool used to generate the Euler-Lagrange equations in the canonical quantization method.', 'answer': 'C'}\n",
            "{'id': 67, 'prompt': \"What is the isophotal diameter used for in measuring a galaxy's size?\", 'A': \"The isophotal diameter is a way of measuring a galaxy's distance from Earth.\", 'B': \"The isophotal diameter is a measure of a galaxy's age.\", 'C': \"The isophotal diameter is a measure of a galaxy's mass.\", 'D': \"The isophotal diameter is a measure of a galaxy's temperature.\", 'E': \"The isophotal diameter is a conventional way of measuring a galaxy's size based on its apparent surface brightness.\", 'answer': 'E'}\n",
            "{'id': 68, 'prompt': \"What is the Maxwell's Demon thought experiment?\", 'A': 'A thought experiment in which a demon guards a microscopic trapdoor in a wall separating two parts of a container filled with different gases at equal temperatures. The demon selectively allows molecules to pass from one side to the other, causing an increase in temperature in one part and a decrease in temperature in the other, contrary to the second law of thermodynamics.', 'B': 'A thought experiment in which a demon guards a macroscopic trapdoor in a wall separating two parts of a container filled with different gases at different temperatures. The demon selectively allows molecules to pass from one side to the other, causing a decrease in temperature in one part and an increase in temperature in the other, in accordance with the second law of thermodynamics.', 'C': 'A thought experiment in which a demon guards a microscopic trapdoor in a wall separating two parts of a container filled with the same gas at equal temperatures. The demon selectively allows faster-than-average molecules to pass from one side to the other, causing a decrease in temperature in one part and an increase in temperature in the other, contrary to the second law of thermodynamics.', 'D': 'A thought experiment in which a demon guards a macroscopic trapdoor in a wall separating two parts of a container filled with the same gas at equal temperatures. The demon selectively allows faster-than-average molecules to pass from one side to the other, causing an increase in temperature in one part and a decrease in temperature in the other, contrary to the second law of thermodynamics.', 'E': 'A thought experiment in which a demon guards a microscopic trapdoor in a wall separating two parts of a container filled with the same gas at different temperatures. The demon selectively allows slower-than-average molecules to pass from one side to the other, causing a decrease in temperature in one part and an increase in temperature in the other, in accordance with the second law of thermodynamics.', 'answer': 'C'}\n",
            "{'id': 69, 'prompt': 'What is the application of Memristor?', 'A': 'Memristor has applications in the production of electric cars, airplanes, and ships.', 'B': 'Memristor has applications in the production of food, clothing, and shelter.', 'C': 'Memristor has applications in the production of solar panels, wind turbines, and hydroelectric power plants.', 'D': 'Memristor has applications in programmable logic signal processing, Super-resolution imaging, physical neural networks, control systems, reconfigurable computing, in-memory computing, brain–computer interfaces and RFID.', 'E': 'Memristor has applications in optical fiber communication, satellite communication, and wireless communication.', 'answer': 'D'}\n",
            "{'id': 70, 'prompt': 'What is the effect generated by a spinning superconductor?', 'A': 'An electric field, precisely aligned with the spin axis.', 'B': 'A magnetic field, randomly aligned with the spin axis.', 'C': 'A magnetic field, precisely aligned with the spin axis.', 'D': 'A gravitational field, randomly aligned with the spin axis.', 'E': 'A gravitational field, precisely aligned with the spin axis.', 'answer': 'C'}\n",
            "{'id': 71, 'prompt': 'What is the main focus of cryogenic and noble liquid detectors in dark matter experiments?', 'A': 'Distinguishing background particles from dark matter particles by detecting the heat produced when a particle hits an atom in a crystal absorber or the scintillation produced by a particle collision in liquid xenon or argon.', 'B': 'Detecting the heat produced when a particle hits an atom in a crystal absorber or the scintillation produced by a particle collision in liquid xenon or argon to determine the mass and interaction cross section with electrons of dark matter particles.', 'C': 'Detecting the heat produced when a particle hits an atom in a crystal absorber or the scintillation produced by a particle collision in liquid xenon or argon to distinguish between different types of background particles.', 'D': 'Detecting the heat produced when a particle hits an atom in a crystal absorber or the scintillation produced by a particle collision in liquid xenon or argon to determine the mass and interaction cross section with nucleons of dark matter particles.', 'E': 'Detecting the mass and interaction cross section with nucleons of dark matter particles by detecting the heat produced when a particle hits an atom in a crystal absorber or the scintillation produced by a particle collision in liquid xenon or argon.', 'answer': 'A'}\n",
            "{'id': 72, 'prompt': 'What is a pycnometer?', 'A': 'A device used to measure the density of a gas.', 'B': 'A device used to measure the mass of a liquid.', 'C': 'A device used to measure the volume of a gas.', 'D': 'A device used to determine the density of a liquid.', 'E': 'A device used to determine the volume of a liquid.', 'answer': 'D'}\n",
            "{'id': 73, 'prompt': 'What is the estimated redshift of CEERS-93316, a candidate high-redshift galaxy observed by the James Webb Space Telescope?', 'A': 'Approximately z = 6.0, corresponding to 1 billion years after the Big Bang.', 'B': 'Approximately z = 16.7, corresponding to 235.8 million years after the Big Bang.', 'C': 'Approximately z = 3.0, corresponding to 5 billion years after the Big Bang.', 'D': 'Approximately z = 10.0, corresponding to 13 billion years after the Big Bang.', 'E': 'Approximately z = 13.0, corresponding to 30 billion light-years away from Earth.', 'answer': 'B'}\n",
            "{'id': 74, 'prompt': 'What is bollard pull primarily used for measuring?', 'A': 'The weight of heavy machinery', 'B': 'The speed of locomotives', 'C': 'The distance traveled by a truck', 'D': 'The strength of tugboats', 'E': 'The height of a ballast tractor', 'answer': 'D'}\n",
            "{'id': 75, 'prompt': 'What is the piezoelectric strain coefficient for AT-cut quartz crystals?', 'A': 'd = 1.9·10‑12 m/V', 'B': 'd = 3.1·10‑12 m/V', 'C': 'd = 4.2·10‑12 m/V', 'D': 'd = 2.5·10‑12 m/V', 'E': 'd = 5.8·10‑12 m/V', 'answer': 'B'}\n",
            "{'id': 76, 'prompt': 'What is the difference between probability mass function (PMF) and probability density function (PDF)?', 'A': 'PMF is used only for continuous random variables, while PDF is used for both continuous and discrete random variables.', 'B': 'PMF is used for both continuous and discrete random variables, while PDF is used only for continuous random variables.', 'C': 'PMF is used for continuous random variables, while PDF is used for discrete random variables.', 'D': 'PMF is used for discrete random variables, while PDF is used for continuous random variables.', 'E': 'PMF and PDF are interchangeable terms used for the same concept in probability theory.', 'answer': 'D'}\n",
            "{'id': 77, 'prompt': 'How do the Lunar Laser Ranging Experiment, radar astronomy, and the Deep Space Network determine distances to the Moon, planets, and spacecraft?', 'A': 'They determine the values of electromagnetic constants.', 'B': 'They measure round-trip transit times.', 'C': 'They measure the actual speed of light waves.', 'D': 'They use interferometry to determine the speed of light.', 'E': 'They separately determine the frequency and wavelength of a light beam.', 'answer': 'B'}\n",
            "{'id': 78, 'prompt': 'What is the Ozma Problem?', 'A': 'The Ozma Problem is a chapter in a book that discusses the versatility of carbon and chirality in biochemistry.', 'B': 'The Ozma Problem is a discussion about time invariance and reversal in particle physics, theoretical physics, and cosmology.', 'C': 'The Ozma Problem is a conundrum that examines whether there is any fundamental asymmetry to the universe. It concerns various aspects of atomic and subatomic physics and how they relate to mirror asymmetry and the related concepts of chirality, antimatter, magnetic and electrical polarity, parity, charge and spin.', 'D': 'The Ozma Problem is a measure of how symmetry and asymmetry have evolved from the beginning of life on Earth.', 'E': 'The Ozma Problem is a comparison between the level of a desired signal and the level of background noise used in science and engineering.', 'answer': 'C'}\n",
            "{'id': 79, 'prompt': 'What is a Hilbert space in quantum mechanics?', 'A': 'A complex vector space where the state of a classical mechanical system is described by a vector |Ψ⟩.', 'B': 'A physical space where the state of a classical mechanical system is described by a vector |Ψ⟩.', 'C': 'A physical space where the state of a quantum mechanical system is described by a vector |Ψ⟩.', 'D': 'A mathematical space where the state of a classical mechanical system is described by a vector |Ψ⟩.', 'E': 'A complex vector space where the state of a quantum mechanical system is described by a vector |Ψ⟩.', 'answer': 'E'}\n",
            "{'id': 80, 'prompt': 'What is the significance of the speed of light in vacuum?', 'A': 'The speed of light in vacuum is only relevant when measuring the one-way speed of light.', 'B': 'The speed of light in vacuum is only relevant when measuring the two-way speed of light.', 'C': \"The speed of light in vacuum is independent of the motion of the wave source and the observer's inertial frame of reference.\", 'D': \"The speed of light in vacuum is dependent on the motion of the wave source and the observer's inertial frame of reference.\", 'E': 'The speed of light in vacuum is only relevant when c appears explicitly in the units of measurement.', 'answer': 'C'}\n",
            "{'id': 81, 'prompt': 'What is the term used to describe the proportionality factor to the Stefan-Boltzmann law that is utilized in subsequent evaluations of the radiative behavior of grey bodies?', 'A': 'Emissivity', 'B': \"Wien's displacement law\", 'C': 'Reflectance', 'D': 'Black-body radiation', 'E': 'Albedo', 'answer': 'A'}\n",
            "{'id': 82, 'prompt': 'What is the reason for the formation of stars exclusively within molecular clouds?', 'A': 'The formation of stars occurs exclusively outside of molecular clouds.', 'B': 'The low temperatures and high densities of molecular clouds cause the gravitational force to exceed the internal pressures that are acting \"outward\" to prevent a collapse.', 'C': 'The low temperatures and low densities of molecular clouds cause the gravitational force to be less than the internal pressures that are acting \"outward\" to prevent a collapse.', 'D': 'The high temperatures and low densities of molecular clouds cause the gravitational force to exceed the internal pressures that are acting \"outward\" to prevent a collapse.', 'E': 'The high temperatures and high densities of molecular clouds cause the gravitational force to be less than the internal pressures that are acting \"outward\" to prevent a collapse.', 'answer': 'B'}\n",
            "{'id': 83, 'prompt': 'What is the identity operation in symmetry groups?', 'A': 'The identity operation leaves the molecule unchanged and forms the identity element in the symmetry group.', 'B': 'The identity operation rotates the molecule about its center of mass.', 'C': 'The identity operation inverts the molecule about its center of inversion.', 'D': 'The identity operation reflects the molecule across a plane of symmetry.', 'E': 'The identity operation translates the molecule in 3-D space.', 'answer': 'A'}\n",
            "{'id': 84, 'prompt': 'What is a regular polytope?', 'A': 'A regular polytope is a geometric shape whose symmetry group is transitive on its diagonals.', 'B': 'A regular polytope is a geometric shape whose symmetry group is transitive on its vertices.', 'C': 'A regular polytope is a geometric shape whose symmetry group is transitive on its flags.', 'D': 'A regular polytope is a geometric shape whose symmetry group is transitive on its edges.', 'E': 'A regular polytope is a geometric shape whose symmetry group is transitive on its faces.', 'answer': 'C'}\n",
            "{'id': 85, 'prompt': 'What is the reason behind the largest externally observed electrical effects when two conductors are separated by the smallest distance without touching?', 'A': 'The surface charge on a conductor depends on the magnitude of the electric field, which in turn depends on the temperature between the surfaces.', 'B': 'The surface charge on a conductor depends on the magnitude of the magnetic field, which in turn depends on the distance between the surfaces.', 'C': 'The surface charge on a conductor depends on the magnitude of the electric field, which in turn depends on the angle between the surfaces.', 'D': 'The surface charge on a conductor depends on the magnitude of the electric field, which in turn depends on the distance between the surfaces.', 'E': 'The surface charge on a conductor depends on the magnitude of the electric field, which in turn depends on the pressure between the surfaces.', 'answer': 'D'}\n",
            "{'id': 86, 'prompt': 'What is the formalism that angular momentum is associated with in rotational invariance?', 'A': 'Angular momentum is the 1-form Noether charge associated with rotational invariance.', 'B': 'Angular momentum is the 3-form Noether charge associated with rotational invariance.', 'C': 'Angular momentum is the 5-form Noether charge associated with rotational invariance.', 'D': 'Angular momentum is the 2-form Noether charge associated with rotational invariance.', 'E': 'Angular momentum is the 4-form Noether charge associated with rotational invariance.', 'answer': 'D'}\n",
            "{'id': 87, 'prompt': 'Which hand should be used to apply the right-hand rule when tightening or loosening nuts, screws, bolts, bottle caps, and jar lids?', 'A': \"One's dominant hand\", 'B': 'The right hand', 'C': 'Both hands', 'D': 'The left hand', 'E': 'Either hand', 'answer': 'B'}\n",
            "{'id': 88, 'prompt': 'What is the Minkowski diagram used for?', 'A': 'The Minkowski diagram is used to define concepts and demonstrate properties of Newtonian mechanics and to provide geometrical interpretation to the generalization of Lorentz transformations to relativistic mechanics.', 'B': 'The Minkowski diagram is used to define concepts and demonstrate properties of general relativity and to provide geometrical interpretation to the generalization of special relativity to relativistic mechanics.', 'C': 'The Minkowski diagram is used to define concepts and demonstrate properties of Lorentz transformations and to provide geometrical interpretation to the generalization of quantum mechanics to relativistic mechanics.', 'D': 'The Minkowski diagram is used to define concepts and demonstrate properties of special relativity and to provide geometrical interpretation to the generalization of general relativity to relativistic mechanics.', 'E': 'The Minkowski diagram is used to define concepts and demonstrate properties of Lorentz transformations and to provide geometrical interpretation to the generalization of Newtonian mechanics to relativistic mechanics.', 'answer': 'E'}\n",
            "{'id': 89, 'prompt': 'What are the two main interpretations for the disparity between the presence of matter and antimatter in the observable universe?', 'A': 'The universe began with a small preference for matter, or it was originally perfectly asymmetric, but a set of phenomena contributed to a small imbalance in favor of antimatter over time.', 'B': 'The universe began with a small preference for antimatter, or it was originally perfectly symmetric, but a set of phenomena contributed to a small imbalance in favor of antimatter over time.', 'C': 'The universe began with equal amounts of matter and antimatter, or it was originally perfectly symmetric, but a set of phenomena contributed to a small imbalance in favor of antimatter over time.', 'D': 'The universe began with a small preference for matter, or it was originally perfectly symmetric, but a set of phenomena contributed to a small imbalance in favor of matter over time.', 'E': 'The universe began with equal amounts of matter and antimatter, or it was originally perfectly asymmetric, but a set of phenomena contributed to a small imbalance in favor of matter over time.', 'answer': 'D'}\n",
            "{'id': 90, 'prompt': 'What is the Ramsauer-Townsend effect?', 'A': 'The Ramsauer-Townsend effect is a physical phenomenon that involves the scattering of low-energy electrons by atoms of a non-noble gas. It can be explained by classical mechanics.', 'B': 'The Ramsauer-Townsend effect is a physical phenomenon that involves the scattering of low-energy electrons by atoms of a noble gas. It requires the wave theory of quantum mechanics to be explained.', 'C': 'The Ramsauer-Townsend effect is a physical phenomenon that involves the scattering of high-energy electrons by atoms of a noble gas. It can be explained by classical mechanics.', 'D': 'The Ramsauer-Townsend effect is a physical phenomenon that involves the scattering of high-energy electrons by atoms of a non-noble gas. It requires the wave theory of quantum mechanics to be explained.', 'E': 'The Ramsauer-Townsend effect is a physical phenomenon that involves the scattering of electrons by atoms of any gas. It can be explained by classical mechanics.', 'answer': 'B'}\n",
            "{'id': 91, 'prompt': 'What is Minkowski space?', 'A': 'Minkowski space is a physical space where objects move in a straight line unless acted upon by a force.', 'B': 'Minkowski space is a mathematical model that combines inertial space and time manifolds with a non-inertial reference frame of space and time into a four-dimensional model relating a position to the field.', 'C': 'Minkowski space is a mathematical model that combines space and time into a two-dimensional model relating a position to the field.', 'D': 'Minkowski space is a mathematical model that combines space and time into a three-dimensional model relating a position to the field.', 'E': 'Minkowski space is a physical space where objects move in a curved line unless acted upon by a force.', 'answer': 'B'}\n",
            "{'id': 92, 'prompt': 'What is the Optical Signal-to-Noise Ratio (OSNR)?', 'A': 'The Optical Signal-to-Noise Ratio (OSNR) is the ratio between the modulation frequency and the carrier frequency of an optical signal, used to describe the signal quality in systems where dynamic range is less than 6.02m.', 'B': 'The Optical Signal-to-Noise Ratio (OSNR) is the ratio between the signal power and the noise power in a given bandwidth, used to describe the signal quality without taking the receiver into account.', 'C': 'The Optical Signal-to-Noise Ratio (OSNR) is the ratio between the signal power and the noise power in a given bandwidth, used to describe the signal quality in situations where the dynamic range is less than 6.02m.', 'D': 'The Optical Signal-to-Noise Ratio (OSNR) is the ratio between the signal power and the noise power in a fixed bandwidth of 6.02m, used to describe the signal quality in systems where dynamic range is less than 6.02m.', 'E': 'The Optical Signal-to-Noise Ratio (OSNR) is the ratio between the signal power and the noise power in a given bandwidth, used to describe the signal quality in situations where the dynamic range is large or unpredictable.', 'answer': 'B'}\n",
            "{'id': 93, 'prompt': 'What is the interpretation of supersymmetry in stochastic supersymmetric theory?', 'A': 'Supersymmetry is a type of hydromagnetic dynamo that arises when the magnetic field becomes strong enough to affect the fluid motions.', 'B': 'Supersymmetry is a measure of the amplitude of the dynamo in the induction equation of the kinematic approximation.', 'C': 'Supersymmetry is a measure of the strength of the magnetic field in the induction equation of the kinematic dynamo.', 'D': \"Supersymmetry is a property of deterministic chaos that arises from the continuity of the flow in the model's phase space.\", 'E': \"Supersymmetry is an intrinsic property of all stochastic differential equations, and it preserves continuity in the model's phase space via continuous time flows.\", 'answer': 'E'}\n",
            "{'id': 94, 'prompt': \"What is the purpose of expressing a map's scale as a ratio, such as 1:10,000?\", 'A': 'To indicate the use of south-up orientation, as used in Ancient Africa and some maps in Brazil today.', 'B': 'To indicate the orientation of the map, such as whether the 0° meridian is at the top or bottom of the page.', 'C': \"To indicate the projection used to create the map, such as Buckminster Fuller's Dymaxion projection.\", 'D': 'To indicate the arrangement of the map, such as the world map of Gott, Vanderbei, and Goldberg arranged as a pair of disks back-to-back.', 'E': 'To indicate the relationship between the size of the map and the size of the area being represented.', 'answer': 'E'}\n",
            "{'id': 95, 'prompt': 'What is the main sequence in astronomy?', 'A': 'The main sequence is a type of galaxy that contains a large number of stars.', 'B': 'The main sequence is a type of black hole that is formed from the collapse of a massive star.', 'C': 'The main sequence is a continuous and distinctive band of stars that appears on plots of stellar color versus brightness. Stars on this band are known as main-sequence stars or dwarf stars.', 'D': 'The main sequence is a group of planets that orbit around a star in a solar system.', 'E': 'The main sequence is a type of nebula that is formed from the explosion of a supernova.', 'answer': 'C'}\n",
            "{'id': 96, 'prompt': 'Who proposed the concept of \"maximal acceleration\"?', 'A': 'Max Planck', 'B': 'Niels Bohr', 'C': 'Eduardo R. Caianiello', 'D': 'Hideki Yukawa', 'E': 'Albert Einstein', 'answer': 'C'}\n",
            "{'id': 97, 'prompt': 'What is indirect photophoresis?', 'A': 'Indirect photophoresis is a phenomenon that occurs when particles absorb incident light uniformly, creating a temperature gradient within the particle, and causing a migration of particles in a random direction.', 'B': 'Indirect photophoresis is a phenomenon that occurs when particles absorb incident light only on the irradiated side, creating a temperature gradient within the particle, and causing a migration of particles in the same direction as the surface temperature gradient.', 'C': 'Indirect photophoresis is a phenomenon that occurs when particles absorb incident light uniformly, creating a temperature gradient within the particle, and causing a migration of particles in the same direction as the surface temperature gradient.', 'D': 'Indirect photophoresis is a phenomenon that occurs when particles absorb incident light only on the irradiated side, creating a temperature gradient within the particle, and causing a migration of particles in a direction opposite to the surface temperature gradient.', 'E': 'Indirect photophoresis is a phenomenon that occurs when particles absorb incident light uniformly, creating a temperature gradient within the particle, and causing a migration of particles in a direction opposite to the surface temperature gradient.', 'answer': 'D'}\n",
            "{'id': 98, 'prompt': \"What does Earnshaw's theorem state?\", 'A': 'A collection of point charges can be maintained in a stable stationary equilibrium configuration solely by the gravitational interaction of the charges.', 'B': 'A collection of point charges can be maintained in a stable stationary equilibrium configuration solely by the electrostatic interaction of the charges.', 'C': 'A collection of point charges can be maintained in a stable stationary equilibrium configuration solely by the magnetic interaction of the charges, if the magnets are hard.', 'D': 'A collection of point charges cannot be maintained in a stable stationary equilibrium configuration solely by the electrostatic interaction of the charges.', 'E': 'A collection of point charges can be maintained in a stable stationary equilibrium configuration solely by the magnetic interaction of the charges.', 'answer': 'D'}\n",
            "{'id': 99, 'prompt': 'What is radiosity in radiometry?', 'A': 'Radiosity is the radiant flux entering a surface per unit area, including emitted, reflected, and transmitted radiation.', 'B': 'Radiosity is the radiant flux entering a surface per unit area, including absorbed, reflected, and transmitted radiation.', 'C': 'Radiosity is the radiant flux leaving a surface per unit area, including absorbed, reflected, and transmitted radiation.', 'D': 'Radiosity is the radiant flux leaving a surface per unit area, including emitted, reflected, and transmitted radiation.', 'E': 'Radiosity is the radiant flux leaving a surface per unit volume, including emitted, reflected, and transmitted radiation.', 'answer': 'D'}\n",
            "{'id': 100, 'prompt': 'What is a virtual particle?', 'A': 'A particle that is not affected by the strong force.', 'B': 'A particle that is not affected by the weak force.', 'C': 'A particle that is created in a laboratory for experimental purposes.', 'D': 'A particle that is not directly observable but is inferred from its effects on measurable particles.', 'E': 'A particle that is directly observable and can be measured in experiments.', 'answer': 'D'}\n",
            "{'id': 101, 'prompt': 'Who proposed the principle of \"complexity from noise\" and when was it first introduced?', 'A': 'Ilya Prigogine in 1979', 'B': 'Henri Atlan in 1972', 'C': 'Democritus and Lucretius in ancient times', 'D': 'None of the above.', 'E': 'René Descartes in 1637', 'answer': 'B'}\n",
            "{'id': 102, 'prompt': 'What is the order parameter that breaks the electromagnetic gauge symmetry in superconductors?', 'A': 'None of the above.', 'B': 'A thin cylindrical plastic rod.', 'C': 'A condensed-matter collective field ψ.', 'D': 'The cosmic microwave background.', 'E': 'A component of the Higgs field.', 'answer': 'C'}\n",
            "{'id': 103, 'prompt': 'What is the reason for the sun appearing slightly yellowish when viewed from Earth?', 'A': \"The sun appears yellowish due to a reflection of the Earth's atmosphere.\", 'B': 'The longer wavelengths of light, such as red and yellow, are not scattered away and are directly visible when looking towards the sun.', 'C': \"The sun appears yellowish due to the scattering of all colors of light, mainly blue and green, in the Earth's atmosphere.\", 'D': 'The sun emits a yellow light due to its own spectrum, which is visible when viewed from Earth.', 'E': 'The atmosphere absorbs the shorter wavelengths of light, such as blue and red, leaving only the longer wavelengths of light, such as green and yellow, visible when looking towards the sun.', 'answer': 'B'}\n",
            "{'id': 104, 'prompt': 'What is the Landau-Lifshitz-Gilbert equation used for in physics?', 'A': 'The Landau-Lifshitz-Gilbert equation is a differential equation used to describe the precessional motion of magnetization M in a liquid, and is commonly used in micromagnetics to model the effects of a magnetic field on ferromagnetic materials.', 'B': 'The Landau-Lifshitz-Gilbert equation is a differential equation used to describe the precessional motion of magnetization M in a solid, and is commonly used in astrophysics to model the effects of a magnetic field on celestial bodies.', 'C': 'The Landau-Lifshitz-Gilbert equation is a differential equation used to describe the precessional motion of magnetization M in a solid, and is commonly used in micromagnetics to model the effects of a magnetic field on ferromagnetic materials.', 'D': 'The Landau-Lifshitz-Gilbert equation is a differential equation used to describe the precessional motion of magnetization M in a solid, and is commonly used in macro-magnetics to model the effects of a magnetic field on ferromagnetic materials.', 'E': 'The Landau-Lifshitz-Gilbert equation is a differential equation used to describe the precessional motion of magnetization M in a liquid, and is commonly used in macro-magnetics to model the effects of a magnetic field on ferromagnetic materials.', 'answer': 'C'}\n",
            "{'id': 105, 'prompt': 'What is spatial dispersion?', 'A': 'Spatial dispersion is a phenomenon in the physics of continuous media where material parameters such as permittivity or conductivity have dependence on time. It represents memory effects in systems, commonly seen in optics and electronics.', 'B': 'Spatial dispersion is a phenomenon in the physics of continuous media where material parameters such as permittivity or conductivity have dependence on time. It represents spreading effects and is usually significant only at microscopic length scales.', 'C': 'Spatial dispersion is a phenomenon in the physics of continuous media where material parameters such as permittivity or conductivity have no dependence on wavevector. It represents memory effects in systems, commonly seen in optics and electronics.', 'D': 'Spatial dispersion is a phenomenon in the physics of continuous media where material parameters such as permittivity or conductivity have dependence on wavevector. It represents spreading effects and is usually significant only at microscopic length scales.', 'E': 'Spatial dispersion is a phenomenon in the physics of continuous media where material parameters such as permittivity or conductivity have dependence on wavevector. It represents memory effects in systems, commonly seen in optics and electronics.', 'answer': 'D'}\n",
            "{'id': 106, 'prompt': 'What are the constituents of cold dark matter?', 'A': 'They are unknown, but possibilities include large objects like MACHOs or new particles such as WIMPs and axions.', 'B': 'They are known to be black holes and Preon stars.', 'C': 'They are only MACHOs.', 'D': 'They are clusters of brown dwarfs.', 'E': 'They are new particles such as RAMBOs.', 'answer': 'A'}\n",
            "{'id': 107, 'prompt': 'What is the mechanism of FTIR?', 'A': 'The mechanism of FTIR is called ray optics, which is a good analog to visualize quantum tunneling.', 'B': 'The mechanism of FTIR is called scattering, which is a good analog to visualize quantum tunneling.', 'C': 'The mechanism of FTIR is called frustrated TIR, which is a good analog to visualize quantum tunneling.', 'D': 'The mechanism of FTIR is called evanescent-wave coupling, which is a good analog to visualize quantum tunneling.', 'E': 'The mechanism of FTIR is called total internal reflection microscopy, which is a good analog to visualize quantum tunneling.', 'answer': 'D'}\n",
            "{'id': 108, 'prompt': 'What is the origin of the permanent moment in paramagnetism?', 'A': 'The permanent moment is generally due to the spin of unpaired electrons in atomic or molecular electron orbitals.', 'B': 'The permanent moment is due to the alignment of dipoles perpendicular to the applied field.', 'C': 'The permanent moment is due to the torque provided on the magnetic moments by an applied field, which tries to align the dipoles perpendicular to the applied field.', 'D': 'The permanent moment is due to the quantum-mechanical properties of spin and angular momentum.', 'E': 'The permanent moment is due to the interaction of dipoles with one another and are randomly oriented in the absence of an external field due to thermal agitation.', 'answer': 'A'}\n",
            "{'id': 109, 'prompt': \"What is the reason that Newton's second law cannot be used to calculate the development of a physical system in quantum mechanics?\", 'A': 'The existence of particle spin, which is linear momentum that can be described by the cumulative effect of point-like motions in space.', 'B': 'The existence of particle spin, which is angular momentum that is always equal to zero.', 'C': 'The existence of particle spin, which is linear momentum that cannot be described by the cumulative effect of point-like motions in space.', 'D': 'The existence of particle spin, which is angular momentum that cannot be described by the cumulative effect of point-like motions in space.', 'E': 'The existence of particle spin, which is angular momentum that can be described by the cumulative effect of point-like motions in space.', 'answer': 'D'}\n",
            "{'id': 110, 'prompt': 'What is the butterfly effect, as defined by Lorenz in his book \"The Essence of Chaos\"?', 'A': 'The butterfly effect is the phenomenon that a small change in the initial conditions of a dynamical system can cause subsequent states to differ greatly from the states that would have followed without the alteration, as defined by Einstein in his book \"The Theory of Relativity.\"', 'B': 'The butterfly effect is the phenomenon that a large change in the initial conditions of a dynamical system has no effect on subsequent states, as defined by Lorenz in his book \"The Essence of Chaos.\"', 'C': 'The butterfly effect is the phenomenon that a small change in the initial conditions of a dynamical system can cause significant differences in subsequent states, as defined by Lorenz in his book \"The Essence of Chaos.\"', 'D': 'The butterfly effect is the phenomenon that a small change in the initial conditions of a dynamical system has no effect on subsequent states, as defined by Lorenz in his book \"The Essence of Chaos.\"', 'E': 'The butterfly effect is the phenomenon that a large change in the initial conditions of a dynamical system can cause significant differences in subsequent states, as defined by Lorenz in his book \"The Essence of Chaos.\"', 'answer': 'C'}\n",
            "{'id': 111, 'prompt': 'What is the role of CYCLOIDEA genes in the evolution of bilateral symmetry?', 'A': 'CYCLOIDEA genes are responsible for the selection of symmetry in the evolution of animals.', 'B': 'CYCLOIDEA genes are responsible for the evolution of specialized pollinators in plants, which in turn led to the transition of radially symmetrical flowers to bilaterally symmetrical flowers.', 'C': 'CYCLOIDEA genes are responsible for the expression of dorsal petals in Antirrhinum majus, which control their size and shape.', 'D': 'CYCLOIDEA genes are responsible for the expression of transcription factors that control the expression of other genes, allowing their expression to influence developmental pathways relating to symmetry.', 'E': 'CYCLOIDEA genes are responsible for mutations that cause a reversion to radial symmetry.', 'answer': 'D'}\n",
            "{'id': 112, 'prompt': 'What is the required excess quark per billion quark-antiquark pairs in the early universe in order to provide all the observed matter in the universe?', 'A': 'One', 'B': 'Five', 'C': 'Three', 'D': 'Two', 'E': 'Four', 'answer': 'A'}\n",
            "{'id': 113, 'prompt': 'What is the meaning of the term \"horror vacui\"?', 'A': 'The quantified extension of volume in empty space.', 'B': 'The commonly held view that nature abhorred a vacuum.', 'C': 'The medieval thought experiment into the idea of a vacuum.', 'D': \"The success of Descartes' namesake coordinate system.\", 'E': \"The spatial-corporeal component of Descartes' metaphysics.\", 'answer': 'B'}\n",
            "{'id': 114, 'prompt': 'What is the Droste effect?', 'A': 'The Droste effect is a type of optical illusion that creates the appearance of a three-dimensional image within a two-dimensional picture.', 'B': 'The Droste effect is a type of packaging design used by a variety of products, named after a Dutch brand of cocoa, with an image designed by Jan Misset in 1904.', 'C': 'The Droste effect is a type of painting technique used by Dutch artist M. C. Escher in his 1956 lithograph Print Gallery, which portrays a gallery that depicts itself.', 'D': \"The Droste effect is a recursive image effect in which a picture appears within itself in a place where a similar picture would realistically be expected to appear. This creates a loop that can continue as far as the image's resolution allows, and is named after a Dutch brand of cocoa.\", 'E': 'The Droste effect is a type of recursive algorithm used in computer programming to create self-referential images.', 'answer': 'D'}\n",
            "{'id': 115, 'prompt': 'What is water hammer?', 'A': 'Water hammer is a type of water turbine used in hydroelectric generating stations to generate electricity.', 'B': 'Water hammer is a type of air trap or standpipe used to dampen the sound of moving water in plumbing systems.', 'C': 'Water hammer is a type of plumbing tool used to break pipelines and absorb the potentially damaging forces caused by moving water.', 'D': 'Water hammer is a type of water pump used to increase the pressure of water in pipelines.', 'E': 'Water hammer is a loud banging noise resembling a hammering sound that occurs when moving water is suddenly stopped, causing a rise in pressure and resulting shock wave.', 'answer': 'E'}\n",
            "{'id': 116, 'prompt': 'What is the reason for the stochastic nature of all observed resistance-switching processes?', 'A': 'The free-energy barriers for the transition {i} → {j} are not high enough, and the memory device can switch without having to do anything.', 'B': 'The device is subjected to random thermal fluctuations, which trigger the switching event, but it is impossible to predict when it will occur.', 'C': 'The memory device is found to be in a distinct resistance state {j}, and there exists no physical one-to-one relationship between its present state and its foregoing voltage history.', 'D': 'The device is subjected to biases below the threshold value, which still allows for a finite probability of switching, but it is possible to predict when it will occur.', 'E': 'The external bias is set to a value above a certain threshold value, which reduces the free-energy barrier for the transition {i} → {j} to zero.', 'answer': 'B'}\n",
            "{'id': 117, 'prompt': 'What is the Einstein@Home project?', 'A': 'The Einstein@Home project is a project that aims to detect signals from supernovae or binary black holes. It takes data from LIGO and GEO and sends it out in little pieces to thousands of volunteers for parallel analysis on their home computers.', 'B': 'The Einstein@Home project is a project that aims to detect signals from supernovae or binary black holes. It takes data from SETI and GEO and sends it out in little pieces to thousands of volunteers for parallel analysis on their home computers.', 'C': 'The Einstein@Home project is a distributed computing project that aims to detect simple gravitational waves with constant frequency. It takes data from LIGO and GEO and sends it out in little pieces to thousands of volunteers for parallel analysis on their home computers.', 'D': 'The Einstein@Home project is a project that aims to detect simple gravitational waves with constant frequency. It takes data from LIGO and GEO and sends it out in large pieces to thousands of volunteers for parallel analysis on their home computers.', 'E': 'The Einstein@Home project is a project that aims to detect simple gravitational waves with constant frequency. It takes data from SETI and GEO and sends it out in little pieces to thousands of volunteers for parallel analysis on their home computers.', 'answer': 'C'}\n",
            "{'id': 118, 'prompt': 'What happens to an initially inhomogeneous physical system that is isolated by a thermodynamic operation?', 'A': 'It will change its internal state only if it is composed of a single subsystem and has internal walls.', 'B': 'It will change its internal state only if it is composed of several subsystems separated from each other by walls.', 'C': 'It will remain in its initial state indefinitely.', 'D': 'It will generally change its internal state over time.', 'E': 'It will change its internal state only if it is composed of a single subsystem.', 'answer': 'D'}\n",
            "{'id': 119, 'prompt': \"What is the concept of simultaneity in Einstein's book, Relativity?\", 'A': 'Simultaneity is relative, meaning that two events that appear simultaneous to an observer in a particular inertial reference frame need not be judged as simultaneous by a second observer in a different inertial frame of reference.', 'B': 'Simultaneity is relative, meaning that two events that appear simultaneous to an observer in a particular inertial reference frame will always be judged as simultaneous by a second observer in a different inertial frame of reference.', 'C': 'Simultaneity is absolute, meaning that two events that appear simultaneous to an observer in a particular inertial reference frame will always be judged as simultaneous by a second observer in a different inertial frame of reference.', 'D': 'Simultaneity is a concept that applies only to Newtonian theories and not to relativistic theories.', 'E': 'Simultaneity is a concept that applies only to relativistic theories and not to Newtonian theories.', 'answer': 'A'}\n",
            "{'id': 120, 'prompt': 'What is the Josephson effect?', 'A': 'The Josephson effect is a phenomenon exploited by superconducting devices such as SQUIDs. It is used in the most accurate available measurements of the magnetic flux quantum Φ0 = h/(2e), where h is the Planck constant.', 'B': 'The Josephson effect is a phenomenon exploited by magnetic devices such as SQUIDs. It is used in the most accurate available measurements of the magnetic flux quantum Φ0 = h/(2e), where h is the magnetic constant.', 'C': 'The Josephson effect is a phenomenon exploited by superconducting devices such as SQUIDs. It is used in the most accurate available measurements of the electric flux quantum Φ0 = h/(2e), where h is the Planck constant.', 'D': 'The Josephson effect is a phenomenon exploited by superconducting devices such as SQUIDs. It is used in the most accurate available measurements of the magnetic flux quantum Φ0 = e/(2h), where h is the Planck constant.', 'E': 'The Josephson effect is a phenomenon exploited by magnetic devices such as SQUIDs. It is used in the most accurate available measurements of the electric flux quantum Φ0 = h/(2e), where h is the magnetic constant.', 'answer': 'A'}\n",
            "{'id': 121, 'prompt': 'What is the SI unit of the physical quantity m/Q?', 'A': 'Meter per second', 'B': 'Pascal per second', 'C': 'Kilogram per coulomb', 'D': 'Newton per meter', 'E': 'Joule per second', 'answer': 'C'}\n",
            "{'id': 122, 'prompt': 'How many crystallographic point groups are there in three-dimensional space?', 'A': '7', 'B': '32', 'C': '14', 'D': '5', 'E': '27', 'answer': 'B'}\n",
            "{'id': 123, 'prompt': 'What is the Liouville density?', 'A': 'The Liouville density is a probability distribution that specifies the probability of finding a particle at a certain position in phase space for a collection of particles.', 'B': 'The Liouville density is a quasiprobability distribution that plays an analogous role to the probability distribution for a quantum particle.', 'C': 'The Liouville density is a bounded probability distribution that is a convenient indicator of quantum-mechanical interference.', 'D': 'The Liouville density is a probability distribution that takes on negative values for states which have no classical model.', 'E': 'The Liouville density is a probability distribution that satisfies all the properties of a conventional probability distribution for a quantum particle.', 'answer': 'A'}\n",
            "{'id': 124, 'prompt': 'What are the four qualitative levels of crystallinity described by geologists?', 'A': 'Holocrystalline, hypocrystalline, hypercrystalline, and holohyaline', 'B': 'Holocrystalline, hypocrystalline, hypohyaline, and holohyaline', 'C': 'Holocrystalline, hypohyaline, hypercrystalline, and holohyaline', 'D': 'Holocrystalline, hypocrystalline, hypercrystalline, and hyperhyaline', 'E': 'Holocrystalline, hypocrystalline, hypohyaline, and hyperhyaline', 'answer': 'B'}\n",
            "{'id': 125, 'prompt': 'What is an order parameter?', 'A': 'An order parameter is a measure of the temperature of a physical system.', 'B': 'An order parameter is a measure of the gravitational force in a physical system.', 'C': 'An order parameter is a measure of the magnetic field strength in a physical system.', 'D': 'An order parameter is a measure of the degree of symmetry breaking in a physical system.', 'E': 'An order parameter is a measure of the rotational symmetry in a physical system.', 'answer': 'D'}\n",
            "{'id': 126, 'prompt': 'What is the significance of the discovery of the Crab pulsar?', 'A': 'The discovery of the Crab pulsar confirmed the black hole model of pulsars.', 'B': 'The discovery of the Crab pulsar confirmed the rotating neutron star model of pulsars.', 'C': 'The discovery of the Crab pulsar confirmed the white dwarf model of pulsars.', 'D': 'The discovery of the Crab pulsar disproved the rotating neutron star model of pulsars.', 'E': 'The discovery of the Crab pulsar confirmed the red giant model of pulsars.', 'answer': 'B'}\n",
            "{'id': 127, 'prompt': 'What is the De Haas-Van Alphen effect?', 'A': 'The measurement of the electronic properties of a material using several experimental techniques.', 'B': 'The complex number quantity that describes AC susceptibility and AC permeability.', 'C': 'The oscillation of the differential susceptibility as a function of 1/H in metals under strong magnetic fields, which relates the period of the susceptibility with the Fermi surface of the material.', 'D': 'The analogue non-linear relation between magnetization and magnetic field in antiferromagnetic materials.', 'E': 'The measurement of magnetic susceptibility in response to an AC magnetic field.', 'answer': 'C'}\n",
            "{'id': 128, 'prompt': 'What is a \"coffee ring\" in physics?', 'A': 'A type of coffee that is made by boiling coffee grounds in water.', 'B': 'A pattern left by a particle-laden liquid after it is spilled, named for the characteristic ring-like deposit along the perimeter of a spill of coffee or red wine.', 'C': 'A type of coffee that is made by mixing instant coffee with hot water.', 'D': 'A type of coffee that is made by pouring hot water over coffee grounds in a filter.', 'E': 'A pattern left by a particle-laden liquid after it evaporates, named for the characteristic ring-like deposit along the perimeter of a spill of coffee or red wine.', 'answer': 'E'}\n",
            "{'id': 129, 'prompt': 'What is the significance of probability amplitudes in quantum mechanics?', 'A': 'Probability amplitudes are used to determine the mass of particles in quantum mechanics.', 'B': 'Probability amplitudes have no significance in quantum mechanics.', 'C': 'Probability amplitudes are used to determine the velocity of particles in quantum mechanics.', 'D': 'Probability amplitudes act as the equivalent of conventional probabilities in classical mechanics, with many analogous laws.', 'E': 'Probability amplitudes act as the equivalent of conventional probabilities in quantum mechanics, with many analogous laws.', 'answer': 'E'}\n",
            "{'id': 130, 'prompt': 'What is the relationship between the amplitude of a sound wave and its loudness?', 'A': 'The amplitude of a sound wave is related to its loudness.', 'B': 'The amplitude of a sound wave is directly proportional to its frequency.', 'C': 'The amplitude of a sound wave is not related to its loudness.', 'D': 'The amplitude of a sound wave is not related to its frequency.', 'E': 'The amplitude of a sound wave is inversely related to its loudness.', 'answer': 'A'}\n",
            "{'id': 131, 'prompt': 'What are coherent turbulent structures?', 'A': 'Coherent turbulent structures are the most elementary components of complex multi-scale and chaotic motions in turbulent flows, which do not have temporal coherence and persist in their form for long enough periods that the methods of time-averaged statistics can be applied.', 'B': 'Coherent turbulent structures are the most elementary components of complex multi-scale and chaotic motions in turbulent flows, which have temporal coherence and persist in their form for very short periods that the methods of time-averaged statistics cannot be applied.', 'C': 'Coherent turbulent structures are more elementary components of complex multi-scale and chaotic motions in turbulent flows, which have temporal coherence and persist in their form for long enough periods that the methods of time-averaged statistics can be applied.', 'D': 'Coherent turbulent structures are the most complex and chaotic motions in turbulent flows, which have temporal coherence and persist in their form for long enough periods that the methods of time-averaged statistics can be applied.', 'E': 'Coherent turbulent structures are the most complex and chaotic motions in turbulent flows, which do not have temporal coherence and persist in their form for very short periods that the methods of time-averaged statistics cannot be applied.', 'answer': 'C'}\n",
            "{'id': 132, 'prompt': 'What is the main factor that determines the occurrence of each type of supernova?', 'A': \"The star's distance from Earth\", 'B': \"The star's age\", 'C': \"The star's temperature\", 'D': \"The star's luminosity\", 'E': \"The progenitor star's metallicity\", 'answer': 'E'}\n",
            "{'id': 133, 'prompt': 'What is the Erlangen program?', 'A': 'The Erlangen program is a method of characterizing geometries based on statistics and probability, published by Felix Klein in 1872 as Vergleichende Betrachtungen über neuere geometrische Forschungen.', 'B': 'The Erlangen program is a method of characterizing geometries based on group theory and projective geometry, published by Felix Klein in 1872 as Vergleichende Betrachtungen über neuere geometrische Forschungen.', 'C': 'The Erlangen program is a method of characterizing geometries based on algebra and trigonometry, published by Felix Klein in 1872 as Vergleichende Betrachtungen über neuere geometrische Forschungen.', 'D': 'The Erlangen program is a method of characterizing geometries based on geometry and topology, published by Felix Klein in 1872 as Vergleichende Betrachtungen über neuere geometrische Forschungen.', 'E': 'The Erlangen program is a method of characterizing geometries based on calculus and differential equations, published by Felix Klein in 1872 as Vergleichende Betrachtungen über neuere geometrische Forschungen.', 'answer': 'B'}\n",
            "{'id': 134, 'prompt': 'What is emissivity?', 'A': 'Emissivity is a measure of how well a surface resists deformation under stress.', 'B': 'Emissivity is a measure of how well a surface conducts heat.', 'C': 'Emissivity is a measure of how well a surface absorbs and emits thermal radiation.', 'D': 'Emissivity is a measure of how well a surface reflects visible light.', 'E': 'Emissivity is a measure of how well a surface absorbs and emits sound waves.', 'answer': 'C'}\n",
            "{'id': 135, 'prompt': 'Who was the first person to describe the pulmonary circulation system?', 'A': 'Galen', 'B': 'Avicenna', 'C': 'Hippocrates', 'D': 'Aristotle', 'E': 'Ibn al-Nafis', 'answer': 'E'}\n",
            "{'id': 136, 'prompt': 'What is the fate of a carbocation formed in crystalline naphthalene?', 'A': 'The carbocation remains positively charged, trapped in the solid.', 'B': 'The carbocation undergoes spontaneous bond breaking, yielding a carbon-helium ion.', 'C': 'The carbocation forms a bond with helium, becoming a stable compound.', 'D': 'The carbocation undergoes decay, forming a negatively charged ion.', 'E': 'The carbocation gains an electron from surrounding molecules, becoming an electrically neutral radical.', 'answer': 'E'}\n",
            "{'id': 137, 'prompt': 'What is the main focus of the Environmental Science Center at Qatar University?', 'A': 'Environmental studies, with a main focus on marine science, atmospheric and political sciences.', 'B': 'Environmental studies, with a main focus on marine science, atmospheric and physical sciences.', 'C': 'Environmental studies, with a main focus on marine science, atmospheric and social sciences.', 'D': 'Environmental studies, with a main focus on marine science, atmospheric and biological sciences.', 'E': 'Environmental studies, with a main focus on space science, atmospheric and biological sciences.', 'answer': 'D'}\n",
            "{'id': 138, 'prompt': 'What is the purpose of obtaining surgical resection specimens?', 'A': 'To remove an entire diseased area or organ for definitive surgical treatment of a disease, with pathological analysis of the specimen used to confirm the diagnosis.', 'B': 'To perform visual and microscopic tests on tissue samples using automated analysers and cultures.', 'C': 'To work in close collaboration with medical technologists and hospital administrations.', 'D': 'To administer a variety of tests of the biophysical properties of tissue samples.', 'E': 'To obtain bodily fluids such as blood and urine for laboratory analysis of disease diagnosis.', 'answer': 'A'}\n",
            "{'id': 139, 'prompt': 'What is the function of mammary glands in mammals?', 'A': 'Mammary glands produce milk to feed the young.', 'B': 'Mammary glands help mammals draw air into the lungs.', 'C': 'Mammary glands help mammals breathe with lungs.', 'D': 'Mammary glands excrete nitrogenous waste as urea.', 'E': 'Mammary glands separate oxygenated and deoxygenated blood in the mammalian heart.', 'answer': 'A'}\n",
            "{'id': 140, 'prompt': 'What is the relationship between interstellar and cometary chemistry?', 'A': 'Cometary chemistry is responsible for the formation of interstellar molecules, but there is no direct connection between the two.', 'B': 'Interstellar and cometary chemistry are the same thing, just with different names.', 'C': 'There is a possible connection between interstellar and cometary chemistry, as indicated by the similarity between interstellar and cometary ices and the analysis of organics from comet samples returned by the Stardust mission.', 'D': 'There is no relationship between interstellar and cometary chemistry, as they are two completely different phenomena.', 'E': 'Interstellar chemistry is responsible for the formation of comets, but there is no direct connection between the two.', 'answer': 'C'}\n",
            "{'id': 141, 'prompt': 'What is the reason for recycling rare metals according to the United Nations?', 'A': 'The demand for rare metals will quickly exceed the consumed tonnage in 2013, but recycling rare metals with a worldwide production higher than 100 000 t/year is a good way to conserve natural resources and energy.', 'B': 'The demand for rare metals will decrease in 2013, and recycling rare metals with a worldwide production lower than 100 000 t/year is a good way to conserve natural resources and energy.', 'C': 'The demand for rare metals will quickly exceed the consumed tonnage in 2013, but recycling rare metals with a worldwide production higher than 100 000 t/year is not a good way to conserve natural resources and energy.', 'D': 'The demand for rare metals will quickly exceed the consumed tonnage in 2013, but recycling rare metals with a worldwide production lower than 100 000 t/year is not a good way to conserve natural resources and energy.', 'E': 'The demand for rare metals will quickly exceed the consumed tonnage in 2013, and recycling rare metals with a worldwide production lower than 100 000 t/year is urgent and priority should be placed on it in order to conserve natural resources and energy.', 'answer': 'E'}\n",
            "{'id': 142, 'prompt': 'What is radiometric dating?', 'A': 'Radiometric dating is a method of measuring geological time using geological sedimentation, discovered in the early 20th century.', 'B': 'Radiometric dating is a method of measuring geological time using radioactive decay, discovered in the early 20th century.', 'C': 'Radiometric dating is a method of measuring geological time using the position of rocks, discovered in the early 20th century.', 'D': 'Radiometric dating is a method of measuring geological time using the age of fossils, discovered in the early 20th century.', 'E': 'Radiometric dating is a method of measuring geological time using the cooling of the earth, discovered in the early 20th century.', 'answer': 'B'}\n",
            "{'id': 143, 'prompt': 'What is the role of methane in Fischer-Tropsch processes?', 'A': 'Methane is partially converted to carbon monoxide for utilization in Fischer-Tropsch processes.', 'B': 'Methane is used as a catalyst in Fischer-Tropsch processes.', 'C': 'Methane is not used in Fischer-Tropsch processes.', 'D': 'Methane is fully converted to carbon monoxide for utilization in Fischer-Tropsch processes.', 'E': 'Methane is a byproduct of Fischer-Tropsch processes.', 'answer': 'A'}\n",
            "{'id': 144, 'prompt': 'What is a phageome?', 'A': 'A community of viruses and their metagenomes localized in a particular environment, similar to a microbiome.', 'B': 'A community of bacteria and their metagenomes localized in a particular environment, similar to a microbiome.', 'C': 'A community of bacteriophages and their metagenomes localized in a particular environment, similar to a microbiome.', 'D': 'A community of fungi and their metagenomes localized in a particular environment, similar to a microbiome.', 'E': 'A community of archaea and their metagenomes localized in a particular environment, similar to a microbiome.', 'answer': 'C'}\n",
            "{'id': 145, 'prompt': 'What is organography?', 'A': 'Organography is the study of the stem and root of plants.', 'B': 'Organography is the scientific description of the structure and function of the organs of living things.', 'C': 'Organography is the study of the development of organs from the \"growing points\" or apical meristems.', 'D': 'Organography is the study of the commonality of development between foliage leaves and floral leaves.', 'E': 'Organography is the study of the relationship between different organs and different functions in plants.', 'answer': 'B'}\n",
            "{'id': 146, 'prompt': 'What is the definition of anatomy?', 'A': 'Anatomy is the rarely used term that refers to the superstructure of polymers such as fiber formation or to larger composite assemblies.', 'B': 'Anatomy is a branch of morphology that deals with the structure of organisms.', 'C': 'Anatomy is the study of the effects of external factors upon the morphology of organisms under experimental conditions, such as the effect of genetic mutation.', 'D': 'Anatomy is the analysis of the patterns of the locus of structures within the body plan of an organism, and forms the basis of taxonomical categorization.', 'E': 'Anatomy is the study of the relationship between the structure and function of morphological features.', 'answer': 'B'}\n",
            "{'id': 147, 'prompt': 'What is a trophic level in an ecological pyramid?', 'A': 'A group of organisms that acquire most of their energy from the level above them in the pyramid.', 'B': 'A group of organisms that acquire most of their energy from the abiotic sources in the ecosystem.', 'C': 'A group of organisms that acquire most of their energy from the level below them in the pyramid.', 'D': 'A group of organisms that acquire most of their energy from the same level in the pyramid.', 'E': 'A group of organisms that do not acquire any energy from the ecosystem.', 'answer': 'C'}\n",
            "{'id': 148, 'prompt': 'What is a crossover experiment?', 'A': 'An experiment that involves crossing over two different types of materials to create a new material.', 'B': 'A type of experiment used to distinguish between different mechanisms proposed for a chemical reaction, such as intermolecular vs. intramolecular mechanisms.', 'C': 'An experiment that involves crossing over two different types of organisms to create a hybrid.', 'D': 'An experiment that involves crossing over two different types of cells to create a new cell.', 'E': 'An experiment that involves crossing over two different chemicals to create a new substance.', 'answer': 'B'}\n",
            "{'id': 149, 'prompt': 'What is the role of IL-10 in the formation of Tr1 cells and tolerogenic DCs?', 'A': 'IL-10 inhibits the formation of Tr1 cells and tolerogenic DCs, which are dependent on TGF-β and Tregs. Tr1 cells produce low levels of IL-10 and TGF-β, while tolerogenic DCs produce TGF-β that is important for Tr1 formation.', 'B': 'IL-10 induces the formation of Tr1 cells and tolerogenic DCs, which are dependent on IL-10 and TGF-β, but differ from Tregs by lacking expression of Foxp3. Tr1 cells produce high levels of IL-10 and TGF-β, while tolerogenic DCs produce IL-10 that is important for Tr1 formation.', 'C': 'IL-10 has no role in the formation of Tr1 cells and tolerogenic DCs. TGF-β and Tregs are the only factors involved in the formation of Tr1 cells and tolerogenic DCs.', 'D': 'IL-10 induces the formation of Tr1 cells and tolerogenic DCs, which are dependent on IL-10 and Tregs, but differ from Tregs by expressing Foxp3. Tr1 cells produce low levels of IL-10 and TGF-β, while tolerogenic DCs produce IL-10 that is important for Tr1 formation.', 'E': 'IL-10 induces the formation of Tregs, which are dependent on TGF-β and Foxp3. Tr1 cells and tolerogenic DCs are not involved in this process.', 'answer': 'B'}\n",
            "{'id': 150, 'prompt': 'What is the reason behind the designation of Class L dwarfs, and what is their color and composition?', 'A': 'Class L dwarfs are hotter than M stars and are designated L because L is the remaining letter alphabetically closest to M. They are bright blue in color and are brightest in ultraviolet. Their atmosphere is hot enough to allow metal hydrides and alkali metals to be prominent in their spectra. Some of these objects have masses large enough to support hydrogen fusion and are therefore stars, but most are of substellar mass and are therefore brown dwarfs.', 'B': 'Class L dwarfs are cooler than M stars and are designated L because L is the remaining letter alphabetically closest to M. They are dark red in color and are brightest in infrared. Their atmosphere is cool enough to allow metal hydrides and alkali metals to be prominent in their spectra. Some of these objects have masses large enough to support hydrogen fusion and are therefore stars, but most are of substellar mass and are therefore brown dwarfs.', 'C': 'Class L dwarfs are hotter than M stars and are designated L because L is the next letter alphabetically after M. They are dark red in color and are brightest in infrared. Their atmosphere is cool enough to allow metal hydrides and alkali metals to be prominent in their spectra. Some of these objects have masses large enough to support hydrogen fusion and are therefore stars, but most are of substellar mass and are therefore brown dwarfs.', 'D': 'Class L dwarfs are cooler than M stars and are designated L because L is the next letter alphabetically after M. They are bright yellow in color and are brightest in visible light. Their atmosphere is hot enough to allow metal hydrides and alkali metals to be prominent in their spectra. Some of these objects have masses large enough to support hydrogen fusion and are therefore stars, but most are of substellar mass and are therefore brown dwarfs.', 'E': 'Class L dwarfs are cooler than M stars and are designated L because L is the remaining letter alphabetically closest to M. They are bright green in color and are brightest in visible light. Their atmosphere is cool enough to allow metal hydrides and alkali metals to be prominent in their spectra. Some of these objects have masses small enough to support hydrogen fusion and are therefore stars, but most are of substellar mass and are therefore brown dwarfs.', 'answer': 'B'}\n",
            "{'id': 151, 'prompt': \"What was Isaac Newton's explanation for rectilinear propagation of light?\", 'A': 'Isaac Newton rejected the wave theory of light and proposed that light consists of corpuscles that are subject to a force acting parallel to the interface. In this model, the critical angle was the angle of incidence at which the normal velocity of the approaching corpuscle was just enough to reach the far side of the force field; at more oblique incidence, the corpuscle would be turned back.', 'B': 'Isaac Newton rejected the wave theory of light and proposed that light consists of corpuscles that are subject to a force acting perpendicular to the interface. In this model, the critical angle was the angle of incidence at which the normal velocity of the approaching corpuscle was just enough to reach the near side of the force field; at more oblique incidence, the corpuscle would be turned back.', 'C': 'Isaac Newton accepted the wave theory of light and proposed that light consists of transverse waves that are subject to a force acting perpendicular to the interface. In this model, the critical angle was the angle of incidence at which the normal velocity of the approaching wave was just enough to reach the far side of the force field; at more oblique incidence, the wave would be turned back.', 'D': 'Isaac Newton rejected the wave theory of light and proposed that light consists of corpuscles that are subject to a force acting perpendicular to the interface. In this model, the critical angle was the angle of incidence at which the normal velocity of the approaching corpuscle was just enough to reach the far side of the force field; at more oblique incidence, the corpuscle would be turned back.', 'E': 'Isaac Newton accepted the wave theory of light and proposed that light consists of longitudinal waves that are subject to a force acting perpendicular to the interface. In this model, the critical angle was the angle of incidence at which the normal velocity of the approaching wave was just enough to reach the far side of the force field; at more oblique incidence, the wave would be turned back.', 'answer': 'D'}\n",
            "{'id': 152, 'prompt': 'What is the relationship between chemical potential and quarks/antiquarks?', 'A': 'Chemical potential, represented by μ, is a measure of the imbalance between quarks and antiquarks in a system. Higher μ indicates a stronger bias favoring quarks over antiquarks.', 'B': 'Chemical potential, represented by μ, is a measure of the balance between quarks and antiquarks in a system. Higher μ indicates an equal number of quarks and antiquarks.', 'C': 'Chemical potential, represented by μ, is a measure of the imbalance between quarks and antiquarks in a system. Higher μ indicates a stronger bias favoring antiquarks over quarks.', 'D': 'Chemical potential, represented by μ, is a measure of the density of antiquarks in a system. Higher μ indicates a higher density of antiquarks.', 'E': 'Chemical potential, represented by μ, is a measure of the density of quarks in a system. Higher μ indicates a higher density of quarks.', 'answer': 'A'}\n",
            "{'id': 153, 'prompt': 'What is the American Petroleum Institute (API) gravity?', 'A': \"API gravity is a measure of how heavy or light a petroleum liquid is compared to water. It is an inverse measure of a petroleum liquid's density relative to that of water and is graduated in degrees on a hydrometer instrument.\", 'B': \"API gravity is a measure of the viscosity of a petroleum liquid. It is an inverse measure of a petroleum liquid's density relative to that of water and is graduated in degrees on a hydrometer instrument.\", 'C': \"API gravity is a measure of the temperature at which a petroleum liquid freezes. It is an inverse measure of a petroleum liquid's density relative to that of water and is graduated in degrees on a hydrometer instrument.\", 'D': \"API gravity is a measure of how much petroleum liquid is present in a given volume of water. It is an inverse measure of a petroleum liquid's density relative to that of water and is graduated in degrees on a hydrometer instrument.\", 'E': \"API gravity is a measure of the acidity or alkalinity of a petroleum liquid. It is an inverse measure of a petroleum liquid's density relative to that of water and is graduated in degrees on a hydrometer instrument.\", 'answer': 'A'}\n",
            "{'id': 154, 'prompt': 'What are the two main factors that cause resistance in a metal?', 'A': 'The amount of resistance in a metal is mainly caused by the temperature and the pressure applied to the metal. Higher temperatures cause bigger vibrations, and pressure causes the metal to become more compact, leading to more resistance.', 'B': 'The amount of resistance in a metal is mainly caused by the temperature and the purity of the metal. Higher temperatures cause bigger vibrations, and a mixture of different ions acts as an irregularity.', 'C': 'The amount of resistance in a metal is mainly caused by the temperature and the thickness of the metal. Higher temperatures cause bigger vibrations, and thicker metals have more irregularities, leading to more resistance.', 'D': 'The amount of resistance in a metal is mainly caused by the purity of the metal and the amount of pressure applied to the metal. A mixture of different ions acts as an irregularity, and pressure causes the metal to become more compact, leading to more resistance.', 'E': 'The amount of resistance in a metal is mainly caused by the purity of the metal and the thickness of the metal. A mixture of different ions acts as an irregularity, and thicker metals have more irregularities, leading to more resistance.', 'answer': 'B'}\n",
            "{'id': 155, 'prompt': 'What is the significance of the redshift-distance relationship in determining the expansion history of the universe?', 'A': 'Observations of the redshift-distance relationship can be used to determine the expansion history of the universe and the matter and energy content, especially for galaxies whose light has been travelling to us for much shorter times.', 'B': 'Observations of the redshift-distance relationship can be used to determine the age of the universe and the matter and energy content, especially for nearby galaxies whose light has been travelling to us for much shorter times.', 'C': 'Observations of the redshift-distance relationship can be used to determine the expansion history of the universe and the matter and energy content, especially for nearby galaxies whose light has been travelling to us for much longer times.', 'D': 'Observations of the redshift-distance relationship can be used to determine the age of the universe and the matter and energy content, especially for distant galaxies whose light has been travelling to us for much shorter times.', 'E': 'Observations of the redshift-distance relationship can be used to determine the expansion history of the universe and the matter and energy content, especially for distant galaxies whose light has been travelling to us for much longer times.', 'answer': 'E'}\n",
            "{'id': 156, 'prompt': 'What is the Evans balance?', 'A': 'The Evans balance is a system used to measure the change in weight of a sample when an electromagnet is turned on, which is proportional to the susceptibility.', 'B': 'The Evans balance is a system used to measure the dependence of the NMR frequency of a liquid sample on its shape or orientation to determine its susceptibility.', 'C': 'The Evans balance is a system used to measure the magnetic field distortion around a sample immersed in water inside an MR scanner to determine its susceptibility.', 'D': 'The Evans balance is a system used to measure the susceptibility of a sample by measuring the force change on a strong compact magnet upon insertion of the sample.', 'E': 'The Evans balance is a system used to measure the magnetic susceptibility of most crystals, which is not a scalar quantity.', 'answer': 'D'}\n",
            "{'id': 157, 'prompt': 'What is the definition of dimension in mathematics?', 'A': 'The dimension of an object is the number of independent parameters or coordinates needed to define the position of a point constrained to be on the object, and is an extrinsic property of the object, dependent on the dimension of the space in which it is embedded.', 'B': 'The dimension of an object is the number of degrees of freedom of a point that moves on this object, and is an extrinsic property of the object, dependent on the dimension of the space in which it is embedded.', 'C': 'The dimension of an object is the number of independent parameters or coordinates needed to define the position of a point constrained to be on the object, and is an intrinsic property of the object, independent of the dimension of the space in which it is embedded.', 'D': 'The dimension of an object is the number of directions in which a point can move on the object, and is an extrinsic property of the object, dependent on the dimension of the space in which it is embedded.', 'E': 'The dimension of an object is the number of directions in which a point can move on the object, and is an intrinsic property of the object, independent of the dimension of the space in which it is embedded.', 'answer': 'C'}\n",
            "{'id': 158, 'prompt': 'What is accelerator-based light-ion fusion?', 'A': 'Accelerator-based light-ion fusion is a technique that uses particle accelerators to achieve particle kinetic energies sufficient to induce light-ion fusion reactions. This method is relatively easy to implement and can be done in an efficient manner, requiring only a vacuum tube, a pair of electrodes, and a high-voltage transformer. Fusion can be observed with as little as 10 kV between the electrodes.', 'B': 'Accelerator-based light-ion fusion is a technique that uses particle accelerators to achieve particle kinetic energies sufficient to induce heavy-ion fusion reactions. This method is relatively difficult to implement and requires a complex system of vacuum tubes, electrodes, and transformers. Fusion can be observed with as little as 10 kV between the electrodes.', 'C': 'Accelerator-based light-ion fusion is a technique that uses particle accelerators to achieve particle kinetic energies sufficient to induce light-ion fusion reactions. This method is relatively difficult to implement and requires a complex system of vacuum tubes, electrodes, and transformers. Fusion can be observed with as little as 100 kV between the electrodes.', 'D': 'Accelerator-based light-ion fusion is a technique that uses particle accelerators to achieve particle kinetic energies sufficient to induce heavy-ion fusion reactions. This method is relatively easy to implement and can be done in an efficient manner, requiring only a vacuum tube, a pair of electrodes, and a high-voltage transformer. Fusion can be observed with as little as 100 kV between the electrodes.', 'E': 'Accelerator-based light-ion fusion is a technique that uses particle accelerators to achieve particle kinetic energies sufficient to induce light-ion fission reactions. This method is relatively easy to implement and can be done in an efficient manner, requiring only a vacuum tube, a pair of electrodes, and a high-voltage transformer. Fission can be observed with as little as 10 kV between the electrodes.', 'answer': 'A'}\n",
            "{'id': 159, 'prompt': 'What is the interstellar medium (ISM)?', 'A': 'The matter and radiation that exist in the space between the star systems in a galaxy, including gas in ionic, atomic, and molecular form, as well as dust and cosmic rays. It fills interstellar space and blends smoothly into the surrounding intergalactic space.', 'B': 'The matter and radiation that exist in the space between stars in a galaxy, including gas in ionic, atomic, and molecular form, as well as dust and cosmic rays. It fills interstellar space and blends smoothly into the surrounding interplanetary space.', 'C': 'The matter and radiation that exist in the space between galaxies, including gas in ionic, atomic, and molecular form, as well as dust and cosmic rays. It fills intergalactic space and blends smoothly into the surrounding interstellar space.', 'D': 'The matter and radiation that exist in the space between planets in a solar system, including gas in ionic, atomic, and molecular form, as well as dust and cosmic rays. It fills interplanetary space and blends smoothly into the surrounding interstellar space.', 'E': 'The matter and radiation that exist within a star, including gas in ionic, atomic, and molecular form, as well as dust and cosmic rays. It fills the star and blends smoothly into the surrounding interstellar space.', 'answer': 'A'}\n",
            "{'id': 160, 'prompt': 'What is the significance of the change in slope of the pinched hysteresis curves in ReRAM and other forms of two-terminal resistance memory?', 'A': 'The change in slope of the pinched hysteresis curves demonstrates switching between different resistance states, which is a phenomenon central to ReRAM and other forms of two-terminal resistance memory.', 'B': 'The change in slope of the pinched hysteresis curves indicates the presence of a Type-II non-crossing curve, which is a phenomenon central to ReRAM and other forms of two-terminal resistance memory.', 'C': 'The change in slope of the pinched hysteresis curves demonstrates the presence of a memristor, which is a phenomenon central to ReRAM and other forms of two-terminal resistance memory.', 'D': 'The change in slope of the pinched hysteresis curves demonstrates the presence of a memristive network, which is a phenomenon central to ReRAM and other forms of two-terminal resistance memory.', 'E': 'The change in slope of the pinched hysteresis curves indicates the presence of a linear resistor, which is a phenomenon central to ReRAM and other forms of two-terminal resistance memory.', 'answer': 'A'}\n",
            "{'id': 161, 'prompt': 'What is geometric quantization in mathematical physics?', 'A': 'Geometric quantization is a mathematical approach to defining a classical theory corresponding to a given quantum theory. It attempts to carry out quantization in such a way that certain analogies between the quantum theory and the classical theory are lost.', 'B': 'Geometric quantization is a mathematical approach to defining a quantum theory corresponding to a given classical theory. It attempts to carry out quantization in such a way that certain analogies between the classical theory and the quantum theory are lost.', 'C': 'Geometric quantization is a mathematical approach to defining a classical theory corresponding to a given quantum theory. It attempts to carry out quantization in such a way that certain analogies between the quantum theory and the classical theory remain manifest.', 'D': 'Geometric quantization is a mathematical approach to defining a quantum theory corresponding to a given classical theory. It attempts to carry out quantization in such a way that certain analogies between the classical theory and the quantum theory are not important.', 'E': 'Geometric quantization is a mathematical approach to defining a quantum theory corresponding to a given classical theory. It attempts to carry out quantization in such a way that certain analogies between the classical theory and the quantum theory remain manifest.', 'answer': 'E'}\n",
            "{'id': 162, 'prompt': 'What is the definition of an improper rotation?', 'A': 'An improper rotation is the combination of a rotation about an axis and reflection in a plane perpendicular to that axis, or inversion about a point on the axis. The order of the rotation and reflection does not matter, and the symmetry elements for improper rotation are the rotation axis, and either the mirror plane, the inversion point, or both, and a third plane.', 'B': 'An improper rotation is the combination of a rotation about an axis and reflection in a plane perpendicular to that axis, or inversion about a point on the axis. The order of the rotation and reflection does not matter, and the symmetry elements for improper rotation are the rotation axis, and either the mirror plane, the inversion point, or both.', 'C': 'An improper rotation is the combination of a rotation about an axis and reflection in a plane parallel to that axis, or inversion about a point on the axis. The order of the rotation and reflection does not matter, and the symmetry elements for improper rotation are the rotation axis, and either the mirror plane, the inversion point, or neither.', 'D': 'An improper rotation is the combination of a rotation about an axis and reflection in a plane perpendicular to that axis, or inversion about a point on the axis. The order of the rotation and reflection does not matter, and the symmetry elements for improper rotation are the rotation axis, and either the mirror plane, the inversion point, or neither.', 'E': 'An improper rotation is the combination of a rotation about an axis and reflection in a plane parallel to that axis, or inversion about a point on the axis. The order of the rotation and reflection does not matter, and the symmetry elements for improper rotation are the rotation axis, and either the mirror plane, the inversion point, or both.', 'answer': 'B'}\n",
            "{'id': 163, 'prompt': 'What is power density in the context of energy systems, and how does it differ between renewable and non-renewable energy sources?', 'A': 'Power density is a measure of the amount of power obtained per unit of Earth surface area used by a specific energy system, including all supporting infrastructure, manufacturing, mining of fuel (if applicable) and decommissioning. Both renewable and non-renewable energy sources have similar power density, which means that the same amount of power can be obtained from power plants occupying similar areas.', 'B': 'Power density is a measure of the amount of power obtained per unit of Earth surface area used by a specific energy system, including all supporting infrastructure, manufacturing, mining of fuel (if applicable) and decommissioning. Fossil fuels and nuclear power have high power density, which means large power can be drawn from power plants occupying relatively small areas. Renewable energy sources have power density at least three orders of magnitude smaller and, for the same energy output, they need to occupy accordingly larger areas.', 'C': 'Power density is a measure of the amount of power obtained per unit of Earth surface area used by a specific energy system, including all supporting infrastructure, manufacturing, mining of fuel (if applicable) and decommissioning. Renewable energy sources have higher power density than non-renewable energy sources, which means that they can produce more power from power plants occupying smaller areas.', 'D': 'Power density is a measure of the amount of power obtained per unit of Earth surface area used by a specific energy system, including all supporting infrastructure, manufacturing, mining of fuel (if applicable) and decommissioning. Fossil fuels and nuclear power have low power density, which means that they need to occupy larger areas to produce the same amount of power as renewable energy sources.', 'E': 'Power density is a measure of the amount of power obtained per unit of Earth surface area used by a specific energy system, including all supporting infrastructure, manufacturing, mining of fuel (if applicable) and decommissioning. Both renewable and non-renewable energy sources have low power density, which means that they need to occupy larger areas to produce the same amount of power.', 'answer': 'B'}\n",
            "{'id': 164, 'prompt': 'What is Modified Newtonian Dynamics (MOND)?', 'A': 'MOND is a theory that explains the behavior of light in the presence of strong gravitational fields. It is an alternative to the hypothesis of dark matter in terms of explaining why galaxies do not appear to obey the currently understood laws of physics.', 'B': \"MOND is a hypothesis that proposes a modification of Einstein's theory of general relativity to account for observed properties of galaxies. It is an alternative to the hypothesis of dark matter in terms of explaining why galaxies do not appear to obey the currently understood laws of physics.\", 'C': \"MOND is a hypothesis that proposes a modification of Newton's law of universal gravitation to account for observed properties of galaxies. It is an alternative to the hypothesis of dark matter in terms of explaining why galaxies do not appear to obey the currently understood laws of physics.\", 'D': \"MOND is a hypothesis that proposes a modification of Coulomb's law to account for observed properties of galaxies. It is an alternative to the hypothesis of dark matter in terms of explaining why galaxies do not appear to obey the currently understood laws of physics.\", 'E': 'MOND is a theory that explains the behavior of subatomic particles in the presence of strong magnetic fields. It is an alternative to the hypothesis of dark energy in terms of explaining why subatomic particles do not appear to obey the currently understood laws of physics.', 'answer': 'C'}\n",
            "{'id': 165, 'prompt': 'What is linear frame dragging?', 'A': 'Linear frame dragging is the effect of the general principle of relativity applied to the mass of a body when other masses are placed nearby. It is a tiny effect that is difficult to confirm experimentally and often omitted from articles on frame-dragging.', 'B': 'Linear frame dragging is the effect of the general principle of relativity applied to rotational momentum, which is a large effect that is easily confirmed experimentally and often discussed in articles on frame-dragging.', 'C': 'Linear frame dragging is the effect of the general principle of relativity applied to rotational momentum, which is similarly inevitable to the linear effect. It is a tiny effect that is difficult to confirm experimentally and often omitted from articles on frame-dragging.', 'D': 'Linear frame dragging is the effect of the general principle of relativity applied to linear momentum, which is similarly inevitable to the rotational effect. It is a tiny effect that is difficult to confirm experimentally and often omitted from articles on frame-dragging.', 'E': 'Linear frame dragging is the effect of the general principle of relativity applied to linear momentum, which is a large effect that is easily confirmed experimentally and often discussed in articles on frame-dragging.', 'answer': 'D'}\n",
            "{'id': 166, 'prompt': 'What is explicit symmetry breaking in theoretical physics?', 'A': 'Explicit symmetry breaking is the breaking of a symmetry of a theory by terms in its defining equations of motion that do not respect the symmetry, always in situations where these symmetry-breaking terms are large, so that the symmetry is not respected by the theory.', 'B': 'Explicit symmetry breaking is the breaking of a symmetry of a theory by terms in its defining equations of motion that do not respect the symmetry, usually in situations where these symmetry-breaking terms are small, so that the symmetry is approximately respected by the theory.', 'C': 'Explicit symmetry breaking is the breaking of a symmetry of a theory by terms in its defining equations of motion that respect the symmetry, always in situations where these symmetry-breaking terms are small, so that the symmetry is approximately respected by the theory.', 'D': 'Explicit symmetry breaking is the breaking of a symmetry of a theory by terms in its defining equations of motion that respect the symmetry, always in situations where these symmetry-breaking terms are large, so that the symmetry is not respected by the theory.', 'E': 'Explicit symmetry breaking is the breaking of a symmetry of a theory by terms in its defining equations of motion that respect the symmetry, usually in situations where these symmetry-breaking terms are large, so that the symmetry is not respected by the theory.', 'answer': 'B'}\n",
            "{'id': 167, 'prompt': 'What is the role of the Higgs boson in the Standard Model?', 'A': 'The Higgs boson is responsible for giving mass to the photon and gluon in the Standard Model.', 'B': 'The Higgs boson has no role in the Standard Model.', 'C': 'The Higgs boson is responsible for giving mass to all the elementary particles in the Standard Model.', 'D': 'The Higgs boson is responsible for giving mass to all the elementary particles, except the photon and gluon, in the Standard Model.', 'E': 'The Higgs boson is responsible for giving mass to all the composite particles in the Standard Model.', 'answer': 'D'}\n",
            "{'id': 168, 'prompt': 'What is Lorentz symmetry or Lorentz invariance in relativistic physics?', 'A': 'Lorentz symmetry or Lorentz invariance is a property of the underlying spacetime manifold that describes the feature of nature that says experimental results are independent of the orientation or the boost velocity of the laboratory through space.', 'B': 'Lorentz symmetry or Lorentz invariance is a measure of the curvature of spacetime caused by the presence of massive objects, which describes the feature of nature that says experimental results are independent of the orientation or the boost velocity of the laboratory through space.', 'C': 'Lorentz symmetry or Lorentz invariance is a physical quantity that transforms under a given representation of the Lorentz group, built out of scalars, four-vectors, four-tensors, and spinors.', 'D': 'Lorentz symmetry or Lorentz invariance is a measure of the time dilation and length contraction effects predicted by special relativity, which states that the laws of physics stay the same for all observers that are moving with respect to one another within an inertial frame.', 'E': 'Lorentz symmetry or Lorentz invariance is an equivalence of observation or observational symmetry due to special relativity implying that the laws of physics stay the same for all observers that are moving with respect to one another within an inertial frame.', 'answer': 'E'}\n",
            "{'id': 169, 'prompt': 'What is the significance of Baryon Acoustic Oscillations (BAOs) in the study of the universe?', 'A': 'BAOs establish a preferred length scale for baryons, which can be used to detect a subtle preference for pairs of galaxies to be separated by 147 Mpc, compared to those separated by 130-160 Mpc.', 'B': 'BAOs help to determine the average temperature of the Universe by measuring the temperature of the cosmic microwave background radiation.', 'C': 'BAOs provide a way to measure the time it takes for a signal to reach its destination compared to the time it takes for background noise to dissipate.', 'D': 'BAOs can be used to make a two-dimensional map of the galaxy distribution in the Universe.', 'E': 'BAOs are used to measure the speed of light in the Universe.', 'answer': 'A'}\n",
            "{'id': 170, 'prompt': 'What can be inferred about the electronic entropy of insulators and metals based on their densities of states at the Fermi level?', 'A': 'Insulators and metals have zero density of states at the Fermi level, and therefore, their density of states-based electronic entropy is essentially zero.', 'B': 'Insulators have zero density of states at the Fermi level, and therefore, their density of states-based electronic entropy is essentially zero. Metals have non-zero density of states at the Fermi level, and thus, their electronic entropy should be proportional to the temperature and density of states at the Fermi level.', 'C': 'Insulators have non-zero density of states at the Fermi level, and therefore, their density of states-based electronic entropy is proportional to the temperature and density of states at the Fermi level. Metals have zero density of states at the Fermi level, and thus, their electronic entropy is essentially zero.', 'D': 'Insulators and metals have varying densities of states at the Fermi level, and thus, their electronic entropy may or may not be proportional to the temperature and density of states at the Fermi level.', 'E': 'Insulators and metals have non-zero density of states at the Fermi level, and thus, their electronic entropy should be proportional to the temperature and density of states at the Fermi level.', 'answer': 'B'}\n",
            "{'id': 171, 'prompt': 'What are permutation-inversion groups?', 'A': 'Permutation-inversion groups are groups of symmetry operations that are energetically feasible inversions of identical nuclei or rotation with respect to the center of mass.', 'B': 'Permutation-inversion groups are groups of symmetry operations that are energetically feasible inversions of identical nuclei or rotation with respect to the center of mass, or a combination of both.', 'C': 'Permutation-inversion groups are groups of symmetry operations that are energetically feasible rotations of the entire molecule about the C3 axis.', 'D': 'Permutation-inversion groups are groups of symmetry operations that are energetically feasible inversions of the entire molecule about the C3 axis.', 'E': 'Permutation-inversion groups are groups of symmetry operations that are energetically feasible permutations of identical nuclei or inversion with respect to the center of mass, or a combination of both.', 'answer': 'E'}\n",
            "{'id': 172, 'prompt': 'What is the relationship between dielectric loss and the transparency of a material?', 'A': \"Dielectric loss in a material can cause refraction, which can decrease the material's transparency at higher frequencies.\", 'B': \"Dielectric loss in a material can cause absorption, which can reduce the material's transparency at higher frequencies.\", 'C': \"Dielectric loss in a material can cause reflection, which can increase the material's transparency at higher frequencies.\", 'D': \"Dielectric loss in a material has no effect on the material's transparency at any frequency.\", 'E': \"Dielectric loss in a material can cause scattering, which can increase the material's transparency at higher frequencies.\", 'answer': 'B'}\n",
            "{'id': 173, 'prompt': 'What is the purpose of measuring the Larmor precession fields at about 100 microtesla with highly sensitive superconducting quantum interference devices (SQUIDs) in ultra-low field MRI?', 'A': 'To measure the magnetization in the same direction as the static magnetic field in T1 relaxation.', 'B': 'To create a T1-weighted image that is useful for assessing the cerebral cortex, identifying fatty tissue, and characterizing focal liver lesions.', 'C': 'To obtain sufficient signal quality in the microtesla-to-millitesla range, where MRI has been demonstrated recently.', 'D': 'To measure the independent relaxation processes of T1 and T2 in each tissue after excitation.', 'E': 'To change the repetition time (TR) and obtain morphological information in post-contrast imaging.', 'answer': 'C'}\n",
            "{'id': 174, 'prompt': 'What is the difference between illuminance and luminance?', 'A': 'Illuminance is the amount of light absorbed by a surface per unit area, while luminance is the amount of light reflected by a surface per unit area.', 'B': 'Illuminance is the amount of light falling on a surface per unit area, while luminance is the amount of light emitted by a source per unit area.', 'C': 'Illuminance is the amount of light concentrated into a smaller area, while luminance is the amount of light filling a larger solid angle.', 'D': 'Illuminance is the amount of light emitted by a source per unit area, while luminance is the amount of light falling on a surface per unit area.', 'E': 'Illuminance is the amount of light reflected by a surface per unit area, while luminance is the amount of light absorbed by a surface per unit area.', 'answer': 'B'}\n",
            "{'id': 175, 'prompt': 'What is a magnetic monopole in particle physics?', 'A': 'A hypothetical elementary particle that is an isolated electric charge with both positive and negative poles.', 'B': 'A hypothetical elementary particle that is an isolated magnet with no magnetic poles.', 'C': 'A hypothetical elementary particle that is an isolated electric charge with only one electric pole, either a positive pole or a negative pole.', 'D': 'A hypothetical elementary particle that is an isolated magnet with both north and south poles.', 'E': 'A hypothetical elementary particle that is an isolated magnet with only one magnetic pole, either a north pole or a south pole.', 'answer': 'E'}\n",
            "{'id': 176, 'prompt': 'What is the difference between redshift due to the expansion of the universe and Doppler redshift?', 'A': 'Redshift due to the expansion of the universe depends on the rate of change of a(t) at the times of emission or absorption, while Doppler redshift depends on the increase of a(t) in the whole period from emission to absorption.', 'B': 'Redshift due to the expansion of the universe depends on the local velocity of the object emitting the light, while Doppler redshift depends on the cosmological model chosen to describe the expansion of the universe.', 'C': 'There is no difference between redshift due to the expansion of the universe and Doppler redshift.', 'D': 'Redshift due to the expansion of the universe depends on the cosmological model chosen to describe the expansion of the universe, while Doppler redshift depends on the local velocity of the object emitting the light.', 'E': 'Redshift due to the expansion of the universe depends on the increase of a(t) in the whole period from emission to absorption, while Doppler redshift depends on the rate of change of a(t) at the times of emission or absorption.', 'answer': 'D'}\n",
            "{'id': 177, 'prompt': 'What is the relationship between Coordinated Universal Time (UTC) and Universal Time (UT1)?', 'A': 'UTC and Universal Time (UT1) are identical time scales that are used interchangeably in science and engineering.', 'B': 'UTC is a time scale that is completely independent of Universal Time (UT1). UTC is kept within 0.9 second of UT1 by the introduction of one-second steps to UTC, the \"leap second\".', 'C': 'UTC is an atomic time scale designed to approximate Universal Time (UT1), but it differs from UT1 by a non-integral number of seconds. UTC is kept within 0.9 second of UT1 by the introduction of one-second steps to UTC, the \"leap second\".', 'D': 'UTC is an atomic time scale designed to approximate Universal Time (UT1), but it differs from UT1 by an integral number of seconds. UTC is kept within 0.9 second of UT1 by the introduction of one-second steps to UTC, the \"leap second\".', 'E': \"UTC is a time scale that is based on the irregularities in Earth's rotation and is completely independent of Universal Time (UT1).\", 'answer': 'D'}\n",
            "{'id': 178, 'prompt': 'What is the reason for heating metals to a temperature just above the upper critical temperature?', 'A': 'To prevent the grains of solution from growing too large, which decreases mechanical properties such as toughness, shear strength, and tensile strength.', 'B': 'To increase the size of the grains of solution, which enhances mechanical properties such as toughness, shear strength, and tensile strength.', 'C': 'To prevent the grains of solution from growing too large, which enhances mechanical properties such as toughness, shear strength, and tensile strength.', 'D': 'To prevent the grains of solution from growing too small, which enhances mechanical properties such as toughness, shear strength, and tensile strength.', 'E': 'To increase the size of the grains of solution, which decreases mechanical properties such as toughness, shear strength, and tensile strength.', 'answer': 'C'}\n",
            "{'id': 179, 'prompt': 'What is the cause of the observed change in the periods of moons orbiting a distant planet when measured from Earth?', 'A': \"The difference in the size of the planet's moons when the Earth is at the point in its orbit that is closest to its planet than when the Earth is at the farthest point in its orbit, the difference in distance being the diameter of the Earth's orbit around the Sun.\", 'B': \"The difference in the speed of light when the Earth is at the point in its orbit that is closest to its planet than when the Earth is at the farthest point in its orbit, the difference in distance being the diameter of the Earth's orbit around the Sun.\", 'C': \"The difference in distance travelled by light from the planet (or its moon) to Earth when the Earth is at the point in its orbit that is closest to its planet than when the Earth is at the farthest point in its orbit, the difference in distance being the diameter of the Earth's orbit around the Sun.\", 'D': \"The difference in the atmospheric conditions of the planet when the Earth is at the point in its orbit that is closest to its planet than when the Earth is at the farthest point in its orbit, the difference in distance being the diameter of the Earth's orbit around the Sun.\", 'E': \"The difference in the gravitational pull of the planet on its moons when the Earth is at the point in its orbit that is closest to its planet than when the Earth is at the farthest point in its orbit, the difference in distance being the diameter of the Earth's orbit around the Sun.\", 'answer': 'C'}\n",
            "{'id': 180, 'prompt': 'What is the origin of the radio emission observed from supernova remnants?', 'A': 'The radio emission from supernova remnants originates from the rebound of gas falling inward during the supernova explosion. This emission is a form of non-thermal emission called synchrotron emission.', 'B': 'The radio emission from supernova remnants originates from high-velocity electrons oscillating within magnetic fields. This emission is a form of non-thermal emission called synchrotron emission.', 'C': 'The radio emission from supernova remnants originates from the fusion of hydrogen and helium in the core of the star. This emission is a form of non-thermal emission called synchrotron emission.', 'D': 'The radio emission from supernova remnants originates from the expansion of the shell of gas during the supernova explosion. This emission is a form of thermal emission called synchrotron emission.', 'E': 'The radio emission from supernova remnants originates from the ionized gas present in the remnants. This emission is a form of thermal emission called synchrotron emission.', 'answer': 'B'}\n",
            "{'id': 181, 'prompt': 'What is the relationship between the Hamiltonians and eigenstates in supersymmetric quantum mechanics?', 'A': 'For every eigenstate of one Hamiltonian, its partner Hamiltonian has a corresponding eigenstate with the same energy.', 'B': 'For every eigenstate of one Hamiltonian, its partner Hamiltonian has a corresponding eigenstate with a higher energy.', 'C': 'For every eigenstate of one Hamiltonian, its partner Hamiltonian has a corresponding eigenstate with a different spin.', 'D': 'For every eigenstate of one Hamiltonian, its partner Hamiltonian has a corresponding eigenstate with a different energy.', 'E': 'For every eigenstate of one Hamiltonian, its partner Hamiltonian has a corresponding eigenstate with a lower energy.', 'answer': 'A'}\n",
            "{'id': 182, 'prompt': 'What is the proposed name for the field that is responsible for cosmic inflation and the metric expansion of space?', 'A': 'Inflaton', 'B': 'Quanta', 'C': 'Scalar', 'D': 'Metric', 'E': 'Conformal cyclic cosmology', 'answer': 'A'}\n",
            "{'id': 183, 'prompt': 'Which of the following statements accurately describes the characteristics of gravitational waves?', 'A': \"Gravitational waves have an amplitude denoted by h, which represents the size of the wave. The amplitude varies with time according to Newton's quadrupole formula. Gravitational waves also have a frequency denoted by f, which is the frequency of the wave's oscillation, and a wavelength denoted by λ, which is the distance between points of minimum stretch or squeeze.\", 'B': \"Gravitational waves have an amplitude denoted by λ, which represents the distance between points of maximum stretch or squeeze. The amplitude varies with time according to Einstein's quadrupole formula. Gravitational waves also have a frequency denoted by h, which is the size of the wave, and a wavelength denoted by f, which is the frequency of the wave's oscillation.\", 'C': \"Gravitational waves have an amplitude denoted by h, which represents the size of the wave. The amplitude varies with time according to Einstein's quadrupole formula. Gravitational waves also have a frequency denoted by f, which is the frequency of the wave's oscillation, and a wavelength denoted by λ, which is the distance between points of maximum stretch or squeeze.\", 'D': \"Gravitational waves have an amplitude denoted by f, which represents the frequency of the wave's oscillation. The amplitude varies with time according to Einstein's quadrupole formula. Gravitational waves also have a frequency denoted by h, which is the size of the wave, and a wavelength denoted by λ, which is the distance between points of maximum stretch or squeeze.\", 'E': \"Gravitational waves have an amplitude denoted by f, which represents the frequency of the wave's oscillation. The amplitude varies with time according to Newton's quadrupole formula. Gravitational waves also have a frequency denoted by h, which is the size of the wave, and a wavelength denoted by λ, which is the distance between points of minimum stretch or squeeze.\", 'answer': 'C'}\n",
            "{'id': 184, 'prompt': 'What is the difference between the coevolution of myrmecophytes and the mutualistic symbiosis of mycorrhiza?', 'A': 'Myrmecophytes coevolve with ants, providing them with a home and sometimes food, while the ants defend the plant from herbivores and competing plants. On the other hand, mycorrhiza is a mutualistic symbiosis between plants and fungi, where the fungi help the plants gain water and mineral nutrients from the soil, while the plant gives the fungi carbohydrates manufactured in photosynthesis.', 'B': 'Myrmecophytes coevolve with ants, providing them with food, while the ants defend the plant from herbivores and competing plants. On the other hand, mycorrhiza is a mutualistic symbiosis between plants and fungi, where the fungi help the plants gain water and mineral nutrients from the soil, while the plant gives the fungi water and mineral nutrients.', 'C': 'Myrmecophytes coevolve with butterflies, providing them with a home and sometimes food, while the butterflies defend the plant from herbivores and competing plants. On the other hand, mycorrhiza is a mutualistic symbiosis between plants and birds, where the birds help the plants gain water and mineral nutrients from the soil, while the plant gives the birds carbohydrates manufactured in photosynthesis.', 'D': 'Myrmecophytes coevolve with birds, providing them with a home and sometimes food, while the birds defend the plant from herbivores and competing plants. On the other hand, mycorrhiza is a mutualistic symbiosis between plants and bacteria, where the bacteria help the plants gain water and mineral nutrients from the soil, while the plant gives the bacteria carbohydrates manufactured in photosynthesis.', 'E': 'Myrmecophytes coevolve with bees, providing them with a home and sometimes food, while the bees defend the plant from herbivores and competing plants. On the other hand, mycorrhiza is a mutualistic symbiosis between plants and insects, where the insects help the plants gain water and mineral nutrients from the soil, while the plant gives the insects carbohydrates manufactured in photosynthesis.', 'answer': 'A'}\n",
            "{'id': 185, 'prompt': \"What is the Kelvin-Helmholtz instability and how does it affect Earth's magnetosphere?\", 'A': 'The Kelvin-Helmholtz instability is a phenomenon that occurs when large swirls of plasma travel along the edge of the magnetosphere at a different velocity from the magnetosphere, causing the plasma to slip past. This results in magnetic reconnection, and as the magnetic field lines break and reconnect, solar wind particles are able to enter the magnetosphere.', 'B': 'The Kelvin-Helmholtz instability is a phenomenon that occurs when the magnetosphere is compared to a sieve because it allows solar wind particles to enter.', 'C': \"The Kelvin-Helmholtz instability is a phenomenon that occurs when Earth's bow shock is about 17 kilometers (11 mi) thick and located about 90,000 kilometers (56,000 mi) from Earth.\", 'D': \"The Kelvin-Helmholtz instability is a phenomenon that occurs when the magnetic field extends in the magnetotail on Earth's nightside, which lengthwise exceeds 6,300,000 kilometers (3,900,000 mi).\", 'E': \"The Kelvin-Helmholtz instability is a phenomenon that occurs when the magnetosphere is compressed by the solar wind to a distance of approximately 65,000 kilometers (40,000 mi) on the dayside of Earth. This results in the magnetopause existing at a distance of several hundred kilometers above Earth's surface.\", 'answer': 'A'}\n",
            "{'id': 186, 'prompt': 'What is the significance of the high degree of fatty-acyl disorder in the thylakoid membranes of plants?', 'A': 'The high degree of fatty-acyl disorder in the thylakoid membranes of plants is responsible for the low fluidity of membrane lipid fatty-acyl chains in the gel phase.', 'B': 'The high degree of fatty-acyl disorder in the thylakoid membranes of plants is responsible for the exposure of chloroplast thylakoid membranes to cold environmental temperatures.', 'C': 'The high degree of fatty-acyl disorder in the thylakoid membranes of plants allows for innate fluidity even at relatively low temperatures.', 'D': 'The high degree of fatty-acyl disorder in the thylakoid membranes of plants allows for a gel-to-liquid crystalline phase transition temperature to be determined by many techniques.', 'E': 'The high degree of fatty-acyl disorder in the thylakoid membranes of plants restricts the movement of membrane proteins, thus hindering their physiological role.', 'answer': 'C'}\n",
            "{'id': 187, 'prompt': 'What is the explanation for the effective supersymmetry in quark-diquark models?', 'A': 'Two different color charges close together appear as the corresponding anti-color under coarse resolution, which makes a diquark cluster viewed with coarse resolution effectively appear as an antiquark. Therefore, a baryon containing 3 valence quarks, of which two tend to cluster together as a diquark, behaves like a meson.', 'B': 'Two different color charges close together appear as the corresponding color under coarse resolution, which makes a diquark cluster viewed with coarse resolution effectively appear as a quark. Therefore, a baryon containing 3 valence quarks, of which two tend to cluster together as a diquark, behaves like a baryon.', 'C': 'Two different color charges close together appear as the corresponding color under fine resolution, which makes a diquark cluster viewed with fine resolution effectively appear as a quark. Therefore, a baryon containing 3 valence quarks, of which two tend to cluster together as a diquark, behaves like a baryon.', 'D': 'Two different color charges close together appear as the corresponding anti-color under fine resolution, which makes a diquark cluster viewed with fine resolution effectively appear as an antiquark. Therefore, a baryon containing 3 valence quarks, of which two tend to cluster together as a diquark, behaves like a meson.', 'E': 'Two different color charges close together appear as the corresponding anti-color under any resolution, which makes a diquark cluster viewed with any resolution effectively appear as an antiquark. Therefore, a baryon containing 3 valence quarks, of which two tend to cluster together as a diquark, behaves like a meson.', 'answer': 'A'}\n",
            "{'id': 188, 'prompt': 'What is the relationship between the complete electromagnetic Hamiltonian of a molecule and the parity operation?', 'A': 'The complete electromagnetic Hamiltonian of any molecule is invariant to the parity operation, and its eigenvalues cannot be given the parity symmetry label + or -.', 'B': 'The complete electromagnetic Hamiltonian of any molecule is dependent on the parity operation, and its eigenvalues can be given the parity symmetry label even or odd, respectively.', 'C': 'The complete electromagnetic Hamiltonian of any molecule is dependent on the parity operation, and its eigenvalues can be given the parity symmetry label + or - depending on whether they are even or odd, respectively.', 'D': 'The complete electromagnetic Hamiltonian of any molecule is invariant to the parity operation, and its eigenvalues can be given the parity symmetry label + or - depending on whether they are even or odd, respectively.', 'E': 'The complete electromagnetic Hamiltonian of any molecule does not involve the parity operation, and its eigenvalues cannot be given the parity symmetry label + or -.', 'answer': 'D'}\n",
            "{'id': 189, 'prompt': 'What is the difference between active and passive transport in cells?', 'A': 'Active transport and passive transport both require energy input from the cell to function.', 'B': 'Passive transport is powered by the arithmetic sum of osmosis and an electric field, while active transport requires energy input from the cell.', 'C': 'Passive transport requires energy input from the cell, while active transport is powered by the arithmetic sum of osmosis and an electric field.', 'D': 'Active transport and passive transport are both powered by the arithmetic sum of osmosis and an electric field.', 'E': 'Active transport is powered by the arithmetic sum of osmosis and an electric field, while passive transport requires energy input from the cell.', 'answer': 'B'}\n",
            "{'id': 190, 'prompt': 'What is the Heisenberg uncertainty principle and how does it relate to angular momentum in quantum mechanics?', 'A': 'The Heisenberg uncertainty principle states that the axis of rotation of a quantum particle is undefined, and that quantum particles possess a type of non-orbital angular momentum called \"spin\". This is because angular momentum, like other quantities in quantum mechanics, is expressed as a tensorial operator in relativistic quantum mechanics.', 'B': 'The Heisenberg uncertainty principle states that the total angular momentum of a system of particles is equal to the sum of the individual particle angular momenta, and that the centre of mass is for the system. This is because angular momentum, like other quantities in quantum mechanics, is expressed as an operator with quantized eigenvalues.', 'C': 'The Heisenberg uncertainty principle states that the total angular momentum of a system of particles is subject to quantization, and that the individual particle angular momenta are expressed as operators. This is because angular momentum, like other quantities in quantum mechanics, is subject to the Heisenberg uncertainty principle.', 'D': 'The Heisenberg uncertainty principle states that the axis of rotation of a quantum particle is undefined, and that at any given time, only one projection of angular momentum can be measured with definite precision, while the other two remain uncertain. This is because angular momentum, like other quantities in quantum mechanics, is subject to quantization and expressed as an operator with quantized eigenvalues.', 'E': 'The Heisenberg uncertainty principle states that at any given time, only one projection of angular momentum can be measured with definite precision, while the other two remain uncertain. This is because angular momentum, like other quantities in quantum mechanics, is expressed as an operator with quantized eigenvalues.', 'answer': 'E'}\n",
            "{'id': 191, 'prompt': 'What is the difference between natural convection and forced convection?', 'A': 'Natural convection and forced convection are the same phenomenon, where a fluid is forced to flow over the surface by an internal source such as fans, stirring, and pumps, causing the fluid to be less dense and displaced.', 'B': 'Natural convection and forced convection are two different phenomena that do not relate to each other.', 'C': 'Natural convection occurs when a fluid is in contact with a hot surface, causing the fluid to be less dense and displaced, while forced convection is when a fluid is forced to flow over the surface by an internal source such as fans, stirring, and pumps.', 'D': 'Natural convection is when a fluid is forced to flow over the surface by an internal source such as fans, stirring, and pumps, while forced convection occurs when a fluid is in contact with a hot surface, causing the fluid to be less dense and displaced.', 'E': 'Natural convection and forced convection are the same phenomenon, where a fluid is in contact with a hot surface, causing the fluid to be less dense and displaced, and then forced to flow over the surface by an internal source such as fans, stirring, and pumps.', 'answer': 'C'}\n",
            "{'id': 192, 'prompt': 'What is magnetic susceptibility?', 'A': \"Magnetic susceptibility is a measure of how much a material will absorb magnetization in an applied magnetic field. It is the ratio of magnetization to the applied magnetizing field intensity, allowing for a simple classification of most materials' responses to an applied magnetic field.\", 'B': \"Magnetic susceptibility is a measure of how much a material will become magnetized in an applied magnetic field. It is the ratio of magnetization to the applied magnetizing field intensity, allowing for a simple classification of most materials' responses to an applied magnetic field.\", 'C': \"Magnetic susceptibility is a measure of how much a material will resist magnetization in an applied magnetic field. It is the ratio of magnetization to the applied magnetizing field intensity, allowing for a simple classification of most materials' responses to an applied magnetic field.\", 'D': \"Magnetic susceptibility is a measure of how much a material will conduct magnetization in an applied magnetic field. It is the ratio of magnetization to the applied magnetizing field intensity, allowing for a simple classification of most materials' responses to an applied magnetic field.\", 'E': \"Magnetic susceptibility is a measure of how much a material will reflect magnetization in an applied magnetic field. It is the ratio of magnetization to the applied magnetizing field intensity, allowing for a simple classification of most materials' responses to an applied magnetic field.\", 'answer': 'B'}\n",
            "{'id': 193, 'prompt': 'What is a transient condensation cloud, also known as a Wilson cloud?', 'A': 'A visible cloud of smoke that forms when a nuclear weapon or a large amount of a conventional explosive is detonated in humid air, due to the burning of materials in the explosion.', 'B': 'A visible cloud of microscopic water droplets that forms when a nuclear weapon or a large amount of a conventional explosive is detonated in humid air, due to a temporary cooling of the air caused by a rarefaction of the air surrounding the explosion.', 'C': 'A visible cloud of microscopic water droplets that forms when a nuclear weapon or a large amount of a conventional explosive is detonated in dry air, due to a temporary cooling of the air caused by a rarefaction of the air surrounding the explosion.', 'D': 'A visible cloud of gas that forms when a nuclear weapon or a large amount of a conventional explosive is detonated in humid air, due to the release of gases from the explosion.', 'E': 'A visible cloud of smoke that forms when a nuclear weapon or a large amount of a conventional explosive is detonated in dry air, due to the burning of materials in the explosion.', 'answer': 'B'}\n",
            "{'id': 194, 'prompt': 'What is a uniform tiling in the hyperbolic plane?', 'A': 'A uniform tiling in the hyperbolic plane is a tessellation of the hyperbolic plane with irregular polygons as faces. These are not vertex-transitive and isogonal.', 'B': 'A uniform tiling in the hyperbolic plane is a tessellation of the hyperbolic plane with regular polygons as faces. These are not vertex-transitive and isogonal.', 'C': 'A uniform tiling in the hyperbolic plane is a tessellation of the hyperbolic plane with irregular polygons as faces. These are vertex-transitive and isogonal.', 'D': 'A uniform tiling in the hyperbolic plane is an edge-to-edge filling of the hyperbolic plane, with regular polygons as faces. These are vertex-transitive and isogonal.', 'E': 'A uniform tiling in the hyperbolic plane is an edge-to-edge filling of the hyperbolic plane, with irregular polygons as faces. These are vertex-transitive and isogonal.', 'answer': 'D'}\n",
            "{'id': 195, 'prompt': 'What is the relation between the three moment theorem and the bending moments at three successive supports of a continuous beam?', 'A': 'The three moment theorem expresses the relation between the deflection of two points on a beam relative to the point of intersection between tangent at those two points and the vertical through the first point.', 'B': 'The three moment theorem is used to calculate the maximum allowable bending moment of a beam, which is determined by the weight distribution of each segment of the beam.', 'C': 'The three moment theorem describes the relationship between bending moments at three successive supports of a continuous beam, subject to a loading on two adjacent spans with or without settlement of the supports.', 'D': \"The three moment theorem is used to calculate the weight distribution of each segment of a beam, which is required to apply Mohr's theorem.\", 'E': 'The three moment theorem is used to derive the change in slope of a deflection curve between two points of a beam, which is equal to the area of the M/EI diagram between those two points.', 'answer': 'C'}\n",
            "{'id': 196, 'prompt': 'What is the throttling process, and why is it important?', 'A': 'The throttling process is a steady flow of a fluid through a flow resistance, such as a valve or porous plug, and is responsible for the pressure increase in domestic refrigerators. This process is important because it is at the heart of the refrigeration cycle.', 'B': 'The throttling process is a steady adiabatic flow of a fluid through a flow resistance, such as a valve or porous plug, and is responsible for the temperature drop in domestic refrigerators. This process is important because it is at the heart of the refrigeration cycle.', 'C': 'The throttling process is a steady adiabatic flow of a fluid through a flow resistance, such as a valve or porous plug, and is responsible for the pressure drop in domestic refrigerators. This process is important because it is at the heart of the refrigeration cycle.', 'D': 'The throttling process is a steady flow of a fluid through a flow resistance, such as a valve or porous plug, and is responsible for the temperature increase in domestic refrigerators. This process is important because it is at the heart of the refrigeration cycle.', 'E': 'The throttling process is a steady adiabatic flow of a fluid through a flow resistance, such as a valve or porous plug, and is responsible for the temperature drop in domestic refrigerators. This process is not important because it is not used in the refrigeration cycle.', 'answer': 'B'}\n",
            "{'id': 197, 'prompt': 'What happens to excess base metal as a solution cools from the upper transformation temperature towards an insoluble state?', 'A': 'The excess base metal will often solidify, becoming the proeutectoid until the remaining concentration of solutes reaches the eutectoid level, which will then crystallize as a separate microstructure.', 'B': 'The excess base metal will often crystallize-out, becoming the proeutectoid until the remaining concentration of solutes reaches the eutectoid level, which will then crystallize as a separate microstructure.', 'C': 'The excess base metal will often dissolve, becoming the proeutectoid until the remaining concentration of solutes reaches the eutectoid level, which will then crystallize as a separate microstructure.', 'D': 'The excess base metal will often liquefy, becoming the proeutectoid until the remaining concentration of solutes reaches the eutectoid level, which will then crystallize as a separate microstructure.', 'E': 'The excess base metal will often evaporate, becoming the proeutectoid until the remaining concentration of solutes reaches the eutectoid level, which will then crystallize as a separate microstructure.', 'answer': 'B'}\n",
            "{'id': 198, 'prompt': \"What is the relationship between mass, force, and acceleration, according to Sir Isaac Newton's laws of motion?\", 'A': \"Mass is a property that determines the weight of an object. According to Newton's laws of motion and the formula F = ma, an object with a mass of one kilogram accelerates at one meter per second per second when acted upon by a force of one newton.\", 'B': \"Mass is an inertial property that determines an object's tendency to remain at constant velocity unless acted upon by an outside force. According to Newton's laws of motion and the formula F = ma, an object with a mass of one kilogram accelerates at ten meters per second per second when acted upon by a force of one newton.\", 'C': \"Mass is an inertial property that determines an object's tendency to remain at constant velocity unless acted upon by an outside force. According to Newton's laws of motion and the formula F = ma, an object with a mass of one kilogram accelerates at ten meters per second per second when acted upon by a force of ten newtons.\", 'D': \"Mass is an inertial property that determines an object's tendency to remain at constant velocity unless acted upon by an outside force. According to Newton's laws of motion and the formula F = ma, an object with a mass of one kilogram accelerates at one meter per second per second when acted upon by a force of one newton.\", 'E': \"Mass is a property that determines the size of an object. According to Newton's laws of motion and the formula F = ma, an object with a mass of one kilogram accelerates at one meter per second per second when acted upon by a force of ten newtons.\", 'answer': 'D'}\n",
            "{'id': 199, 'prompt': \"What did Arthur Eddington discover about two of Einstein's types of gravitational waves?\", 'A': \"Arthur Eddington showed that two of Einstein's types of waves were artifacts of the coordinate system he used, and could only be made to propagate at the speed of gravity by choosing appropriate coordinates.\", 'B': \"Arthur Eddington showed that two of Einstein's types of waves were artifacts of the coordinate system he used, and could only be made to propagate at the speed of sound by choosing appropriate coordinates.\", 'C': \"Arthur Eddington showed that two of Einstein's types of waves were artifacts of the coordinate system he used, and could be made to propagate at any speed by choosing appropriate coordinates.\", 'D': \"Arthur Eddington showed that two of Einstein's types of waves were artifacts of the coordinate system he used, and could not be made to propagate at any speed by choosing appropriate coordinates.\", 'E': \"Arthur Eddington showed that two of Einstein's types of waves were artifacts of the coordinate system he used, and could only be made to propagate at the speed of light by choosing appropriate coordinates.\", 'answer': 'C'}\n",
            "<class 'datasets.arrow_dataset.Dataset'>\n"
          ]
        }
      ],
      "source": [
        "# We'll create a dictionary to convert option names (A, B, C, D, E) into indices and back again\n",
        "options = 'ABCDE'\n",
        "indices = list(range(5))\n",
        "\n",
        "option_to_index = {option: index for option, index in zip(options, indices)}\n",
        "index_to_option = {index: option for option, index in zip(options, indices)}\n",
        "\n",
        "def preprocess(example):\n",
        "    # The AutoModelForMultipleChoice class expects a set of question/answer pairs\n",
        "    # so we'll copy our question 5 times before tokenizing\n",
        "    print(example)\n",
        "    first_sentence = [example['prompt']] * 5\n",
        "    second_sentence = []\n",
        "    for option in options:\n",
        "        second_sentence.append(example[option])\n",
        "    # Our tokenizer will turn our text into token IDs BERT can understand\n",
        "    tokenized_example = tokenizer(first_sentence, second_sentence, truncation=True)\n",
        "    tokenized_example['label'] = option_to_index[example['answer']]\n",
        "    return tokenized_example\n",
        "\n",
        "tokenized_train_ds = train_ds.map(preprocess, batched=False, remove_columns=['prompt', 'A', 'B', 'C', 'D', 'E', 'answer'])\n",
        "print(type(tokenized_train_ds))"
      ]
    },
    {
      "cell_type": "markdown",
      "metadata": {
        "id": "pxVSPUQf3cKY"
      },
      "source": [
        "\n",
        "options = 'ABCDE': This line creates a string containing the options for a multiple-choice question. In this case, the options are 'A', 'B', 'C', 'D', and 'E'.\n",
        "indices = list(range(5)): This line creates a list of indices corresponding to the options. In this case, it creates the list [0, 1, 2, 3, 4].\n",
        "option_to_index = {option: index for option, index in zip(options, indices)}: This line creates a dictionary (option_to_index) mapping each option to its corresponding index.\n",
        "index_to_option = {index: option for option, index in zip(options, indices)}: This line creates a dictionary (index_to_option) mapping each index to its corresponding option.\n",
        "These dictionaries (option_to_index and index_to_option) are  used for converting between option names and numerical indices\n",
        "\n",
        "def preprocess(example):: This line defines a function named preprocess that takes an example as input. first_sentence = [example['prompt']] * 5: This line creates a list (first_sentence) by repeating the prompt of the example 5 times. This is  because the model expects a set of question/answer pairs, and here, each option will be paired with the same question.\n",
        "\n",
        "second_sentence = []: This line initializes an empty list\n",
        "\n",
        "(second_sentence), which will be filled with the text of each option. for option in options:: This line starts a loop over each option ('A', 'B', 'C', 'D', 'E'). second_sentence.append(example[option]): Inside the loop, the text of each option is added to the second_sentence list.\n",
        "\n",
        "tokenized_example = tokenizer(first_sentence, second_sentence, truncation=True): This line tokenizes the pairs of questions and options using a tokenizer (assumed to be defined elsewhere in the code) and sets truncation=True to handle cases where the tokenized text exceeds a certain length. tokenized_example['label'] = option_to_index[example['answer']]: This line adds a 'label' key to the tokenized_example dictionary, representing the index of the correct answer option.\n",
        "\n",
        "return tokenized_example: The function returns the tokenized example"
      ]
    },
    {
      "cell_type": "code",
      "execution_count": 12,
      "metadata": {
        "id": "OJN78x97dE0h"
      },
      "outputs": [],
      "source": [
        "# Following datacollator (adapted from https://huggingface.co/docs/transformers/tasks/multiple_choice)\n",
        "# will dynamically pad our questions at batch-time so we don't have to make every question the length\n",
        "# of our longest question.\n",
        "from dataclasses import dataclass\n",
        "from transformers.tokenization_utils_base import PreTrainedTokenizerBase, PaddingStrategy\n",
        "from typing import Optional, Union\n",
        "import torch\n",
        "\n",
        "@dataclass\n",
        "class DataCollatorForMultipleChoice:\n",
        "    tokenizer: PreTrainedTokenizerBase\n",
        "    padding: Union[bool, str, PaddingStrategy] = True\n",
        "    max_length: Optional[int] = None\n",
        "    pad_to_multiple_of: Optional[int] = None\n",
        "\n",
        "    def __call__(self, features):\n",
        "        label_name = \"label\" if 'label' in features[0].keys() else 'labels'\n",
        "        labels = [feature.pop(label_name) for feature in features]\n",
        "        batch_size = len(features)\n",
        "        num_choices = len(features[0]['input_ids'])\n",
        "        flattened_features = [\n",
        "            [{k: v[i] for k, v in feature.items()} for i in range(num_choices)] for feature in features\n",
        "        ]\n",
        "        flattened_features = sum(flattened_features, [])\n",
        "\n",
        "        batch = self.tokenizer.pad(\n",
        "            flattened_features,\n",
        "            padding=self.padding,\n",
        "            max_length=self.max_length,\n",
        "            pad_to_multiple_of=self.pad_to_multiple_of,\n",
        "            return_tensors='pt',\n",
        "        )\n",
        "        batch = {k: v.view(batch_size, num_choices, -1) for k, v in batch.items()}\n",
        "        batch['labels'] = torch.tensor(labels, dtype=torch.int64)\n",
        "        return batch"
      ]
    },
    {
      "cell_type": "markdown",
      "metadata": {
        "id": "KUCuOluD28pv"
      },
      "source": [
        "Importing various classes like 'dataclass' ,pytorch library, padding strategy etc.\n",
        "\n",
        "'Call' function is called as an instance of class because it flattens the features to make them suitable for processing multiple-choice datasets. It creates a list of dictionaries where each dictionary represents a choice for each example.\n",
        "\n",
        "Then it uses the 'pad' method of the tokenizer to pad the flattened features. This is where the padding strategy specified earlier is applied. The resulting batch is returned as PyTorch tensors.\n",
        "then the tensors are reshaped in the batch to have correct dimensions.\n",
        "\n",
        "It creates a new key 'labels' in the batch, containing the labels converted to a PyTorch tensor.\n",
        "The final batch is then returned\n",
        "This DataCollatorForMultipleChoice class is designed to be used with Hugging Face Transformers library for processing multiple-choice datasets during training. It takes a list of features, extracts labels, flattens the features, pads them, and returns a batch suitable for training a model on a multiple-choice task\n"
      ]
    },
    {
      "cell_type": "code",
      "execution_count": 8,
      "metadata": {
        "id": "8b__T546dII3"
      },
      "outputs": [
        {
          "name": "stderr",
          "output_type": "stream",
          "text": [
            "Some weights of BertForMultipleChoice were not initialized from the model checkpoint at bert-base-uncased and are newly initialized: ['classifier.bias', 'classifier.weight']\n",
            "You should probably TRAIN this model on a down-stream task to be able to use it for predictions and inference.\n"
          ]
        }
      ],
      "source": [
        "from transformers import AutoModelForMultipleChoice, TrainingArguments, Trainer\n",
        "model = AutoModelForMultipleChoice.from_pretrained(model_dir)"
      ]
    },
    {
      "cell_type": "markdown",
      "metadata": {
        "id": "kZ8BXN4zJl2Q"
      },
      "source": [
        "AutoModelForMultipleChoice: This class allows you to load a pre-trained model specifically designed for multiple-choice tasks. It automatically identifies the correct model architecture based on the provided identifier.\n",
        "TrainingArguments: This class holds hyperparameters and other settings for training a model. It is used to configure the training process.\n",
        "Trainer: This class facilitates the training of a model using Hugging Face's training loop. It takes care of handling data loading, optimization, and other training-related tasks.\n",
        "AutoModelForMultipleChoice.from_pretrained(model_dir): initializes a model for multiple-choice tasks by loading pre-trained weights from the directory specified by model_dir. The AutoModelForMultipleChoice class automatically identifies the model architecture based on the content of the directory\n",
        "\n",
        "these lines of code set up the necessary classes and instantiate a pre-trained model for multiple-choice tasks. The from_pretrained method loads the pre-trained weights of the model, making it ready for further fine-tuning or evaluation on multiple-choice datasets."
      ]
    },
    {
      "cell_type": "code",
      "execution_count": 9,
      "metadata": {
        "id": "7vSWvQV0dcsB"
      },
      "outputs": [],
      "source": [
        "model_dir = 'finetuned_bert'\n",
        "training_args = TrainingArguments(\n",
        "    output_dir=model_dir,\n",
        "    evaluation_strategy=\"epoch\",\n",
        "    save_strategy=\"epoch\",\n",
        "    load_best_model_at_end=True,\n",
        "    learning_rate=5e-5,\n",
        "    per_device_train_batch_size=4,\n",
        "    per_device_eval_batch_size=4,\n",
        "    num_train_epochs=3,\n",
        "    weight_decay=0.01,\n",
        "    report_to='none'\n",
        ")"
      ]
    },
    {
      "cell_type": "code",
      "execution_count": 13,
      "metadata": {
        "colab": {
          "base_uri": "https://localhost:8080/",
          "height": 245
        },
        "id": "dVVqioyddRYQ",
        "outputId": "a608d73c-7571-4599-aa76-200d0dd03e91"
      },
      "outputs": [],
      "source": [
        "trainer = Trainer(\n",
        "    model=model,\n",
        "    args=training_args,\n",
        "    train_dataset=tokenized_train_ds,\n",
        "    eval_dataset=tokenized_train_ds,\n",
        "    tokenizer=tokenizer,\n",
        "    data_collator=DataCollatorForMultipleChoice(tokenizer=tokenizer),\n",
        ")"
      ]
    },
    {
      "cell_type": "markdown",
      "metadata": {
        "id": "oMP8FkogKcEY"
      },
      "source": [
        "Trainer object, which is part of the Hugging Face Transformers library. The Trainer class facilitates the training of a mode\n",
        "initializing various parameters which will specify the model that will be trained also the training arguments ,tokenizers,provides the evaluation dataset to the 'trainer' method\n",
        "\n",
        "The Trainer object is configured with the necessary components, and you can use it to train the model by calling the trainer.train() method. The Trainer will handle the training loop, data loading, and other aspects of the training process based on the provided configuration."
      ]
    },
    {
      "cell_type": "code",
      "execution_count": 14,
      "metadata": {
        "colab": {
          "base_uri": "https://localhost:8080/",
          "height": 176
        },
        "id": "tkAfHrH5eweb",
        "outputId": "4857c2e6-3e62-450d-802d-6f24d03cf447"
      },
      "outputs": [
        {
          "data": {
            "application/vnd.jupyter.widget-view+json": {
              "model_id": "982006a0e70a46ceaa1b23ad860c6b71",
              "version_major": 2,
              "version_minor": 0
            },
            "text/plain": [
              "  0%|          | 0/150 [00:00<?, ?it/s]"
            ]
          },
          "metadata": {},
          "output_type": "display_data"
        },
        {
          "name": "stderr",
          "output_type": "stream",
          "text": [
            "You're using a BertTokenizerFast tokenizer. Please note that with a fast tokenizer, using the `__call__` method is faster than using a method to encode the text followed by a call to the `pad` method to get a padded encoding.\n"
          ]
        },
        {
          "data": {
            "application/vnd.jupyter.widget-view+json": {
              "model_id": "5b5e5185b90b451fbb4d841772057bbd",
              "version_major": 2,
              "version_minor": 0
            },
            "text/plain": [
              "  0%|          | 0/50 [00:00<?, ?it/s]"
            ]
          },
          "metadata": {},
          "output_type": "display_data"
        },
        {
          "name": "stdout",
          "output_type": "stream",
          "text": [
            "{'eval_loss': 1.5298972129821777, 'eval_runtime': 42.3907, 'eval_samples_per_second': 4.718, 'eval_steps_per_second': 1.18, 'epoch': 1.0}\n"
          ]
        },
        {
          "data": {
            "application/vnd.jupyter.widget-view+json": {
              "model_id": "dd2cc971bd094570b2528710b3db8722",
              "version_major": 2,
              "version_minor": 0
            },
            "text/plain": [
              "  0%|          | 0/50 [00:00<?, ?it/s]"
            ]
          },
          "metadata": {},
          "output_type": "display_data"
        },
        {
          "name": "stdout",
          "output_type": "stream",
          "text": [
            "{'eval_loss': 1.212509036064148, 'eval_runtime': 42.2526, 'eval_samples_per_second': 4.733, 'eval_steps_per_second': 1.183, 'epoch': 2.0}\n"
          ]
        },
        {
          "data": {
            "application/vnd.jupyter.widget-view+json": {
              "model_id": "73b660e5d978430ca85e7e37d1d6e2cc",
              "version_major": 2,
              "version_minor": 0
            },
            "text/plain": [
              "  0%|          | 0/50 [00:00<?, ?it/s]"
            ]
          },
          "metadata": {},
          "output_type": "display_data"
        },
        {
          "name": "stdout",
          "output_type": "stream",
          "text": [
            "{'eval_loss': 1.043859601020813, 'eval_runtime': 41.9628, 'eval_samples_per_second': 4.766, 'eval_steps_per_second': 1.192, 'epoch': 3.0}\n",
            "{'train_runtime': 590.8642, 'train_samples_per_second': 1.015, 'train_steps_per_second': 0.254, 'train_loss': 1.416864725748698, 'epoch': 3.0}\n"
          ]
        },
        {
          "data": {
            "text/plain": [
              "TrainOutput(global_step=150, training_loss=1.416864725748698, metrics={'train_runtime': 590.8642, 'train_samples_per_second': 1.015, 'train_steps_per_second': 0.254, 'train_loss': 1.416864725748698, 'epoch': 3.0})"
            ]
          },
          "execution_count": 14,
          "metadata": {},
          "output_type": "execute_result"
        }
      ],
      "source": [
        "trainer.train()"
      ]
    },
    {
      "cell_type": "code",
      "execution_count": 15,
      "metadata": {},
      "outputs": [
        {
          "data": {
            "text/plain": [
              "Dataset({\n",
              "    features: ['id', 'input_ids', 'token_type_ids', 'attention_mask', 'label'],\n",
              "    num_rows: 200\n",
              "})"
            ]
          },
          "execution_count": 15,
          "metadata": {},
          "output_type": "execute_result"
        }
      ],
      "source": [
        "tokenized_train_ds"
      ]
    },
    {
      "cell_type": "code",
      "execution_count": 18,
      "metadata": {
        "colab": {
          "base_uri": "https://localhost:8080/",
          "height": 17
        },
        "id": "K62WoVghBv87",
        "outputId": "242cc2d5-f3dc-48c1-c5ce-d29c11615451"
      },
      "outputs": [
        {
          "data": {
            "application/vnd.jupyter.widget-view+json": {
              "model_id": "b7e5e7ec7ff5403180c49b6bf49aa934",
              "version_major": 2,
              "version_minor": 0
            },
            "text/plain": [
              "  0%|          | 0/50 [00:00<?, ?it/s]"
            ]
          },
          "metadata": {},
          "output_type": "display_data"
        }
      ],
      "source": [
        "# Now we can actually make predictions on our questions\n",
        "predictions = trainer.predict(tokenized_train_ds)"
      ]
    },
    {
      "cell_type": "code",
      "execution_count": 20,
      "metadata": {},
      "outputs": [
        {
          "data": {
            "application/vnd.jupyter.widget-view+json": {
              "model_id": "3ce48ca5133f4dc684ac2e17048d2497",
              "version_major": 2,
              "version_minor": 0
            },
            "text/plain": [
              "Map:   0%|          | 0/1 [00:00<?, ? examples/s]"
            ]
          },
          "metadata": {},
          "output_type": "display_data"
        },
        {
          "name": "stdout",
          "output_type": "stream",
          "text": [
            "{'id': 0, 'prompt': 'What is the PH of H2O? ', 'A': '7', 'B': '8', 'C': '9', 'D': '10', 'E': '6', 'answer': 'A'}\n"
          ]
        },
        {
          "data": {
            "application/vnd.jupyter.widget-view+json": {
              "model_id": "5fdb3b981d4b4895b42f4fb6b876029e",
              "version_major": 2,
              "version_minor": 0
            },
            "text/plain": [
              "  0%|          | 0/1 [00:00<?, ?it/s]"
            ]
          },
          "metadata": {},
          "output_type": "display_data"
        },
        {
          "data": {
            "text/plain": [
              "array(['B C A'], dtype='<U5')"
            ]
          },
          "execution_count": 20,
          "metadata": {},
          "output_type": "execute_result"
        }
      ],
      "source": [
        "def preprocess(example):\n",
        "    # The AutoModelForMultipleChoice class expects a set of question/answer pairs\n",
        "    # so we'll copy our question 5 times before tokenizing\n",
        "    print(example)\n",
        "    first_sentence = [example['prompt']] * 5\n",
        "    second_sentence = []\n",
        "    for option in options:\n",
        "        second_sentence.append(example[option])\n",
        "    # Our tokenizer will turn our text into token IDs BERT can understand\n",
        "    tokenized_example = tokenizer(first_sentence, second_sentence, truncation=True)\n",
        "    tokenized_example['label'] = option_to_index[example['answer']]\n",
        "    return tokenized_example\n",
        "    \n",
        "example = {};\n",
        "question = \"What is the PH of H2O? \"\n",
        "A = [\"7\"]\n",
        "B = [\"8\"]\n",
        "C = [\"9\"]\n",
        "D = [\"10\"]\n",
        "E = [\"6\"]\n",
        "answer = []\n",
        "example['id'] = 0\n",
        "example['prompt'] = question\n",
        "example['A'] = A \n",
        "example['B'] = B \n",
        "example['C'] = C \n",
        "example['D'] = D\n",
        "example['E'] = E \n",
        "example['answer'] = 'A'\n",
        "example\n",
        "exam = pd.DataFrame(example)\n",
        "x = Dataset.from_pandas(exam)\n",
        "tokenized_data = x.map(preprocess, batched=False, remove_columns=['prompt', 'A', 'B', 'C', 'D', 'E', 'answer'])\n",
        "result = trainer.predict(tokenized_data)\n",
        "# print(type(tokenized_data))\n",
        "# print(result)\n",
        "\n",
        "import numpy as np\n",
        "def predictions_to_map_output(predictions):\n",
        "    sorted_answer_indices = np.argsort(-predictions)\n",
        "    top_answer_indices = sorted_answer_indices[:,:3] # Get the first three answers in each row\n",
        "    top_answers = np.vectorize(index_to_option.get)(top_answer_indices)\n",
        "    return np.apply_along_axis(lambda row: ' '.join(row), 1, top_answers)\n",
        "\n",
        "predictions_to_map_output(result.predictions)\n",
        "\n"
      ]
    },
    {
      "cell_type": "markdown",
      "metadata": {
        "id": "Iq3yfrO5L4Sq"
      },
      "source": [
        "code is used to obtain predictions based on the provided dataset\n",
        "predict(tokenized_train_ds): The predict method of the Trainer class is called, and it takes a dataset (tokenized_train_ds) as input. This method is used for making predictions on a dataset using the trained model.\n",
        "\n",
        "predictions: The result of the predict method, which typically contains the model's predictions on the input dataset. The format of predictions depends on the task and the model. It might be a tuple or dictionary containing various information, such as predicted labels, probabilities, or logits.\n",
        "code is generating predictions on the training dataset using the model that was previously trained using the Trainer. The specific format of predictions would need to be examined based on the task and model used in your case."
      ]
    },
    {
      "cell_type": "code",
      "execution_count": 21,
      "metadata": {
        "id": "DnA7nblgQCHr"
      },
      "outputs": [
        {
          "data": {
            "text/plain": [
              "PredictionOutput(predictions=array([[-6.23253286e-01,  1.01084614e+00, -6.80462539e-01,\n",
              "         1.05002737e+00, -1.26252627e+00],\n",
              "       [ 2.06318808e+00,  2.15732503e+00,  2.05603743e+00,\n",
              "         2.13726711e+00,  2.21373105e+00],\n",
              "       [ 7.57908940e-01,  6.64706767e-01,  7.08237708e-01,\n",
              "         6.56792521e-01,  6.84319973e-01],\n",
              "       [ 2.19878554e+00,  1.59486473e+00,  1.81440425e+00,\n",
              "         1.75777984e+00,  1.13589644e+00],\n",
              "       [ 8.71371269e-01,  8.72334599e-01,  8.25431049e-01,\n",
              "         8.89424264e-01,  8.97336960e-01],\n",
              "       [ 9.81819630e-01,  1.45710254e+00,  1.27910197e+00,\n",
              "         9.10853088e-01,  1.08224690e+00],\n",
              "       [ 1.08989918e+00,  1.08156466e+00,  1.07179427e+00,\n",
              "         1.07945859e+00, -6.88880682e-02],\n",
              "       [ 2.18749374e-01,  7.26040483e-01,  1.02784950e-02,\n",
              "         8.05796146e-01,  7.36554980e-01],\n",
              "       [ 3.82177532e-01,  4.24188256e-01,  4.68825191e-01,\n",
              "         3.60676140e-01,  4.16424841e-01],\n",
              "       [ 1.60811710e+00, -2.02646947e+00, -9.49229956e-01,\n",
              "        -2.04215002e+00, -1.81801414e+00],\n",
              "       [ 1.89279544e+00,  2.02535963e+00,  1.97822213e+00,\n",
              "         1.74491954e+00,  2.02708316e+00],\n",
              "       [ 2.29140830e+00,  3.31541374e-02, -1.55071068e+00,\n",
              "         2.30862832e+00, -1.49347615e+00],\n",
              "       [-1.45552397e+00, -1.09720957e+00,  2.28306103e+00,\n",
              "        -1.54870439e+00, -1.30857539e+00],\n",
              "       [-3.43133837e-01, -3.25068414e-01,  8.21602345e-01,\n",
              "         1.52913237e+00,  1.22943807e+00],\n",
              "       [ 7.30701268e-01,  1.64009750e+00, -1.69437957e+00,\n",
              "        -1.42191148e+00, -9.05511022e-01],\n",
              "       [-1.33331335e+00, -1.77909756e+00, -1.99844134e+00,\n",
              "        -1.91453743e+00, -2.05638742e+00],\n",
              "       [-1.82819223e+00, -2.89821148e-01, -1.49828374e+00,\n",
              "        -1.54905188e+00,  3.91165346e-01],\n",
              "       [-9.40136075e-01, -1.97983241e+00, -1.96740770e+00,\n",
              "        -1.84312510e+00,  6.18424654e-01],\n",
              "       [-1.68524706e+00, -1.67644835e+00, -1.83177865e+00,\n",
              "        -1.64885354e+00, -1.81538844e+00],\n",
              "       [ 2.19194555e+00,  1.96620941e+00,  1.99981284e+00,\n",
              "         1.89220929e+00,  2.29062557e+00],\n",
              "       [-1.98825800e+00,  1.15674400e+00, -1.21083212e+00,\n",
              "         1.10875678e+00, -1.60702276e+00],\n",
              "       [-2.01808929e+00, -1.81677818e+00, -1.85136569e+00,\n",
              "        -1.51470613e+00, -1.53828144e+00],\n",
              "       [-1.96746087e+00, -1.95687449e+00, -8.01015496e-01,\n",
              "        -1.93986106e+00, -2.00320554e+00],\n",
              "       [-6.78703070e-01, -2.82286495e-01,  2.05976582e+00,\n",
              "        -1.70230329e+00, -3.26793164e-01],\n",
              "       [ 4.09432441e-01,  4.55776244e-01,  2.21275091e-01,\n",
              "         4.38173503e-01,  4.12413061e-01],\n",
              "       [-2.14618206e+00, -2.11784458e+00, -2.13114762e+00,\n",
              "        -2.16818786e+00,  2.42659712e+00],\n",
              "       [ 2.44189954e+00, -1.97961831e+00, -1.61458564e+00,\n",
              "        -1.71685219e+00, -1.67087173e+00],\n",
              "       [-8.82631361e-01,  8.17140341e-02,  4.91804719e-01,\n",
              "         1.03915358e+00, -4.29907471e-01],\n",
              "       [ 1.30577230e+00,  1.53940725e+00,  1.32209182e+00,\n",
              "         3.89226228e-02,  1.60459733e+00],\n",
              "       [-2.11443329e+00, -1.86339545e+00,  1.98542929e+00,\n",
              "        -2.11838293e+00, -1.95861578e+00],\n",
              "       [ 2.23227358e+00,  2.29531431e+00,  1.73140669e+00,\n",
              "         2.35385346e+00,  1.83746183e+00],\n",
              "       [ 2.24261910e-01,  6.24663383e-02,  5.02551943e-02,\n",
              "         1.35675654e-01,  1.60630673e-01],\n",
              "       [-5.09683430e-01,  1.40807486e+00, -1.73401260e+00,\n",
              "         3.83272976e-01,  2.11627150e+00],\n",
              "       [ 1.88206899e+00,  1.89312947e+00,  1.79363275e+00,\n",
              "         1.97536349e+00,  1.92049766e+00],\n",
              "       [-1.23523784e+00, -1.16451955e+00, -1.16556215e+00,\n",
              "        -1.20982039e+00, -1.26258278e+00],\n",
              "       [-3.15814167e-01,  1.08105564e+00, -1.34726930e+00,\n",
              "         9.57904696e-01,  6.60671234e-01],\n",
              "       [ 2.15786457e+00,  2.10598326e+00,  2.12004185e+00,\n",
              "         2.15339708e+00,  2.14797783e+00],\n",
              "       [ 2.03708220e+00, -2.12707663e+00, -2.08615971e+00,\n",
              "        -1.17164481e+00, -2.10324264e+00],\n",
              "       [-2.07006836e+00, -2.09952903e+00, -2.09628201e+00,\n",
              "        -2.05453086e+00,  2.30600977e+00],\n",
              "       [ 3.43602896e-01,  1.11960635e-01,  1.75331295e-01,\n",
              "         1.55493543e-01,  2.99441129e-01],\n",
              "       [ 2.37570000e+00,  2.31803966e+00,  2.32034945e+00,\n",
              "         2.37743139e+00,  2.40984535e+00],\n",
              "       [-8.06447685e-01, -8.85258079e-01, -8.00080597e-01,\n",
              "        -8.24526072e-01, -6.94712162e-01],\n",
              "       [ 1.42989516e-01,  3.99283409e-01, -9.98317748e-02,\n",
              "        -1.30114347e-01, -3.94549698e-01],\n",
              "       [ 1.00791454e+00,  1.60938692e+00,  2.19197798e+00,\n",
              "         2.37060547e+00,  1.64155722e+00],\n",
              "       [ 7.29007006e-01,  6.63393259e-01, -3.28263134e-01,\n",
              "         7.78818011e-01, -3.68579596e-01],\n",
              "       [ 2.18032455e+00,  2.17959142e+00,  1.10112488e+00,\n",
              "         6.61987662e-01,  8.44549015e-02],\n",
              "       [-1.49491772e-01,  7.26016879e-01, -1.24964476e-01,\n",
              "        -7.37865865e-02, -3.69637728e-01],\n",
              "       [-1.43742442e+00, -1.51563823e+00,  1.42024195e+00,\n",
              "        -1.40949059e+00, -1.50105250e+00],\n",
              "       [ 1.70299208e+00,  1.68929482e+00,  1.77880943e+00,\n",
              "         1.78454232e+00,  1.69933176e+00],\n",
              "       [ 2.35710716e+00,  2.39311934e+00,  2.12055302e+00,\n",
              "         2.13270950e+00,  2.25424671e+00],\n",
              "       [-7.09037423e-01,  2.18880725e+00, -4.82729763e-01,\n",
              "        -1.13850713e+00, -1.24630845e+00],\n",
              "       [ 2.17196897e-01,  1.56213090e-01,  4.83587503e-01,\n",
              "         3.35873187e-01,  5.07687569e-01],\n",
              "       [ 9.95328903e-01, -1.72039080e+00,  1.65730560e+00,\n",
              "        -1.76073468e+00, -1.61578345e+00],\n",
              "       [-1.24534130e-01, -7.70935297e-01, -2.52834707e-01,\n",
              "        -4.79579806e-01, -8.89998674e-01],\n",
              "       [ 3.33661348e-01,  3.64284396e-01,  4.36611742e-01,\n",
              "         3.89617473e-01,  1.83652639e-01],\n",
              "       [-1.99367142e+00, -1.67978942e+00, -1.98159099e+00,\n",
              "        -1.99845648e+00, -1.95459580e+00],\n",
              "       [-2.00395203e+00, -1.99622250e+00,  2.21807671e+00,\n",
              "        -1.99849653e+00, -1.97639406e+00],\n",
              "       [-1.07304025e+00,  1.90179157e+00,  2.16990232e+00,\n",
              "        -1.54501843e+00, -1.93027687e+00],\n",
              "       [-5.91326296e-01, -5.74390590e-01, -5.92227340e-01,\n",
              "        -2.16462612e-01, -4.88393515e-01],\n",
              "       [ 2.25530720e+00,  2.27757883e+00,  2.26468229e+00,\n",
              "         1.73548341e+00,  1.42181635e+00],\n",
              "       [-1.90907121e+00,  1.34325075e+00, -1.90615821e+00,\n",
              "        -1.96063733e+00, -1.94060302e+00],\n",
              "       [ 2.41712546e+00,  2.47202969e+00,  2.49555039e+00,\n",
              "         2.39361048e+00,  2.45428133e+00],\n",
              "       [-8.79275441e-01, -7.68843770e-01, -5.28175831e-01,\n",
              "        -1.04856443e+00, -1.03411293e+00],\n",
              "       [ 2.90397853e-01,  6.08490333e-02,  2.06714439e+00,\n",
              "        -2.02849364e+00, -1.23900735e+00],\n",
              "       [ 3.89447868e-01,  3.15158576e-01,  1.62571475e-01,\n",
              "         3.11573762e-02,  4.40078199e-01],\n",
              "       [ 3.65421325e-01, -2.80222327e-01, -5.01921177e-01,\n",
              "        -2.87040085e-01,  5.80345511e-01],\n",
              "       [-1.82257974e+00, -2.09427595e+00, -2.35844165e-01,\n",
              "        -1.78632069e+00, -2.00930977e+00],\n",
              "       [-2.07295752e+00, -2.09872627e+00, -2.06147194e+00,\n",
              "        -2.07883048e+00, -5.71231067e-01],\n",
              "       [ 1.49856734e+00,  1.66718125e+00,  1.90063798e+00,\n",
              "         1.93087029e+00,  1.90952098e+00],\n",
              "       [-2.06689215e+00, -2.03276038e+00, -2.01731873e+00,\n",
              "         1.97586060e+00, -1.90153825e+00],\n",
              "       [-1.74757528e+00, -1.81671631e+00, -1.73887837e+00,\n",
              "        -1.84981525e+00, -1.77838206e+00],\n",
              "       [ 2.39166880e+00, -5.12416720e-01, -3.10590774e-01,\n",
              "        -5.25820374e-01,  7.62807488e-01],\n",
              "       [-2.05312395e+00, -2.03510380e+00, -2.06418324e+00,\n",
              "        -1.94100475e+00, -1.96341407e+00],\n",
              "       [ 1.86033010e+00,  2.16177177e+00,  1.85744631e+00,\n",
              "         1.88910604e+00,  2.01671171e+00],\n",
              "       [-1.05475533e+00, -8.83063674e-01, -9.62367117e-01,\n",
              "        -8.28753263e-02, -9.49212968e-01],\n",
              "       [ 5.32410324e-01,  5.38651824e-01,  5.45440316e-01,\n",
              "         5.42949736e-01,  5.34820974e-01],\n",
              "       [ 3.11598927e-01,  6.51863039e-01,  1.05059743e+00,\n",
              "         1.10088015e+00, -1.03829300e+00],\n",
              "       [-1.85001445e+00,  1.51473761e-01, -1.61628485e+00,\n",
              "        -1.70604241e+00, -1.42515206e+00],\n",
              "       [-2.23127556e+00, -2.03726649e+00,  2.54464245e+00,\n",
              "        -2.10446382e+00, -1.96755242e+00],\n",
              "       [ 9.88750279e-01, -1.33929956e+00, -1.04381204e+00,\n",
              "        -1.30733991e+00,  1.47978258e+00],\n",
              "       [-2.05899644e+00, -2.06745028e+00, -1.70775020e+00,\n",
              "        -1.81622732e+00, -2.04427624e+00],\n",
              "       [ 3.99536520e-01,  2.62496015e-03,  3.85962933e-01,\n",
              "        -2.54773926e-02,  3.88359427e-01],\n",
              "       [-2.09920645e+00,  2.12025070e+00,  1.80891824e+00,\n",
              "         2.13558006e+00,  1.39127946e+00],\n",
              "       [ 1.95805335e+00, -2.07447910e+00, -2.10481644e+00,\n",
              "        -2.07810736e+00, -2.20860052e+00],\n",
              "       [-1.95363510e+00, -1.88786030e+00, -2.00792670e+00,\n",
              "        -1.97964180e+00, -1.98843896e+00],\n",
              "       [-1.15258563e+00, -1.22564530e+00, -1.18173909e+00,\n",
              "        -1.22956777e+00, -1.23659730e+00],\n",
              "       [-2.01941752e+00, -2.01897287e+00, -2.00842595e+00,\n",
              "        -2.01102471e+00, -2.01434803e+00],\n",
              "       [ 2.12647974e-01,  2.60662705e-01,  1.46246225e-01,\n",
              "         1.76440969e-01,  2.37719700e-01],\n",
              "       [ 1.24219966e+00,  2.27916002e-01,  1.24848318e+00,\n",
              "         1.72667816e-01,  1.31060147e+00],\n",
              "       [ 2.12405062e+00,  2.31352997e+00,  2.20690656e+00,\n",
              "         2.18957758e+00,  1.91286910e+00],\n",
              "       [ 1.86248338e+00,  2.20173621e+00,  1.59848833e+00,\n",
              "         2.12960911e+00,  4.94354516e-01],\n",
              "       [-2.03648949e+00,  2.51724124e+00, -1.80682564e+00,\n",
              "        -1.79100549e+00, -2.03501463e+00],\n",
              "       [ 1.18467402e+00,  7.43812442e-01,  1.27984202e+00,\n",
              "         1.23294365e+00,  1.31464958e+00],\n",
              "       [-1.95068038e+00, -2.06451273e+00, -2.09995461e+00,\n",
              "        -1.97338390e+00,  2.38522315e+00],\n",
              "       [-1.41370845e+00, -1.52060831e+00, -1.44563246e+00,\n",
              "        -1.69492579e+00, -6.16277814e-01],\n",
              "       [-2.02744794e+00, -2.00637007e+00,  2.80851674e+00,\n",
              "        -1.97019553e+00, -2.06184220e+00],\n",
              "       [ 7.31317624e-02,  4.23411876e-01,  6.35076880e-01,\n",
              "         7.78852761e-01, -3.11586291e-01],\n",
              "       [ 2.11853886e+00,  2.31631517e+00,  2.22472572e+00,\n",
              "         2.37132454e+00,  2.29274559e+00],\n",
              "       [ 1.59204185e+00,  1.43328547e+00,  1.63182402e+00,\n",
              "         1.60151911e+00,  1.44673848e+00],\n",
              "       [-6.91541910e-01, -9.17328656e-01, -2.54436314e-01,\n",
              "         1.18326545e-01, -5.22950292e-02],\n",
              "       [-2.02974176e+00, -2.01850915e+00, -2.05573750e+00,\n",
              "        -3.67313057e-01, -1.98236847e+00],\n",
              "       [ 3.31356198e-01,  1.95441902e-01,  2.75470167e-01,\n",
              "        -6.58075213e-01, -6.83463216e-02],\n",
              "       [-9.56064105e-01, -1.53122115e+00,  4.31515217e-01,\n",
              "        -2.17077255e+00, -2.04688668e+00],\n",
              "       [-1.91308904e+00,  1.90702796e+00, -1.66031992e+00,\n",
              "        -1.43453276e+00,  2.01220727e+00],\n",
              "       [ 2.33628869e+00,  2.42896724e+00,  2.33036375e+00,\n",
              "         2.30285501e+00,  2.31117535e+00],\n",
              "       [ 2.41344762e+00,  2.38505554e+00,  2.40736556e+00,\n",
              "         2.40811491e+00,  2.42179871e+00],\n",
              "       [ 2.24947929e+00, -1.60844398e+00, -1.82447004e+00,\n",
              "        -2.00709701e+00, -1.96933377e+00],\n",
              "       [-1.72991419e+00, -1.78427577e+00, -1.81172371e+00,\n",
              "        -9.37519312e-01, -1.46111202e+00],\n",
              "       [ 1.89736688e+00, -2.01931930e+00, -1.75791991e+00,\n",
              "        -2.02104616e+00, -1.61804771e+00],\n",
              "       [-1.45479274e+00, -1.92003512e+00, -1.50957680e+00,\n",
              "        -1.47121727e+00, -1.41138732e+00],\n",
              "       [-1.31754756e+00, -1.66299152e+00, -1.47538233e+00,\n",
              "        -1.65563297e+00, -1.49476314e+00],\n",
              "       [-2.11892271e+00, -1.35294867e+00, -1.28434610e+00,\n",
              "         2.15722275e+00, -2.03088856e+00],\n",
              "       [ 5.31916499e-01,  5.25303423e-01,  5.24317920e-01,\n",
              "         5.08752882e-01,  5.22155941e-01],\n",
              "       [-1.22022450e+00,  3.47706646e-01, -1.83725595e+00,\n",
              "        -1.70906544e+00, -1.72066331e+00],\n",
              "       [-1.94287205e+00,  3.75995487e-01,  3.26816350e-01,\n",
              "         2.37845659e+00, -1.84004343e+00],\n",
              "       [-2.02509022e+00, -1.94401312e+00, -1.86480808e+00,\n",
              "        -2.06451130e+00,  7.29395986e-01],\n",
              "       [-9.58520532e-01,  1.02087200e+00,  1.10394001e+00,\n",
              "         1.28127694e+00,  1.21101213e+00],\n",
              "       [-1.78484154e+00, -1.76802278e+00, -9.76500154e-01,\n",
              "        -1.70397115e+00, -1.80659747e+00],\n",
              "       [-6.89992607e-01, -1.13124645e+00, -1.16403723e+00,\n",
              "         9.30189967e-01, -8.52100968e-01],\n",
              "       [ 2.60208392e+00,  2.42581391e+00,  2.29677773e+00,\n",
              "        -1.99779940e+00, -1.99165106e+00],\n",
              "       [ 2.62007642e+00,  2.35903692e+00,  2.60178566e+00,\n",
              "         2.61922312e+00,  2.34695578e+00],\n",
              "       [-3.35575372e-01, -5.50804019e-01,  2.26766720e-01,\n",
              "        -6.48168683e-01, -4.09549981e-01],\n",
              "       [ 5.02770364e-01,  5.11221111e-01,  5.01626492e-01,\n",
              "         4.82095331e-01,  5.06423593e-01],\n",
              "       [-4.95128721e-01, -1.04826165e-03, -1.89983344e+00,\n",
              "        -1.98650193e+00, -1.28466272e+00],\n",
              "       [ 1.01564981e-01,  3.02647293e-01,  1.15059502e-01,\n",
              "         2.95357972e-01,  5.76131463e-01],\n",
              "       [-2.00283837e+00, -2.03670120e+00, -2.07268620e+00,\n",
              "        -1.98149323e+00, -1.98909342e+00],\n",
              "       [ 5.50888240e-01,  1.71417284e+00,  1.64957309e+00,\n",
              "         3.02445889e-01, -1.01508491e-01],\n",
              "       [-1.05440521e+00, -1.39859366e+00,  2.36028051e+00,\n",
              "         1.77838299e-02, -1.80645692e+00],\n",
              "       [-2.16888356e+00,  1.97268546e+00, -2.11374378e+00,\n",
              "        -2.12192583e+00,  1.93924391e+00],\n",
              "       [-2.07667589e+00, -2.04889631e+00, -2.07239747e+00,\n",
              "         1.71544218e+00,  1.81526756e+00],\n",
              "       [-1.89549994e+00, -1.86261427e+00, -1.85985970e+00,\n",
              "        -1.85318971e+00, -1.83564436e+00],\n",
              "       [ 2.55332160e+00,  1.77224422e+00,  2.70280099e+00,\n",
              "         1.50578225e+00, -1.41500533e-01],\n",
              "       [ 3.16758007e-02,  2.12547630e-01,  1.52348299e-02,\n",
              "        -6.38440847e-02,  1.79721296e-01],\n",
              "       [ 1.80736339e+00,  1.98430240e+00,  1.87977016e+00,\n",
              "         1.68107569e+00,  1.63927031e+00],\n",
              "       [-1.82581234e+00, -1.90732753e+00, -1.74224007e+00,\n",
              "        -1.83012784e+00, -1.79913950e+00],\n",
              "       [ 5.19963562e-01,  1.91614658e-01,  6.26051426e-02,\n",
              "         2.24433422e-01,  4.89198357e-01],\n",
              "       [-1.15340066e+00,  1.06301117e+00, -1.43117630e+00,\n",
              "         3.56816053e-01,  1.44391513e+00],\n",
              "       [-8.72254133e-01, -8.17213953e-01, -8.36723506e-01,\n",
              "        -7.94511318e-01, -9.03267205e-01],\n",
              "       [ 2.17635965e+00, -1.73636484e+00, -1.45602536e+00,\n",
              "        -1.80195141e+00, -1.89543140e+00],\n",
              "       [-4.45287108e-01, -1.99391913e+00, -2.13439226e+00,\n",
              "        -2.00391197e+00, -2.01606703e+00],\n",
              "       [-1.67338681e+00, -2.06179237e+00,  2.74185658e+00,\n",
              "        -1.80577362e+00, -1.81857932e+00],\n",
              "       [-2.53294230e-01, -5.16954541e-01, -3.42063934e-01,\n",
              "        -3.15815061e-01,  5.06750584e-01],\n",
              "       [-9.23467636e-01, -1.08916736e+00, -1.39353180e+00,\n",
              "        -1.52070165e+00, -1.50632000e+00],\n",
              "       [-8.85452330e-01, -2.09801030e+00, -2.13006639e+00,\n",
              "        -1.29919064e+00, -2.07786131e+00],\n",
              "       [-8.39586794e-01, -7.54842103e-01, -2.46140271e-01,\n",
              "        -6.62046552e-01, -6.84544683e-01],\n",
              "       [-2.10935307e+00, -1.82521117e+00, -1.93493938e+00,\n",
              "        -2.06282830e+00, -2.07217836e+00],\n",
              "       [-1.64146423e+00, -1.99819732e+00, -1.92898846e+00,\n",
              "        -1.70469832e+00, -2.05662680e+00],\n",
              "       [-1.32462919e+00, -1.50936675e+00, -1.27577484e+00,\n",
              "        -1.59116960e+00, -1.87827063e+00],\n",
              "       [-2.01777124e+00,  1.92705989e+00, -2.01649690e+00,\n",
              "        -2.02947474e+00, -2.01438165e+00],\n",
              "       [ 3.31692457e-01,  2.24258995e+00, -2.00151014e+00,\n",
              "         2.03779507e+00, -1.84189653e+00],\n",
              "       [ 1.24047661e+00,  1.24124718e+00,  1.21756458e+00,\n",
              "         1.18563223e+00,  1.22797215e+00],\n",
              "       [ 2.37524223e+00,  2.37621808e+00,  2.24021482e+00,\n",
              "         2.37277460e+00,  2.22499561e+00],\n",
              "       [ 6.57895148e-01, -1.32073510e+00,  7.97241211e-01,\n",
              "        -1.56109202e+00, -1.48398590e+00],\n",
              "       [ 9.88206387e-01, -8.52731586e-01,  9.43683088e-02,\n",
              "         7.37316310e-02,  2.64130265e-01],\n",
              "       [ 5.05790293e-01,  1.83086419e+00,  2.20628783e-01,\n",
              "         1.54476953e+00,  9.94857550e-01],\n",
              "       [-1.39499938e+00, -1.31543553e+00, -1.05990732e+00,\n",
              "        -1.42068553e+00, -1.19425678e+00],\n",
              "       [-1.49395776e+00,  5.29450595e-01, -1.78460550e+00,\n",
              "         1.77225733e+00, -1.79532480e+00],\n",
              "       [ 1.32871735e+00, -5.95682323e-01,  1.68764377e+00,\n",
              "        -2.66472191e-01,  8.98418009e-01],\n",
              "       [ 2.25085163e+00,  2.17905760e+00,  2.19749403e+00,\n",
              "         2.22823858e+00,  2.20652199e+00],\n",
              "       [ 1.19386280e+00,  9.05178905e-01,  1.00480008e+00,\n",
              "         1.04006255e+00,  8.99454832e-01],\n",
              "       [ 2.00988483e+00,  4.82515544e-01, -5.27221680e-01,\n",
              "        -6.75234199e-02, -1.98492020e-01],\n",
              "       [-7.37542808e-01, -6.75793767e-01, -6.26590922e-02,\n",
              "        -7.32115328e-01, -1.29846688e-02],\n",
              "       [ 1.39995265e+00,  1.10448718e+00,  7.98449636e-01,\n",
              "         9.45179284e-01,  9.54607725e-01],\n",
              "       [ 5.55861831e-01,  1.44862926e+00,  5.07422209e-01,\n",
              "         4.54644948e-01,  3.17081869e-01],\n",
              "       [-6.34198785e-01,  4.44635898e-01,  5.10858536e-01,\n",
              "         4.55087572e-01,  4.84501710e-03],\n",
              "       [ 2.27784538e+00,  1.87663364e+00,  2.36564684e+00,\n",
              "         2.36725521e+00,  1.88793194e+00],\n",
              "       [-4.20432091e-02,  2.24159670e+00,  6.08756185e-01,\n",
              "        -3.18134248e-01,  2.06576347e+00],\n",
              "       [-2.06246996e+00, -2.13442421e+00, -2.06792974e+00,\n",
              "        -1.44087064e+00, -2.06856275e+00],\n",
              "       [-9.93032157e-02,  3.34778190e-01,  1.91699457e+00,\n",
              "         3.49453628e-01,  1.98549795e+00],\n",
              "       [ 2.85871887e+00, -1.67664862e+00,  1.06512770e-01,\n",
              "        -1.95585787e+00, -2.14303851e+00],\n",
              "       [-9.71938133e-01,  1.57562721e+00,  1.02343619e+00,\n",
              "        -4.68172908e-01, -4.56948429e-01],\n",
              "       [-1.61023271e+00, -1.20172477e+00, -1.98620367e+00,\n",
              "        -1.97587240e+00, -6.37945771e-01],\n",
              "       [-2.59199232e-01,  2.94732481e-01, -4.64179337e-01,\n",
              "        -1.81333792e+00,  1.09232694e-01],\n",
              "       [-1.76912355e+00,  1.87145984e+00,  2.22357392e+00,\n",
              "        -1.59075594e+00, -1.20198441e+00],\n",
              "       [ 1.19023728e+00,  1.47622085e+00,  2.58212358e-01,\n",
              "         1.34730673e+00,  1.19208372e+00],\n",
              "       [-1.95503187e+00, -2.00851989e+00, -5.46759129e-01,\n",
              "        -1.99907148e+00,  8.39484669e-03],\n",
              "       [-1.35068011e+00, -6.23990536e-01, -1.91610515e+00,\n",
              "        -4.03880566e-01, -1.35393727e+00],\n",
              "       [-1.81420827e+00, -1.10708332e+00,  2.17131186e+00,\n",
              "         2.12790680e+00, -1.82757759e+00],\n",
              "       [ 7.15966702e-01,  6.77850246e-02,  8.33373785e-01,\n",
              "         8.67475271e-01, -5.92114449e-01],\n",
              "       [-1.85246110e+00, -1.80123210e+00,  1.52130759e+00,\n",
              "        -1.83799887e+00, -1.82038391e+00],\n",
              "       [-1.85128510e+00, -1.65040851e+00, -1.86042988e+00,\n",
              "        -1.94386673e+00, -1.88879120e+00],\n",
              "       [-1.09648955e+00, -1.07489049e+00, -1.01683760e+00,\n",
              "        -1.21431684e+00, -8.48590970e-01],\n",
              "       [ 3.81939322e-01,  3.46733004e-01,  2.37930045e-01,\n",
              "         3.28204662e-01,  1.24029815e-01],\n",
              "       [ 1.05641627e+00,  1.07558751e+00,  1.07107115e+00,\n",
              "         1.09539831e+00,  1.07359171e+00],\n",
              "       [ 1.90158868e+00,  1.64763379e+00,  1.81524575e+00,\n",
              "         1.76561880e+00,  1.88914990e+00],\n",
              "       [ 2.24042296e+00, -1.93765700e+00, -1.85328066e+00,\n",
              "        -1.66001844e+00, -2.86902994e-01],\n",
              "       [-1.96958745e+00, -1.98069859e+00, -1.02442515e+00,\n",
              "        -5.92556000e-01, -1.67825770e+00],\n",
              "       [ 1.59253645e+00,  1.70027351e+00,  1.73209763e+00,\n",
              "         1.61422992e+00,  1.61888564e+00],\n",
              "       [-7.90813088e-01,  1.92880943e-01,  2.09400988e+00,\n",
              "         2.50460982e+00, -1.25144005e+00],\n",
              "       [-1.59564328e+00,  2.03987837e+00,  1.87462091e+00,\n",
              "        -1.96983433e+00,  2.02516222e+00],\n",
              "       [ 2.43098497e+00,  2.33543181e+00,  2.19153070e+00,\n",
              "         2.55587459e+00,  2.43979359e+00],\n",
              "       [-1.56215978e+00, -1.98675227e+00,  2.28041410e+00,\n",
              "         2.20589447e+00, -1.33611989e+00],\n",
              "       [ 1.79689908e+00,  1.78748083e+00,  1.73816717e+00,\n",
              "         1.78402138e+00,  1.84462786e+00],\n",
              "       [ 2.27474284e+00,  2.70784926e+00,  2.71019745e+00,\n",
              "         2.34055018e+00,  2.21770334e+00],\n",
              "       [-1.63112390e+00, -1.70238018e+00, -1.36923194e+00,\n",
              "         9.33193803e-01,  1.22395575e+00],\n",
              "       [-1.76938272e+00, -1.29958296e+00,  2.47359231e-01,\n",
              "        -1.61282527e+00, -1.68129945e+00],\n",
              "       [-4.37225215e-02,  6.18006051e-01,  4.83782202e-01,\n",
              "         9.53619480e-02, -2.73211122e-01],\n",
              "       [ 2.11125803e+00,  2.17602730e+00,  2.11042213e+00,\n",
              "         2.10893393e+00,  2.07691598e+00],\n",
              "       [-8.63835990e-01,  1.94642377e+00,  1.88892865e+00,\n",
              "         1.97395241e+00, -7.55143285e-01],\n",
              "       [-1.06172705e+00, -1.06363177e+00, -5.49984634e-01,\n",
              "        -8.49036515e-01, -1.04565775e+00]], dtype=float32), label_ids=array([3, 0, 0, 2, 3, 1, 0, 3, 2, 0, 4, 0, 2, 3, 1, 1, 4, 4, 0, 4, 3, 3,\n",
              "       2, 2, 4, 4, 0, 3, 4, 2, 1, 4, 4, 3, 2, 1, 4, 0, 4, 4, 4, 2, 1, 2,\n",
              "       0, 0, 1, 2, 3, 1, 1, 4, 2, 0, 1, 1, 2, 2, 3, 0, 1, 1, 2, 2, 0, 4,\n",
              "       2, 4, 2, 3, 2, 0, 3, 1, 3, 1, 3, 1, 2, 4, 2, 0, 1, 0, 2, 3, 3, 1,\n",
              "       4, 3, 1, 1, 1, 4, 4, 2, 2, 3, 3, 3, 3, 1, 2, 1, 2, 3, 0, 3, 0, 3,\n",
              "       2, 3, 0, 1, 3, 4, 1, 2, 3, 0, 0, 2, 1, 0, 1, 3, 1, 2, 4, 4, 0, 2,\n",
              "       4, 1, 2, 4, 4, 3, 0, 0, 2, 4, 1, 0, 2, 1, 1, 2, 1, 1, 1, 3, 0, 0,\n",
              "       1, 4, 3, 2, 0, 0, 0, 4, 1, 1, 2, 3, 1, 3, 4, 0, 1, 4, 1, 2, 1, 4,\n",
              "       3, 3, 2, 2, 1, 0, 0, 2, 0, 0, 2, 0, 3, 1, 4, 2, 1, 1, 3, 2, 1, 1,\n",
              "       3, 2]), metrics={'test_loss': 1.043859601020813, 'test_runtime': 41.7865, 'test_samples_per_second': 4.786, 'test_steps_per_second': 1.197})"
            ]
          },
          "execution_count": 21,
          "metadata": {},
          "output_type": "execute_result"
        }
      ],
      "source": [
        "predictions"
      ]
    },
    {
      "cell_type": "code",
      "execution_count": 22,
      "metadata": {
        "id": "7VVZVZDpB0CD"
      },
      "outputs": [],
      "source": [
        "import numpy as np\n",
        "def predictions_to_map_output(predictions):\n",
        "    sorted_answer_indices = np.argsort(-predictions)\n",
        "    top_answer_indices = sorted_answer_indices[:,:3] # Get the first three answers in each row\n",
        "    top_answers = np.vectorize(index_to_option.get)(top_answer_indices)\n",
        "    return np.apply_along_axis(lambda row: ' '.join(row), 1, top_answers)"
      ]
    },
    {
      "cell_type": "markdown",
      "metadata": {
        "id": "qjqFsDWmMdQn"
      },
      "source": [
        "defines a function predictions_to_map_output that takes a 2D array of predictions and converts them into a formatted output\n",
        " the function takes a 2D array of predictions, sorts the indices of the predictions, selects the top three indices for each row, converts the indices to their corresponding option names, and finally, joins the option names for each row into a space-separated string. The output is an array of strings representing the top predictions for each example."
      ]
    },
    {
      "cell_type": "code",
      "execution_count": 23,
      "metadata": {
        "colab": {
          "base_uri": "https://localhost:8080/"
        },
        "id": "czhaI3vfB1rz",
        "outputId": "7cdc0809-fb81-4509-b910-09011146e57d"
      },
      "outputs": [
        {
          "data": {
            "text/plain": [
              "array(['D B A', 'E B D', 'A C E', 'A C D', 'E D B', 'B C E', 'A B D',\n",
              "       'D E B', 'C B E', 'A C E', 'E B C', 'D A B', 'C B E', 'D E C',\n",
              "       'B A E', 'A B D', 'E B C', 'E A D', 'D B A', 'E A C', 'B D C',\n",
              "       'D E B', 'C D B', 'C B E', 'B D E', 'E B C', 'A C E', 'D C B',\n",
              "       'E B C', 'C B E', 'D B A', 'A E D', 'E B D', 'D E B', 'B C D',\n",
              "       'B D E', 'A D E', 'A D C', 'E D A', 'A E C', 'E D A', 'E C A',\n",
              "       'B A C', 'D C E', 'D A B', 'A B C', 'B D C', 'C D A', 'D C A',\n",
              "       'B A E', 'B C A', 'E C D', 'C A E', 'A C D', 'C D B', 'B E C',\n",
              "       'C E B', 'C B A', 'D E B', 'B C A', 'B C A', 'C B E', 'C B A',\n",
              "       'C A B', 'E A B', 'E A B', 'C D A', 'E C A', 'D E C', 'D E C',\n",
              "       'C A E', 'A E C', 'D E B', 'B E D', 'D B E', 'C D B', 'D C B',\n",
              "       'B E C', 'C E B', 'E A C', 'C D E', 'A E C', 'D B C', 'A B D',\n",
              "       'B A D', 'A C B', 'C D E', 'B E A', 'E C A', 'B C D', 'B D A',\n",
              "       'B D C', 'E C D', 'E A D', 'E A C', 'C D B', 'D C B', 'D B E',\n",
              "       'C D A', 'D E C', 'D E B', 'A C B', 'C A B', 'E B D', 'B A C',\n",
              "       'E A D', 'A B C', 'D E A', 'A E C', 'E A D', 'A C E', 'D C B',\n",
              "       'A B C', 'B A D', 'D B C', 'E C B', 'D E C', 'C D B', 'D A E',\n",
              "       'A B C', 'A D C', 'C A E', 'B E A', 'B A E', 'E B D', 'D E A',\n",
              "       'B C A', 'C D A', 'B E C', 'E D B', 'E D C', 'C A B', 'B E A',\n",
              "       'B C A', 'C E A', 'A E D', 'E B D', 'D B C', 'A C B', 'A B D',\n",
              "       'C A D', 'E A D', 'A B C', 'A D E', 'C D E', 'B C D', 'A D C',\n",
              "       'C A B', 'B E C', 'B D A', 'B A E', 'B A D', 'C A B', 'A E C',\n",
              "       'B D E', 'C E B', 'D B A', 'C A E', 'A D E', 'A D C', 'A B D',\n",
              "       'E C B', 'A B E', 'B A C', 'C D B', 'D C A', 'B E C', 'D A C',\n",
              "       'E C D', 'A C B', 'B C E', 'E B A', 'B E A', 'C B E', 'B D E',\n",
              "       'E C A', 'D B A', 'C D B', 'D C A', 'C B E', 'B A C', 'E C B',\n",
              "       'A B D', 'D B E', 'A E C', 'A E D', 'D C E', 'C B E', 'D C B',\n",
              "       'B E C', 'D E A', 'C D E', 'E A B', 'C B D', 'E D C', 'C B D',\n",
              "       'B C D', 'B A C', 'D B C', 'C D E'], dtype='<U5')"
            ]
          },
          "execution_count": 23,
          "metadata": {},
          "output_type": "execute_result"
        }
      ],
      "source": [
        "predictions_to_map_output(predictions.predictions)"
      ]
    },
    {
      "cell_type": "markdown",
      "metadata": {
        "id": "uzmzanfsVakp"
      },
      "source": [
        "code takes the model predictions, processes them using the specified function, and likely returns a formatted output representing the top predicted answers for each example. The details of the output format depend on the specifics of the predictions_to_map_output"
      ]
    },
    {
      "cell_type": "code",
      "execution_count": 24,
      "metadata": {
        "colab": {
          "base_uri": "https://localhost:8080/",
          "height": 432
        },
        "id": "AdNnQDZIB4O0",
        "outputId": "4e2d2d67-c533-455c-9636-ab30141299a9"
      },
      "outputs": [
        {
          "data": {
            "text/html": [
              "<div>\n",
              "<style scoped>\n",
              "    .dataframe tbody tr th:only-of-type {\n",
              "        vertical-align: middle;\n",
              "    }\n",
              "\n",
              "    .dataframe tbody tr th {\n",
              "        vertical-align: top;\n",
              "    }\n",
              "\n",
              "    .dataframe thead th {\n",
              "        text-align: right;\n",
              "    }\n",
              "</style>\n",
              "<table border=\"1\" class=\"dataframe\">\n",
              "  <thead>\n",
              "    <tr style=\"text-align: right;\">\n",
              "      <th></th>\n",
              "      <th>id</th>\n",
              "      <th>prompt</th>\n",
              "      <th>A</th>\n",
              "      <th>B</th>\n",
              "      <th>C</th>\n",
              "      <th>D</th>\n",
              "      <th>E</th>\n",
              "    </tr>\n",
              "  </thead>\n",
              "  <tbody>\n",
              "    <tr>\n",
              "      <th>0</th>\n",
              "      <td>0</td>\n",
              "      <td>Which of the following statements accurately d...</td>\n",
              "      <td>MOND is a theory that reduces the observed mis...</td>\n",
              "      <td>MOND is a theory that increases the discrepanc...</td>\n",
              "      <td>MOND is a theory that explains the missing bar...</td>\n",
              "      <td>MOND is a theory that reduces the discrepancy ...</td>\n",
              "      <td>MOND is a theory that eliminates the observed ...</td>\n",
              "    </tr>\n",
              "    <tr>\n",
              "      <th>1</th>\n",
              "      <td>1</td>\n",
              "      <td>Which of the following is an accurate definiti...</td>\n",
              "      <td>Dynamic scaling refers to the evolution of sel...</td>\n",
              "      <td>Dynamic scaling refers to the non-evolution of...</td>\n",
              "      <td>Dynamic scaling refers to the evolution of sel...</td>\n",
              "      <td>Dynamic scaling refers to the non-evolution of...</td>\n",
              "      <td>Dynamic scaling refers to the evolution of sel...</td>\n",
              "    </tr>\n",
              "    <tr>\n",
              "      <th>2</th>\n",
              "      <td>2</td>\n",
              "      <td>Which of the following statements accurately d...</td>\n",
              "      <td>The triskeles symbol was reconstructed as a fe...</td>\n",
              "      <td>The triskeles symbol is a representation of th...</td>\n",
              "      <td>The triskeles symbol is a representation of a ...</td>\n",
              "      <td>The triskeles symbol represents three interloc...</td>\n",
              "      <td>The triskeles symbol is a representation of th...</td>\n",
              "    </tr>\n",
              "    <tr>\n",
              "      <th>3</th>\n",
              "      <td>3</td>\n",
              "      <td>What is the significance of regularization in ...</td>\n",
              "      <td>Regularizing the mass-energy of an electron wi...</td>\n",
              "      <td>Regularizing the mass-energy of an electron wi...</td>\n",
              "      <td>Regularizing the mass-energy of an electron wi...</td>\n",
              "      <td>Regularizing the mass-energy of an electron wi...</td>\n",
              "      <td>Regularizing the mass-energy of an electron wi...</td>\n",
              "    </tr>\n",
              "    <tr>\n",
              "      <th>4</th>\n",
              "      <td>4</td>\n",
              "      <td>Which of the following statements accurately d...</td>\n",
              "      <td>The angular spacing of features in the diffrac...</td>\n",
              "      <td>The angular spacing of features in the diffrac...</td>\n",
              "      <td>The angular spacing of features in the diffrac...</td>\n",
              "      <td>The angular spacing of features in the diffrac...</td>\n",
              "      <td>The angular spacing of features in the diffrac...</td>\n",
              "    </tr>\n",
              "  </tbody>\n",
              "</table>\n",
              "</div>"
            ],
            "text/plain": [
              "   id                                             prompt  \\\n",
              "0   0  Which of the following statements accurately d...   \n",
              "1   1  Which of the following is an accurate definiti...   \n",
              "2   2  Which of the following statements accurately d...   \n",
              "3   3  What is the significance of regularization in ...   \n",
              "4   4  Which of the following statements accurately d...   \n",
              "\n",
              "                                                   A  \\\n",
              "0  MOND is a theory that reduces the observed mis...   \n",
              "1  Dynamic scaling refers to the evolution of sel...   \n",
              "2  The triskeles symbol was reconstructed as a fe...   \n",
              "3  Regularizing the mass-energy of an electron wi...   \n",
              "4  The angular spacing of features in the diffrac...   \n",
              "\n",
              "                                                   B  \\\n",
              "0  MOND is a theory that increases the discrepanc...   \n",
              "1  Dynamic scaling refers to the non-evolution of...   \n",
              "2  The triskeles symbol is a representation of th...   \n",
              "3  Regularizing the mass-energy of an electron wi...   \n",
              "4  The angular spacing of features in the diffrac...   \n",
              "\n",
              "                                                   C  \\\n",
              "0  MOND is a theory that explains the missing bar...   \n",
              "1  Dynamic scaling refers to the evolution of sel...   \n",
              "2  The triskeles symbol is a representation of a ...   \n",
              "3  Regularizing the mass-energy of an electron wi...   \n",
              "4  The angular spacing of features in the diffrac...   \n",
              "\n",
              "                                                   D  \\\n",
              "0  MOND is a theory that reduces the discrepancy ...   \n",
              "1  Dynamic scaling refers to the non-evolution of...   \n",
              "2  The triskeles symbol represents three interloc...   \n",
              "3  Regularizing the mass-energy of an electron wi...   \n",
              "4  The angular spacing of features in the diffrac...   \n",
              "\n",
              "                                                   E  \n",
              "0  MOND is a theory that eliminates the observed ...  \n",
              "1  Dynamic scaling refers to the evolution of sel...  \n",
              "2  The triskeles symbol is a representation of th...  \n",
              "3  Regularizing the mass-energy of an electron wi...  \n",
              "4  The angular spacing of features in the diffrac...  "
            ]
          },
          "execution_count": 24,
          "metadata": {},
          "output_type": "execute_result"
        }
      ],
      "source": [
        "test_df = pd.read_csv('Data/test.csv')\n",
        "test_df.head()"
      ]
    },
    {
      "cell_type": "markdown",
      "metadata": {
        "id": "au9Kx2fLjjc8"
      },
      "source": [
        "converting the csv test file into pandas data frame and\n",
        "then displaying the first few rows using 'head' method"
      ]
    },
    {
      "cell_type": "code",
      "execution_count": 25,
      "metadata": {
        "colab": {
          "base_uri": "https://localhost:8080/",
          "height": 49,
          "referenced_widgets": [
            "19b4e1d0e36c4ed682f847b02688429d",
            "50815a4ab66c440293b49a42ed211587",
            "e909fb342128427ca34fc355f23a1b11",
            "7be8cff6472c4063ad7b371782d131c7",
            "e194eac9c95c4e3eb3895a2e09f2676e",
            "d56e849ce8744707965d3c14843d38f9",
            "e2556a1bd9e24640abf92bc013fc54ad",
            "2d772b8156bc4196b4bc0700cf48b8b9",
            "fd880c71688d428490f7cdc98b7787c2",
            "b60a506e0d6d461b977e587bce6b9401",
            "c5401087164b428b9d337e4809ec57e9"
          ]
        },
        "id": "BhtMcnGrB6f7",
        "outputId": "c7914ce7-e105-407e-e0b6-ab677d8613f0"
      },
      "outputs": [
        {
          "data": {
            "application/vnd.jupyter.widget-view+json": {
              "model_id": "d40907ad7d404f1c90f5978fb7dc55f5",
              "version_major": 2,
              "version_minor": 0
            },
            "text/plain": [
              "Map:   0%|          | 0/200 [00:00<?, ? examples/s]"
            ]
          },
          "metadata": {},
          "output_type": "display_data"
        },
        {
          "name": "stdout",
          "output_type": "stream",
          "text": [
            "{'id': 0, 'prompt': 'Which of the following statements accurately describes the impact of Modified Newtonian Dynamics (MOND) on the observed \"missing baryonic mass\" discrepancy in galaxy clusters?', 'A': 'MOND is a theory that reduces the observed missing baryonic mass in galaxy clusters by postulating the existence of a new form of matter called \"fuzzy dark matter.\"', 'B': 'MOND is a theory that increases the discrepancy between the observed missing baryonic mass in galaxy clusters and the measured velocity dispersions from a factor of around 10 to a factor of about 20.', 'C': 'MOND is a theory that explains the missing baryonic mass in galaxy clusters that was previously considered dark matter by demonstrating that the mass is in the form of neutrinos and axions.', 'D': 'MOND is a theory that reduces the discrepancy between the observed missing baryonic mass in galaxy clusters and the measured velocity dispersions from a factor of around 10 to a factor of about 2.', 'E': 'MOND is a theory that eliminates the observed missing baryonic mass in galaxy clusters by imposing a new mathematical formulation of gravity that does not require the existence of dark matter.', 'answer': 'A'}\n",
            "{'id': 1, 'prompt': 'Which of the following is an accurate definition of dynamic scaling in self-similar systems?', 'A': 'Dynamic scaling refers to the evolution of self-similar systems, where data obtained from snapshots at fixed times exhibits similarity to the respective data taken from snapshots of any earlier or later time. This similarity is tested by a certain time-dependent stochastic variable x.', 'B': 'Dynamic scaling refers to the non-evolution of self-similar systems, where data obtained from snapshots at fixed times is similar to the respective data taken from snapshots of any earlier or later time. This similarity is tested by a certain time-dependent stochastic variable x.', 'C': 'Dynamic scaling refers to the evolution of self-similar systems, where data obtained from snapshots at fixed times is dissimilar to the respective data taken from snapshots of any earlier or later time. This dissimilarity is tested by a certain time-independent stochastic variable y.', 'D': 'Dynamic scaling refers to the non-evolution of self-similar systems, where data obtained from snapshots at fixed times is dissimilar to the respective data taken from snapshots of any earlier or later time. This dissimilarity is tested by a certain time-independent stochastic variable y.', 'E': 'Dynamic scaling refers to the evolution of self-similar systems, where data obtained from snapshots at fixed times is independent of the respective data taken from snapshots of any earlier or later time. This independence is tested by a certain time-dependent stochastic variable z.', 'answer': 'A'}\n",
            "{'id': 2, 'prompt': 'Which of the following statements accurately describes the origin and significance of the triskeles symbol?', 'A': 'The triskeles symbol was reconstructed as a feminine divine triad by the rulers of Syracuse, and later adopted as an emblem. Its usage may also be related to the Greek name of Sicily, Trinacria, which means \"having three headlands.\" The head of Medusa at the center of the Sicilian triskeles represents the three headlands.', 'B': 'The triskeles symbol is a representation of three interlinked spirals, which was adopted as an emblem by the rulers of Syracuse. Its usage in modern flags of Sicily has its origins in the ancient Greek name for the island, Trinacria, which means \"Sicily with three corners.\" The head of Medusa at the center is a representation of the island\\'s rich cultural heritage.', 'C': 'The triskeles symbol is a representation of a triple goddess, reconstructed by the rulers of Syracuse, who adopted it as an emblem. Its significance lies in the fact that it represents the Greek name for Sicily, Trinacria, which contains the element \"tria,\" meaning three. The head of Medusa at the center of the Sicilian triskeles represents the three headlands.', 'D': \"The triskeles symbol represents three interlocked spiral arms, which became an emblem for the rulers of Syracuse. Its usage in modern flags of Sicily is due to the island's rich cultural heritage, which dates back to ancient times. The head of Medusa at the center represents the lasting influence of Greek mythology on Sicilian culture.\", 'E': \"The triskeles symbol is a representation of the Greek goddess Hecate, reconstructed by the rulers of Syracuse. Its adoption as an emblem was due to its cultural significance, as it represented the ancient Greek name for Sicily, Trinacria. The head of Medusa at the center of the Sicilian triskeles represents the island's central location in the Mediterranean.\", 'answer': 'A'}\n",
            "{'id': 3, 'prompt': 'What is the significance of regularization in terms of renormalization problems in physics?', 'A': 'Regularizing the mass-energy of an electron with a finite radius can theoretically simplify calculations involving infinities or singularities, thereby providing explanations that would otherwise be impossible to achieve.', 'B': 'Regularizing the mass-energy of an electron with an infinite radius allows for the breakdown of a theory that is valid under one set of conditions. This approach can be applied to other renormalization problems as well.', 'C': 'Regularizing the mass-energy of an electron with a finite radius is a means of demonstrating that a system below a certain size can be explained without the need for further calculations. This approach can be applied to other renormalization problems as well.', 'D': 'Regularizing the mass-energy of an electron with an infinite radius can be used to provide a highly accurate description of a system under specific conditions. This approach can be transferred to other renormalization problems as well.', 'E': 'Regularizing the mass-energy of an electron with an infinite radius is essential for explaining how a system below a certain size operates. This approach can be applied to other renormalization problems as well.', 'answer': 'A'}\n",
            "{'id': 4, 'prompt': 'Which of the following statements accurately describes the relationship between the dimensions of a diffracting object and the angular spacing of features in the diffraction pattern?', 'A': 'The angular spacing of features in the diffraction pattern is indirectly proportional to the dimensions of the object causing the diffraction. Therefore, if the diffracting object is smaller, the resulting diffraction pattern will be narrower.', 'B': 'The angular spacing of features in the diffraction pattern is directly proportional to the dimensions of the object causing the diffraction. Therefore, if the diffracting object is smaller, the resulting diffraction pattern will be narrower.', 'C': 'The angular spacing of features in the diffraction pattern is independent of the dimensions of the object causing the diffraction. Therefore, if the diffracting object is smaller, the resulting diffraction pattern will be the same as if it were big.', 'D': 'The angular spacing of features in the diffraction pattern is inversely proportional to the dimensions of the object causing the diffraction. Therefore, if the diffracting object is smaller, the resulting diffraction pattern will be wider.', 'E': 'The angular spacing of features in the diffraction pattern is directly proportional to the square root of the dimensions of the object causing the diffraction. Therefore, if the diffracting object is smaller, the resulting diffraction pattern will be slightly narrower.', 'answer': 'A'}\n",
            "{'id': 5, 'prompt': \"Which of the following statements accurately depicts the relationship between Gauss's law, electric flux, electric field, and symmetry in electric fields?\", 'A': \"Gauss's law holds only for situations involving symmetric electric fields, like those with spherical or cylindrical symmetry, and doesn't apply to other field types. Electric flux, as an expression of the total electric field passing through a closed surface, is influenced only by charges within the surface and unaffected by distant charges located outside it. The scalar quantity electric flux is strictly measured in SI fundamental quantities as kg·m3·s−3·A.\", 'B': \"Gauss's law holds in all cases, but it is most useful for calculations involving symmetric electric fields, like those with spherical or cylindrical symmetry, as they allow for simpler algebraic manipulations. Electric flux is not affected by distant charges outside the closed surface, whereas the net electric field, E, can be influenced by any charges positioned outside of the closed surface. In SI base units, the electric flux is expressed as kg·m3·s−3·A−1.\", 'C': \"Gauss's law, which applies equally to all electric fields, is typically most useful when dealing with symmetric field configurations, like those with spherical or cylindrical symmetry, since it makes it easier to calculate the total electric flux. Electric flux, an expression of the total electric field through a closed surface, is unaffected by charges outside the surface, while net electric field, E, may be influenced by charges located outside the closed surface. Electric flux is expressed in SI base units as kg·m3·s−1·C.\", 'D': \"Gauss's law only holds for electric fields with cylindrical symmetry, like those of a straight long wire; it is not applicable to fields with other types of symmetry. Electric flux, which measures the total electric field across a closed surface, is influenced by all charges within the surface as well as by those located outside it. The unit of electric flux in SI base units is kg·m2·s−2·A−1.\", 'E': \"Gauss's law, which holds for all situations, is most beneficial when applied to electric fields that exhibit higher degrees of symmetry, like those with cylindrical and spherical symmetry. While electric flux is unaffected by charges outside of a given closed surface, the net electric field, E, may be affected by them. The unit of electric flux in SI base units is kg·m2·s−1·C.\", 'answer': 'A'}\n",
            "{'id': 6, 'prompt': 'Which of the following statements accurately describes the dimension of an object in a CW complex?', 'A': 'The dimension of an object in a CW complex is the largest n for which the n-skeleton is nontrivial, where the empty set is considered to have dimension -1 and the boundary of a discrete set of points is the empty set.', 'B': 'The dimension of an object in a CW complex is determined by the number of critical points the object contains. The boundary of a discrete set of points is considered to have dimension 1, while the empty set is given a dimension of 0.', 'C': 'The dimension of an object in a CW complex is the smallest n for which the n-skeleton is nontrivial. The empty set is given a dimension of -1, while the boundary of a discrete set of points is assigned a dimension of 0.', 'D': 'The dimension of an object in a CW complex is calculated by counting the number of cells of all dimensions in the object. The empty set is given a dimension of 0, while the boundary of a discrete set of points is assigned a dimension of -1.', 'E': 'The dimension of an object in a CW complex depends on the number of singularities in the object. The empty set and the boundary of a discrete set of points are both assigned a dimension of 0.', 'answer': 'A'}\n",
            "{'id': 7, 'prompt': 'Which of the following statements accurately describes the blocking temperature of an antiferromagnetic layer in a spin valve?', 'A': 'The blocking temperature of an antiferromagnetic layer in a spin valve is the temperature at which the magnetization of the ferromagnetic layer becomes aligned with the magnetic field. The blocking temperature is typically higher than the Néel temperature.', 'B': 'The blocking temperature of an antiferromagnetic layer in a spin valve is the temperature below which the layer loses its ability to \"pin\" the magnetization direction of an adjacent ferromagnetic layer. The blocking temperature is typically higher than the Néel temperature.', 'C': 'The blocking temperature of an antiferromagnetic layer in a spin valve is the temperature at which the ferromagnetic layer becomes completely demagnetized. The blocking temperature is typically higher than the Néel temperature.', 'D': 'The blocking temperature of an antiferromagnetic layer in a spin valve is the temperature at or above which the layer ceases to prevent the orientation of an adjacent ferromagnetic layer. The blocking temperature is typically lower than the Néel temperature.', 'E': 'The blocking temperature of an antiferromagnetic layer in a spin valve is the temperature at which the ferromagnetic layer loses its ability to \"pin\" the magnetization direction of an adjacent antiferromagnetic layer. The blocking temperature is typically higher than the Néel temperature.', 'answer': 'A'}\n",
            "{'id': 8, 'prompt': 'What is the term used in astrophysics to describe light-matter interactions resulting in energy shifts in the radiation field?', 'A': 'Blueshifting', 'B': 'Redshifting', 'C': 'Reddening', 'D': 'Whitening', 'E': 'Yellowing', 'answer': 'A'}\n",
            "{'id': 9, 'prompt': 'What is the role of axioms in a formal theory?', 'A': 'Basis statements called axioms form the foundation of a formal theory and, together with the deducing rules, help in deriving a set of statements called theorems using proof theory.', 'B': 'Axioms are supplementary statements added to a formal theory that break down otherwise complex statements into more simple ones.', 'C': 'Axioms are redundant statements that can be derived from other statements in a formal theory, providing additional perspective to theorems derived from the theory.', 'D': 'The axioms in a theory are used for experimental validation of the theorems derived from the statements in the theory.', 'E': 'The axioms in a formal theory are added to prove that the statements derived from the theory are true, irrespective of their validity in the real world.', 'answer': 'A'}\n",
            "{'id': 10, 'prompt': 'What did Fresnel predict and verify with regards to total internal reflections?', 'A': \"Fresnel predicted and verified that three total internal reflections at 75°27' would give a precise circular polarization if two of the reflections had water as the external medium and the third had air, but not if the reflecting surfaces were all wet or all dry.\", 'B': \"Fresnel predicted and verified that eight total internal reflections at 68°27' would give an accurate circular polarization if four of the reflections had water as the external medium while the other four had air, but not if the reflecting surfaces were all wet or all dry.\", 'C': \"Fresnel predicted and verified that four total internal reflections at 30°27' would result in circular polarization if two of the reflections had water as the external medium while the other two had air, regardless if the reflecting surfaces were all wet or all dry.\", 'D': \"Fresnel predicted and verified that two total internal reflections at 68°27' would give an accurate linear polarization if one of the reflections had water as the external medium and the other had air, but not if the reflecting surfaces were all wet or all dry.\", 'E': \"Fresnel predicted and verified that four total internal reflections at 68°27' would give a precise circular polarization if two of the reflections had water as the external medium while the other two had air, but not if the reflecting surfaces were all wet or all dry.\", 'answer': 'A'}\n",
            "{'id': 11, 'prompt': 'What is the relationship between the Wigner function and the density matrix operator?', 'A': 'The Wigner function W(x, p) is the Wigner transform of the density matrix operator ρ̂, and the trace of an operator with the density matrix Wigner-transforms to the equivalent phase-space integral overlap of g(x,p) with the Wigner function.', 'B': 'The Wigner function W(x, p) is a source function used for the density matrix operator ρ̂ and the product of these two functions creates the phase space wave function g(x, p).', 'C': 'The Wigner function W(x, p) is the derivative of the density matrix operator ρ̂ with respect to the phase space coordinate.', 'D': 'The Wigner function W(x, p) represents the Hamiltonian H(x,p) of the density matrix operator ρ̂, while the Moyal bracket {{⋅, ⋅}} represents the Poisson bracket in the phase space.', 'E': 'The Wigner function W(x, p) is the time derivative of the density matrix operator ρ̂ with respect to the phase space coordinate.', 'answer': 'A'}\n",
            "{'id': 12, 'prompt': 'What is one of the examples of the models proposed by cosmologists and theoretical physicists without the cosmological or Copernican principles that can be used to address specific issues in the Lambda-CDM model and distinguish between current models and other possible models?', 'A': 'The Copernican principle, which proposes that Earth, the Solar System, and the Milky Way are not at the centre of the universe, but instead, the universe is expanding equally in all directions. This principle is a modification of the Lambda-CDM model and has been shown to explain several observational results.', 'B': 'Inhomogeneous cosmology, which states that the universe is entirely homogeneous and isotropic, directly proportional to the density of matter and radiation. This model proposes that everything in the universe is completely uniform, but it does not match observations.', 'C': 'Inhomogeneous cosmology, which models the universe as an extremely large, low-density void, instead of using the concept of dark energy. According to the model, this theory can match the observed accelerating universe and cosmological constant, but it contradicts the Copernican principle.', 'D': 'The cosmological principle, which proposes that Earth, the Solar System, and the Milky Way are at the centre of the universe. This principle is a modification of the Lambda-CDM model and has been shown to explain several observational results.', 'E': 'The principle of dark energy, which proposes that a new form of energy, not previously detected, is responsible for the acceleration of the expansion of the universe. This principle is a modification of the Lambda-CDM model and has been shown to explain several observational results.', 'answer': 'A'}\n",
            "{'id': 13, 'prompt': 'What is the Roche limit?', 'A': 'The Roche limit is the distance at which tidal effects would cause an object to rotate since the forces exerted by two massive bodies produce a torque on a third object.', 'B': 'The Roche limit is the distance at which tidal effects would cause an object to unite since differential force from a planet results in parts becoming attracted to one another.', 'C': \"The Roche limit is the distance at which tidal effects would cause a planet to disintegrate since differential force from an object overcomes the planet's core.\", 'D': 'The Roche limit is the distance at which tidal effects would cause an object to disintegrate since differential force from a planet overcomes the attraction of the parts between them.', 'E': \"The Roche limit is the distance at which tidal effects would cause an object to break apart due to differential force from the planet overcoming the attraction of the parts of the object for one another, which depends on the object's density and composition, as well as the mass and size of the planet.\", 'answer': 'A'}\n",
            "{'id': 14, 'prompt': \"What is Martin Heidegger's view on the relationship between time and human existence?\", 'A': \"Martin Heidegger believes that humans exist within a time continuum that is infinite and does not have a defined beginning or end. The relationship to the past involves acknowledging it as a historical era, and the relationship to the future involves creating a world that will endure beyond one's own time.\", 'B': 'Martin Heidegger believes that humans do not exist inside time, but that they are time. The relationship to the past is a present awareness of having been, and the relationship to the future involves anticipating a potential possibility, task, or engagement.', 'C': 'Martin Heidegger does not believe in the existence of time or that it has any effect on human consciousness. The relationship to the past and the future is insignificant, and human existence is solely based on the present.', 'D': 'Martin Heidegger believes that the relationship between time and human existence is cyclical. The past and present are interconnected and the future is predetermined. Human beings do not have free will.', 'E': 'Martin Heidegger believes that time is an illusion, and the past, present, and future are all happening simultaneously. Humans exist outside of this illusion and are guided by a higher power.', 'answer': 'A'}\n",
            "{'id': 15, 'prompt': 'What is the \"ultraviolet catastrophe\"?', 'A': 'It is a phenomenon that occurs only in multi-mode vibration.', 'B': 'It is the misbehavior of a formula for higher frequencies.', 'C': 'It is the standing wave of a string in harmonic resonance.', 'D': 'It is a flaw in classical physics that results in the misallocation of energy.', 'E': 'It is a disproven theory about the distribution of electromagnetic radiation.', 'answer': 'A'}\n",
            "{'id': 16, 'prompt': 'What is the most popular explanation for the shower-curtain effect?', 'A': 'The pressure differential between the inside and outside of the shower', 'B': 'The decrease in velocity resulting in an increase in pressure', 'C': 'The movement of air across the outside surface of the shower curtain', 'D': 'The use of cold water', 'E': \"Bernoulli's principle\", 'answer': 'A'}\n",
            "{'id': 17, 'prompt': 'What is the butterfly effect?', 'A': 'The butterfly effect is a physical cause that occurs when a massive sphere is caused to roll down a slope starting from a point of unstable equilibrium, and its velocity is assumed to be caused by the force of gravity accelerating it.', 'B': 'The butterfly effect is a distributed causality that opens up the opportunity to understand the relationship between necessary and sufficient conditions in classical (Newtonian) physics.', 'C': 'The butterfly effect is a proportionality between the cause and the effect of a physical phenomenon in classical (Newtonian) physics.', 'D': 'The butterfly effect is a small push that is needed to set a massive sphere into motion when it is caused to roll down a slope starting from a point of unstable equilibrium.', 'E': \"The butterfly effect is a phenomenon that highlights the difference between the application of the notion of causality in physics and a more general use of causality as represented by Mackie's INUS conditions.\", 'answer': 'A'}\n",
            "{'id': 18, 'prompt': \"What is the 'reactive Leidenfrost effect' observed in non-volatile materials?\", 'A': \"The 'reactive Leidenfrost effect' is a phenomenon where solid particles float above hot surfaces and move erratically, observed in non-volatile materials.\", 'B': \"The 'reactive Leidenfrost effect' is a phenomenon where solid particles float above hot surfaces and move erratically, observed in volatile materials.\", 'C': \"The 'reactive Leidenfrost effect' is a phenomenon where solid particles sink into hot surfaces and move slowly, observed in non-volatile materials.\", 'D': \"The 'reactive Leidenfrost effect' is a phenomenon where solid particles float above cold surfaces and move erratically, observed in non-volatile materials.\", 'E': \"The 'reactive Leidenfrost effect' is a phenomenon where solid particles sink into cold surfaces and move slowly, observed in non-volatile materials.\", 'answer': 'A'}\n",
            "{'id': 19, 'prompt': 'What is reciprocal length or inverse length?', 'A': 'Reciprocal length or inverse length is a quantity or measurement used in physics and chemistry. It is the reciprocal of time, and common units used for this measurement include the reciprocal second or inverse second (symbol: s−1), the reciprocal minute or inverse minute (symbol: min−1).', 'B': 'Reciprocal length or inverse length is a quantity or measurement used in geography and geology. It is the reciprocal of area, and common units used for this measurement include the reciprocal square metre or inverse square metre (symbol: m−2), the reciprocal square kilometre or inverse square kilometre (symbol: km−2).', 'C': 'Reciprocal length or inverse length is a quantity or measurement used in biology and medicine. It is the reciprocal of mass, and common units used for this measurement include the reciprocal gram or inverse gram (symbol: g−1), the reciprocal kilogram or inverse kilogram (symbol: kg−1).', 'D': 'Reciprocal length or inverse length is a quantity or measurement used in economics and finance. It is the reciprocal of interest rate, and common units used for this measurement include the reciprocal percent or inverse percent (symbol: %−1), the reciprocal basis point or inverse basis point (symbol: bp−1).', 'E': 'Reciprocal length or inverse length is a quantity or measurement used in several branches of science and mathematics. It is the reciprocal of length, and common units used for this measurement include the reciprocal metre or inverse metre (symbol: m−1), the reciprocal centimetre or inverse centimetre (symbol: cm−1).', 'answer': 'A'}\n",
            "{'id': 20, 'prompt': 'Which of the following statements is true about the categorization of planetary systems according to their orbital dynamics?', 'A': 'Planetary systems cannot be categorized based on their orbital dynamics.', 'B': 'Planetary systems can be categorized as resonant, non-resonant-interacting, hierarchical, or some combination of these, but only based on the number of planets in the system.', 'C': 'Planetary systems can only be categorized as resonant or non-resonant-interacting.', 'D': 'Planetary systems can be categorized as resonant, non-resonant-interacting, hierarchical, or some combination of these.', 'E': 'Planetary systems can only be categorized as hierarchical or non-hierarchical.', 'answer': 'A'}\n",
            "{'id': 21, 'prompt': 'What is the propagation constant in sinusoidal waves?', 'A': 'The propagation constant is a measure of the amplitude of the sinusoidal wave that varies with distance.', 'B': 'The propagation constant is a real number that remains constant with distance due to the phase change in the sinusoidal wave.', 'C': 'The propagation constant is a real number that varies with distance due to the phase change in the sinusoidal wave.', 'D': 'The propagation constant is a complex number that varies with distance due to the phase change in the sinusoidal wave.', 'E': 'The propagation constant is a complex number that remains constant with distance due to the phase change in the sinusoidal wave.', 'answer': 'A'}\n",
            "{'id': 22, 'prompt': 'What is the gravitomagnetic interaction?', 'A': 'The gravitomagnetic interaction is a force that is produced by the rotation of atoms in materials with linear properties that enhance time-varying gravitational fields.', 'B': 'The gravitomagnetic interaction is a force that acts against gravity, produced by materials that have nonlinear properties that enhance time-varying gravitational fields.', 'C': 'The gravitomagnetic interaction is a new force of nature generated by rotating matter, whose intensity is proportional to the rate of spin, according to the general theory of relativity.', 'D': 'The gravitomagnetic interaction is a force that occurs in neutron stars, producing a gravitational analogue of the Meissner effect.', 'E': 'The gravitomagnetic interaction is a force that is produced by the rotation of atoms in materials of different gravitational permeability.', 'answer': 'A'}\n",
            "{'id': 23, 'prompt': \"What did Newton's manuscripts of the 1660s show?\", 'A': \"Newton learned about tangential motion and radially directed force or endeavour from Hooke's work.\", 'B': \"Newton's manuscripts did not show any evidence of combining tangential motion with the effects of radially directed force or endeavour.\", 'C': 'Newton combined tangential motion with the effects of radially directed force or endeavour and expressed the concept of linear inertia.', 'D': \"Newton's manuscripts showed that he learned about the inverse square law from Hooke's private papers.\", 'E': \"Newton's manuscripts showed that he was indebted to Descartes' work, published in 1644, for the concept of linear inertia.\", 'answer': 'A'}\n",
            "{'id': 24, 'prompt': 'What is the decay energy for the free neutron decay process?', 'A': '0.013343 MeV', 'B': '0.013 MeV', 'C': '1,000 MeV', 'D': '0.782 MeV', 'E': '0.782343 MeV', 'answer': 'A'}\n",
            "{'id': 25, 'prompt': \"What is Hesse's principle of transfer in geometry?\", 'A': \"Hesse's principle of transfer is a concept in biology that explains the transfer of genetic information from one generation to another.\", 'B': \"Hesse's principle of transfer is a concept in chemistry that explains the transfer of electrons between atoms in a chemical reaction.\", 'C': \"Hesse's principle of transfer is a concept in physics that explains the transfer of energy from one object to another.\", 'D': \"Hesse's principle of transfer is a concept in economics that explains the transfer of wealth from one individual to another.\", 'E': \"Hesse's principle of transfer is a concept in geometry that states that if the points of the projective line P1 are depicted by a rational normal curve in Pn, then the group of the projective transformations of Pn that preserve the curve is isomorphic to the group of the projective transformations of P1.\", 'answer': 'A'}\n",
            "{'id': 26, 'prompt': 'What is the relationship between the Cauchy momentum equation and the Navier-Stokes equation?', 'A': 'The Navier-Stokes equation can be derived from the Cauchy momentum equation by specifying the stress tensor through a constitutive relation, expressing the shear tensor in terms of viscosity and fluid velocity, and assuming constant density and viscosity.', 'B': 'The Navier-Stokes equation is a simplified version of the Cauchy momentum equation that only applies to situations with constant density and viscosity.', 'C': 'The Navier-Stokes equation is a special case of the Cauchy momentum equation, which is a more general equation that applies to all non-relativistic momentum conservation situations.', 'D': 'The Cauchy momentum equation and the Navier-Stokes equation are completely unrelated and cannot be used interchangeably in any situation.', 'E': 'The Cauchy momentum equation is a special case of the Navier-Stokes equation, which is a more general equation that applies to all non-relativistic momentum conservation situations.', 'answer': 'A'}\n",
            "{'id': 27, 'prompt': 'What is X-ray pulsar-based navigation (XNAV)?', 'A': \"X-ray pulsar-based navigation (XNAV) is a navigation technique that uses the periodic X-ray signals emitted from pulsars to determine the location of a vehicle in the Earth's atmosphere.\", 'B': 'X-ray pulsar-based navigation (XNAV) is a navigation technique that uses the periodic radio signals emitted from pulsars to determine the location of a vehicle in deep space, such as a spacecraft.', 'C': 'X-ray pulsar-based navigation (XNAV) is a navigation technique that uses the periodic X-ray signals emitted from satellites to determine the location of a vehicle in deep space, such as a spacecraft.', 'D': 'X-ray pulsar-based navigation (XNAV) is a navigation technique that uses the periodic X-ray signals emitted from pulsars to determine the location of a vehicle in deep space, such as a spacecraft.', 'E': 'X-ray pulsar-based navigation (XNAV) is a navigation technique that uses the periodic radio signals emitted from satellites to determine the location of a vehicle in deep space, such as a spacecraft.', 'answer': 'A'}\n",
            "{'id': 28, 'prompt': 'What is the evidence for the existence of a supermassive black hole at the center of the Milky Way galaxy?', 'A': \"The Milky Way galaxy has a supermassive black hole at its center because of the bright flare activity observed near Sagittarius A*. The radius of the central object must be less than 17 light-hours, because otherwise S2 would collide with it. Observations of the star S14 indicate that the radius is no more than 6.25 light-hours, about the diameter of Uranus' orbit. No known astronomical object other than a black hole can contain 4.0 million M☉ in this volume of space.\", 'B': \"The Milky Way galaxy has a supermassive black hole at its center because the star S14 follows an elliptical orbit with a period of 15.2 years and a pericenter of 17 light-hours from the center of the central object. From the motion of star S14, the object's mass can be estimated as 4.0 million M☉, or about 7.96×1036 kg. The radius of the central object must be less than 17 light-hours, because otherwise S14 would collide with it. Observations of the star S2 indicate that the radius is no more than 6.25 light-hours, about the diameter of Uranus' orbit. No known astronomical object other than a black hole can contain 4.0 million M☉ in this volume of space.\", 'C': \"The Milky Way galaxy has a supermassive black hole at its center because of the bright flare activity observed near Sagittarius A*. The radius of the central object must be less than 6.25 light-hours, about the diameter of Uranus' orbit. Observations of the star S2 indicate that the radius is no more than 17 light-hours, because otherwise S2 would collide with it. No known astronomical object other than a black hole can contain 4.0 million M☉ in this volume of space.\", 'D': 'The Milky Way galaxy has a supermassive black hole at its center because it is the only explanation for the bright flare activity observed near Sagittarius A* at a separation of six to ten times the gravitational radius of the candidate SMBH.', 'E': \"The star S2 follows an elliptical orbit with a period of 15.2 years and a pericenter of 17 light-hours from the center of the central object. From the motion of star S2, the object's mass can be estimated as 4.0 million M☉, or about 7.96×1036 kg. The radius of the central object must be less than 17 light-hours, because otherwise S2 would collide with it. Observations of the star S14 indicate that the radius is no more than 6.25 light-hours, about the diameter of Uranus' orbit. No known astronomical object other than a black hole can contain 4.0 million M☉ in this volume of space.\", 'answer': 'A'}\n",
            "{'id': 29, 'prompt': 'What is the function of the fibrous cardiac skeleton?', 'A': 'The fibrous cardiac skeleton is a system of blood vessels that supplies oxygen and nutrients to the heart muscle.', 'B': 'The fibrous cardiac skeleton is responsible for the pumping action of the heart, regulating the flow of blood through the atria and ventricles.', 'C': 'The fibrous cardiac skeleton provides structure to the heart, forming the atrioventricular septum that separates the atria from the ventricles, and the fibrous rings that serve as bases for the four heart valves.', 'D': 'The fibrous cardiac skeleton is a network of nerves that controls the heartbeat and rhythm of the heart.', 'E': 'The fibrous cardiac skeleton is a protective layer that surrounds the heart, shielding it from external damage.', 'answer': 'A'}\n",
            "{'id': 30, 'prompt': 'What is the Carnot engine?', 'A': 'The Carnot engine is a theoretical engine that operates in the limiting mode of extreme speed known as dynamic. It represents the theoretical maximum efficiency of a heat engine operating between any two given thermal or heat reservoirs at different temperatures.', 'B': 'The Carnot engine is an ideal heat engine that operates in the limiting mode of extreme slowness known as quasi-static. It represents the theoretical maximum efficiency of a heat engine operating between any two given thermal or heat reservoirs at different temperatures.', 'C': 'The Carnot engine is a real heat engine that operates in the limiting mode of extreme speed known as dynamic. It represents the theoretical minimum efficiency of a heat engine operating between any two given thermal or heat reservoirs at different temperatures.', 'D': 'The Carnot engine is a theoretical engine that operates in the limiting mode of extreme slowness known as quasi-static. It represents the theoretical minimum efficiency of a heat engine operating between any two given thermal or heat reservoirs at different temperatures.', 'E': 'The Carnot engine is a real engine that operates in the limiting mode of extreme slowness known as quasi-static. It represents the theoretical maximum efficiency of a heat engine operating between any two given thermal or heat reservoirs at different temperatures.', 'answer': 'A'}\n",
            "{'id': 31, 'prompt': 'Which mathematical function is commonly used to characterize linear time-invariant systems?', 'A': 'Trigonometric function', 'B': 'Quadratic function', 'C': 'Exponential function', 'D': 'Logarithmic function', 'E': 'Transfer function', 'answer': 'A'}\n",
            "{'id': 32, 'prompt': 'What is the second law of thermodynamics?', 'A': 'The second law of thermodynamics is a physical law based on universal experience concerning heat and energy interconversions. It states that heat always moves from colder objects to hotter objects unless energy in some form is supplied to reverse the direction of heat flow.', 'B': 'The second law of thermodynamics is a physical law based on universal experience concerning heat and energy interconversions. It establishes that the internal energy of a thermodynamic system is a physical property that can be used to predict whether processes are forbidden despite obeying the requirement of conservation of energy as expressed in the first law of thermodynamics.', 'C': 'The second law of thermodynamics is a physical law based on universal experience concerning heat and energy interconversions. It establishes that all heat energy can be converted into work in a cyclic process.', 'D': 'The second law of thermodynamics is a physical law based on universal experience concerning heat and energy interconversions. It states that the entropy of isolated systems left to spontaneous evolution can decrease, as they always arrive at a state of thermodynamic equilibrium where the entropy is highest at the given internal energy.', 'E': 'The second law of thermodynamics is a physical law based on universal experience concerning heat and energy interconversions. It establishes the concept of entropy as a physical property of a thermodynamic system and can be used to predict whether processes are forbidden despite obeying the requirement of conservation of energy as expressed in the first law of thermodynamics.', 'answer': 'A'}\n",
            "{'id': 33, 'prompt': 'What are amorphous ferromagnetic metallic alloys, and what are their advantages?', 'A': 'Amorphous ferromagnetic metallic alloys are crystalline alloys that can be made by rapidly cooling a liquid alloy. Their properties are nearly anisotropic, resulting in low coercivity, low hysteresis loss, high permeability, and high electrical resistivity.', 'B': 'Amorphous ferromagnetic metallic alloys are non-crystalline alloys that can be made by slowly heating a solid alloy. Their properties are nearly isotropic, resulting in low coercivity, low hysteresis loss, high permeability, and high electrical resistivity.', 'C': 'Amorphous ferromagnetic metallic alloys are crystalline alloys that can be made by slowly cooling a liquid alloy. Their properties are nearly anisotropic, resulting in high coercivity, high hysteresis loss, low permeability, and low electrical resistivity.', 'D': 'Amorphous ferromagnetic metallic alloys are non-crystalline alloys that can be made by rapidly cooling a liquid alloy. Their properties are nearly isotropic, resulting in low coercivity, low hysteresis loss, high permeability, and high electrical resistivity.', 'E': 'Amorphous ferromagnetic metallic alloys are non-crystalline alloys that can be made by rapidly heating a solid alloy. Their properties are nearly isotropic, resulting in high coercivity, high hysteresis loss, low permeability, and low electrical resistivity.', 'answer': 'A'}\n",
            "{'id': 34, 'prompt': 'What is the Penrose process?', 'A': 'The Penrose process is a mechanism through which objects can emerge from the ergosphere with less energy than they entered with, taking energy from the rotational energy of the black hole and speeding up its rotation.', 'B': 'The Penrose process is a mechanism through which objects can emerge from the ergosphere with the same energy as they entered with, taking energy from the rotational energy of the black hole and maintaining its rotation.', 'C': 'The Penrose process is a mechanism through which objects can emerge from the ergosphere with more energy than they entered with, taking extra energy from the rotational energy of the black hole and slowing down its rotation.', 'D': 'The Penrose process is a mechanism through which objects can emerge from the event horizon with less energy than they entered with, taking energy from the rotational energy of the black hole and speeding up its rotation.', 'E': 'The Penrose process is a mechanism through which objects can emerge from the event horizon with more energy than they entered with, taking extra energy from the rotational energy of the black hole and slowing down its rotation.', 'answer': 'A'}\n",
            "{'id': 35, 'prompt': 'What was the aim of the Gravity Probe B (GP-B) mission?', 'A': 'To prove that pressure contributes equally to spacetime curvature as does mass-energy.', 'B': 'To measure spacetime curvature near Earth, with particular emphasis on gravitomagnetism.', 'C': \"To measure the distribution of Fe and Al on the Moon's surface.\", 'D': 'To confirm the relatively large geodetic effect due to simple spacetime curvature, and is also known as de Sitter precession.', 'E': 'To measure the discrepancy between active and passive mass to about 10−12.', 'answer': 'A'}\n",
            "{'id': 36, 'prompt': \"What was Pierre de Fermat's solution to the problem of refraction?\", 'A': 'Fermat supposed that light took the path of least resistance, and that different media offered the same resistance. His eventual solution, described in a letter to La Chambre dated 1 January 1662, construed \"resistance\" as inversely proportional to speed, so that light took the path of least time. That premise yielded the ordinary law of refraction, provided that light traveled more slowly in the optically denser medium.', 'B': 'Fermat supposed that light took the path of least resistance, and that different media offered different resistances. His eventual solution, described in a letter to La Chambre dated 1 January 1662, construed \"resistance\" as directly proportional to speed, so that light took the path of least time. That premise yielded the ordinary law of refraction, provided that light traveled more quickly in the optically denser medium.', 'C': 'Fermat supposed that light took the path of least resistance, and that different media offered the same resistance. His eventual solution, described in a letter to La Chambre dated 1 January 1662, construed \"resistance\" as directly proportional to speed, so that light took the path of least time. That premise yielded the ordinary law of refraction, provided that light traveled more slowly in the optically denser medium.', 'D': 'Fermat supposed that light took the path of least resistance, and that different media offered the same resistance. His eventual solution, described in a letter to La Chambre dated 1 January 1662, construed \"resistance\" as inversely proportional to speed, so that light took the path of least time. That premise yielded the ordinary law of refraction, provided that light traveled more quickly in the optically denser medium.', 'E': 'Fermat supposed that light took the path of least resistance, and that different media offered different resistances. His eventual solution, described in a letter to La Chambre dated 1 January 1662, construed \"resistance\" as inversely proportional to speed, so that light took the path of least time. That premise yielded the ordinary law of refraction, provided that light traveled more slowly in the optically denser medium.', 'answer': 'A'}\n",
            "{'id': 37, 'prompt': 'What is the reason behind the adoption of a logarithmic scale of 5√100 ≈ 2.512 between magnitudes in astronomy?', 'A': 'The logarithmic scale was adopted to ensure that five magnitude steps corresponded precisely to a factor of 100 in brightness.', 'B': 'The logarithmic scale was adopted to measure the size of stars.', 'C': 'The logarithmic scale was adopted to measure the intensity of light coming from a star.', 'D': 'The logarithmic scale was adopted to ensure that the apparent sizes of stars were not spurious.', 'E': 'The logarithmic scale was adopted to measure the distance between stars.', 'answer': 'A'}\n",
            "{'id': 38, 'prompt': 'What is the spin quantum number?', 'A': 'The spin quantum number is a measure of the distance between an elementary particle and the nucleus of an atom.', 'B': 'The spin quantum number is a measure of the size of an elementary particle.', 'C': 'The spin quantum number is a measure of the charge of an elementary particle.', 'D': \"The spin quantum number is a measure of the speed of an elementary particle's rotation around some axis.\", 'E': 'The spin quantum number is a dimensionless quantity obtained by dividing the spin angular momentum by the reduced Planck constant ħ, which has the same dimensions as angular momentum.', 'answer': 'A'}\n",
            "{'id': 39, 'prompt': 'What is the synapstor or synapse transistor?', 'A': 'A device used to demonstrate a neuro-inspired circuit that shows short-term potentiation for learning and inactivity-based forgetting.', 'B': 'A device used to demonstrate a neuro-inspired circuit that shows long-term potentiation for learning and activity-based forgetting.', 'C': 'A device used to demonstrate a neuro-inspired circuit that shows short-term depression for learning and inactivity-based forgetting.', 'D': 'A device used to demonstrate a neuro-inspired circuit that shows short-term potentiation for learning and activity-based forgetting.', 'E': 'A device used to demonstrate a neuro-inspired circuit that shows long-term potentiation for learning and inactivity-based forgetting.', 'answer': 'A'}\n",
            "{'id': 40, 'prompt': 'What is spontaneous symmetry breaking?', 'A': 'Spontaneous symmetry breaking occurs when the action of a theory has no symmetry, but the vacuum state has a symmetry. In that case, there will exist a local operator that is non-invariant under the symmetry, giving it a nonzero vacuum expectation value.', 'B': 'Spontaneous symmetry breaking occurs when the action of a theory has a symmetry, and the vacuum state also has the same symmetry. In that case, there will exist a local operator that is invariant under the symmetry, giving it a zero vacuum expectation value.', 'C': 'Spontaneous symmetry breaking occurs when the action of a theory has no symmetry, and the vacuum state also has no symmetry. In that case, there will exist a local operator that is invariant under the symmetry, giving it a zero vacuum expectation value.', 'D': 'Spontaneous symmetry breaking occurs when the action of a theory has a symmetry, but the vacuum state violates this symmetry. In that case, there will exist a local operator that is invariant under the symmetry, giving it a zero vacuum expectation value.', 'E': 'Spontaneous symmetry breaking occurs when the action of a theory has a symmetry, but the vacuum state violates this symmetry. In that case, there will exist a local operator that is non-invariant under the symmetry, giving it a nonzero vacuum expectation value.', 'answer': 'A'}\n",
            "{'id': 41, 'prompt': 'What is the proper distance for a redshift of 8.2?', 'A': 'The proper distance for a redshift of 8.2 is about 6.2 Gpc, or about 24 billion light-years.', 'B': 'The proper distance for a redshift of 8.2 is about 7.2 Gpc, or about 26 billion light-years.', 'C': 'The proper distance for a redshift of 8.2 is about 9.2 Gpc, or about 30 billion light-years.', 'D': 'The proper distance for a redshift of 8.2 is about 8.2 Gpc, or about 28 billion light-years.', 'E': 'The proper distance for a redshift of 8.2 is about 10.2 Gpc, or about 32 billion light-years.', 'answer': 'A'}\n",
            "{'id': 42, 'prompt': 'Who was the first to determine the velocity of a star moving away from the Earth using the Doppler effect?', 'A': 'Fraunhofer', 'B': 'William Huggins', 'C': 'Hippolyte Fizeau', 'D': 'Vogel and Scheiner', 'E': 'None of the above', 'answer': 'A'}\n",
            "{'id': 43, 'prompt': 'What is the information loss paradox in black holes?', 'A': 'Black holes have an infinite number of internal parameters, so all the information about the matter that went into forming the black hole is preserved. Regardless of the type of matter which goes into a black hole, it appears that all the information is conserved. As black holes evaporate by emitting Hawking radiation, the information is lost forever.', 'B': 'Black holes have an infinite number of internal parameters, so all the information about the matter that went into forming the black hole is preserved. Regardless of the type of matter which goes into a black hole, it appears that all the information is conserved. As black holes evaporate by emitting Hawking radiation, the information is lost temporarily but reappears once the black hole has fully evaporated.', 'C': 'Black holes have only a few internal parameters, so most of the information about the matter that went into forming the black hole is lost. Regardless of the type of matter which goes into a black hole, it appears that only information concerning the total mass, charge, and angular momentum are conserved. As black holes evaporate by emitting Hawking radiation, the information is lost forever.', 'D': 'Black holes have only a few internal parameters, so most of the information about the matter that went into forming the black hole is lost. Regardless of the type of matter which goes into a black hole, it appears that only information concerning the total mass, charge, and angular momentum are conserved. As black holes evaporate by emitting Hawking radiation, the information is preserved and reappears once the black hole has fully evaporated.', 'E': 'Black holes have only a few internal parameters, so most of the information about the matter that went into forming the black hole is preserved. Regardless of the type of matter which goes into a black hole, it appears that all the information is conserved. As black holes evaporate by emitting Hawking radiation, the information is preserved and reappears once the black hole has fully evaporated.', 'answer': 'A'}\n",
            "{'id': 44, 'prompt': 'What is the Kutta condition?', 'A': 'The Kutta condition is a physical requirement that the fluid moving along the lower and upper surfaces of an airfoil meet smoothly, with no fluid moving around the trailing edge of the airfoil.', 'B': 'The Kutta condition is a physical requirement that the fluid moving along the lower and upper surfaces of an airfoil meet smoothly, with no fluid moving around the leading edge of the airfoil.', 'C': 'The Kutta condition is a mathematical requirement that the loop used in applying the Kutta-Joukowski theorem must be chosen outside the boundary layer of the airfoil.', 'D': 'The Kutta condition is a mathematical requirement that the flow can be assumed inviscid in the entire region outside the airfoil provided the Reynolds number is large and the angle of attack is small.', 'E': 'The Kutta condition is a physical requirement that the circulation calculated using the loop corresponding to the surface of the airfoil must be zero for a viscous fluid.', 'answer': 'A'}\n",
            "{'id': 45, 'prompt': 'What is classical mechanics?', 'A': 'Classical mechanics is the branch of physics that describes the motion of macroscopic objects using concepts such as mass, acceleration, and force. It is based on a three-dimensional Euclidean space with fixed axes, and utilises many equations and mathematical concepts to relate physical quantities to one another.', 'B': 'Classical mechanics is the branch of physics that describes the motion of microscopic objects using concepts such as energy, momentum, and wave-particle duality. It is based on a four-dimensional space-time continuum and utilises many equations and mathematical concepts to relate physical quantities to one another.', 'C': 'Classical mechanics is the branch of physics that studies the behaviour of subatomic particles such as electrons and protons. It is based on the principles of quantum mechanics and utilises many equations and mathematical concepts to describe the properties of these particles.', 'D': 'Classical mechanics is the branch of physics that studies the behaviour of light and electromagnetic radiation. It is based on the principles of wave-particle duality and utilises many equations and mathematical concepts to describe the properties of light.', 'E': 'Classical mechanics is the branch of physics that studies the behaviour of fluids and gases. It is based on the principles of thermodynamics and utilises many equations and mathematical concepts to describe the properties of these substances.', 'answer': 'A'}\n",
            "{'id': 46, 'prompt': 'Who shared the other half of the Nobel Prize with Yoichiro Nambu for discovering the origin of the explicit breaking of CP symmetry in the weak interactions?', 'A': 'Richard Feynman and Julian Schwinger', 'B': 'Makoto Kobayashi and Toshihide Maskawa', 'C': 'Steven Weinberg and Sheldon Glashow', 'D': 'Peter Higgs and Francois Englert', 'E': 'Murray Gell-Mann and George Zweig', 'answer': 'A'}\n",
            "{'id': 47, 'prompt': 'What are some models that attempt to account for all observations without invoking supplemental non-baryonic matter?', 'A': 'The Doppler effect, the photoelectric effect, or the Compton effect.', 'B': 'The Higgs boson, the W boson, or the Z boson.', 'C': 'Modified Newtonian dynamics, tensor–vector–scalar gravity, or entropic gravity.', 'D': 'The strong nuclear force, the weak nuclear force, or the electromagnetic force.', 'E': \"Kepler's laws, Newton's laws, or Einstein's theory of general relativity.\", 'answer': 'A'}\n",
            "{'id': 48, 'prompt': 'What is the purpose of the proximity-focusing design in a RICH detector?', 'A': 'To emit a cone of Askaryan radiation that traverses a small distance and is detected on the photon detector plane, creating a ring of light whose radius is defined by the Cherenkov emission angle and the proximity gap.', 'B': 'To emit a cone of Bremsstrahlung radiation that traverses a large distance and is detected on the photon detector plane, creating a ring of light whose radius is defined by the Cherenkov emission angle and the proximity gap.', 'C': 'To emit a cone of Cherenkov light that traverses a large distance and is detected on the photon detector plane, creating a ring of light whose radius is defined by the Cherenkov emission angle and the proximity gap.', 'D': 'To emit a cone of Cherenkov light that traverses a small distance and is detected on the photon detector plane, creating a ring of light whose radius is defined by the Cherenkov emission angle and the proximity gap.', 'E': 'To emit a cone of Bremsstrahlung radiation that traverses a small distance and is detected on the photon detector plane, creating a ring of light whose radius is defined by the Cherenkov emission angle and the proximity gap.', 'answer': 'A'}\n",
            "{'id': 49, 'prompt': 'What is a light-year?', 'A': 'A unit of time used to express astronomical distances that is equivalent to the time that an object moving at the speed of light in vacuum would take to travel in one Julian year: approximately 9.46 trillion seconds (9.46×1012 s) or 5.88 trillion minutes (5.88×1012 min).', 'B': 'A unit of length used to express astronomical distances that is equivalent to the distance that an object moving at the speed of light in vacuum would travel in one Julian year: approximately 9.46 trillion kilometres (9.46×1012 km) or 5.88 trillion miles (5.88×1012 mi).', 'C': 'A unit of temperature used to express astronomical distances that is equivalent to the temperature of an object moving at the speed of light in vacuum in one Julian year: approximately 9.46 trillion Kelvin (9.46×1012 K) or 5.88 trillion Celsius (5.88×1012 °.', 'D': 'A unit of energy used to express astronomical distances that is equivalent to the energy of an object moving at the speed of light in vacuum in one Julian year: approximately 9.46 trillion joules (9.46×1012 J) or 5.88 trillion watt-hours (5.88×1012 Wh).', 'E': 'A unit of mass used to express astronomical distances that is equivalent to the mass of an object moving at the speed of light in vacuum in one Julian year: approximately 9.46 trillion kilograms (9.46×1012 kg) or 5.88 trillion pounds (5.88×1012 lb).', 'answer': 'A'}\n",
            "{'id': 50, 'prompt': 'What is the main advantage of ferroelectric memristors?', 'A': 'Ferroelectric memristors have a higher resistance than other types of memristors, making them more suitable for high-power applications.', 'B': 'Ferroelectric domain dynamics can be tuned, allowing for the engineering of memristor response, and resistance variations are due to purely electronic phenomena, making the device more reliable.', 'C': 'Ferroelectric memristors have a more complex structure than other types of memristors, allowing for a wider range of applications.', 'D': 'Ferroelectric memristors have a unique piezoelectric field that allows for the creation of non-uniform elastic strain and a more stable structure.', 'E': 'Ferroelectric memristors are based on vertically aligned carbon nanotubes, which offer a more efficient and faster switching mechanism than other materials.', 'answer': 'A'}\n",
            "{'id': 51, 'prompt': 'What is the term used to describe the conduction that occurs in non-crystalline semiconductors by charges quantum tunnelling from one localised site to another?', 'A': 'Intrinsic semiconductors', 'B': 'Electrical impedance tomography', 'C': 'Quantum conduction', 'D': 'Carrier mobility', 'E': 'Variable range hopping', 'answer': 'A'}\n",
            "{'id': 52, 'prompt': 'What is resistivity?', 'A': \"Resistivity is an extrinsic property of a material that describes how difficult it is to make electrical current flow through it. It is measured in ohms and is dependent on the material's shape and size.\", 'B': \"Resistivity is a measure of the resistance of a material to electrical current flow. It is measured in ohm-meters and is dependent on the material's shape and size.\", 'C': \"Resistivity is an intrinsic property of a material that describes how difficult it is to make electrical current flow through it. It is measured in ohm-meters and is independent of the material's shape and size.\", 'D': \"Resistivity is a measure of the electrical current that can flow through a material. It is measured in ohms and is dependent on the material's shape and size.\", 'E': \"Resistivity is a measure of the electrical current that can flow through a material. It is measured in ohm-meters and is independent of the material's shape and size.\", 'answer': 'A'}\n",
            "{'id': 53, 'prompt': 'What did Newton adopt after his correspondence with Hooke in 1679-1680?', 'A': 'The language of inward or centripetal force.', 'B': 'The language of gravitational force.', 'C': 'The language of outward or centrifugal force.', 'D': 'The language of tangential and radial displacements.', 'E': 'The language of electromagnetic force.', 'answer': 'A'}\n",
            "{'id': 54, 'prompt': \"What is the metallicity of Kapteyn's star estimated to be?\", 'A': '8 times more than the Sun', 'B': '8 times less than the Sun', 'C': '13 light years away from Earth', 'D': 'Unknown', 'E': 'Equal to the Sun', 'answer': 'A'}\n",
            "{'id': 55, 'prompt': 'What is the SI base unit of time and how is it defined?', 'A': 'The SI base unit of time is the week, which is defined by measuring the electronic transition frequency of caesium atoms.', 'B': 'The SI base unit of time is the second, which is defined by measuring the electronic transition frequency of caesium atoms.', 'C': 'The SI base unit of time is the hour, which is defined by measuring the electronic transition frequency of caesium atoms.', 'D': 'The SI base unit of time is the day, which is defined by measuring the electronic transition frequency of caesium atoms.', 'E': 'The SI base unit of time is the minute, which is defined by measuring the electronic transition frequency of caesium atoms.', 'answer': 'A'}\n",
            "{'id': 56, 'prompt': 'What is a planetary system?', 'A': 'A system of planets that are all located in the same solar system.', 'B': 'A system of planets that are all the same size and shape.', 'C': 'Any set of gravitationally bound non-stellar objects in or out of orbit around a star or star system.', 'D': 'A system of planets that are all located in the same galaxy.', 'E': 'A system of planets that are all made of gas.', 'answer': 'A'}\n",
            "{'id': 57, 'prompt': 'What is the result of the collapse of a cavitation bubble?', 'A': 'The collapse of a cavitation bubble causes the surrounding liquid to expand, resulting in the formation of a low-pressure vapor bubble.', 'B': 'The collapse of a cavitation bubble causes a decrease in pressure and temperature of the vapor within, releasing a small amount of energy in the form of an acoustic shock wave and visible light.', 'C': 'The collapse of a cavitation bubble causes a sharp increase in pressure and temperature of the vapor within, releasing a significant amount of energy in the form of an acoustic shock wave and visible light.', 'D': 'The collapse of a cavitation bubble causes the surrounding liquid to implode, resulting in the formation of a vacuum.', 'E': 'The collapse of a cavitation bubble has no effect on the surrounding liquid or vapor.', 'answer': 'A'}\n",
            "{'id': 58, 'prompt': 'Who was Giordano Bruno?', 'A': 'A German philosopher who supported the Keplerian theory that planets move in elliptical orbits around the Sun and believed that fixed stars are similar to the Sun but have different designs and are not subject to the dominion of One.', 'B': 'An English philosopher who supported the Ptolemaic theory that Earth is the center of the universe and believed that fixed stars are not similar to the Sun and do not have planets orbiting them.', 'C': 'A French philosopher who supported the Aristotelian theory that Earth is at the center of the universe and believed that fixed stars are similar to the Sun but do not have planets orbiting them.', 'D': 'An Italian philosopher who supported the Copernican theory that Earth and other planets orbit the Sun and believed that fixed stars are similar to the Sun and have planets orbiting them.', 'E': 'A Spanish philosopher who supported the Galilean theory that Earth and other planets orbit the Sun and believed that fixed stars are not similar to the Sun and do not have planets orbiting them.', 'answer': 'A'}\n",
            "{'id': 59, 'prompt': 'What are the Navier-Stokes equations?', 'A': 'The Navier-Stokes equations are partial differential equations that describe the motion of viscous fluid substances, expressing momentum balance and conservation of mass for Newtonian fluids.', 'B': 'The Navier-Stokes equations are partial differential equations that describe the motion of viscous fluid substances, expressing momentum balance and conservation of mass for non-Newtonian fluids.', 'C': 'The Navier-Stokes equations are partial differential equations that describe the motion of non-viscous fluid substances, expressing momentum balance and conservation of mass for Newtonian fluids.', 'D': 'The Navier-Stokes equations are algebraic equations that describe the motion of non-viscous fluid substances, expressing momentum balance and conservation of mass for Newtonian fluids.', 'E': 'The Navier-Stokes equations are algebraic equations that describe the motion of viscous fluid substances, expressing momentum balance and conservation of mass for Newtonian fluids.', 'answer': 'A'}\n",
            "{'id': 60, 'prompt': \"What is the revised view of the atmosphere's nature based on the time-varying multistability that is associated with the modulation of large-scale processes and aggregated feedback of small-scale processes?\", 'A': 'The atmosphere is a system that is only influenced by large-scale processes and does not exhibit any small-scale feedback.', 'B': 'The atmosphere possesses both chaos and order, including emerging organized systems and time-varying forcing from recurrent seasons.', 'C': 'The atmosphere is a system that is only influenced by small-scale processes and does not exhibit any large-scale modulation.', 'D': 'The atmosphere is a completely chaotic system with no order or organization.', 'E': 'The atmosphere is a completely ordered system with no chaos or randomness.', 'answer': 'A'}\n",
            "{'id': 61, 'prompt': 'What is the reason that it is nearly impossible to see light emitted at the Lyman-alpha transition wavelength from a star farther than a few hundred light years from Earth?', 'A': 'Far ultraviolet light is absorbed effectively by the charged components of the ISM, including atomic helium, which has a typical absorption wavelength of about 121.5 nanometers, the Lyman-alpha transition.', 'B': 'Far ultraviolet light is absorbed effectively by the neutral components of the ISM, including atomic hydrogen, which has a typical absorption wavelength of about 121.5 nanometers, the Lyman-alpha transition.', 'C': 'Far ultraviolet light is absorbed effectively by the charged components of the ISM, including atomic hydrogen, which has a typical absorption wavelength of about 121.5 nanometers, the Lyman-alpha transition.', 'D': 'Far ultraviolet light is absorbed effectively by the neutral components of the ISM, including atomic helium, which has a typical absorption wavelength of about 121.5 nanometers, the Lyman-alpha transition.', 'E': 'Far ultraviolet light is absorbed effectively by the neutral components of the ISM, including atomic hydrogen, which has a typical absorption wavelength of about 212.5 nanometers, the Lyman-alpha transition.', 'answer': 'A'}\n",
            "{'id': 62, 'prompt': 'What is a Schwarzschild black hole?', 'A': \"A black hole that has mass but neither electric charge nor angular momentum, and is not spherically symmetric, according to Birkhoff's theorem.\", 'B': \"A black hole that has mass, electric charge, and angular momentum, and is spherically symmetric, according to Birkhoff's theorem.\", 'C': \"A black hole that has mass but neither electric charge nor angular momentum, and is spherically symmetric, according to Birkhoff's theorem.\", 'D': \"A black hole that has neither mass nor electric charge nor angular momentum, and is not spherically symmetric, according to Birkhoff's theorem.\", 'E': \"A black hole that has mass, electric charge, and angular momentum, and is not spherically symmetric, according to Birkhoff's theorem.\", 'answer': 'A'}\n",
            "{'id': 63, 'prompt': 'What is the definition of Atomristor?', 'A': 'Atomristor is a flexible memristive device comprising a MoOx/MoS2 heterostructure sandwiched between silver electrodes on a plastic foil.', 'B': 'Atomristor is a prominent memcapacitive effect observed in switches with memristive behavior.', 'C': 'Atomristor is defined as the electrical devices showing memristive behavior in atomically thin nanomaterials or atomic sheets.', 'D': 'Atomristor is a printing and solution-processing technology used to fabricate memristive devices.', 'E': 'Atomristor is a type of two-dimensional layered transition metal dichalcogenides (TMDs) used in the fabrication of memristive devices.', 'answer': 'A'}\n",
            "{'id': 64, 'prompt': 'Who published the first theory that was able to encompass previously separate field theories to provide a unifying theory of electromagnetism?', 'A': 'Maxwell', 'B': 'Einstein', 'C': 'Galileo', 'D': 'Faraday', 'E': 'Newton', 'answer': 'A'}\n",
            "{'id': 65, 'prompt': \"What is the relevant type of coherence for the Young's double-slit interferometer?\", 'A': 'Visibility', 'B': 'Coherence time', 'C': 'Spatial coherence', 'D': 'Coherence length', 'E': 'Diameter of the coherence area (Ac)', 'answer': 'A'}\n",
            "{'id': 66, 'prompt': 'What is the Peierls bracket in canonical quantization?', 'A': 'The Peierls bracket is a mathematical symbol used to represent the Poisson algebra in the canonical quantization method.', 'B': 'The Peierls bracket is a mathematical tool used to generate the Hamiltonian in the canonical quantization method.', 'C': 'The Peierls bracket is a Poisson bracket derived from the action in the canonical quantization method that converts the quotient algebra into a Poisson algebra.', 'D': 'The Peierls bracket is a mathematical symbol used to represent the quotient algebra in the canonical quantization method.', 'E': 'The Peierls bracket is a mathematical tool used to generate the Euler-Lagrange equations in the canonical quantization method.', 'answer': 'A'}\n",
            "{'id': 67, 'prompt': \"What is the isophotal diameter used for in measuring a galaxy's size?\", 'A': \"The isophotal diameter is a way of measuring a galaxy's distance from Earth.\", 'B': \"The isophotal diameter is a measure of a galaxy's age.\", 'C': \"The isophotal diameter is a measure of a galaxy's mass.\", 'D': \"The isophotal diameter is a measure of a galaxy's temperature.\", 'E': \"The isophotal diameter is a conventional way of measuring a galaxy's size based on its apparent surface brightness.\", 'answer': 'A'}\n",
            "{'id': 68, 'prompt': \"What is the Maxwell's Demon thought experiment?\", 'A': 'A thought experiment in which a demon guards a microscopic trapdoor in a wall separating two parts of a container filled with different gases at equal temperatures. The demon selectively allows molecules to pass from one side to the other, causing an increase in temperature in one part and a decrease in temperature in the other, contrary to the second law of thermodynamics.', 'B': 'A thought experiment in which a demon guards a macroscopic trapdoor in a wall separating two parts of a container filled with different gases at different temperatures. The demon selectively allows molecules to pass from one side to the other, causing a decrease in temperature in one part and an increase in temperature in the other, in accordance with the second law of thermodynamics.', 'C': 'A thought experiment in which a demon guards a microscopic trapdoor in a wall separating two parts of a container filled with the same gas at equal temperatures. The demon selectively allows faster-than-average molecules to pass from one side to the other, causing a decrease in temperature in one part and an increase in temperature in the other, contrary to the second law of thermodynamics.', 'D': 'A thought experiment in which a demon guards a macroscopic trapdoor in a wall separating two parts of a container filled with the same gas at equal temperatures. The demon selectively allows faster-than-average molecules to pass from one side to the other, causing an increase in temperature in one part and a decrease in temperature in the other, contrary to the second law of thermodynamics.', 'E': 'A thought experiment in which a demon guards a microscopic trapdoor in a wall separating two parts of a container filled with the same gas at different temperatures. The demon selectively allows slower-than-average molecules to pass from one side to the other, causing a decrease in temperature in one part and an increase in temperature in the other, in accordance with the second law of thermodynamics.', 'answer': 'A'}\n",
            "{'id': 69, 'prompt': 'What is the application of Memristor?', 'A': 'Memristor has applications in the production of electric cars, airplanes, and ships.', 'B': 'Memristor has applications in the production of food, clothing, and shelter.', 'C': 'Memristor has applications in the production of solar panels, wind turbines, and hydroelectric power plants.', 'D': 'Memristor has applications in programmable logic signal processing, Super-resolution imaging, physical neural networks, control systems, reconfigurable computing, in-memory computing, brain–computer interfaces and RFID.', 'E': 'Memristor has applications in optical fiber communication, satellite communication, and wireless communication.', 'answer': 'A'}\n",
            "{'id': 70, 'prompt': 'What is the effect generated by a spinning superconductor?', 'A': 'An electric field, precisely aligned with the spin axis.', 'B': 'A magnetic field, randomly aligned with the spin axis.', 'C': 'A magnetic field, precisely aligned with the spin axis.', 'D': 'A gravitational field, randomly aligned with the spin axis.', 'E': 'A gravitational field, precisely aligned with the spin axis.', 'answer': 'A'}\n",
            "{'id': 71, 'prompt': 'What is the main focus of cryogenic and noble liquid detectors in dark matter experiments?', 'A': 'Distinguishing background particles from dark matter particles by detecting the heat produced when a particle hits an atom in a crystal absorber or the scintillation produced by a particle collision in liquid xenon or argon.', 'B': 'Detecting the heat produced when a particle hits an atom in a crystal absorber or the scintillation produced by a particle collision in liquid xenon or argon to determine the mass and interaction cross section with electrons of dark matter particles.', 'C': 'Detecting the heat produced when a particle hits an atom in a crystal absorber or the scintillation produced by a particle collision in liquid xenon or argon to distinguish between different types of background particles.', 'D': 'Detecting the heat produced when a particle hits an atom in a crystal absorber or the scintillation produced by a particle collision in liquid xenon or argon to determine the mass and interaction cross section with nucleons of dark matter particles.', 'E': 'Detecting the mass and interaction cross section with nucleons of dark matter particles by detecting the heat produced when a particle hits an atom in a crystal absorber or the scintillation produced by a particle collision in liquid xenon or argon.', 'answer': 'A'}\n",
            "{'id': 72, 'prompt': 'What is a pycnometer?', 'A': 'A device used to measure the density of a gas.', 'B': 'A device used to measure the mass of a liquid.', 'C': 'A device used to measure the volume of a gas.', 'D': 'A device used to determine the density of a liquid.', 'E': 'A device used to determine the volume of a liquid.', 'answer': 'A'}\n",
            "{'id': 73, 'prompt': 'What is the estimated redshift of CEERS-93316, a candidate high-redshift galaxy observed by the James Webb Space Telescope?', 'A': 'Approximately z = 6.0, corresponding to 1 billion years after the Big Bang.', 'B': 'Approximately z = 16.7, corresponding to 235.8 million years after the Big Bang.', 'C': 'Approximately z = 3.0, corresponding to 5 billion years after the Big Bang.', 'D': 'Approximately z = 10.0, corresponding to 13 billion years after the Big Bang.', 'E': 'Approximately z = 13.0, corresponding to 30 billion light-years away from Earth.', 'answer': 'A'}\n",
            "{'id': 74, 'prompt': 'What is bollard pull primarily used for measuring?', 'A': 'The weight of heavy machinery', 'B': 'The speed of locomotives', 'C': 'The distance traveled by a truck', 'D': 'The strength of tugboats', 'E': 'The height of a ballast tractor', 'answer': 'A'}\n",
            "{'id': 75, 'prompt': 'What is the piezoelectric strain coefficient for AT-cut quartz crystals?', 'A': 'd = 1.9·10‑12 m/V', 'B': 'd = 3.1·10‑12 m/V', 'C': 'd = 4.2·10‑12 m/V', 'D': 'd = 2.5·10‑12 m/V', 'E': 'd = 5.8·10‑12 m/V', 'answer': 'A'}\n",
            "{'id': 76, 'prompt': 'What is the difference between probability mass function (PMF) and probability density function (PDF)?', 'A': 'PMF is used only for continuous random variables, while PDF is used for both continuous and discrete random variables.', 'B': 'PMF is used for both continuous and discrete random variables, while PDF is used only for continuous random variables.', 'C': 'PMF is used for continuous random variables, while PDF is used for discrete random variables.', 'D': 'PMF is used for discrete random variables, while PDF is used for continuous random variables.', 'E': 'PMF and PDF are interchangeable terms used for the same concept in probability theory.', 'answer': 'A'}\n",
            "{'id': 77, 'prompt': 'How do the Lunar Laser Ranging Experiment, radar astronomy, and the Deep Space Network determine distances to the Moon, planets, and spacecraft?', 'A': 'They determine the values of electromagnetic constants.', 'B': 'They measure round-trip transit times.', 'C': 'They measure the actual speed of light waves.', 'D': 'They use interferometry to determine the speed of light.', 'E': 'They separately determine the frequency and wavelength of a light beam.', 'answer': 'A'}\n",
            "{'id': 78, 'prompt': 'What is the Ozma Problem?', 'A': 'The Ozma Problem is a chapter in a book that discusses the versatility of carbon and chirality in biochemistry.', 'B': 'The Ozma Problem is a discussion about time invariance and reversal in particle physics, theoretical physics, and cosmology.', 'C': 'The Ozma Problem is a conundrum that examines whether there is any fundamental asymmetry to the universe. It concerns various aspects of atomic and subatomic physics and how they relate to mirror asymmetry and the related concepts of chirality, antimatter, magnetic and electrical polarity, parity, charge and spin.', 'D': 'The Ozma Problem is a measure of how symmetry and asymmetry have evolved from the beginning of life on Earth.', 'E': 'The Ozma Problem is a comparison between the level of a desired signal and the level of background noise used in science and engineering.', 'answer': 'A'}\n",
            "{'id': 79, 'prompt': 'What is a Hilbert space in quantum mechanics?', 'A': 'A complex vector space where the state of a classical mechanical system is described by a vector |Ψ⟩.', 'B': 'A physical space where the state of a classical mechanical system is described by a vector |Ψ⟩.', 'C': 'A physical space where the state of a quantum mechanical system is described by a vector |Ψ⟩.', 'D': 'A mathematical space where the state of a classical mechanical system is described by a vector |Ψ⟩.', 'E': 'A complex vector space where the state of a quantum mechanical system is described by a vector |Ψ⟩.', 'answer': 'A'}\n",
            "{'id': 80, 'prompt': 'What is the significance of the speed of light in vacuum?', 'A': 'The speed of light in vacuum is only relevant when measuring the one-way speed of light.', 'B': 'The speed of light in vacuum is only relevant when measuring the two-way speed of light.', 'C': \"The speed of light in vacuum is independent of the motion of the wave source and the observer's inertial frame of reference.\", 'D': \"The speed of light in vacuum is dependent on the motion of the wave source and the observer's inertial frame of reference.\", 'E': 'The speed of light in vacuum is only relevant when c appears explicitly in the units of measurement.', 'answer': 'A'}\n",
            "{'id': 81, 'prompt': 'What is the term used to describe the proportionality factor to the Stefan-Boltzmann law that is utilized in subsequent evaluations of the radiative behavior of grey bodies?', 'A': 'Emissivity', 'B': \"Wien's displacement law\", 'C': 'Reflectance', 'D': 'Black-body radiation', 'E': 'Albedo', 'answer': 'A'}\n",
            "{'id': 82, 'prompt': 'What is the reason for the formation of stars exclusively within molecular clouds?', 'A': 'The formation of stars occurs exclusively outside of molecular clouds.', 'B': 'The low temperatures and high densities of molecular clouds cause the gravitational force to exceed the internal pressures that are acting \"outward\" to prevent a collapse.', 'C': 'The low temperatures and low densities of molecular clouds cause the gravitational force to be less than the internal pressures that are acting \"outward\" to prevent a collapse.', 'D': 'The high temperatures and low densities of molecular clouds cause the gravitational force to exceed the internal pressures that are acting \"outward\" to prevent a collapse.', 'E': 'The high temperatures and high densities of molecular clouds cause the gravitational force to be less than the internal pressures that are acting \"outward\" to prevent a collapse.', 'answer': 'A'}\n",
            "{'id': 83, 'prompt': 'What is the identity operation in symmetry groups?', 'A': 'The identity operation leaves the molecule unchanged and forms the identity element in the symmetry group.', 'B': 'The identity operation rotates the molecule about its center of mass.', 'C': 'The identity operation inverts the molecule about its center of inversion.', 'D': 'The identity operation reflects the molecule across a plane of symmetry.', 'E': 'The identity operation translates the molecule in 3-D space.', 'answer': 'A'}\n",
            "{'id': 84, 'prompt': 'What is a regular polytope?', 'A': 'A regular polytope is a geometric shape whose symmetry group is transitive on its diagonals.', 'B': 'A regular polytope is a geometric shape whose symmetry group is transitive on its vertices.', 'C': 'A regular polytope is a geometric shape whose symmetry group is transitive on its flags.', 'D': 'A regular polytope is a geometric shape whose symmetry group is transitive on its edges.', 'E': 'A regular polytope is a geometric shape whose symmetry group is transitive on its faces.', 'answer': 'A'}\n",
            "{'id': 85, 'prompt': 'What is the reason behind the largest externally observed electrical effects when two conductors are separated by the smallest distance without touching?', 'A': 'The surface charge on a conductor depends on the magnitude of the electric field, which in turn depends on the temperature between the surfaces.', 'B': 'The surface charge on a conductor depends on the magnitude of the magnetic field, which in turn depends on the distance between the surfaces.', 'C': 'The surface charge on a conductor depends on the magnitude of the electric field, which in turn depends on the angle between the surfaces.', 'D': 'The surface charge on a conductor depends on the magnitude of the electric field, which in turn depends on the distance between the surfaces.', 'E': 'The surface charge on a conductor depends on the magnitude of the electric field, which in turn depends on the pressure between the surfaces.', 'answer': 'A'}\n",
            "{'id': 86, 'prompt': 'What is the formalism that angular momentum is associated with in rotational invariance?', 'A': 'Angular momentum is the 1-form Noether charge associated with rotational invariance.', 'B': 'Angular momentum is the 3-form Noether charge associated with rotational invariance.', 'C': 'Angular momentum is the 5-form Noether charge associated with rotational invariance.', 'D': 'Angular momentum is the 2-form Noether charge associated with rotational invariance.', 'E': 'Angular momentum is the 4-form Noether charge associated with rotational invariance.', 'answer': 'A'}\n",
            "{'id': 87, 'prompt': 'Which hand should be used to apply the right-hand rule when tightening or loosening nuts, screws, bolts, bottle caps, and jar lids?', 'A': \"One's dominant hand\", 'B': 'The right hand', 'C': 'Both hands', 'D': 'The left hand', 'E': 'Either hand', 'answer': 'A'}\n",
            "{'id': 88, 'prompt': 'What is the Minkowski diagram used for?', 'A': 'The Minkowski diagram is used to define concepts and demonstrate properties of Newtonian mechanics and to provide geometrical interpretation to the generalization of Lorentz transformations to relativistic mechanics.', 'B': 'The Minkowski diagram is used to define concepts and demonstrate properties of general relativity and to provide geometrical interpretation to the generalization of special relativity to relativistic mechanics.', 'C': 'The Minkowski diagram is used to define concepts and demonstrate properties of Lorentz transformations and to provide geometrical interpretation to the generalization of quantum mechanics to relativistic mechanics.', 'D': 'The Minkowski diagram is used to define concepts and demonstrate properties of special relativity and to provide geometrical interpretation to the generalization of general relativity to relativistic mechanics.', 'E': 'The Minkowski diagram is used to define concepts and demonstrate properties of Lorentz transformations and to provide geometrical interpretation to the generalization of Newtonian mechanics to relativistic mechanics.', 'answer': 'A'}\n",
            "{'id': 89, 'prompt': 'What are the two main interpretations for the disparity between the presence of matter and antimatter in the observable universe?', 'A': 'The universe began with a small preference for matter, or it was originally perfectly asymmetric, but a set of phenomena contributed to a small imbalance in favor of antimatter over time.', 'B': 'The universe began with a small preference for antimatter, or it was originally perfectly symmetric, but a set of phenomena contributed to a small imbalance in favor of antimatter over time.', 'C': 'The universe began with equal amounts of matter and antimatter, or it was originally perfectly symmetric, but a set of phenomena contributed to a small imbalance in favor of antimatter over time.', 'D': 'The universe began with a small preference for matter, or it was originally perfectly symmetric, but a set of phenomena contributed to a small imbalance in favor of matter over time.', 'E': 'The universe began with equal amounts of matter and antimatter, or it was originally perfectly asymmetric, but a set of phenomena contributed to a small imbalance in favor of matter over time.', 'answer': 'A'}\n",
            "{'id': 90, 'prompt': 'What is the Ramsauer-Townsend effect?', 'A': 'The Ramsauer-Townsend effect is a physical phenomenon that involves the scattering of low-energy electrons by atoms of a non-noble gas. It can be explained by classical mechanics.', 'B': 'The Ramsauer-Townsend effect is a physical phenomenon that involves the scattering of low-energy electrons by atoms of a noble gas. It requires the wave theory of quantum mechanics to be explained.', 'C': 'The Ramsauer-Townsend effect is a physical phenomenon that involves the scattering of high-energy electrons by atoms of a noble gas. It can be explained by classical mechanics.', 'D': 'The Ramsauer-Townsend effect is a physical phenomenon that involves the scattering of high-energy electrons by atoms of a non-noble gas. It requires the wave theory of quantum mechanics to be explained.', 'E': 'The Ramsauer-Townsend effect is a physical phenomenon that involves the scattering of electrons by atoms of any gas. It can be explained by classical mechanics.', 'answer': 'A'}\n",
            "{'id': 91, 'prompt': 'What is Minkowski space?', 'A': 'Minkowski space is a physical space where objects move in a straight line unless acted upon by a force.', 'B': 'Minkowski space is a mathematical model that combines inertial space and time manifolds with a non-inertial reference frame of space and time into a four-dimensional model relating a position to the field.', 'C': 'Minkowski space is a mathematical model that combines space and time into a two-dimensional model relating a position to the field.', 'D': 'Minkowski space is a mathematical model that combines space and time into a three-dimensional model relating a position to the field.', 'E': 'Minkowski space is a physical space where objects move in a curved line unless acted upon by a force.', 'answer': 'A'}\n",
            "{'id': 92, 'prompt': 'What is the Optical Signal-to-Noise Ratio (OSNR)?', 'A': 'The Optical Signal-to-Noise Ratio (OSNR) is the ratio between the modulation frequency and the carrier frequency of an optical signal, used to describe the signal quality in systems where dynamic range is less than 6.02m.', 'B': 'The Optical Signal-to-Noise Ratio (OSNR) is the ratio between the signal power and the noise power in a given bandwidth, used to describe the signal quality without taking the receiver into account.', 'C': 'The Optical Signal-to-Noise Ratio (OSNR) is the ratio between the signal power and the noise power in a given bandwidth, used to describe the signal quality in situations where the dynamic range is less than 6.02m.', 'D': 'The Optical Signal-to-Noise Ratio (OSNR) is the ratio between the signal power and the noise power in a fixed bandwidth of 6.02m, used to describe the signal quality in systems where dynamic range is less than 6.02m.', 'E': 'The Optical Signal-to-Noise Ratio (OSNR) is the ratio between the signal power and the noise power in a given bandwidth, used to describe the signal quality in situations where the dynamic range is large or unpredictable.', 'answer': 'A'}\n",
            "{'id': 93, 'prompt': 'What is the interpretation of supersymmetry in stochastic supersymmetric theory?', 'A': 'Supersymmetry is a type of hydromagnetic dynamo that arises when the magnetic field becomes strong enough to affect the fluid motions.', 'B': 'Supersymmetry is a measure of the amplitude of the dynamo in the induction equation of the kinematic approximation.', 'C': 'Supersymmetry is a measure of the strength of the magnetic field in the induction equation of the kinematic dynamo.', 'D': \"Supersymmetry is a property of deterministic chaos that arises from the continuity of the flow in the model's phase space.\", 'E': \"Supersymmetry is an intrinsic property of all stochastic differential equations, and it preserves continuity in the model's phase space via continuous time flows.\", 'answer': 'A'}\n",
            "{'id': 94, 'prompt': \"What is the purpose of expressing a map's scale as a ratio, such as 1:10,000?\", 'A': 'To indicate the use of south-up orientation, as used in Ancient Africa and some maps in Brazil today.', 'B': 'To indicate the orientation of the map, such as whether the 0° meridian is at the top or bottom of the page.', 'C': \"To indicate the projection used to create the map, such as Buckminster Fuller's Dymaxion projection.\", 'D': 'To indicate the arrangement of the map, such as the world map of Gott, Vanderbei, and Goldberg arranged as a pair of disks back-to-back.', 'E': 'To indicate the relationship between the size of the map and the size of the area being represented.', 'answer': 'A'}\n",
            "{'id': 95, 'prompt': 'What is the main sequence in astronomy?', 'A': 'The main sequence is a type of galaxy that contains a large number of stars.', 'B': 'The main sequence is a type of black hole that is formed from the collapse of a massive star.', 'C': 'The main sequence is a continuous and distinctive band of stars that appears on plots of stellar color versus brightness. Stars on this band are known as main-sequence stars or dwarf stars.', 'D': 'The main sequence is a group of planets that orbit around a star in a solar system.', 'E': 'The main sequence is a type of nebula that is formed from the explosion of a supernova.', 'answer': 'A'}\n",
            "{'id': 96, 'prompt': 'Who proposed the concept of \"maximal acceleration\"?', 'A': 'Max Planck', 'B': 'Niels Bohr', 'C': 'Eduardo R. Caianiello', 'D': 'Hideki Yukawa', 'E': 'Albert Einstein', 'answer': 'A'}\n",
            "{'id': 97, 'prompt': 'What is indirect photophoresis?', 'A': 'Indirect photophoresis is a phenomenon that occurs when particles absorb incident light uniformly, creating a temperature gradient within the particle, and causing a migration of particles in a random direction.', 'B': 'Indirect photophoresis is a phenomenon that occurs when particles absorb incident light only on the irradiated side, creating a temperature gradient within the particle, and causing a migration of particles in the same direction as the surface temperature gradient.', 'C': 'Indirect photophoresis is a phenomenon that occurs when particles absorb incident light uniformly, creating a temperature gradient within the particle, and causing a migration of particles in the same direction as the surface temperature gradient.', 'D': 'Indirect photophoresis is a phenomenon that occurs when particles absorb incident light only on the irradiated side, creating a temperature gradient within the particle, and causing a migration of particles in a direction opposite to the surface temperature gradient.', 'E': 'Indirect photophoresis is a phenomenon that occurs when particles absorb incident light uniformly, creating a temperature gradient within the particle, and causing a migration of particles in a direction opposite to the surface temperature gradient.', 'answer': 'A'}\n",
            "{'id': 98, 'prompt': \"What does Earnshaw's theorem state?\", 'A': 'A collection of point charges can be maintained in a stable stationary equilibrium configuration solely by the gravitational interaction of the charges.', 'B': 'A collection of point charges can be maintained in a stable stationary equilibrium configuration solely by the electrostatic interaction of the charges.', 'C': 'A collection of point charges can be maintained in a stable stationary equilibrium configuration solely by the magnetic interaction of the charges, if the magnets are hard.', 'D': 'A collection of point charges cannot be maintained in a stable stationary equilibrium configuration solely by the electrostatic interaction of the charges.', 'E': 'A collection of point charges can be maintained in a stable stationary equilibrium configuration solely by the magnetic interaction of the charges.', 'answer': 'A'}\n",
            "{'id': 99, 'prompt': 'What is radiosity in radiometry?', 'A': 'Radiosity is the radiant flux entering a surface per unit area, including emitted, reflected, and transmitted radiation.', 'B': 'Radiosity is the radiant flux entering a surface per unit area, including absorbed, reflected, and transmitted radiation.', 'C': 'Radiosity is the radiant flux leaving a surface per unit area, including absorbed, reflected, and transmitted radiation.', 'D': 'Radiosity is the radiant flux leaving a surface per unit area, including emitted, reflected, and transmitted radiation.', 'E': 'Radiosity is the radiant flux leaving a surface per unit volume, including emitted, reflected, and transmitted radiation.', 'answer': 'A'}\n",
            "{'id': 100, 'prompt': 'What is a virtual particle?', 'A': 'A particle that is not affected by the strong force.', 'B': 'A particle that is not affected by the weak force.', 'C': 'A particle that is created in a laboratory for experimental purposes.', 'D': 'A particle that is not directly observable but is inferred from its effects on measurable particles.', 'E': 'A particle that is directly observable and can be measured in experiments.', 'answer': 'A'}\n",
            "{'id': 101, 'prompt': 'Who proposed the principle of \"complexity from noise\" and when was it first introduced?', 'A': 'Ilya Prigogine in 1979', 'B': 'Henri Atlan in 1972', 'C': 'Democritus and Lucretius in ancient times', 'D': 'None of the above.', 'E': 'René Descartes in 1637', 'answer': 'A'}\n",
            "{'id': 102, 'prompt': 'What is the order parameter that breaks the electromagnetic gauge symmetry in superconductors?', 'A': 'None of the above.', 'B': 'A thin cylindrical plastic rod.', 'C': 'A condensed-matter collective field ψ.', 'D': 'The cosmic microwave background.', 'E': 'A component of the Higgs field.', 'answer': 'A'}\n",
            "{'id': 103, 'prompt': 'What is the reason for the sun appearing slightly yellowish when viewed from Earth?', 'A': \"The sun appears yellowish due to a reflection of the Earth's atmosphere.\", 'B': 'The longer wavelengths of light, such as red and yellow, are not scattered away and are directly visible when looking towards the sun.', 'C': \"The sun appears yellowish due to the scattering of all colors of light, mainly blue and green, in the Earth's atmosphere.\", 'D': 'The sun emits a yellow light due to its own spectrum, which is visible when viewed from Earth.', 'E': 'The atmosphere absorbs the shorter wavelengths of light, such as blue and red, leaving only the longer wavelengths of light, such as green and yellow, visible when looking towards the sun.', 'answer': 'A'}\n",
            "{'id': 104, 'prompt': 'What is the Landau-Lifshitz-Gilbert equation used for in physics?', 'A': 'The Landau-Lifshitz-Gilbert equation is a differential equation used to describe the precessional motion of magnetization M in a liquid, and is commonly used in micromagnetics to model the effects of a magnetic field on ferromagnetic materials.', 'B': 'The Landau-Lifshitz-Gilbert equation is a differential equation used to describe the precessional motion of magnetization M in a solid, and is commonly used in astrophysics to model the effects of a magnetic field on celestial bodies.', 'C': 'The Landau-Lifshitz-Gilbert equation is a differential equation used to describe the precessional motion of magnetization M in a solid, and is commonly used in micromagnetics to model the effects of a magnetic field on ferromagnetic materials.', 'D': 'The Landau-Lifshitz-Gilbert equation is a differential equation used to describe the precessional motion of magnetization M in a solid, and is commonly used in macro-magnetics to model the effects of a magnetic field on ferromagnetic materials.', 'E': 'The Landau-Lifshitz-Gilbert equation is a differential equation used to describe the precessional motion of magnetization M in a liquid, and is commonly used in macro-magnetics to model the effects of a magnetic field on ferromagnetic materials.', 'answer': 'A'}\n",
            "{'id': 105, 'prompt': 'What is spatial dispersion?', 'A': 'Spatial dispersion is a phenomenon in the physics of continuous media where material parameters such as permittivity or conductivity have dependence on time. It represents memory effects in systems, commonly seen in optics and electronics.', 'B': 'Spatial dispersion is a phenomenon in the physics of continuous media where material parameters such as permittivity or conductivity have dependence on time. It represents spreading effects and is usually significant only at microscopic length scales.', 'C': 'Spatial dispersion is a phenomenon in the physics of continuous media where material parameters such as permittivity or conductivity have no dependence on wavevector. It represents memory effects in systems, commonly seen in optics and electronics.', 'D': 'Spatial dispersion is a phenomenon in the physics of continuous media where material parameters such as permittivity or conductivity have dependence on wavevector. It represents spreading effects and is usually significant only at microscopic length scales.', 'E': 'Spatial dispersion is a phenomenon in the physics of continuous media where material parameters such as permittivity or conductivity have dependence on wavevector. It represents memory effects in systems, commonly seen in optics and electronics.', 'answer': 'A'}\n",
            "{'id': 106, 'prompt': 'What are the constituents of cold dark matter?', 'A': 'They are unknown, but possibilities include large objects like MACHOs or new particles such as WIMPs and axions.', 'B': 'They are known to be black holes and Preon stars.', 'C': 'They are only MACHOs.', 'D': 'They are clusters of brown dwarfs.', 'E': 'They are new particles such as RAMBOs.', 'answer': 'A'}\n",
            "{'id': 107, 'prompt': 'What is the mechanism of FTIR?', 'A': 'The mechanism of FTIR is called ray optics, which is a good analog to visualize quantum tunneling.', 'B': 'The mechanism of FTIR is called scattering, which is a good analog to visualize quantum tunneling.', 'C': 'The mechanism of FTIR is called frustrated TIR, which is a good analog to visualize quantum tunneling.', 'D': 'The mechanism of FTIR is called evanescent-wave coupling, which is a good analog to visualize quantum tunneling.', 'E': 'The mechanism of FTIR is called total internal reflection microscopy, which is a good analog to visualize quantum tunneling.', 'answer': 'A'}\n",
            "{'id': 108, 'prompt': 'What is the origin of the permanent moment in paramagnetism?', 'A': 'The permanent moment is generally due to the spin of unpaired electrons in atomic or molecular electron orbitals.', 'B': 'The permanent moment is due to the alignment of dipoles perpendicular to the applied field.', 'C': 'The permanent moment is due to the torque provided on the magnetic moments by an applied field, which tries to align the dipoles perpendicular to the applied field.', 'D': 'The permanent moment is due to the quantum-mechanical properties of spin and angular momentum.', 'E': 'The permanent moment is due to the interaction of dipoles with one another and are randomly oriented in the absence of an external field due to thermal agitation.', 'answer': 'A'}\n",
            "{'id': 109, 'prompt': \"What is the reason that Newton's second law cannot be used to calculate the development of a physical system in quantum mechanics?\", 'A': 'The existence of particle spin, which is linear momentum that can be described by the cumulative effect of point-like motions in space.', 'B': 'The existence of particle spin, which is angular momentum that is always equal to zero.', 'C': 'The existence of particle spin, which is linear momentum that cannot be described by the cumulative effect of point-like motions in space.', 'D': 'The existence of particle spin, which is angular momentum that cannot be described by the cumulative effect of point-like motions in space.', 'E': 'The existence of particle spin, which is angular momentum that can be described by the cumulative effect of point-like motions in space.', 'answer': 'A'}\n",
            "{'id': 110, 'prompt': 'What is the butterfly effect, as defined by Lorenz in his book \"The Essence of Chaos\"?', 'A': 'The butterfly effect is the phenomenon that a small change in the initial conditions of a dynamical system can cause subsequent states to differ greatly from the states that would have followed without the alteration, as defined by Einstein in his book \"The Theory of Relativity.\"', 'B': 'The butterfly effect is the phenomenon that a large change in the initial conditions of a dynamical system has no effect on subsequent states, as defined by Lorenz in his book \"The Essence of Chaos.\"', 'C': 'The butterfly effect is the phenomenon that a small change in the initial conditions of a dynamical system can cause significant differences in subsequent states, as defined by Lorenz in his book \"The Essence of Chaos.\"', 'D': 'The butterfly effect is the phenomenon that a small change in the initial conditions of a dynamical system has no effect on subsequent states, as defined by Lorenz in his book \"The Essence of Chaos.\"', 'E': 'The butterfly effect is the phenomenon that a large change in the initial conditions of a dynamical system can cause significant differences in subsequent states, as defined by Lorenz in his book \"The Essence of Chaos.\"', 'answer': 'A'}\n",
            "{'id': 111, 'prompt': 'What is the role of CYCLOIDEA genes in the evolution of bilateral symmetry?', 'A': 'CYCLOIDEA genes are responsible for the selection of symmetry in the evolution of animals.', 'B': 'CYCLOIDEA genes are responsible for the evolution of specialized pollinators in plants, which in turn led to the transition of radially symmetrical flowers to bilaterally symmetrical flowers.', 'C': 'CYCLOIDEA genes are responsible for the expression of dorsal petals in Antirrhinum majus, which control their size and shape.', 'D': 'CYCLOIDEA genes are responsible for the expression of transcription factors that control the expression of other genes, allowing their expression to influence developmental pathways relating to symmetry.', 'E': 'CYCLOIDEA genes are responsible for mutations that cause a reversion to radial symmetry.', 'answer': 'A'}\n",
            "{'id': 112, 'prompt': 'What is the required excess quark per billion quark-antiquark pairs in the early universe in order to provide all the observed matter in the universe?', 'A': 'One', 'B': 'Five', 'C': 'Three', 'D': 'Two', 'E': 'Four', 'answer': 'A'}\n",
            "{'id': 113, 'prompt': 'What is the meaning of the term \"horror vacui\"?', 'A': 'The quantified extension of volume in empty space.', 'B': 'The commonly held view that nature abhorred a vacuum.', 'C': 'The medieval thought experiment into the idea of a vacuum.', 'D': \"The success of Descartes' namesake coordinate system.\", 'E': \"The spatial-corporeal component of Descartes' metaphysics.\", 'answer': 'A'}\n",
            "{'id': 114, 'prompt': 'What is the Droste effect?', 'A': 'The Droste effect is a type of optical illusion that creates the appearance of a three-dimensional image within a two-dimensional picture.', 'B': 'The Droste effect is a type of packaging design used by a variety of products, named after a Dutch brand of cocoa, with an image designed by Jan Misset in 1904.', 'C': 'The Droste effect is a type of painting technique used by Dutch artist M. C. Escher in his 1956 lithograph Print Gallery, which portrays a gallery that depicts itself.', 'D': \"The Droste effect is a recursive image effect in which a picture appears within itself in a place where a similar picture would realistically be expected to appear. This creates a loop that can continue as far as the image's resolution allows, and is named after a Dutch brand of cocoa.\", 'E': 'The Droste effect is a type of recursive algorithm used in computer programming to create self-referential images.', 'answer': 'A'}\n",
            "{'id': 115, 'prompt': 'What is water hammer?', 'A': 'Water hammer is a type of water turbine used in hydroelectric generating stations to generate electricity.', 'B': 'Water hammer is a type of air trap or standpipe used to dampen the sound of moving water in plumbing systems.', 'C': 'Water hammer is a type of plumbing tool used to break pipelines and absorb the potentially damaging forces caused by moving water.', 'D': 'Water hammer is a type of water pump used to increase the pressure of water in pipelines.', 'E': 'Water hammer is a loud banging noise resembling a hammering sound that occurs when moving water is suddenly stopped, causing a rise in pressure and resulting shock wave.', 'answer': 'A'}\n",
            "{'id': 116, 'prompt': 'What is the reason for the stochastic nature of all observed resistance-switching processes?', 'A': 'The free-energy barriers for the transition {i} → {j} are not high enough, and the memory device can switch without having to do anything.', 'B': 'The device is subjected to random thermal fluctuations, which trigger the switching event, but it is impossible to predict when it will occur.', 'C': 'The memory device is found to be in a distinct resistance state {j}, and there exists no physical one-to-one relationship between its present state and its foregoing voltage history.', 'D': 'The device is subjected to biases below the threshold value, which still allows for a finite probability of switching, but it is possible to predict when it will occur.', 'E': 'The external bias is set to a value above a certain threshold value, which reduces the free-energy barrier for the transition {i} → {j} to zero.', 'answer': 'A'}\n",
            "{'id': 117, 'prompt': 'What is the Einstein@Home project?', 'A': 'The Einstein@Home project is a project that aims to detect signals from supernovae or binary black holes. It takes data from LIGO and GEO and sends it out in little pieces to thousands of volunteers for parallel analysis on their home computers.', 'B': 'The Einstein@Home project is a project that aims to detect signals from supernovae or binary black holes. It takes data from SETI and GEO and sends it out in little pieces to thousands of volunteers for parallel analysis on their home computers.', 'C': 'The Einstein@Home project is a distributed computing project that aims to detect simple gravitational waves with constant frequency. It takes data from LIGO and GEO and sends it out in little pieces to thousands of volunteers for parallel analysis on their home computers.', 'D': 'The Einstein@Home project is a project that aims to detect simple gravitational waves with constant frequency. It takes data from LIGO and GEO and sends it out in large pieces to thousands of volunteers for parallel analysis on their home computers.', 'E': 'The Einstein@Home project is a project that aims to detect simple gravitational waves with constant frequency. It takes data from SETI and GEO and sends it out in little pieces to thousands of volunteers for parallel analysis on their home computers.', 'answer': 'A'}\n",
            "{'id': 118, 'prompt': 'What happens to an initially inhomogeneous physical system that is isolated by a thermodynamic operation?', 'A': 'It will change its internal state only if it is composed of a single subsystem and has internal walls.', 'B': 'It will change its internal state only if it is composed of several subsystems separated from each other by walls.', 'C': 'It will remain in its initial state indefinitely.', 'D': 'It will generally change its internal state over time.', 'E': 'It will change its internal state only if it is composed of a single subsystem.', 'answer': 'A'}\n",
            "{'id': 119, 'prompt': \"What is the concept of simultaneity in Einstein's book, Relativity?\", 'A': 'Simultaneity is relative, meaning that two events that appear simultaneous to an observer in a particular inertial reference frame need not be judged as simultaneous by a second observer in a different inertial frame of reference.', 'B': 'Simultaneity is relative, meaning that two events that appear simultaneous to an observer in a particular inertial reference frame will always be judged as simultaneous by a second observer in a different inertial frame of reference.', 'C': 'Simultaneity is absolute, meaning that two events that appear simultaneous to an observer in a particular inertial reference frame will always be judged as simultaneous by a second observer in a different inertial frame of reference.', 'D': 'Simultaneity is a concept that applies only to Newtonian theories and not to relativistic theories.', 'E': 'Simultaneity is a concept that applies only to relativistic theories and not to Newtonian theories.', 'answer': 'A'}\n",
            "{'id': 120, 'prompt': 'What is the Josephson effect?', 'A': 'The Josephson effect is a phenomenon exploited by superconducting devices such as SQUIDs. It is used in the most accurate available measurements of the magnetic flux quantum Φ0 = h/(2e), where h is the Planck constant.', 'B': 'The Josephson effect is a phenomenon exploited by magnetic devices such as SQUIDs. It is used in the most accurate available measurements of the magnetic flux quantum Φ0 = h/(2e), where h is the magnetic constant.', 'C': 'The Josephson effect is a phenomenon exploited by superconducting devices such as SQUIDs. It is used in the most accurate available measurements of the electric flux quantum Φ0 = h/(2e), where h is the Planck constant.', 'D': 'The Josephson effect is a phenomenon exploited by superconducting devices such as SQUIDs. It is used in the most accurate available measurements of the magnetic flux quantum Φ0 = e/(2h), where h is the Planck constant.', 'E': 'The Josephson effect is a phenomenon exploited by magnetic devices such as SQUIDs. It is used in the most accurate available measurements of the electric flux quantum Φ0 = h/(2e), where h is the magnetic constant.', 'answer': 'A'}\n",
            "{'id': 121, 'prompt': 'What is the SI unit of the physical quantity m/Q?', 'A': 'Meter per second', 'B': 'Pascal per second', 'C': 'Kilogram per coulomb', 'D': 'Newton per meter', 'E': 'Joule per second', 'answer': 'A'}\n",
            "{'id': 122, 'prompt': 'How many crystallographic point groups are there in three-dimensional space?', 'A': '7', 'B': '32', 'C': '14', 'D': '5', 'E': '27', 'answer': 'A'}\n",
            "{'id': 123, 'prompt': 'What is the Liouville density?', 'A': 'The Liouville density is a probability distribution that specifies the probability of finding a particle at a certain position in phase space for a collection of particles.', 'B': 'The Liouville density is a quasiprobability distribution that plays an analogous role to the probability distribution for a quantum particle.', 'C': 'The Liouville density is a bounded probability distribution that is a convenient indicator of quantum-mechanical interference.', 'D': 'The Liouville density is a probability distribution that takes on negative values for states which have no classical model.', 'E': 'The Liouville density is a probability distribution that satisfies all the properties of a conventional probability distribution for a quantum particle.', 'answer': 'A'}\n",
            "{'id': 124, 'prompt': 'What are the four qualitative levels of crystallinity described by geologists?', 'A': 'Holocrystalline, hypocrystalline, hypercrystalline, and holohyaline', 'B': 'Holocrystalline, hypocrystalline, hypohyaline, and holohyaline', 'C': 'Holocrystalline, hypohyaline, hypercrystalline, and holohyaline', 'D': 'Holocrystalline, hypocrystalline, hypercrystalline, and hyperhyaline', 'E': 'Holocrystalline, hypocrystalline, hypohyaline, and hyperhyaline', 'answer': 'A'}\n",
            "{'id': 125, 'prompt': 'What is an order parameter?', 'A': 'An order parameter is a measure of the temperature of a physical system.', 'B': 'An order parameter is a measure of the gravitational force in a physical system.', 'C': 'An order parameter is a measure of the magnetic field strength in a physical system.', 'D': 'An order parameter is a measure of the degree of symmetry breaking in a physical system.', 'E': 'An order parameter is a measure of the rotational symmetry in a physical system.', 'answer': 'A'}\n",
            "{'id': 126, 'prompt': 'What is the significance of the discovery of the Crab pulsar?', 'A': 'The discovery of the Crab pulsar confirmed the black hole model of pulsars.', 'B': 'The discovery of the Crab pulsar confirmed the rotating neutron star model of pulsars.', 'C': 'The discovery of the Crab pulsar confirmed the white dwarf model of pulsars.', 'D': 'The discovery of the Crab pulsar disproved the rotating neutron star model of pulsars.', 'E': 'The discovery of the Crab pulsar confirmed the red giant model of pulsars.', 'answer': 'A'}\n",
            "{'id': 127, 'prompt': 'What is the De Haas-Van Alphen effect?', 'A': 'The measurement of the electronic properties of a material using several experimental techniques.', 'B': 'The complex number quantity that describes AC susceptibility and AC permeability.', 'C': 'The oscillation of the differential susceptibility as a function of 1/H in metals under strong magnetic fields, which relates the period of the susceptibility with the Fermi surface of the material.', 'D': 'The analogue non-linear relation between magnetization and magnetic field in antiferromagnetic materials.', 'E': 'The measurement of magnetic susceptibility in response to an AC magnetic field.', 'answer': 'A'}\n",
            "{'id': 128, 'prompt': 'What is a \"coffee ring\" in physics?', 'A': 'A type of coffee that is made by boiling coffee grounds in water.', 'B': 'A pattern left by a particle-laden liquid after it is spilled, named for the characteristic ring-like deposit along the perimeter of a spill of coffee or red wine.', 'C': 'A type of coffee that is made by mixing instant coffee with hot water.', 'D': 'A type of coffee that is made by pouring hot water over coffee grounds in a filter.', 'E': 'A pattern left by a particle-laden liquid after it evaporates, named for the characteristic ring-like deposit along the perimeter of a spill of coffee or red wine.', 'answer': 'A'}\n",
            "{'id': 129, 'prompt': 'What is the significance of probability amplitudes in quantum mechanics?', 'A': 'Probability amplitudes are used to determine the mass of particles in quantum mechanics.', 'B': 'Probability amplitudes have no significance in quantum mechanics.', 'C': 'Probability amplitudes are used to determine the velocity of particles in quantum mechanics.', 'D': 'Probability amplitudes act as the equivalent of conventional probabilities in classical mechanics, with many analogous laws.', 'E': 'Probability amplitudes act as the equivalent of conventional probabilities in quantum mechanics, with many analogous laws.', 'answer': 'A'}\n",
            "{'id': 130, 'prompt': 'What is the relationship between the amplitude of a sound wave and its loudness?', 'A': 'The amplitude of a sound wave is related to its loudness.', 'B': 'The amplitude of a sound wave is directly proportional to its frequency.', 'C': 'The amplitude of a sound wave is not related to its loudness.', 'D': 'The amplitude of a sound wave is not related to its frequency.', 'E': 'The amplitude of a sound wave is inversely related to its loudness.', 'answer': 'A'}\n",
            "{'id': 131, 'prompt': 'What are coherent turbulent structures?', 'A': 'Coherent turbulent structures are the most elementary components of complex multi-scale and chaotic motions in turbulent flows, which do not have temporal coherence and persist in their form for long enough periods that the methods of time-averaged statistics can be applied.', 'B': 'Coherent turbulent structures are the most elementary components of complex multi-scale and chaotic motions in turbulent flows, which have temporal coherence and persist in their form for very short periods that the methods of time-averaged statistics cannot be applied.', 'C': 'Coherent turbulent structures are more elementary components of complex multi-scale and chaotic motions in turbulent flows, which have temporal coherence and persist in their form for long enough periods that the methods of time-averaged statistics can be applied.', 'D': 'Coherent turbulent structures are the most complex and chaotic motions in turbulent flows, which have temporal coherence and persist in their form for long enough periods that the methods of time-averaged statistics can be applied.', 'E': 'Coherent turbulent structures are the most complex and chaotic motions in turbulent flows, which do not have temporal coherence and persist in their form for very short periods that the methods of time-averaged statistics cannot be applied.', 'answer': 'A'}\n",
            "{'id': 132, 'prompt': 'What is the main factor that determines the occurrence of each type of supernova?', 'A': \"The star's distance from Earth\", 'B': \"The star's age\", 'C': \"The star's temperature\", 'D': \"The star's luminosity\", 'E': \"The progenitor star's metallicity\", 'answer': 'A'}\n",
            "{'id': 133, 'prompt': 'What is the Erlangen program?', 'A': 'The Erlangen program is a method of characterizing geometries based on statistics and probability, published by Felix Klein in 1872 as Vergleichende Betrachtungen über neuere geometrische Forschungen.', 'B': 'The Erlangen program is a method of characterizing geometries based on group theory and projective geometry, published by Felix Klein in 1872 as Vergleichende Betrachtungen über neuere geometrische Forschungen.', 'C': 'The Erlangen program is a method of characterizing geometries based on algebra and trigonometry, published by Felix Klein in 1872 as Vergleichende Betrachtungen über neuere geometrische Forschungen.', 'D': 'The Erlangen program is a method of characterizing geometries based on geometry and topology, published by Felix Klein in 1872 as Vergleichende Betrachtungen über neuere geometrische Forschungen.', 'E': 'The Erlangen program is a method of characterizing geometries based on calculus and differential equations, published by Felix Klein in 1872 as Vergleichende Betrachtungen über neuere geometrische Forschungen.', 'answer': 'A'}\n",
            "{'id': 134, 'prompt': 'What is emissivity?', 'A': 'Emissivity is a measure of how well a surface resists deformation under stress.', 'B': 'Emissivity is a measure of how well a surface conducts heat.', 'C': 'Emissivity is a measure of how well a surface absorbs and emits thermal radiation.', 'D': 'Emissivity is a measure of how well a surface reflects visible light.', 'E': 'Emissivity is a measure of how well a surface absorbs and emits sound waves.', 'answer': 'A'}\n",
            "{'id': 135, 'prompt': 'Who was the first person to describe the pulmonary circulation system?', 'A': 'Galen', 'B': 'Avicenna', 'C': 'Hippocrates', 'D': 'Aristotle', 'E': 'Ibn al-Nafis', 'answer': 'A'}\n",
            "{'id': 136, 'prompt': 'What is the fate of a carbocation formed in crystalline naphthalene?', 'A': 'The carbocation remains positively charged, trapped in the solid.', 'B': 'The carbocation undergoes spontaneous bond breaking, yielding a carbon-helium ion.', 'C': 'The carbocation forms a bond with helium, becoming a stable compound.', 'D': 'The carbocation undergoes decay, forming a negatively charged ion.', 'E': 'The carbocation gains an electron from surrounding molecules, becoming an electrically neutral radical.', 'answer': 'A'}\n",
            "{'id': 137, 'prompt': 'What is the main focus of the Environmental Science Center at Qatar University?', 'A': 'Environmental studies, with a main focus on marine science, atmospheric and political sciences.', 'B': 'Environmental studies, with a main focus on marine science, atmospheric and physical sciences.', 'C': 'Environmental studies, with a main focus on marine science, atmospheric and social sciences.', 'D': 'Environmental studies, with a main focus on marine science, atmospheric and biological sciences.', 'E': 'Environmental studies, with a main focus on space science, atmospheric and biological sciences.', 'answer': 'A'}\n",
            "{'id': 138, 'prompt': 'What is the purpose of obtaining surgical resection specimens?', 'A': 'To remove an entire diseased area or organ for definitive surgical treatment of a disease, with pathological analysis of the specimen used to confirm the diagnosis.', 'B': 'To perform visual and microscopic tests on tissue samples using automated analysers and cultures.', 'C': 'To work in close collaboration with medical technologists and hospital administrations.', 'D': 'To administer a variety of tests of the biophysical properties of tissue samples.', 'E': 'To obtain bodily fluids such as blood and urine for laboratory analysis of disease diagnosis.', 'answer': 'A'}\n",
            "{'id': 139, 'prompt': 'What is the function of mammary glands in mammals?', 'A': 'Mammary glands produce milk to feed the young.', 'B': 'Mammary glands help mammals draw air into the lungs.', 'C': 'Mammary glands help mammals breathe with lungs.', 'D': 'Mammary glands excrete nitrogenous waste as urea.', 'E': 'Mammary glands separate oxygenated and deoxygenated blood in the mammalian heart.', 'answer': 'A'}\n",
            "{'id': 140, 'prompt': 'What is the relationship between interstellar and cometary chemistry?', 'A': 'Cometary chemistry is responsible for the formation of interstellar molecules, but there is no direct connection between the two.', 'B': 'Interstellar and cometary chemistry are the same thing, just with different names.', 'C': 'There is a possible connection between interstellar and cometary chemistry, as indicated by the similarity between interstellar and cometary ices and the analysis of organics from comet samples returned by the Stardust mission.', 'D': 'There is no relationship between interstellar and cometary chemistry, as they are two completely different phenomena.', 'E': 'Interstellar chemistry is responsible for the formation of comets, but there is no direct connection between the two.', 'answer': 'A'}\n",
            "{'id': 141, 'prompt': 'What is the reason for recycling rare metals according to the United Nations?', 'A': 'The demand for rare metals will quickly exceed the consumed tonnage in 2013, but recycling rare metals with a worldwide production higher than 100 000 t/year is a good way to conserve natural resources and energy.', 'B': 'The demand for rare metals will decrease in 2013, and recycling rare metals with a worldwide production lower than 100 000 t/year is a good way to conserve natural resources and energy.', 'C': 'The demand for rare metals will quickly exceed the consumed tonnage in 2013, but recycling rare metals with a worldwide production higher than 100 000 t/year is not a good way to conserve natural resources and energy.', 'D': 'The demand for rare metals will quickly exceed the consumed tonnage in 2013, but recycling rare metals with a worldwide production lower than 100 000 t/year is not a good way to conserve natural resources and energy.', 'E': 'The demand for rare metals will quickly exceed the consumed tonnage in 2013, and recycling rare metals with a worldwide production lower than 100 000 t/year is urgent and priority should be placed on it in order to conserve natural resources and energy.', 'answer': 'A'}\n",
            "{'id': 142, 'prompt': 'What is radiometric dating?', 'A': 'Radiometric dating is a method of measuring geological time using geological sedimentation, discovered in the early 20th century.', 'B': 'Radiometric dating is a method of measuring geological time using radioactive decay, discovered in the early 20th century.', 'C': 'Radiometric dating is a method of measuring geological time using the position of rocks, discovered in the early 20th century.', 'D': 'Radiometric dating is a method of measuring geological time using the age of fossils, discovered in the early 20th century.', 'E': 'Radiometric dating is a method of measuring geological time using the cooling of the earth, discovered in the early 20th century.', 'answer': 'A'}\n",
            "{'id': 143, 'prompt': 'What is the role of methane in Fischer-Tropsch processes?', 'A': 'Methane is partially converted to carbon monoxide for utilization in Fischer-Tropsch processes.', 'B': 'Methane is used as a catalyst in Fischer-Tropsch processes.', 'C': 'Methane is not used in Fischer-Tropsch processes.', 'D': 'Methane is fully converted to carbon monoxide for utilization in Fischer-Tropsch processes.', 'E': 'Methane is a byproduct of Fischer-Tropsch processes.', 'answer': 'A'}\n",
            "{'id': 144, 'prompt': 'What is a phageome?', 'A': 'A community of viruses and their metagenomes localized in a particular environment, similar to a microbiome.', 'B': 'A community of bacteria and their metagenomes localized in a particular environment, similar to a microbiome.', 'C': 'A community of bacteriophages and their metagenomes localized in a particular environment, similar to a microbiome.', 'D': 'A community of fungi and their metagenomes localized in a particular environment, similar to a microbiome.', 'E': 'A community of archaea and their metagenomes localized in a particular environment, similar to a microbiome.', 'answer': 'A'}\n",
            "{'id': 145, 'prompt': 'What is organography?', 'A': 'Organography is the study of the stem and root of plants.', 'B': 'Organography is the scientific description of the structure and function of the organs of living things.', 'C': 'Organography is the study of the development of organs from the \"growing points\" or apical meristems.', 'D': 'Organography is the study of the commonality of development between foliage leaves and floral leaves.', 'E': 'Organography is the study of the relationship between different organs and different functions in plants.', 'answer': 'A'}\n",
            "{'id': 146, 'prompt': 'What is the definition of anatomy?', 'A': 'Anatomy is the rarely used term that refers to the superstructure of polymers such as fiber formation or to larger composite assemblies.', 'B': 'Anatomy is a branch of morphology that deals with the structure of organisms.', 'C': 'Anatomy is the study of the effects of external factors upon the morphology of organisms under experimental conditions, such as the effect of genetic mutation.', 'D': 'Anatomy is the analysis of the patterns of the locus of structures within the body plan of an organism, and forms the basis of taxonomical categorization.', 'E': 'Anatomy is the study of the relationship between the structure and function of morphological features.', 'answer': 'A'}\n",
            "{'id': 147, 'prompt': 'What is a trophic level in an ecological pyramid?', 'A': 'A group of organisms that acquire most of their energy from the level above them in the pyramid.', 'B': 'A group of organisms that acquire most of their energy from the abiotic sources in the ecosystem.', 'C': 'A group of organisms that acquire most of their energy from the level below them in the pyramid.', 'D': 'A group of organisms that acquire most of their energy from the same level in the pyramid.', 'E': 'A group of organisms that do not acquire any energy from the ecosystem.', 'answer': 'A'}\n",
            "{'id': 148, 'prompt': 'What is a crossover experiment?', 'A': 'An experiment that involves crossing over two different types of materials to create a new material.', 'B': 'A type of experiment used to distinguish between different mechanisms proposed for a chemical reaction, such as intermolecular vs. intramolecular mechanisms.', 'C': 'An experiment that involves crossing over two different types of organisms to create a hybrid.', 'D': 'An experiment that involves crossing over two different types of cells to create a new cell.', 'E': 'An experiment that involves crossing over two different chemicals to create a new substance.', 'answer': 'A'}\n",
            "{'id': 149, 'prompt': 'What is the role of IL-10 in the formation of Tr1 cells and tolerogenic DCs?', 'A': 'IL-10 inhibits the formation of Tr1 cells and tolerogenic DCs, which are dependent on TGF-β and Tregs. Tr1 cells produce low levels of IL-10 and TGF-β, while tolerogenic DCs produce TGF-β that is important for Tr1 formation.', 'B': 'IL-10 induces the formation of Tr1 cells and tolerogenic DCs, which are dependent on IL-10 and TGF-β, but differ from Tregs by lacking expression of Foxp3. Tr1 cells produce high levels of IL-10 and TGF-β, while tolerogenic DCs produce IL-10 that is important for Tr1 formation.', 'C': 'IL-10 has no role in the formation of Tr1 cells and tolerogenic DCs. TGF-β and Tregs are the only factors involved in the formation of Tr1 cells and tolerogenic DCs.', 'D': 'IL-10 induces the formation of Tr1 cells and tolerogenic DCs, which are dependent on IL-10 and Tregs, but differ from Tregs by expressing Foxp3. Tr1 cells produce low levels of IL-10 and TGF-β, while tolerogenic DCs produce IL-10 that is important for Tr1 formation.', 'E': 'IL-10 induces the formation of Tregs, which are dependent on TGF-β and Foxp3. Tr1 cells and tolerogenic DCs are not involved in this process.', 'answer': 'A'}\n",
            "{'id': 150, 'prompt': 'What is the reason behind the designation of Class L dwarfs, and what is their color and composition?', 'A': 'Class L dwarfs are hotter than M stars and are designated L because L is the remaining letter alphabetically closest to M. They are bright blue in color and are brightest in ultraviolet. Their atmosphere is hot enough to allow metal hydrides and alkali metals to be prominent in their spectra. Some of these objects have masses large enough to support hydrogen fusion and are therefore stars, but most are of substellar mass and are therefore brown dwarfs.', 'B': 'Class L dwarfs are cooler than M stars and are designated L because L is the remaining letter alphabetically closest to M. They are dark red in color and are brightest in infrared. Their atmosphere is cool enough to allow metal hydrides and alkali metals to be prominent in their spectra. Some of these objects have masses large enough to support hydrogen fusion and are therefore stars, but most are of substellar mass and are therefore brown dwarfs.', 'C': 'Class L dwarfs are hotter than M stars and are designated L because L is the next letter alphabetically after M. They are dark red in color and are brightest in infrared. Their atmosphere is cool enough to allow metal hydrides and alkali metals to be prominent in their spectra. Some of these objects have masses large enough to support hydrogen fusion and are therefore stars, but most are of substellar mass and are therefore brown dwarfs.', 'D': 'Class L dwarfs are cooler than M stars and are designated L because L is the next letter alphabetically after M. They are bright yellow in color and are brightest in visible light. Their atmosphere is hot enough to allow metal hydrides and alkali metals to be prominent in their spectra. Some of these objects have masses large enough to support hydrogen fusion and are therefore stars, but most are of substellar mass and are therefore brown dwarfs.', 'E': 'Class L dwarfs are cooler than M stars and are designated L because L is the remaining letter alphabetically closest to M. They are bright green in color and are brightest in visible light. Their atmosphere is cool enough to allow metal hydrides and alkali metals to be prominent in their spectra. Some of these objects have masses small enough to support hydrogen fusion and are therefore stars, but most are of substellar mass and are therefore brown dwarfs.', 'answer': 'A'}\n",
            "{'id': 151, 'prompt': \"What was Isaac Newton's explanation for rectilinear propagation of light?\", 'A': 'Isaac Newton rejected the wave theory of light and proposed that light consists of corpuscles that are subject to a force acting parallel to the interface. In this model, the critical angle was the angle of incidence at which the normal velocity of the approaching corpuscle was just enough to reach the far side of the force field; at more oblique incidence, the corpuscle would be turned back.', 'B': 'Isaac Newton rejected the wave theory of light and proposed that light consists of corpuscles that are subject to a force acting perpendicular to the interface. In this model, the critical angle was the angle of incidence at which the normal velocity of the approaching corpuscle was just enough to reach the near side of the force field; at more oblique incidence, the corpuscle would be turned back.', 'C': 'Isaac Newton accepted the wave theory of light and proposed that light consists of transverse waves that are subject to a force acting perpendicular to the interface. In this model, the critical angle was the angle of incidence at which the normal velocity of the approaching wave was just enough to reach the far side of the force field; at more oblique incidence, the wave would be turned back.', 'D': 'Isaac Newton rejected the wave theory of light and proposed that light consists of corpuscles that are subject to a force acting perpendicular to the interface. In this model, the critical angle was the angle of incidence at which the normal velocity of the approaching corpuscle was just enough to reach the far side of the force field; at more oblique incidence, the corpuscle would be turned back.', 'E': 'Isaac Newton accepted the wave theory of light and proposed that light consists of longitudinal waves that are subject to a force acting perpendicular to the interface. In this model, the critical angle was the angle of incidence at which the normal velocity of the approaching wave was just enough to reach the far side of the force field; at more oblique incidence, the wave would be turned back.', 'answer': 'A'}\n",
            "{'id': 152, 'prompt': 'What is the relationship between chemical potential and quarks/antiquarks?', 'A': 'Chemical potential, represented by μ, is a measure of the imbalance between quarks and antiquarks in a system. Higher μ indicates a stronger bias favoring quarks over antiquarks.', 'B': 'Chemical potential, represented by μ, is a measure of the balance between quarks and antiquarks in a system. Higher μ indicates an equal number of quarks and antiquarks.', 'C': 'Chemical potential, represented by μ, is a measure of the imbalance between quarks and antiquarks in a system. Higher μ indicates a stronger bias favoring antiquarks over quarks.', 'D': 'Chemical potential, represented by μ, is a measure of the density of antiquarks in a system. Higher μ indicates a higher density of antiquarks.', 'E': 'Chemical potential, represented by μ, is a measure of the density of quarks in a system. Higher μ indicates a higher density of quarks.', 'answer': 'A'}\n",
            "{'id': 153, 'prompt': 'What is the American Petroleum Institute (API) gravity?', 'A': \"API gravity is a measure of how heavy or light a petroleum liquid is compared to water. It is an inverse measure of a petroleum liquid's density relative to that of water and is graduated in degrees on a hydrometer instrument.\", 'B': \"API gravity is a measure of the viscosity of a petroleum liquid. It is an inverse measure of a petroleum liquid's density relative to that of water and is graduated in degrees on a hydrometer instrument.\", 'C': \"API gravity is a measure of the temperature at which a petroleum liquid freezes. It is an inverse measure of a petroleum liquid's density relative to that of water and is graduated in degrees on a hydrometer instrument.\", 'D': \"API gravity is a measure of how much petroleum liquid is present in a given volume of water. It is an inverse measure of a petroleum liquid's density relative to that of water and is graduated in degrees on a hydrometer instrument.\", 'E': \"API gravity is a measure of the acidity or alkalinity of a petroleum liquid. It is an inverse measure of a petroleum liquid's density relative to that of water and is graduated in degrees on a hydrometer instrument.\", 'answer': 'A'}\n",
            "{'id': 154, 'prompt': 'What are the two main factors that cause resistance in a metal?', 'A': 'The amount of resistance in a metal is mainly caused by the temperature and the pressure applied to the metal. Higher temperatures cause bigger vibrations, and pressure causes the metal to become more compact, leading to more resistance.', 'B': 'The amount of resistance in a metal is mainly caused by the temperature and the purity of the metal. Higher temperatures cause bigger vibrations, and a mixture of different ions acts as an irregularity.', 'C': 'The amount of resistance in a metal is mainly caused by the temperature and the thickness of the metal. Higher temperatures cause bigger vibrations, and thicker metals have more irregularities, leading to more resistance.', 'D': 'The amount of resistance in a metal is mainly caused by the purity of the metal and the amount of pressure applied to the metal. A mixture of different ions acts as an irregularity, and pressure causes the metal to become more compact, leading to more resistance.', 'E': 'The amount of resistance in a metal is mainly caused by the purity of the metal and the thickness of the metal. A mixture of different ions acts as an irregularity, and thicker metals have more irregularities, leading to more resistance.', 'answer': 'A'}\n",
            "{'id': 155, 'prompt': 'What is the significance of the redshift-distance relationship in determining the expansion history of the universe?', 'A': 'Observations of the redshift-distance relationship can be used to determine the expansion history of the universe and the matter and energy content, especially for galaxies whose light has been travelling to us for much shorter times.', 'B': 'Observations of the redshift-distance relationship can be used to determine the age of the universe and the matter and energy content, especially for nearby galaxies whose light has been travelling to us for much shorter times.', 'C': 'Observations of the redshift-distance relationship can be used to determine the expansion history of the universe and the matter and energy content, especially for nearby galaxies whose light has been travelling to us for much longer times.', 'D': 'Observations of the redshift-distance relationship can be used to determine the age of the universe and the matter and energy content, especially for distant galaxies whose light has been travelling to us for much shorter times.', 'E': 'Observations of the redshift-distance relationship can be used to determine the expansion history of the universe and the matter and energy content, especially for distant galaxies whose light has been travelling to us for much longer times.', 'answer': 'A'}\n",
            "{'id': 156, 'prompt': 'What is the Evans balance?', 'A': 'The Evans balance is a system used to measure the change in weight of a sample when an electromagnet is turned on, which is proportional to the susceptibility.', 'B': 'The Evans balance is a system used to measure the dependence of the NMR frequency of a liquid sample on its shape or orientation to determine its susceptibility.', 'C': 'The Evans balance is a system used to measure the magnetic field distortion around a sample immersed in water inside an MR scanner to determine its susceptibility.', 'D': 'The Evans balance is a system used to measure the susceptibility of a sample by measuring the force change on a strong compact magnet upon insertion of the sample.', 'E': 'The Evans balance is a system used to measure the magnetic susceptibility of most crystals, which is not a scalar quantity.', 'answer': 'A'}\n",
            "{'id': 157, 'prompt': 'What is the definition of dimension in mathematics?', 'A': 'The dimension of an object is the number of independent parameters or coordinates needed to define the position of a point constrained to be on the object, and is an extrinsic property of the object, dependent on the dimension of the space in which it is embedded.', 'B': 'The dimension of an object is the number of degrees of freedom of a point that moves on this object, and is an extrinsic property of the object, dependent on the dimension of the space in which it is embedded.', 'C': 'The dimension of an object is the number of independent parameters or coordinates needed to define the position of a point constrained to be on the object, and is an intrinsic property of the object, independent of the dimension of the space in which it is embedded.', 'D': 'The dimension of an object is the number of directions in which a point can move on the object, and is an extrinsic property of the object, dependent on the dimension of the space in which it is embedded.', 'E': 'The dimension of an object is the number of directions in which a point can move on the object, and is an intrinsic property of the object, independent of the dimension of the space in which it is embedded.', 'answer': 'A'}\n",
            "{'id': 158, 'prompt': 'What is accelerator-based light-ion fusion?', 'A': 'Accelerator-based light-ion fusion is a technique that uses particle accelerators to achieve particle kinetic energies sufficient to induce light-ion fusion reactions. This method is relatively easy to implement and can be done in an efficient manner, requiring only a vacuum tube, a pair of electrodes, and a high-voltage transformer. Fusion can be observed with as little as 10 kV between the electrodes.', 'B': 'Accelerator-based light-ion fusion is a technique that uses particle accelerators to achieve particle kinetic energies sufficient to induce heavy-ion fusion reactions. This method is relatively difficult to implement and requires a complex system of vacuum tubes, electrodes, and transformers. Fusion can be observed with as little as 10 kV between the electrodes.', 'C': 'Accelerator-based light-ion fusion is a technique that uses particle accelerators to achieve particle kinetic energies sufficient to induce light-ion fusion reactions. This method is relatively difficult to implement and requires a complex system of vacuum tubes, electrodes, and transformers. Fusion can be observed with as little as 100 kV between the electrodes.', 'D': 'Accelerator-based light-ion fusion is a technique that uses particle accelerators to achieve particle kinetic energies sufficient to induce heavy-ion fusion reactions. This method is relatively easy to implement and can be done in an efficient manner, requiring only a vacuum tube, a pair of electrodes, and a high-voltage transformer. Fusion can be observed with as little as 100 kV between the electrodes.', 'E': 'Accelerator-based light-ion fusion is a technique that uses particle accelerators to achieve particle kinetic energies sufficient to induce light-ion fission reactions. This method is relatively easy to implement and can be done in an efficient manner, requiring only a vacuum tube, a pair of electrodes, and a high-voltage transformer. Fission can be observed with as little as 10 kV between the electrodes.', 'answer': 'A'}\n",
            "{'id': 159, 'prompt': 'What is the interstellar medium (ISM)?', 'A': 'The matter and radiation that exist in the space between the star systems in a galaxy, including gas in ionic, atomic, and molecular form, as well as dust and cosmic rays. It fills interstellar space and blends smoothly into the surrounding intergalactic space.', 'B': 'The matter and radiation that exist in the space between stars in a galaxy, including gas in ionic, atomic, and molecular form, as well as dust and cosmic rays. It fills interstellar space and blends smoothly into the surrounding interplanetary space.', 'C': 'The matter and radiation that exist in the space between galaxies, including gas in ionic, atomic, and molecular form, as well as dust and cosmic rays. It fills intergalactic space and blends smoothly into the surrounding interstellar space.', 'D': 'The matter and radiation that exist in the space between planets in a solar system, including gas in ionic, atomic, and molecular form, as well as dust and cosmic rays. It fills interplanetary space and blends smoothly into the surrounding interstellar space.', 'E': 'The matter and radiation that exist within a star, including gas in ionic, atomic, and molecular form, as well as dust and cosmic rays. It fills the star and blends smoothly into the surrounding interstellar space.', 'answer': 'A'}\n",
            "{'id': 160, 'prompt': 'What is the significance of the change in slope of the pinched hysteresis curves in ReRAM and other forms of two-terminal resistance memory?', 'A': 'The change in slope of the pinched hysteresis curves demonstrates switching between different resistance states, which is a phenomenon central to ReRAM and other forms of two-terminal resistance memory.', 'B': 'The change in slope of the pinched hysteresis curves indicates the presence of a Type-II non-crossing curve, which is a phenomenon central to ReRAM and other forms of two-terminal resistance memory.', 'C': 'The change in slope of the pinched hysteresis curves demonstrates the presence of a memristor, which is a phenomenon central to ReRAM and other forms of two-terminal resistance memory.', 'D': 'The change in slope of the pinched hysteresis curves demonstrates the presence of a memristive network, which is a phenomenon central to ReRAM and other forms of two-terminal resistance memory.', 'E': 'The change in slope of the pinched hysteresis curves indicates the presence of a linear resistor, which is a phenomenon central to ReRAM and other forms of two-terminal resistance memory.', 'answer': 'A'}\n",
            "{'id': 161, 'prompt': 'What is geometric quantization in mathematical physics?', 'A': 'Geometric quantization is a mathematical approach to defining a classical theory corresponding to a given quantum theory. It attempts to carry out quantization in such a way that certain analogies between the quantum theory and the classical theory are lost.', 'B': 'Geometric quantization is a mathematical approach to defining a quantum theory corresponding to a given classical theory. It attempts to carry out quantization in such a way that certain analogies between the classical theory and the quantum theory are lost.', 'C': 'Geometric quantization is a mathematical approach to defining a classical theory corresponding to a given quantum theory. It attempts to carry out quantization in such a way that certain analogies between the quantum theory and the classical theory remain manifest.', 'D': 'Geometric quantization is a mathematical approach to defining a quantum theory corresponding to a given classical theory. It attempts to carry out quantization in such a way that certain analogies between the classical theory and the quantum theory are not important.', 'E': 'Geometric quantization is a mathematical approach to defining a quantum theory corresponding to a given classical theory. It attempts to carry out quantization in such a way that certain analogies between the classical theory and the quantum theory remain manifest.', 'answer': 'A'}\n",
            "{'id': 162, 'prompt': 'What is the definition of an improper rotation?', 'A': 'An improper rotation is the combination of a rotation about an axis and reflection in a plane perpendicular to that axis, or inversion about a point on the axis. The order of the rotation and reflection does not matter, and the symmetry elements for improper rotation are the rotation axis, and either the mirror plane, the inversion point, or both, and a third plane.', 'B': 'An improper rotation is the combination of a rotation about an axis and reflection in a plane perpendicular to that axis, or inversion about a point on the axis. The order of the rotation and reflection does not matter, and the symmetry elements for improper rotation are the rotation axis, and either the mirror plane, the inversion point, or both.', 'C': 'An improper rotation is the combination of a rotation about an axis and reflection in a plane parallel to that axis, or inversion about a point on the axis. The order of the rotation and reflection does not matter, and the symmetry elements for improper rotation are the rotation axis, and either the mirror plane, the inversion point, or neither.', 'D': 'An improper rotation is the combination of a rotation about an axis and reflection in a plane perpendicular to that axis, or inversion about a point on the axis. The order of the rotation and reflection does not matter, and the symmetry elements for improper rotation are the rotation axis, and either the mirror plane, the inversion point, or neither.', 'E': 'An improper rotation is the combination of a rotation about an axis and reflection in a plane parallel to that axis, or inversion about a point on the axis. The order of the rotation and reflection does not matter, and the symmetry elements for improper rotation are the rotation axis, and either the mirror plane, the inversion point, or both.', 'answer': 'A'}\n",
            "{'id': 163, 'prompt': 'What is power density in the context of energy systems, and how does it differ between renewable and non-renewable energy sources?', 'A': 'Power density is a measure of the amount of power obtained per unit of Earth surface area used by a specific energy system, including all supporting infrastructure, manufacturing, mining of fuel (if applicable) and decommissioning. Both renewable and non-renewable energy sources have similar power density, which means that the same amount of power can be obtained from power plants occupying similar areas.', 'B': 'Power density is a measure of the amount of power obtained per unit of Earth surface area used by a specific energy system, including all supporting infrastructure, manufacturing, mining of fuel (if applicable) and decommissioning. Fossil fuels and nuclear power have high power density, which means large power can be drawn from power plants occupying relatively small areas. Renewable energy sources have power density at least three orders of magnitude smaller and, for the same energy output, they need to occupy accordingly larger areas.', 'C': 'Power density is a measure of the amount of power obtained per unit of Earth surface area used by a specific energy system, including all supporting infrastructure, manufacturing, mining of fuel (if applicable) and decommissioning. Renewable energy sources have higher power density than non-renewable energy sources, which means that they can produce more power from power plants occupying smaller areas.', 'D': 'Power density is a measure of the amount of power obtained per unit of Earth surface area used by a specific energy system, including all supporting infrastructure, manufacturing, mining of fuel (if applicable) and decommissioning. Fossil fuels and nuclear power have low power density, which means that they need to occupy larger areas to produce the same amount of power as renewable energy sources.', 'E': 'Power density is a measure of the amount of power obtained per unit of Earth surface area used by a specific energy system, including all supporting infrastructure, manufacturing, mining of fuel (if applicable) and decommissioning. Both renewable and non-renewable energy sources have low power density, which means that they need to occupy larger areas to produce the same amount of power.', 'answer': 'A'}\n",
            "{'id': 164, 'prompt': 'What is Modified Newtonian Dynamics (MOND)?', 'A': 'MOND is a theory that explains the behavior of light in the presence of strong gravitational fields. It is an alternative to the hypothesis of dark matter in terms of explaining why galaxies do not appear to obey the currently understood laws of physics.', 'B': \"MOND is a hypothesis that proposes a modification of Einstein's theory of general relativity to account for observed properties of galaxies. It is an alternative to the hypothesis of dark matter in terms of explaining why galaxies do not appear to obey the currently understood laws of physics.\", 'C': \"MOND is a hypothesis that proposes a modification of Newton's law of universal gravitation to account for observed properties of galaxies. It is an alternative to the hypothesis of dark matter in terms of explaining why galaxies do not appear to obey the currently understood laws of physics.\", 'D': \"MOND is a hypothesis that proposes a modification of Coulomb's law to account for observed properties of galaxies. It is an alternative to the hypothesis of dark matter in terms of explaining why galaxies do not appear to obey the currently understood laws of physics.\", 'E': 'MOND is a theory that explains the behavior of subatomic particles in the presence of strong magnetic fields. It is an alternative to the hypothesis of dark energy in terms of explaining why subatomic particles do not appear to obey the currently understood laws of physics.', 'answer': 'A'}\n",
            "{'id': 165, 'prompt': 'What is linear frame dragging?', 'A': 'Linear frame dragging is the effect of the general principle of relativity applied to the mass of a body when other masses are placed nearby. It is a tiny effect that is difficult to confirm experimentally and often omitted from articles on frame-dragging.', 'B': 'Linear frame dragging is the effect of the general principle of relativity applied to rotational momentum, which is a large effect that is easily confirmed experimentally and often discussed in articles on frame-dragging.', 'C': 'Linear frame dragging is the effect of the general principle of relativity applied to rotational momentum, which is similarly inevitable to the linear effect. It is a tiny effect that is difficult to confirm experimentally and often omitted from articles on frame-dragging.', 'D': 'Linear frame dragging is the effect of the general principle of relativity applied to linear momentum, which is similarly inevitable to the rotational effect. It is a tiny effect that is difficult to confirm experimentally and often omitted from articles on frame-dragging.', 'E': 'Linear frame dragging is the effect of the general principle of relativity applied to linear momentum, which is a large effect that is easily confirmed experimentally and often discussed in articles on frame-dragging.', 'answer': 'A'}\n",
            "{'id': 166, 'prompt': 'What is explicit symmetry breaking in theoretical physics?', 'A': 'Explicit symmetry breaking is the breaking of a symmetry of a theory by terms in its defining equations of motion that do not respect the symmetry, always in situations where these symmetry-breaking terms are large, so that the symmetry is not respected by the theory.', 'B': 'Explicit symmetry breaking is the breaking of a symmetry of a theory by terms in its defining equations of motion that do not respect the symmetry, usually in situations where these symmetry-breaking terms are small, so that the symmetry is approximately respected by the theory.', 'C': 'Explicit symmetry breaking is the breaking of a symmetry of a theory by terms in its defining equations of motion that respect the symmetry, always in situations where these symmetry-breaking terms are small, so that the symmetry is approximately respected by the theory.', 'D': 'Explicit symmetry breaking is the breaking of a symmetry of a theory by terms in its defining equations of motion that respect the symmetry, always in situations where these symmetry-breaking terms are large, so that the symmetry is not respected by the theory.', 'E': 'Explicit symmetry breaking is the breaking of a symmetry of a theory by terms in its defining equations of motion that respect the symmetry, usually in situations where these symmetry-breaking terms are large, so that the symmetry is not respected by the theory.', 'answer': 'A'}\n",
            "{'id': 167, 'prompt': 'What is the role of the Higgs boson in the Standard Model?', 'A': 'The Higgs boson is responsible for giving mass to the photon and gluon in the Standard Model.', 'B': 'The Higgs boson has no role in the Standard Model.', 'C': 'The Higgs boson is responsible for giving mass to all the elementary particles in the Standard Model.', 'D': 'The Higgs boson is responsible for giving mass to all the elementary particles, except the photon and gluon, in the Standard Model.', 'E': 'The Higgs boson is responsible for giving mass to all the composite particles in the Standard Model.', 'answer': 'A'}\n",
            "{'id': 168, 'prompt': 'What is Lorentz symmetry or Lorentz invariance in relativistic physics?', 'A': 'Lorentz symmetry or Lorentz invariance is a property of the underlying spacetime manifold that describes the feature of nature that says experimental results are independent of the orientation or the boost velocity of the laboratory through space.', 'B': 'Lorentz symmetry or Lorentz invariance is a measure of the curvature of spacetime caused by the presence of massive objects, which describes the feature of nature that says experimental results are independent of the orientation or the boost velocity of the laboratory through space.', 'C': 'Lorentz symmetry or Lorentz invariance is a physical quantity that transforms under a given representation of the Lorentz group, built out of scalars, four-vectors, four-tensors, and spinors.', 'D': 'Lorentz symmetry or Lorentz invariance is a measure of the time dilation and length contraction effects predicted by special relativity, which states that the laws of physics stay the same for all observers that are moving with respect to one another within an inertial frame.', 'E': 'Lorentz symmetry or Lorentz invariance is an equivalence of observation or observational symmetry due to special relativity implying that the laws of physics stay the same for all observers that are moving with respect to one another within an inertial frame.', 'answer': 'A'}\n",
            "{'id': 169, 'prompt': 'What is the significance of Baryon Acoustic Oscillations (BAOs) in the study of the universe?', 'A': 'BAOs establish a preferred length scale for baryons, which can be used to detect a subtle preference for pairs of galaxies to be separated by 147 Mpc, compared to those separated by 130-160 Mpc.', 'B': 'BAOs help to determine the average temperature of the Universe by measuring the temperature of the cosmic microwave background radiation.', 'C': 'BAOs provide a way to measure the time it takes for a signal to reach its destination compared to the time it takes for background noise to dissipate.', 'D': 'BAOs can be used to make a two-dimensional map of the galaxy distribution in the Universe.', 'E': 'BAOs are used to measure the speed of light in the Universe.', 'answer': 'A'}\n",
            "{'id': 170, 'prompt': 'What can be inferred about the electronic entropy of insulators and metals based on their densities of states at the Fermi level?', 'A': 'Insulators and metals have zero density of states at the Fermi level, and therefore, their density of states-based electronic entropy is essentially zero.', 'B': 'Insulators have zero density of states at the Fermi level, and therefore, their density of states-based electronic entropy is essentially zero. Metals have non-zero density of states at the Fermi level, and thus, their electronic entropy should be proportional to the temperature and density of states at the Fermi level.', 'C': 'Insulators have non-zero density of states at the Fermi level, and therefore, their density of states-based electronic entropy is proportional to the temperature and density of states at the Fermi level. Metals have zero density of states at the Fermi level, and thus, their electronic entropy is essentially zero.', 'D': 'Insulators and metals have varying densities of states at the Fermi level, and thus, their electronic entropy may or may not be proportional to the temperature and density of states at the Fermi level.', 'E': 'Insulators and metals have non-zero density of states at the Fermi level, and thus, their electronic entropy should be proportional to the temperature and density of states at the Fermi level.', 'answer': 'A'}\n",
            "{'id': 171, 'prompt': 'What are permutation-inversion groups?', 'A': 'Permutation-inversion groups are groups of symmetry operations that are energetically feasible inversions of identical nuclei or rotation with respect to the center of mass.', 'B': 'Permutation-inversion groups are groups of symmetry operations that are energetically feasible inversions of identical nuclei or rotation with respect to the center of mass, or a combination of both.', 'C': 'Permutation-inversion groups are groups of symmetry operations that are energetically feasible rotations of the entire molecule about the C3 axis.', 'D': 'Permutation-inversion groups are groups of symmetry operations that are energetically feasible inversions of the entire molecule about the C3 axis.', 'E': 'Permutation-inversion groups are groups of symmetry operations that are energetically feasible permutations of identical nuclei or inversion with respect to the center of mass, or a combination of both.', 'answer': 'A'}\n",
            "{'id': 172, 'prompt': 'What is the relationship between dielectric loss and the transparency of a material?', 'A': \"Dielectric loss in a material can cause refraction, which can decrease the material's transparency at higher frequencies.\", 'B': \"Dielectric loss in a material can cause absorption, which can reduce the material's transparency at higher frequencies.\", 'C': \"Dielectric loss in a material can cause reflection, which can increase the material's transparency at higher frequencies.\", 'D': \"Dielectric loss in a material has no effect on the material's transparency at any frequency.\", 'E': \"Dielectric loss in a material can cause scattering, which can increase the material's transparency at higher frequencies.\", 'answer': 'A'}\n",
            "{'id': 173, 'prompt': 'What is the purpose of measuring the Larmor precession fields at about 100 microtesla with highly sensitive superconducting quantum interference devices (SQUIDs) in ultra-low field MRI?', 'A': 'To measure the magnetization in the same direction as the static magnetic field in T1 relaxation.', 'B': 'To create a T1-weighted image that is useful for assessing the cerebral cortex, identifying fatty tissue, and characterizing focal liver lesions.', 'C': 'To obtain sufficient signal quality in the microtesla-to-millitesla range, where MRI has been demonstrated recently.', 'D': 'To measure the independent relaxation processes of T1 and T2 in each tissue after excitation.', 'E': 'To change the repetition time (TR) and obtain morphological information in post-contrast imaging.', 'answer': 'A'}\n",
            "{'id': 174, 'prompt': 'What is the difference between illuminance and luminance?', 'A': 'Illuminance is the amount of light absorbed by a surface per unit area, while luminance is the amount of light reflected by a surface per unit area.', 'B': 'Illuminance is the amount of light falling on a surface per unit area, while luminance is the amount of light emitted by a source per unit area.', 'C': 'Illuminance is the amount of light concentrated into a smaller area, while luminance is the amount of light filling a larger solid angle.', 'D': 'Illuminance is the amount of light emitted by a source per unit area, while luminance is the amount of light falling on a surface per unit area.', 'E': 'Illuminance is the amount of light reflected by a surface per unit area, while luminance is the amount of light absorbed by a surface per unit area.', 'answer': 'A'}\n",
            "{'id': 175, 'prompt': 'What is a magnetic monopole in particle physics?', 'A': 'A hypothetical elementary particle that is an isolated electric charge with both positive and negative poles.', 'B': 'A hypothetical elementary particle that is an isolated magnet with no magnetic poles.', 'C': 'A hypothetical elementary particle that is an isolated electric charge with only one electric pole, either a positive pole or a negative pole.', 'D': 'A hypothetical elementary particle that is an isolated magnet with both north and south poles.', 'E': 'A hypothetical elementary particle that is an isolated magnet with only one magnetic pole, either a north pole or a south pole.', 'answer': 'A'}\n",
            "{'id': 176, 'prompt': 'What is the difference between redshift due to the expansion of the universe and Doppler redshift?', 'A': 'Redshift due to the expansion of the universe depends on the rate of change of a(t) at the times of emission or absorption, while Doppler redshift depends on the increase of a(t) in the whole period from emission to absorption.', 'B': 'Redshift due to the expansion of the universe depends on the local velocity of the object emitting the light, while Doppler redshift depends on the cosmological model chosen to describe the expansion of the universe.', 'C': 'There is no difference between redshift due to the expansion of the universe and Doppler redshift.', 'D': 'Redshift due to the expansion of the universe depends on the cosmological model chosen to describe the expansion of the universe, while Doppler redshift depends on the local velocity of the object emitting the light.', 'E': 'Redshift due to the expansion of the universe depends on the increase of a(t) in the whole period from emission to absorption, while Doppler redshift depends on the rate of change of a(t) at the times of emission or absorption.', 'answer': 'A'}\n",
            "{'id': 177, 'prompt': 'What is the relationship between Coordinated Universal Time (UTC) and Universal Time (UT1)?', 'A': 'UTC and Universal Time (UT1) are identical time scales that are used interchangeably in science and engineering.', 'B': 'UTC is a time scale that is completely independent of Universal Time (UT1). UTC is kept within 0.9 second of UT1 by the introduction of one-second steps to UTC, the \"leap second\".', 'C': 'UTC is an atomic time scale designed to approximate Universal Time (UT1), but it differs from UT1 by a non-integral number of seconds. UTC is kept within 0.9 second of UT1 by the introduction of one-second steps to UTC, the \"leap second\".', 'D': 'UTC is an atomic time scale designed to approximate Universal Time (UT1), but it differs from UT1 by an integral number of seconds. UTC is kept within 0.9 second of UT1 by the introduction of one-second steps to UTC, the \"leap second\".', 'E': \"UTC is a time scale that is based on the irregularities in Earth's rotation and is completely independent of Universal Time (UT1).\", 'answer': 'A'}\n",
            "{'id': 178, 'prompt': 'What is the reason for heating metals to a temperature just above the upper critical temperature?', 'A': 'To prevent the grains of solution from growing too large, which decreases mechanical properties such as toughness, shear strength, and tensile strength.', 'B': 'To increase the size of the grains of solution, which enhances mechanical properties such as toughness, shear strength, and tensile strength.', 'C': 'To prevent the grains of solution from growing too large, which enhances mechanical properties such as toughness, shear strength, and tensile strength.', 'D': 'To prevent the grains of solution from growing too small, which enhances mechanical properties such as toughness, shear strength, and tensile strength.', 'E': 'To increase the size of the grains of solution, which decreases mechanical properties such as toughness, shear strength, and tensile strength.', 'answer': 'A'}\n",
            "{'id': 179, 'prompt': 'What is the cause of the observed change in the periods of moons orbiting a distant planet when measured from Earth?', 'A': \"The difference in the size of the planet's moons when the Earth is at the point in its orbit that is closest to its planet than when the Earth is at the farthest point in its orbit, the difference in distance being the diameter of the Earth's orbit around the Sun.\", 'B': \"The difference in the speed of light when the Earth is at the point in its orbit that is closest to its planet than when the Earth is at the farthest point in its orbit, the difference in distance being the diameter of the Earth's orbit around the Sun.\", 'C': \"The difference in distance travelled by light from the planet (or its moon) to Earth when the Earth is at the point in its orbit that is closest to its planet than when the Earth is at the farthest point in its orbit, the difference in distance being the diameter of the Earth's orbit around the Sun.\", 'D': \"The difference in the atmospheric conditions of the planet when the Earth is at the point in its orbit that is closest to its planet than when the Earth is at the farthest point in its orbit, the difference in distance being the diameter of the Earth's orbit around the Sun.\", 'E': \"The difference in the gravitational pull of the planet on its moons when the Earth is at the point in its orbit that is closest to its planet than when the Earth is at the farthest point in its orbit, the difference in distance being the diameter of the Earth's orbit around the Sun.\", 'answer': 'A'}\n",
            "{'id': 180, 'prompt': 'What is the origin of the radio emission observed from supernova remnants?', 'A': 'The radio emission from supernova remnants originates from the rebound of gas falling inward during the supernova explosion. This emission is a form of non-thermal emission called synchrotron emission.', 'B': 'The radio emission from supernova remnants originates from high-velocity electrons oscillating within magnetic fields. This emission is a form of non-thermal emission called synchrotron emission.', 'C': 'The radio emission from supernova remnants originates from the fusion of hydrogen and helium in the core of the star. This emission is a form of non-thermal emission called synchrotron emission.', 'D': 'The radio emission from supernova remnants originates from the expansion of the shell of gas during the supernova explosion. This emission is a form of thermal emission called synchrotron emission.', 'E': 'The radio emission from supernova remnants originates from the ionized gas present in the remnants. This emission is a form of thermal emission called synchrotron emission.', 'answer': 'A'}\n",
            "{'id': 181, 'prompt': 'What is the relationship between the Hamiltonians and eigenstates in supersymmetric quantum mechanics?', 'A': 'For every eigenstate of one Hamiltonian, its partner Hamiltonian has a corresponding eigenstate with the same energy.', 'B': 'For every eigenstate of one Hamiltonian, its partner Hamiltonian has a corresponding eigenstate with a higher energy.', 'C': 'For every eigenstate of one Hamiltonian, its partner Hamiltonian has a corresponding eigenstate with a different spin.', 'D': 'For every eigenstate of one Hamiltonian, its partner Hamiltonian has a corresponding eigenstate with a different energy.', 'E': 'For every eigenstate of one Hamiltonian, its partner Hamiltonian has a corresponding eigenstate with a lower energy.', 'answer': 'A'}\n",
            "{'id': 182, 'prompt': 'What is the proposed name for the field that is responsible for cosmic inflation and the metric expansion of space?', 'A': 'Inflaton', 'B': 'Quanta', 'C': 'Scalar', 'D': 'Metric', 'E': 'Conformal cyclic cosmology', 'answer': 'A'}\n",
            "{'id': 183, 'prompt': 'Which of the following statements accurately describes the characteristics of gravitational waves?', 'A': \"Gravitational waves have an amplitude denoted by h, which represents the size of the wave. The amplitude varies with time according to Newton's quadrupole formula. Gravitational waves also have a frequency denoted by f, which is the frequency of the wave's oscillation, and a wavelength denoted by λ, which is the distance between points of minimum stretch or squeeze.\", 'B': \"Gravitational waves have an amplitude denoted by λ, which represents the distance between points of maximum stretch or squeeze. The amplitude varies with time according to Einstein's quadrupole formula. Gravitational waves also have a frequency denoted by h, which is the size of the wave, and a wavelength denoted by f, which is the frequency of the wave's oscillation.\", 'C': \"Gravitational waves have an amplitude denoted by h, which represents the size of the wave. The amplitude varies with time according to Einstein's quadrupole formula. Gravitational waves also have a frequency denoted by f, which is the frequency of the wave's oscillation, and a wavelength denoted by λ, which is the distance between points of maximum stretch or squeeze.\", 'D': \"Gravitational waves have an amplitude denoted by f, which represents the frequency of the wave's oscillation. The amplitude varies with time according to Einstein's quadrupole formula. Gravitational waves also have a frequency denoted by h, which is the size of the wave, and a wavelength denoted by λ, which is the distance between points of maximum stretch or squeeze.\", 'E': \"Gravitational waves have an amplitude denoted by f, which represents the frequency of the wave's oscillation. The amplitude varies with time according to Newton's quadrupole formula. Gravitational waves also have a frequency denoted by h, which is the size of the wave, and a wavelength denoted by λ, which is the distance between points of minimum stretch or squeeze.\", 'answer': 'A'}\n",
            "{'id': 184, 'prompt': 'What is the difference between the coevolution of myrmecophytes and the mutualistic symbiosis of mycorrhiza?', 'A': 'Myrmecophytes coevolve with ants, providing them with a home and sometimes food, while the ants defend the plant from herbivores and competing plants. On the other hand, mycorrhiza is a mutualistic symbiosis between plants and fungi, where the fungi help the plants gain water and mineral nutrients from the soil, while the plant gives the fungi carbohydrates manufactured in photosynthesis.', 'B': 'Myrmecophytes coevolve with ants, providing them with food, while the ants defend the plant from herbivores and competing plants. On the other hand, mycorrhiza is a mutualistic symbiosis between plants and fungi, where the fungi help the plants gain water and mineral nutrients from the soil, while the plant gives the fungi water and mineral nutrients.', 'C': 'Myrmecophytes coevolve with butterflies, providing them with a home and sometimes food, while the butterflies defend the plant from herbivores and competing plants. On the other hand, mycorrhiza is a mutualistic symbiosis between plants and birds, where the birds help the plants gain water and mineral nutrients from the soil, while the plant gives the birds carbohydrates manufactured in photosynthesis.', 'D': 'Myrmecophytes coevolve with birds, providing them with a home and sometimes food, while the birds defend the plant from herbivores and competing plants. On the other hand, mycorrhiza is a mutualistic symbiosis between plants and bacteria, where the bacteria help the plants gain water and mineral nutrients from the soil, while the plant gives the bacteria carbohydrates manufactured in photosynthesis.', 'E': 'Myrmecophytes coevolve with bees, providing them with a home and sometimes food, while the bees defend the plant from herbivores and competing plants. On the other hand, mycorrhiza is a mutualistic symbiosis between plants and insects, where the insects help the plants gain water and mineral nutrients from the soil, while the plant gives the insects carbohydrates manufactured in photosynthesis.', 'answer': 'A'}\n",
            "{'id': 185, 'prompt': \"What is the Kelvin-Helmholtz instability and how does it affect Earth's magnetosphere?\", 'A': 'The Kelvin-Helmholtz instability is a phenomenon that occurs when large swirls of plasma travel along the edge of the magnetosphere at a different velocity from the magnetosphere, causing the plasma to slip past. This results in magnetic reconnection, and as the magnetic field lines break and reconnect, solar wind particles are able to enter the magnetosphere.', 'B': 'The Kelvin-Helmholtz instability is a phenomenon that occurs when the magnetosphere is compared to a sieve because it allows solar wind particles to enter.', 'C': \"The Kelvin-Helmholtz instability is a phenomenon that occurs when Earth's bow shock is about 17 kilometers (11 mi) thick and located about 90,000 kilometers (56,000 mi) from Earth.\", 'D': \"The Kelvin-Helmholtz instability is a phenomenon that occurs when the magnetic field extends in the magnetotail on Earth's nightside, which lengthwise exceeds 6,300,000 kilometers (3,900,000 mi).\", 'E': \"The Kelvin-Helmholtz instability is a phenomenon that occurs when the magnetosphere is compressed by the solar wind to a distance of approximately 65,000 kilometers (40,000 mi) on the dayside of Earth. This results in the magnetopause existing at a distance of several hundred kilometers above Earth's surface.\", 'answer': 'A'}\n",
            "{'id': 186, 'prompt': 'What is the significance of the high degree of fatty-acyl disorder in the thylakoid membranes of plants?', 'A': 'The high degree of fatty-acyl disorder in the thylakoid membranes of plants is responsible for the low fluidity of membrane lipid fatty-acyl chains in the gel phase.', 'B': 'The high degree of fatty-acyl disorder in the thylakoid membranes of plants is responsible for the exposure of chloroplast thylakoid membranes to cold environmental temperatures.', 'C': 'The high degree of fatty-acyl disorder in the thylakoid membranes of plants allows for innate fluidity even at relatively low temperatures.', 'D': 'The high degree of fatty-acyl disorder in the thylakoid membranes of plants allows for a gel-to-liquid crystalline phase transition temperature to be determined by many techniques.', 'E': 'The high degree of fatty-acyl disorder in the thylakoid membranes of plants restricts the movement of membrane proteins, thus hindering their physiological role.', 'answer': 'A'}\n",
            "{'id': 187, 'prompt': 'What is the explanation for the effective supersymmetry in quark-diquark models?', 'A': 'Two different color charges close together appear as the corresponding anti-color under coarse resolution, which makes a diquark cluster viewed with coarse resolution effectively appear as an antiquark. Therefore, a baryon containing 3 valence quarks, of which two tend to cluster together as a diquark, behaves like a meson.', 'B': 'Two different color charges close together appear as the corresponding color under coarse resolution, which makes a diquark cluster viewed with coarse resolution effectively appear as a quark. Therefore, a baryon containing 3 valence quarks, of which two tend to cluster together as a diquark, behaves like a baryon.', 'C': 'Two different color charges close together appear as the corresponding color under fine resolution, which makes a diquark cluster viewed with fine resolution effectively appear as a quark. Therefore, a baryon containing 3 valence quarks, of which two tend to cluster together as a diquark, behaves like a baryon.', 'D': 'Two different color charges close together appear as the corresponding anti-color under fine resolution, which makes a diquark cluster viewed with fine resolution effectively appear as an antiquark. Therefore, a baryon containing 3 valence quarks, of which two tend to cluster together as a diquark, behaves like a meson.', 'E': 'Two different color charges close together appear as the corresponding anti-color under any resolution, which makes a diquark cluster viewed with any resolution effectively appear as an antiquark. Therefore, a baryon containing 3 valence quarks, of which two tend to cluster together as a diquark, behaves like a meson.', 'answer': 'A'}\n",
            "{'id': 188, 'prompt': 'What is the relationship between the complete electromagnetic Hamiltonian of a molecule and the parity operation?', 'A': 'The complete electromagnetic Hamiltonian of any molecule is invariant to the parity operation, and its eigenvalues cannot be given the parity symmetry label + or -.', 'B': 'The complete electromagnetic Hamiltonian of any molecule is dependent on the parity operation, and its eigenvalues can be given the parity symmetry label even or odd, respectively.', 'C': 'The complete electromagnetic Hamiltonian of any molecule is dependent on the parity operation, and its eigenvalues can be given the parity symmetry label + or - depending on whether they are even or odd, respectively.', 'D': 'The complete electromagnetic Hamiltonian of any molecule is invariant to the parity operation, and its eigenvalues can be given the parity symmetry label + or - depending on whether they are even or odd, respectively.', 'E': 'The complete electromagnetic Hamiltonian of any molecule does not involve the parity operation, and its eigenvalues cannot be given the parity symmetry label + or -.', 'answer': 'A'}\n",
            "{'id': 189, 'prompt': 'What is the difference between active and passive transport in cells?', 'A': 'Active transport and passive transport both require energy input from the cell to function.', 'B': 'Passive transport is powered by the arithmetic sum of osmosis and an electric field, while active transport requires energy input from the cell.', 'C': 'Passive transport requires energy input from the cell, while active transport is powered by the arithmetic sum of osmosis and an electric field.', 'D': 'Active transport and passive transport are both powered by the arithmetic sum of osmosis and an electric field.', 'E': 'Active transport is powered by the arithmetic sum of osmosis and an electric field, while passive transport requires energy input from the cell.', 'answer': 'A'}\n",
            "{'id': 190, 'prompt': 'What is the Heisenberg uncertainty principle and how does it relate to angular momentum in quantum mechanics?', 'A': 'The Heisenberg uncertainty principle states that the axis of rotation of a quantum particle is undefined, and that quantum particles possess a type of non-orbital angular momentum called \"spin\". This is because angular momentum, like other quantities in quantum mechanics, is expressed as a tensorial operator in relativistic quantum mechanics.', 'B': 'The Heisenberg uncertainty principle states that the total angular momentum of a system of particles is equal to the sum of the individual particle angular momenta, and that the centre of mass is for the system. This is because angular momentum, like other quantities in quantum mechanics, is expressed as an operator with quantized eigenvalues.', 'C': 'The Heisenberg uncertainty principle states that the total angular momentum of a system of particles is subject to quantization, and that the individual particle angular momenta are expressed as operators. This is because angular momentum, like other quantities in quantum mechanics, is subject to the Heisenberg uncertainty principle.', 'D': 'The Heisenberg uncertainty principle states that the axis of rotation of a quantum particle is undefined, and that at any given time, only one projection of angular momentum can be measured with definite precision, while the other two remain uncertain. This is because angular momentum, like other quantities in quantum mechanics, is subject to quantization and expressed as an operator with quantized eigenvalues.', 'E': 'The Heisenberg uncertainty principle states that at any given time, only one projection of angular momentum can be measured with definite precision, while the other two remain uncertain. This is because angular momentum, like other quantities in quantum mechanics, is expressed as an operator with quantized eigenvalues.', 'answer': 'A'}\n",
            "{'id': 191, 'prompt': 'What is the difference between natural convection and forced convection?', 'A': 'Natural convection and forced convection are the same phenomenon, where a fluid is forced to flow over the surface by an internal source such as fans, stirring, and pumps, causing the fluid to be less dense and displaced.', 'B': 'Natural convection and forced convection are two different phenomena that do not relate to each other.', 'C': 'Natural convection occurs when a fluid is in contact with a hot surface, causing the fluid to be less dense and displaced, while forced convection is when a fluid is forced to flow over the surface by an internal source such as fans, stirring, and pumps.', 'D': 'Natural convection is when a fluid is forced to flow over the surface by an internal source such as fans, stirring, and pumps, while forced convection occurs when a fluid is in contact with a hot surface, causing the fluid to be less dense and displaced.', 'E': 'Natural convection and forced convection are the same phenomenon, where a fluid is in contact with a hot surface, causing the fluid to be less dense and displaced, and then forced to flow over the surface by an internal source such as fans, stirring, and pumps.', 'answer': 'A'}\n",
            "{'id': 192, 'prompt': 'What is magnetic susceptibility?', 'A': \"Magnetic susceptibility is a measure of how much a material will absorb magnetization in an applied magnetic field. It is the ratio of magnetization to the applied magnetizing field intensity, allowing for a simple classification of most materials' responses to an applied magnetic field.\", 'B': \"Magnetic susceptibility is a measure of how much a material will become magnetized in an applied magnetic field. It is the ratio of magnetization to the applied magnetizing field intensity, allowing for a simple classification of most materials' responses to an applied magnetic field.\", 'C': \"Magnetic susceptibility is a measure of how much a material will resist magnetization in an applied magnetic field. It is the ratio of magnetization to the applied magnetizing field intensity, allowing for a simple classification of most materials' responses to an applied magnetic field.\", 'D': \"Magnetic susceptibility is a measure of how much a material will conduct magnetization in an applied magnetic field. It is the ratio of magnetization to the applied magnetizing field intensity, allowing for a simple classification of most materials' responses to an applied magnetic field.\", 'E': \"Magnetic susceptibility is a measure of how much a material will reflect magnetization in an applied magnetic field. It is the ratio of magnetization to the applied magnetizing field intensity, allowing for a simple classification of most materials' responses to an applied magnetic field.\", 'answer': 'A'}\n",
            "{'id': 193, 'prompt': 'What is a transient condensation cloud, also known as a Wilson cloud?', 'A': 'A visible cloud of smoke that forms when a nuclear weapon or a large amount of a conventional explosive is detonated in humid air, due to the burning of materials in the explosion.', 'B': 'A visible cloud of microscopic water droplets that forms when a nuclear weapon or a large amount of a conventional explosive is detonated in humid air, due to a temporary cooling of the air caused by a rarefaction of the air surrounding the explosion.', 'C': 'A visible cloud of microscopic water droplets that forms when a nuclear weapon or a large amount of a conventional explosive is detonated in dry air, due to a temporary cooling of the air caused by a rarefaction of the air surrounding the explosion.', 'D': 'A visible cloud of gas that forms when a nuclear weapon or a large amount of a conventional explosive is detonated in humid air, due to the release of gases from the explosion.', 'E': 'A visible cloud of smoke that forms when a nuclear weapon or a large amount of a conventional explosive is detonated in dry air, due to the burning of materials in the explosion.', 'answer': 'A'}\n",
            "{'id': 194, 'prompt': 'What is a uniform tiling in the hyperbolic plane?', 'A': 'A uniform tiling in the hyperbolic plane is a tessellation of the hyperbolic plane with irregular polygons as faces. These are not vertex-transitive and isogonal.', 'B': 'A uniform tiling in the hyperbolic plane is a tessellation of the hyperbolic plane with regular polygons as faces. These are not vertex-transitive and isogonal.', 'C': 'A uniform tiling in the hyperbolic plane is a tessellation of the hyperbolic plane with irregular polygons as faces. These are vertex-transitive and isogonal.', 'D': 'A uniform tiling in the hyperbolic plane is an edge-to-edge filling of the hyperbolic plane, with regular polygons as faces. These are vertex-transitive and isogonal.', 'E': 'A uniform tiling in the hyperbolic plane is an edge-to-edge filling of the hyperbolic plane, with irregular polygons as faces. These are vertex-transitive and isogonal.', 'answer': 'A'}\n",
            "{'id': 195, 'prompt': 'What is the relation between the three moment theorem and the bending moments at three successive supports of a continuous beam?', 'A': 'The three moment theorem expresses the relation between the deflection of two points on a beam relative to the point of intersection between tangent at those two points and the vertical through the first point.', 'B': 'The three moment theorem is used to calculate the maximum allowable bending moment of a beam, which is determined by the weight distribution of each segment of the beam.', 'C': 'The three moment theorem describes the relationship between bending moments at three successive supports of a continuous beam, subject to a loading on two adjacent spans with or without settlement of the supports.', 'D': \"The three moment theorem is used to calculate the weight distribution of each segment of a beam, which is required to apply Mohr's theorem.\", 'E': 'The three moment theorem is used to derive the change in slope of a deflection curve between two points of a beam, which is equal to the area of the M/EI diagram between those two points.', 'answer': 'A'}\n",
            "{'id': 196, 'prompt': 'What is the throttling process, and why is it important?', 'A': 'The throttling process is a steady flow of a fluid through a flow resistance, such as a valve or porous plug, and is responsible for the pressure increase in domestic refrigerators. This process is important because it is at the heart of the refrigeration cycle.', 'B': 'The throttling process is a steady adiabatic flow of a fluid through a flow resistance, such as a valve or porous plug, and is responsible for the temperature drop in domestic refrigerators. This process is important because it is at the heart of the refrigeration cycle.', 'C': 'The throttling process is a steady adiabatic flow of a fluid through a flow resistance, such as a valve or porous plug, and is responsible for the pressure drop in domestic refrigerators. This process is important because it is at the heart of the refrigeration cycle.', 'D': 'The throttling process is a steady flow of a fluid through a flow resistance, such as a valve or porous plug, and is responsible for the temperature increase in domestic refrigerators. This process is important because it is at the heart of the refrigeration cycle.', 'E': 'The throttling process is a steady adiabatic flow of a fluid through a flow resistance, such as a valve or porous plug, and is responsible for the temperature drop in domestic refrigerators. This process is not important because it is not used in the refrigeration cycle.', 'answer': 'A'}\n",
            "{'id': 197, 'prompt': 'What happens to excess base metal as a solution cools from the upper transformation temperature towards an insoluble state?', 'A': 'The excess base metal will often solidify, becoming the proeutectoid until the remaining concentration of solutes reaches the eutectoid level, which will then crystallize as a separate microstructure.', 'B': 'The excess base metal will often crystallize-out, becoming the proeutectoid until the remaining concentration of solutes reaches the eutectoid level, which will then crystallize as a separate microstructure.', 'C': 'The excess base metal will often dissolve, becoming the proeutectoid until the remaining concentration of solutes reaches the eutectoid level, which will then crystallize as a separate microstructure.', 'D': 'The excess base metal will often liquefy, becoming the proeutectoid until the remaining concentration of solutes reaches the eutectoid level, which will then crystallize as a separate microstructure.', 'E': 'The excess base metal will often evaporate, becoming the proeutectoid until the remaining concentration of solutes reaches the eutectoid level, which will then crystallize as a separate microstructure.', 'answer': 'A'}\n",
            "{'id': 198, 'prompt': \"What is the relationship between mass, force, and acceleration, according to Sir Isaac Newton's laws of motion?\", 'A': \"Mass is a property that determines the weight of an object. According to Newton's laws of motion and the formula F = ma, an object with a mass of one kilogram accelerates at one meter per second per second when acted upon by a force of one newton.\", 'B': \"Mass is an inertial property that determines an object's tendency to remain at constant velocity unless acted upon by an outside force. According to Newton's laws of motion and the formula F = ma, an object with a mass of one kilogram accelerates at ten meters per second per second when acted upon by a force of one newton.\", 'C': \"Mass is an inertial property that determines an object's tendency to remain at constant velocity unless acted upon by an outside force. According to Newton's laws of motion and the formula F = ma, an object with a mass of one kilogram accelerates at ten meters per second per second when acted upon by a force of ten newtons.\", 'D': \"Mass is an inertial property that determines an object's tendency to remain at constant velocity unless acted upon by an outside force. According to Newton's laws of motion and the formula F = ma, an object with a mass of one kilogram accelerates at one meter per second per second when acted upon by a force of one newton.\", 'E': \"Mass is a property that determines the size of an object. According to Newton's laws of motion and the formula F = ma, an object with a mass of one kilogram accelerates at one meter per second per second when acted upon by a force of ten newtons.\", 'answer': 'A'}\n",
            "{'id': 199, 'prompt': \"What did Arthur Eddington discover about two of Einstein's types of gravitational waves?\", 'A': \"Arthur Eddington showed that two of Einstein's types of waves were artifacts of the coordinate system he used, and could only be made to propagate at the speed of gravity by choosing appropriate coordinates.\", 'B': \"Arthur Eddington showed that two of Einstein's types of waves were artifacts of the coordinate system he used, and could only be made to propagate at the speed of sound by choosing appropriate coordinates.\", 'C': \"Arthur Eddington showed that two of Einstein's types of waves were artifacts of the coordinate system he used, and could be made to propagate at any speed by choosing appropriate coordinates.\", 'D': \"Arthur Eddington showed that two of Einstein's types of waves were artifacts of the coordinate system he used, and could not be made to propagate at any speed by choosing appropriate coordinates.\", 'E': \"Arthur Eddington showed that two of Einstein's types of waves were artifacts of the coordinate system he used, and could only be made to propagate at the speed of light by choosing appropriate coordinates.\", 'answer': 'A'}\n"
          ]
        }
      ],
      "source": [
        "# There are more verbose/elegant ways of doing this, but if we give our test set a random `answer` column\n",
        "# we can make predictions directly with our trainer.\n",
        "test_df['answer'] = 'A'\n",
        "\n",
        "# Other than that we'll preprocess it in the same way we preprocessed test.csv\n",
        "test_ds = Dataset.from_pandas(test_df)\n",
        "tokenized_test_ds = test_ds.map(preprocess, batched=False, remove_columns=['prompt', 'A', 'B', 'C', 'D', 'E', 'answer'])"
      ]
    },
    {
      "cell_type": "code",
      "execution_count": 26,
      "metadata": {},
      "outputs": [
        {
          "data": {
            "text/plain": [
              "Dataset({\n",
              "    features: ['id', 'prompt', 'A', 'B', 'C', 'D', 'E', 'answer'],\n",
              "    num_rows: 200\n",
              "})"
            ]
          },
          "execution_count": 26,
          "metadata": {},
          "output_type": "execute_result"
        }
      ],
      "source": [
        "# tokenized_test_ds\n",
        "test_ds"
      ]
    },
    {
      "cell_type": "markdown",
      "metadata": {
        "id": "ztXpoyJMjcyB"
      },
      "source": [
        "\n",
        "firstly,\n",
        "code adds a new column named 'answer' to the test DataFrame (test_df) and assigns the constant value 'A' to every row in that column. The purpose of this step is to create a placeholder for the answer. This is done to align the test dataset structure with the structure used during training\n",
        "code applies a preprocessing function (preprocess) to the test dataset using the map method. The preprocess function is  to perform tasks such as tokenization and removing unnecessary columns. Here, the batched=False parameter shows that the mapping is done element-wise (not in batches), and remove_columns is used to remove specified columns from the dataset. In this case, columns like 'prompt', 'A', 'B', 'C', 'D', 'E', and 'answer' are removed, leaving only the relevant information needed for making predictions.\n",
        "\n",
        "After these steps, tokenized_test_ds is prepared for making predictions with the model. The 'answer' column, even though it was assigned a constant value, serves the purpose of maintaining the structure and consistency of the test dataset with the training data."
      ]
    },
    {
      "cell_type": "code",
      "execution_count": 27,
      "metadata": {
        "colab": {
          "base_uri": "https://localhost:8080/",
          "height": 17
        },
        "id": "kZ8gKTuSB8EQ",
        "outputId": "e1b96282-1a49-4188-9c05-f27255be5698"
      },
      "outputs": [
        {
          "data": {
            "application/vnd.jupyter.widget-view+json": {
              "model_id": "55ead5ade1034f56a9a929e2ae3a4e60",
              "version_major": 2,
              "version_minor": 0
            },
            "text/plain": [
              "  0%|          | 0/50 [00:00<?, ?it/s]"
            ]
          },
          "metadata": {},
          "output_type": "display_data"
        }
      ],
      "source": [
        "# Here we'll generate our \"real\" predictions on the test set\n",
        "test_predictions = trainer.predict(tokenized_test_ds)"
      ]
    },
    {
      "cell_type": "markdown",
      "metadata": {
        "id": "jmexC17bk2kL"
      },
      "source": [
        ".predict(tokenized_test_ds): This calls the predict method of the Trainer class, which is used for making predictions on a dataset. In this case, the dataset passed to it is tokenized_test_ds, which is the test dataset that has been tokenized and preprocessed.\n",
        "\n",
        "test_predictions: This variable is assigned the result of the predict method. The specific format of test_predictions will depend on the task and the model architecture. Typically, it contains information such as predicted labels, probabilities, or logits.\n",
        "\n",
        "After running this line, test_predictions should contain the model's predictions on the test dataset, and you can use this information for further analysis"
      ]
    },
    {
      "cell_type": "code",
      "execution_count": 28,
      "metadata": {
        "colab": {
          "base_uri": "https://localhost:8080/",
          "height": 336
        },
        "id": "GVPlfHSbB9cH",
        "outputId": "09ae45d8-abbc-4385-f3f7-8e10dcf2cda2"
      },
      "outputs": [
        {
          "name": "stderr",
          "output_type": "stream",
          "text": [
            "/tmp/ipykernel_12782/1317637749.py:3: SettingWithCopyWarning: \n",
            "A value is trying to be set on a copy of a slice from a DataFrame.\n",
            "Try using .loc[row_indexer,col_indexer] = value instead\n",
            "\n",
            "See the caveats in the documentation: https://pandas.pydata.org/pandas-docs/stable/user_guide/indexing.html#returning-a-view-versus-a-copy\n",
            "  submission_df['prediction'] = predictions_to_map_output(test_predictions.predictions)\n"
          ]
        },
        {
          "data": {
            "text/html": [
              "<div>\n",
              "<style scoped>\n",
              "    .dataframe tbody tr th:only-of-type {\n",
              "        vertical-align: middle;\n",
              "    }\n",
              "\n",
              "    .dataframe tbody tr th {\n",
              "        vertical-align: top;\n",
              "    }\n",
              "\n",
              "    .dataframe thead th {\n",
              "        text-align: right;\n",
              "    }\n",
              "</style>\n",
              "<table border=\"1\" class=\"dataframe\">\n",
              "  <thead>\n",
              "    <tr style=\"text-align: right;\">\n",
              "      <th></th>\n",
              "      <th>id</th>\n",
              "      <th>prediction</th>\n",
              "    </tr>\n",
              "  </thead>\n",
              "  <tbody>\n",
              "    <tr>\n",
              "      <th>0</th>\n",
              "      <td>0</td>\n",
              "      <td>D B A</td>\n",
              "    </tr>\n",
              "    <tr>\n",
              "      <th>1</th>\n",
              "      <td>1</td>\n",
              "      <td>E B D</td>\n",
              "    </tr>\n",
              "    <tr>\n",
              "      <th>2</th>\n",
              "      <td>2</td>\n",
              "      <td>A C E</td>\n",
              "    </tr>\n",
              "    <tr>\n",
              "      <th>3</th>\n",
              "      <td>3</td>\n",
              "      <td>A C D</td>\n",
              "    </tr>\n",
              "    <tr>\n",
              "      <th>4</th>\n",
              "      <td>4</td>\n",
              "      <td>E D B</td>\n",
              "    </tr>\n",
              "  </tbody>\n",
              "</table>\n",
              "</div>"
            ],
            "text/plain": [
              "   id prediction\n",
              "0   0      D B A\n",
              "1   1      E B D\n",
              "2   2      A C E\n",
              "3   3      A C D\n",
              "4   4      E D B"
            ]
          },
          "execution_count": 28,
          "metadata": {},
          "output_type": "execute_result"
        }
      ],
      "source": [
        "# Now we can create our submission using the id column from test.csv\n",
        "submission_df = test_df[['id']]\n",
        "submission_df['prediction'] = predictions_to_map_output(test_predictions.predictions)\n",
        "\n",
        "submission_df.head()"
      ]
    },
    {
      "cell_type": "markdown",
      "metadata": {
        "id": "XcST4dVhmXQi"
      },
      "source": [
        "creating a submission DataFrame that pairs the 'id' column from the test dataset with the corresponding model predictions, which have been processed and formatted using the predictions_to_map_output function. This submission_df is  for submission in a competition or as part of the evaluation process"
      ]
    },
    {
      "cell_type": "code",
      "execution_count": 29,
      "metadata": {
        "id": "bbvOccViCAIU"
      },
      "outputs": [
        {
          "data": {
            "text/html": [
              "<div>\n",
              "<style scoped>\n",
              "    .dataframe tbody tr th:only-of-type {\n",
              "        vertical-align: middle;\n",
              "    }\n",
              "\n",
              "    .dataframe tbody tr th {\n",
              "        vertical-align: top;\n",
              "    }\n",
              "\n",
              "    .dataframe thead th {\n",
              "        text-align: right;\n",
              "    }\n",
              "</style>\n",
              "<table border=\"1\" class=\"dataframe\">\n",
              "  <thead>\n",
              "    <tr style=\"text-align: right;\">\n",
              "      <th></th>\n",
              "      <th>id</th>\n",
              "      <th>prediction</th>\n",
              "    </tr>\n",
              "  </thead>\n",
              "  <tbody>\n",
              "    <tr>\n",
              "      <th>0</th>\n",
              "      <td>0</td>\n",
              "      <td>D B A</td>\n",
              "    </tr>\n",
              "    <tr>\n",
              "      <th>1</th>\n",
              "      <td>1</td>\n",
              "      <td>E B D</td>\n",
              "    </tr>\n",
              "    <tr>\n",
              "      <th>2</th>\n",
              "      <td>2</td>\n",
              "      <td>A C E</td>\n",
              "    </tr>\n",
              "    <tr>\n",
              "      <th>3</th>\n",
              "      <td>3</td>\n",
              "      <td>A C D</td>\n",
              "    </tr>\n",
              "    <tr>\n",
              "      <th>4</th>\n",
              "      <td>4</td>\n",
              "      <td>E D B</td>\n",
              "    </tr>\n",
              "    <tr>\n",
              "      <th>...</th>\n",
              "      <td>...</td>\n",
              "      <td>...</td>\n",
              "    </tr>\n",
              "    <tr>\n",
              "      <th>195</th>\n",
              "      <td>195</td>\n",
              "      <td>C B D</td>\n",
              "    </tr>\n",
              "    <tr>\n",
              "      <th>196</th>\n",
              "      <td>196</td>\n",
              "      <td>B C D</td>\n",
              "    </tr>\n",
              "    <tr>\n",
              "      <th>197</th>\n",
              "      <td>197</td>\n",
              "      <td>B A C</td>\n",
              "    </tr>\n",
              "    <tr>\n",
              "      <th>198</th>\n",
              "      <td>198</td>\n",
              "      <td>D B C</td>\n",
              "    </tr>\n",
              "    <tr>\n",
              "      <th>199</th>\n",
              "      <td>199</td>\n",
              "      <td>C D E</td>\n",
              "    </tr>\n",
              "  </tbody>\n",
              "</table>\n",
              "<p>200 rows × 2 columns</p>\n",
              "</div>"
            ],
            "text/plain": [
              "      id prediction\n",
              "0      0      D B A\n",
              "1      1      E B D\n",
              "2      2      A C E\n",
              "3      3      A C D\n",
              "4      4      E D B\n",
              "..   ...        ...\n",
              "195  195      C B D\n",
              "196  196      B C D\n",
              "197  197      B A C\n",
              "198  198      D B C\n",
              "199  199      C D E\n",
              "\n",
              "[200 rows x 2 columns]"
            ]
          },
          "execution_count": 29,
          "metadata": {},
          "output_type": "execute_result"
        }
      ],
      "source": [
        "# Once we write our submission file we're good to submit!\n",
        "submission_df.to_csv('submission.csv', index=False)\n",
        "submission_df"
      ]
    },
    {
      "cell_type": "code",
      "execution_count": 30,
      "metadata": {},
      "outputs": [
        {
          "name": "stdout",
          "output_type": "stream",
          "text": [
            "Accuracy of Model is :  0.705\n"
          ]
        }
      ],
      "source": [
        "length = len(submission_df)\n",
        "totalCorrectPrediction = 0\n",
        "\n",
        "for i in range(length):\n",
        "    # print(train_df['answer'][i])\n",
        "    if(submission_df['prediction'][i][0] == train_df['answer'][i]):\n",
        "        totalCorrectPrediction += 1\n",
        "\n",
        "print(\"Accuracy of Model is : \",totalCorrectPrediction/length)\n",
        "\n"
      ]
    },
    {
      "cell_type": "code",
      "execution_count": 31,
      "metadata": {},
      "outputs": [],
      "source": [
        "import pickle\n",
        "\n",
        "with open('model_pickle','wb') as f:\n",
        "    pickle.dump(trainer,f)\n"
      ]
    },
    {
      "cell_type": "code",
      "execution_count": 32,
      "metadata": {},
      "outputs": [],
      "source": [
        "with open('model_pickle','rb') as f:\n",
        "    model = pickle.load(f)"
      ]
    },
    {
      "cell_type": "code",
      "execution_count": 33,
      "metadata": {},
      "outputs": [
        {
          "data": {
            "application/vnd.jupyter.widget-view+json": {
              "model_id": "7d7e7d1ff2874bc39b591ca096667ce1",
              "version_major": 2,
              "version_minor": 0
            },
            "text/plain": [
              "Map:   0%|          | 0/1 [00:00<?, ? examples/s]"
            ]
          },
          "metadata": {},
          "output_type": "display_data"
        },
        {
          "name": "stdout",
          "output_type": "stream",
          "text": [
            "{'id': 0, 'prompt': 'What is the PH of H2O? ', 'A': '7', 'B': '8', 'C': '9', 'D': '10', 'E': '6', 'answer': 'A'}\n"
          ]
        },
        {
          "data": {
            "application/vnd.jupyter.widget-view+json": {
              "model_id": "5c888b19dc5740719eafdea3107bfb96",
              "version_major": 2,
              "version_minor": 0
            },
            "text/plain": [
              "  0%|          | 0/1 [00:00<?, ?it/s]"
            ]
          },
          "metadata": {},
          "output_type": "display_data"
        },
        {
          "data": {
            "text/plain": [
              "array(['B C A'], dtype='<U5')"
            ]
          },
          "execution_count": 33,
          "metadata": {},
          "output_type": "execute_result"
        }
      ],
      "source": [
        "def preprocess(example):\n",
        "    # The AutoModelForMultipleChoice class expects a set of question/answer pairs\n",
        "    # so we'll copy our question 5 times before tokenizing\n",
        "    print(example)\n",
        "    first_sentence = [example['prompt']] * 5\n",
        "    second_sentence = []\n",
        "    for option in options:\n",
        "        second_sentence.append(example[option])\n",
        "    # Our tokenizer will turn our text into token IDs BERT can understand\n",
        "    tokenized_example = tokenizer(first_sentence, second_sentence, truncation=True)\n",
        "    tokenized_example['label'] = option_to_index[example['answer']]\n",
        "    return tokenized_example\n",
        "    \n",
        "example = {};\n",
        "question = \"What is the PH of H2O? \"\n",
        "A = [\"7\"]\n",
        "B = [\"8\"]\n",
        "C = [\"9\"]\n",
        "D = [\"10\"]\n",
        "E = [\"6\"]\n",
        "answer = []\n",
        "example['id'] = 0\n",
        "example['prompt'] = question\n",
        "example['A'] = A \n",
        "example['B'] = B \n",
        "example['C'] = C \n",
        "example['D'] = D\n",
        "example['E'] = E \n",
        "example['answer'] = 'A'\n",
        "example\n",
        "exam = pd.DataFrame(example)\n",
        "x = Dataset.from_pandas(exam)\n",
        "tokenized_data = x.map(preprocess, batched=False, remove_columns=['prompt', 'A', 'B', 'C', 'D', 'E', 'answer'])\n",
        "result = model.predict(tokenized_data)\n",
        "# print(type(tokenized_data))\n",
        "# print(result)\n",
        "\n",
        "import numpy as np\n",
        "def predictions_to_map_output(predictions):\n",
        "    sorted_answer_indices = np.argsort(-predictions)\n",
        "    top_answer_indices = sorted_answer_indices[:,:3] # Get the first three answers in each row\n",
        "    top_answers = np.vectorize(index_to_option.get)(top_answer_indices)\n",
        "    return np.apply_along_axis(lambda row: ' '.join(row), 1, top_answers)\n",
        "\n",
        "predictions_to_map_output(result.predictions)"
      ]
    },
    {
      "cell_type": "markdown",
      "metadata": {
        "id": "LQRLL2N4msCK"
      },
      "source": [
        "converting submission data frame csv file naming it 'submission.csv'"
      ]
    },
    {
      "cell_type": "markdown",
      "metadata": {},
      "source": []
    }
  ],
  "metadata": {
    "colab": {
      "provenance": []
    },
    "kernelspec": {
      "display_name": "Python 3",
      "name": "python3"
    },
    "language_info": {
      "codemirror_mode": {
        "name": "ipython",
        "version": 3
      },
      "file_extension": ".py",
      "mimetype": "text/x-python",
      "name": "python",
      "nbconvert_exporter": "python",
      "pygments_lexer": "ipython3",
      "version": "3.11.6"
    },
    "widgets": {
      "application/vnd.jupyter.widget-state+json": {
        "02994db1e55a40b5b4af2dd1159b6ade": {
          "model_module": "@jupyter-widgets/controls",
          "model_module_version": "1.5.0",
          "model_name": "HTMLModel",
          "state": {
            "_dom_classes": [],
            "_model_module": "@jupyter-widgets/controls",
            "_model_module_version": "1.5.0",
            "_model_name": "HTMLModel",
            "_view_count": null,
            "_view_module": "@jupyter-widgets/controls",
            "_view_module_version": "1.5.0",
            "_view_name": "HTMLView",
            "description": "",
            "description_tooltip": null,
            "layout": "IPY_MODEL_1ca1504d9ffc4973b0ba2228f9c420f8",
            "placeholder": "​",
            "style": "IPY_MODEL_9e087b0d59e04474bcbd1125336dcb73",
            "value": " 200/200 [00:00&lt;00:00, 441.89 examples/s]"
          }
        },
        "1142f146f9c64002975c7082e4eb7650": {
          "model_module": "@jupyter-widgets/controls",
          "model_module_version": "1.5.0",
          "model_name": "HTMLModel",
          "state": {
            "_dom_classes": [],
            "_model_module": "@jupyter-widgets/controls",
            "_model_module_version": "1.5.0",
            "_model_name": "HTMLModel",
            "_view_count": null,
            "_view_module": "@jupyter-widgets/controls",
            "_view_module_version": "1.5.0",
            "_view_name": "HTMLView",
            "description": "",
            "description_tooltip": null,
            "layout": "IPY_MODEL_b46a404a5dfc41a6b8360f5b427c1d34",
            "placeholder": "​",
            "style": "IPY_MODEL_4a57a48e08694fb4bfc22ac4ddb40951",
            "value": "Map: 100%"
          }
        },
        "19b4e1d0e36c4ed682f847b02688429d": {
          "model_module": "@jupyter-widgets/controls",
          "model_module_version": "1.5.0",
          "model_name": "HBoxModel",
          "state": {
            "_dom_classes": [],
            "_model_module": "@jupyter-widgets/controls",
            "_model_module_version": "1.5.0",
            "_model_name": "HBoxModel",
            "_view_count": null,
            "_view_module": "@jupyter-widgets/controls",
            "_view_module_version": "1.5.0",
            "_view_name": "HBoxView",
            "box_style": "",
            "children": [
              "IPY_MODEL_50815a4ab66c440293b49a42ed211587",
              "IPY_MODEL_e909fb342128427ca34fc355f23a1b11",
              "IPY_MODEL_7be8cff6472c4063ad7b371782d131c7"
            ],
            "layout": "IPY_MODEL_e194eac9c95c4e3eb3895a2e09f2676e"
          }
        },
        "1ca1504d9ffc4973b0ba2228f9c420f8": {
          "model_module": "@jupyter-widgets/base",
          "model_module_version": "1.2.0",
          "model_name": "LayoutModel",
          "state": {
            "_model_module": "@jupyter-widgets/base",
            "_model_module_version": "1.2.0",
            "_model_name": "LayoutModel",
            "_view_count": null,
            "_view_module": "@jupyter-widgets/base",
            "_view_module_version": "1.2.0",
            "_view_name": "LayoutView",
            "align_content": null,
            "align_items": null,
            "align_self": null,
            "border": null,
            "bottom": null,
            "display": null,
            "flex": null,
            "flex_flow": null,
            "grid_area": null,
            "grid_auto_columns": null,
            "grid_auto_flow": null,
            "grid_auto_rows": null,
            "grid_column": null,
            "grid_gap": null,
            "grid_row": null,
            "grid_template_areas": null,
            "grid_template_columns": null,
            "grid_template_rows": null,
            "height": null,
            "justify_content": null,
            "justify_items": null,
            "left": null,
            "margin": null,
            "max_height": null,
            "max_width": null,
            "min_height": null,
            "min_width": null,
            "object_fit": null,
            "object_position": null,
            "order": null,
            "overflow": null,
            "overflow_x": null,
            "overflow_y": null,
            "padding": null,
            "right": null,
            "top": null,
            "visibility": null,
            "width": null
          }
        },
        "2d772b8156bc4196b4bc0700cf48b8b9": {
          "model_module": "@jupyter-widgets/base",
          "model_module_version": "1.2.0",
          "model_name": "LayoutModel",
          "state": {
            "_model_module": "@jupyter-widgets/base",
            "_model_module_version": "1.2.0",
            "_model_name": "LayoutModel",
            "_view_count": null,
            "_view_module": "@jupyter-widgets/base",
            "_view_module_version": "1.2.0",
            "_view_name": "LayoutView",
            "align_content": null,
            "align_items": null,
            "align_self": null,
            "border": null,
            "bottom": null,
            "display": null,
            "flex": null,
            "flex_flow": null,
            "grid_area": null,
            "grid_auto_columns": null,
            "grid_auto_flow": null,
            "grid_auto_rows": null,
            "grid_column": null,
            "grid_gap": null,
            "grid_row": null,
            "grid_template_areas": null,
            "grid_template_columns": null,
            "grid_template_rows": null,
            "height": null,
            "justify_content": null,
            "justify_items": null,
            "left": null,
            "margin": null,
            "max_height": null,
            "max_width": null,
            "min_height": null,
            "min_width": null,
            "object_fit": null,
            "object_position": null,
            "order": null,
            "overflow": null,
            "overflow_x": null,
            "overflow_y": null,
            "padding": null,
            "right": null,
            "top": null,
            "visibility": null,
            "width": null
          }
        },
        "4a57a48e08694fb4bfc22ac4ddb40951": {
          "model_module": "@jupyter-widgets/controls",
          "model_module_version": "1.5.0",
          "model_name": "DescriptionStyleModel",
          "state": {
            "_model_module": "@jupyter-widgets/controls",
            "_model_module_version": "1.5.0",
            "_model_name": "DescriptionStyleModel",
            "_view_count": null,
            "_view_module": "@jupyter-widgets/base",
            "_view_module_version": "1.2.0",
            "_view_name": "StyleView",
            "description_width": ""
          }
        },
        "50815a4ab66c440293b49a42ed211587": {
          "model_module": "@jupyter-widgets/controls",
          "model_module_version": "1.5.0",
          "model_name": "HTMLModel",
          "state": {
            "_dom_classes": [],
            "_model_module": "@jupyter-widgets/controls",
            "_model_module_version": "1.5.0",
            "_model_name": "HTMLModel",
            "_view_count": null,
            "_view_module": "@jupyter-widgets/controls",
            "_view_module_version": "1.5.0",
            "_view_name": "HTMLView",
            "description": "",
            "description_tooltip": null,
            "layout": "IPY_MODEL_d56e849ce8744707965d3c14843d38f9",
            "placeholder": "​",
            "style": "IPY_MODEL_e2556a1bd9e24640abf92bc013fc54ad",
            "value": "Map: 100%"
          }
        },
        "7be8cff6472c4063ad7b371782d131c7": {
          "model_module": "@jupyter-widgets/controls",
          "model_module_version": "1.5.0",
          "model_name": "HTMLModel",
          "state": {
            "_dom_classes": [],
            "_model_module": "@jupyter-widgets/controls",
            "_model_module_version": "1.5.0",
            "_model_name": "HTMLModel",
            "_view_count": null,
            "_view_module": "@jupyter-widgets/controls",
            "_view_module_version": "1.5.0",
            "_view_name": "HTMLView",
            "description": "",
            "description_tooltip": null,
            "layout": "IPY_MODEL_b60a506e0d6d461b977e587bce6b9401",
            "placeholder": "​",
            "style": "IPY_MODEL_c5401087164b428b9d337e4809ec57e9",
            "value": " 200/200 [00:00&lt;00:00, 340.28 examples/s]"
          }
        },
        "870d5a593f1b4743afbf73a51ea44a6e": {
          "model_module": "@jupyter-widgets/controls",
          "model_module_version": "1.5.0",
          "model_name": "HBoxModel",
          "state": {
            "_dom_classes": [],
            "_model_module": "@jupyter-widgets/controls",
            "_model_module_version": "1.5.0",
            "_model_name": "HBoxModel",
            "_view_count": null,
            "_view_module": "@jupyter-widgets/controls",
            "_view_module_version": "1.5.0",
            "_view_name": "HBoxView",
            "box_style": "",
            "children": [
              "IPY_MODEL_1142f146f9c64002975c7082e4eb7650",
              "IPY_MODEL_d63f6b06fb074b16a24586ed1dd9fad2",
              "IPY_MODEL_02994db1e55a40b5b4af2dd1159b6ade"
            ],
            "layout": "IPY_MODEL_cecd0c454832403fb7d64fc5f8f985a6"
          }
        },
        "9e087b0d59e04474bcbd1125336dcb73": {
          "model_module": "@jupyter-widgets/controls",
          "model_module_version": "1.5.0",
          "model_name": "DescriptionStyleModel",
          "state": {
            "_model_module": "@jupyter-widgets/controls",
            "_model_module_version": "1.5.0",
            "_model_name": "DescriptionStyleModel",
            "_view_count": null,
            "_view_module": "@jupyter-widgets/base",
            "_view_module_version": "1.2.0",
            "_view_name": "StyleView",
            "description_width": ""
          }
        },
        "a7c46d4d031b41dc913369355d785bcf": {
          "model_module": "@jupyter-widgets/controls",
          "model_module_version": "1.5.0",
          "model_name": "ProgressStyleModel",
          "state": {
            "_model_module": "@jupyter-widgets/controls",
            "_model_module_version": "1.5.0",
            "_model_name": "ProgressStyleModel",
            "_view_count": null,
            "_view_module": "@jupyter-widgets/base",
            "_view_module_version": "1.2.0",
            "_view_name": "StyleView",
            "bar_color": null,
            "description_width": ""
          }
        },
        "b46a404a5dfc41a6b8360f5b427c1d34": {
          "model_module": "@jupyter-widgets/base",
          "model_module_version": "1.2.0",
          "model_name": "LayoutModel",
          "state": {
            "_model_module": "@jupyter-widgets/base",
            "_model_module_version": "1.2.0",
            "_model_name": "LayoutModel",
            "_view_count": null,
            "_view_module": "@jupyter-widgets/base",
            "_view_module_version": "1.2.0",
            "_view_name": "LayoutView",
            "align_content": null,
            "align_items": null,
            "align_self": null,
            "border": null,
            "bottom": null,
            "display": null,
            "flex": null,
            "flex_flow": null,
            "grid_area": null,
            "grid_auto_columns": null,
            "grid_auto_flow": null,
            "grid_auto_rows": null,
            "grid_column": null,
            "grid_gap": null,
            "grid_row": null,
            "grid_template_areas": null,
            "grid_template_columns": null,
            "grid_template_rows": null,
            "height": null,
            "justify_content": null,
            "justify_items": null,
            "left": null,
            "margin": null,
            "max_height": null,
            "max_width": null,
            "min_height": null,
            "min_width": null,
            "object_fit": null,
            "object_position": null,
            "order": null,
            "overflow": null,
            "overflow_x": null,
            "overflow_y": null,
            "padding": null,
            "right": null,
            "top": null,
            "visibility": null,
            "width": null
          }
        },
        "b60a506e0d6d461b977e587bce6b9401": {
          "model_module": "@jupyter-widgets/base",
          "model_module_version": "1.2.0",
          "model_name": "LayoutModel",
          "state": {
            "_model_module": "@jupyter-widgets/base",
            "_model_module_version": "1.2.0",
            "_model_name": "LayoutModel",
            "_view_count": null,
            "_view_module": "@jupyter-widgets/base",
            "_view_module_version": "1.2.0",
            "_view_name": "LayoutView",
            "align_content": null,
            "align_items": null,
            "align_self": null,
            "border": null,
            "bottom": null,
            "display": null,
            "flex": null,
            "flex_flow": null,
            "grid_area": null,
            "grid_auto_columns": null,
            "grid_auto_flow": null,
            "grid_auto_rows": null,
            "grid_column": null,
            "grid_gap": null,
            "grid_row": null,
            "grid_template_areas": null,
            "grid_template_columns": null,
            "grid_template_rows": null,
            "height": null,
            "justify_content": null,
            "justify_items": null,
            "left": null,
            "margin": null,
            "max_height": null,
            "max_width": null,
            "min_height": null,
            "min_width": null,
            "object_fit": null,
            "object_position": null,
            "order": null,
            "overflow": null,
            "overflow_x": null,
            "overflow_y": null,
            "padding": null,
            "right": null,
            "top": null,
            "visibility": null,
            "width": null
          }
        },
        "c120ae12df1c4ab682fdf553324f2929": {
          "model_module": "@jupyter-widgets/base",
          "model_module_version": "1.2.0",
          "model_name": "LayoutModel",
          "state": {
            "_model_module": "@jupyter-widgets/base",
            "_model_module_version": "1.2.0",
            "_model_name": "LayoutModel",
            "_view_count": null,
            "_view_module": "@jupyter-widgets/base",
            "_view_module_version": "1.2.0",
            "_view_name": "LayoutView",
            "align_content": null,
            "align_items": null,
            "align_self": null,
            "border": null,
            "bottom": null,
            "display": null,
            "flex": null,
            "flex_flow": null,
            "grid_area": null,
            "grid_auto_columns": null,
            "grid_auto_flow": null,
            "grid_auto_rows": null,
            "grid_column": null,
            "grid_gap": null,
            "grid_row": null,
            "grid_template_areas": null,
            "grid_template_columns": null,
            "grid_template_rows": null,
            "height": null,
            "justify_content": null,
            "justify_items": null,
            "left": null,
            "margin": null,
            "max_height": null,
            "max_width": null,
            "min_height": null,
            "min_width": null,
            "object_fit": null,
            "object_position": null,
            "order": null,
            "overflow": null,
            "overflow_x": null,
            "overflow_y": null,
            "padding": null,
            "right": null,
            "top": null,
            "visibility": null,
            "width": null
          }
        },
        "c5401087164b428b9d337e4809ec57e9": {
          "model_module": "@jupyter-widgets/controls",
          "model_module_version": "1.5.0",
          "model_name": "DescriptionStyleModel",
          "state": {
            "_model_module": "@jupyter-widgets/controls",
            "_model_module_version": "1.5.0",
            "_model_name": "DescriptionStyleModel",
            "_view_count": null,
            "_view_module": "@jupyter-widgets/base",
            "_view_module_version": "1.2.0",
            "_view_name": "StyleView",
            "description_width": ""
          }
        },
        "cecd0c454832403fb7d64fc5f8f985a6": {
          "model_module": "@jupyter-widgets/base",
          "model_module_version": "1.2.0",
          "model_name": "LayoutModel",
          "state": {
            "_model_module": "@jupyter-widgets/base",
            "_model_module_version": "1.2.0",
            "_model_name": "LayoutModel",
            "_view_count": null,
            "_view_module": "@jupyter-widgets/base",
            "_view_module_version": "1.2.0",
            "_view_name": "LayoutView",
            "align_content": null,
            "align_items": null,
            "align_self": null,
            "border": null,
            "bottom": null,
            "display": null,
            "flex": null,
            "flex_flow": null,
            "grid_area": null,
            "grid_auto_columns": null,
            "grid_auto_flow": null,
            "grid_auto_rows": null,
            "grid_column": null,
            "grid_gap": null,
            "grid_row": null,
            "grid_template_areas": null,
            "grid_template_columns": null,
            "grid_template_rows": null,
            "height": null,
            "justify_content": null,
            "justify_items": null,
            "left": null,
            "margin": null,
            "max_height": null,
            "max_width": null,
            "min_height": null,
            "min_width": null,
            "object_fit": null,
            "object_position": null,
            "order": null,
            "overflow": null,
            "overflow_x": null,
            "overflow_y": null,
            "padding": null,
            "right": null,
            "top": null,
            "visibility": null,
            "width": null
          }
        },
        "d56e849ce8744707965d3c14843d38f9": {
          "model_module": "@jupyter-widgets/base",
          "model_module_version": "1.2.0",
          "model_name": "LayoutModel",
          "state": {
            "_model_module": "@jupyter-widgets/base",
            "_model_module_version": "1.2.0",
            "_model_name": "LayoutModel",
            "_view_count": null,
            "_view_module": "@jupyter-widgets/base",
            "_view_module_version": "1.2.0",
            "_view_name": "LayoutView",
            "align_content": null,
            "align_items": null,
            "align_self": null,
            "border": null,
            "bottom": null,
            "display": null,
            "flex": null,
            "flex_flow": null,
            "grid_area": null,
            "grid_auto_columns": null,
            "grid_auto_flow": null,
            "grid_auto_rows": null,
            "grid_column": null,
            "grid_gap": null,
            "grid_row": null,
            "grid_template_areas": null,
            "grid_template_columns": null,
            "grid_template_rows": null,
            "height": null,
            "justify_content": null,
            "justify_items": null,
            "left": null,
            "margin": null,
            "max_height": null,
            "max_width": null,
            "min_height": null,
            "min_width": null,
            "object_fit": null,
            "object_position": null,
            "order": null,
            "overflow": null,
            "overflow_x": null,
            "overflow_y": null,
            "padding": null,
            "right": null,
            "top": null,
            "visibility": null,
            "width": null
          }
        },
        "d63f6b06fb074b16a24586ed1dd9fad2": {
          "model_module": "@jupyter-widgets/controls",
          "model_module_version": "1.5.0",
          "model_name": "FloatProgressModel",
          "state": {
            "_dom_classes": [],
            "_model_module": "@jupyter-widgets/controls",
            "_model_module_version": "1.5.0",
            "_model_name": "FloatProgressModel",
            "_view_count": null,
            "_view_module": "@jupyter-widgets/controls",
            "_view_module_version": "1.5.0",
            "_view_name": "ProgressView",
            "bar_style": "success",
            "description": "",
            "description_tooltip": null,
            "layout": "IPY_MODEL_c120ae12df1c4ab682fdf553324f2929",
            "max": 200,
            "min": 0,
            "orientation": "horizontal",
            "style": "IPY_MODEL_a7c46d4d031b41dc913369355d785bcf",
            "value": 200
          }
        },
        "e194eac9c95c4e3eb3895a2e09f2676e": {
          "model_module": "@jupyter-widgets/base",
          "model_module_version": "1.2.0",
          "model_name": "LayoutModel",
          "state": {
            "_model_module": "@jupyter-widgets/base",
            "_model_module_version": "1.2.0",
            "_model_name": "LayoutModel",
            "_view_count": null,
            "_view_module": "@jupyter-widgets/base",
            "_view_module_version": "1.2.0",
            "_view_name": "LayoutView",
            "align_content": null,
            "align_items": null,
            "align_self": null,
            "border": null,
            "bottom": null,
            "display": null,
            "flex": null,
            "flex_flow": null,
            "grid_area": null,
            "grid_auto_columns": null,
            "grid_auto_flow": null,
            "grid_auto_rows": null,
            "grid_column": null,
            "grid_gap": null,
            "grid_row": null,
            "grid_template_areas": null,
            "grid_template_columns": null,
            "grid_template_rows": null,
            "height": null,
            "justify_content": null,
            "justify_items": null,
            "left": null,
            "margin": null,
            "max_height": null,
            "max_width": null,
            "min_height": null,
            "min_width": null,
            "object_fit": null,
            "object_position": null,
            "order": null,
            "overflow": null,
            "overflow_x": null,
            "overflow_y": null,
            "padding": null,
            "right": null,
            "top": null,
            "visibility": null,
            "width": null
          }
        },
        "e2556a1bd9e24640abf92bc013fc54ad": {
          "model_module": "@jupyter-widgets/controls",
          "model_module_version": "1.5.0",
          "model_name": "DescriptionStyleModel",
          "state": {
            "_model_module": "@jupyter-widgets/controls",
            "_model_module_version": "1.5.0",
            "_model_name": "DescriptionStyleModel",
            "_view_count": null,
            "_view_module": "@jupyter-widgets/base",
            "_view_module_version": "1.2.0",
            "_view_name": "StyleView",
            "description_width": ""
          }
        },
        "e909fb342128427ca34fc355f23a1b11": {
          "model_module": "@jupyter-widgets/controls",
          "model_module_version": "1.5.0",
          "model_name": "FloatProgressModel",
          "state": {
            "_dom_classes": [],
            "_model_module": "@jupyter-widgets/controls",
            "_model_module_version": "1.5.0",
            "_model_name": "FloatProgressModel",
            "_view_count": null,
            "_view_module": "@jupyter-widgets/controls",
            "_view_module_version": "1.5.0",
            "_view_name": "ProgressView",
            "bar_style": "success",
            "description": "",
            "description_tooltip": null,
            "layout": "IPY_MODEL_2d772b8156bc4196b4bc0700cf48b8b9",
            "max": 200,
            "min": 0,
            "orientation": "horizontal",
            "style": "IPY_MODEL_fd880c71688d428490f7cdc98b7787c2",
            "value": 200
          }
        },
        "fd880c71688d428490f7cdc98b7787c2": {
          "model_module": "@jupyter-widgets/controls",
          "model_module_version": "1.5.0",
          "model_name": "ProgressStyleModel",
          "state": {
            "_model_module": "@jupyter-widgets/controls",
            "_model_module_version": "1.5.0",
            "_model_name": "ProgressStyleModel",
            "_view_count": null,
            "_view_module": "@jupyter-widgets/base",
            "_view_module_version": "1.2.0",
            "_view_name": "StyleView",
            "bar_color": null,
            "description_width": ""
          }
        }
      }
    }
  },
  "nbformat": 4,
  "nbformat_minor": 0
}
